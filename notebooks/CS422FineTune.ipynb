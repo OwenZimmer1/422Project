{
  "cells": [
    {
      "cell_type": "markdown",
      "metadata": {
        "id": "76zQciorbHch"
      },
      "source": []
    },
    {
      "cell_type": "markdown",
      "metadata": {
        "id": "QF-sQeSgbJVh"
      },
      "source": [
        "# Time to Train my first LLM\n",
        "---\n",
        "\n"
      ]
    },
    {
      "cell_type": "markdown",
      "metadata": {
        "id": "whtcHhqbhImx"
      },
      "source": [
        "## Setup"
      ]
    },
    {
      "cell_type": "code",
      "execution_count": 1,
      "metadata": {
        "colab": {
          "base_uri": "https://localhost:8080/"
        },
        "collapsed": true,
        "id": "NEkmy0gGb2JB",
        "outputId": "411443bb-76c6-4ca4-a874-3c404bec914f"
      },
      "outputs": [],
      "source": [
        "# install unsloth and pandas\n",
        "#!pip install unsloth\n",
        "#!pip install pandas"
      ]
    },
    {
      "cell_type": "code",
      "execution_count": null,
      "metadata": {},
      "outputs": [
        {
          "data": {
            "text/plain": [
              "True"
            ]
          },
          "execution_count": 2,
          "metadata": {},
          "output_type": "execute_result"
        }
      ],
      "source": [
        "# checking if I can use my gpu\n",
        "import torch\n",
        "torch.cuda.is_available()"
      ]
    },
    {
      "cell_type": "code",
      "execution_count": 3,
      "metadata": {
        "colab": {
          "base_uri": "https://localhost:8080/",
          "height": 350
        },
        "id": "JSJU-Z3TbPMS",
        "outputId": "c6b7b7fb-cbe9-41f3-c2ec-9a018e163e12"
      },
      "outputs": [
        {
          "name": "stdout",
          "output_type": "stream",
          "text": [
            "🦥 Unsloth: Will patch your computer to enable 2x faster free finetuning.\n"
          ]
        },
        {
          "name": "stderr",
          "output_type": "stream",
          "text": [
            "WARNING[XFORMERS]: xFormers can't load C++/CUDA extensions. xFormers was built for:\n",
            "    PyTorch 2.7.0+cu126 with CUDA 1206 (you have 2.7.0+cu118)\n",
            "    Python  3.12.10 (you have 3.12.3)\n",
            "  Please reinstall xformers (see https://github.com/facebookresearch/xformers#installing-xformers)\n",
            "  Memory-efficient attention, SwiGLU, sparse and more won't be available.\n",
            "  Set XFORMERS_MORE_DETAILS=1 for more details\n"
          ]
        },
        {
          "name": "stdout",
          "output_type": "stream",
          "text": [
            "🦥 Unsloth Zoo will now patch everything to make training faster!\n"
          ]
        }
      ],
      "source": [
        "# import the libs that our teacher told us to\n",
        "from unsloth import FastLanguageModel\n",
        "import torch"
      ]
    },
    {
      "cell_type": "code",
      "execution_count": 4,
      "metadata": {
        "id": "sAMZojRQdNNW"
      },
      "outputs": [],
      "source": [
        "# set the max number of tokens that can be passed in per chunk\n",
        "max_seq_length = 2048\n",
        "\n",
        "# let unsloth select our data type for us\n",
        "dtype = None\n",
        "\n",
        "# enable 4-bit quantization\n",
        "# less memory but slightly less accuracy its just some math stuff\n",
        "load_in_4bit = True"
      ]
    },
    {
      "cell_type": "code",
      "execution_count": 5,
      "metadata": {
        "id": "yN30xJLzhEPw"
      },
      "outputs": [],
      "source": [
        "#from google.colab import drive\n",
        "#drive.mount('/content/drive')"
      ]
    },
    {
      "cell_type": "code",
      "execution_count": 6,
      "metadata": {
        "id": "kjDYDV3rhY2u"
      },
      "outputs": [],
      "source": [
        "# find path to my data\n",
        "#!ls 'drive/MyDrive/intro to AI/Notebooks'"
      ]
    },
    {
      "cell_type": "code",
      "execution_count": 7,
      "metadata": {
        "id": "P9sgyIWsieVa"
      },
      "outputs": [],
      "source": [
        "import json\n",
        "import pandas as pd\n",
        "from datasets import Dataset\n",
        "\n",
        "# connect to our data path\n",
        "#dataPath = 'drive/MyDrive/intro to AI/Notebooks/allMethodsCombined.json'\n",
        "\n",
        "dataPath = '../data/allMethodsCombined.json'\n",
        "\n",
        "# load and convert to DataFrame\n",
        "with open(dataPath, 'r') as f:\n",
        "    data = json.load(f)\n",
        "\n",
        "df = pd.DataFrame(data)  # <- make it a DataFrame\n",
        "\n",
        "# save the DataFrame to CSV\n",
        "df.to_csv('allMethodsCombined.csv', index=False)\n",
        "\n",
        "# convert to a hf dataset\n",
        "dataset = Dataset.from_pandas(df)\n"
      ]
    },
    {
      "cell_type": "code",
      "execution_count": 8,
      "metadata": {
        "id": "C1WC2E9DwZHG"
      },
      "outputs": [],
      "source": [
        "# make a 2 col dataset\n",
        "df2col = df[['code', 'javadoc']]\n",
        "\n",
        "dataset2col = Dataset.from_pandas(df)\n"
      ]
    },
    {
      "cell_type": "code",
      "execution_count": 9,
      "metadata": {},
      "outputs": [
        {
          "data": {
            "text/html": [
              "<div>\n",
              "<style scoped>\n",
              "    .dataframe tbody tr th:only-of-type {\n",
              "        vertical-align: middle;\n",
              "    }\n",
              "\n",
              "    .dataframe tbody tr th {\n",
              "        vertical-align: top;\n",
              "    }\n",
              "\n",
              "    .dataframe thead th {\n",
              "        text-align: right;\n",
              "    }\n",
              "</style>\n",
              "<table border=\"1\" class=\"dataframe\">\n",
              "  <thead>\n",
              "    <tr style=\"text-align: right;\">\n",
              "      <th></th>\n",
              "      <th>code</th>\n",
              "      <th>javadoc</th>\n",
              "    </tr>\n",
              "  </thead>\n",
              "  <tbody>\n",
              "    <tr>\n",
              "      <th>0</th>\n",
              "      <td>public Point getLoc(){return location;}</td>\n",
              "      <td>/*** Gets the location.\\n*\\n* @return the curr...</td>\n",
              "    </tr>\n",
              "    <tr>\n",
              "      <th>1</th>\n",
              "      <td>public void draw(Graphics g){\\ng.setColor(colo...</td>\n",
              "      <td>/*** Draws the ball, and if non-active also dr...</td>\n",
              "    </tr>\n",
              "    <tr>\n",
              "      <th>2</th>\n",
              "      <td>public boolean isDone(){\\nreturn finishedInstr...</td>\n",
              "      <td>/*** Checks if the process is completed.\\n* @r...</td>\n",
              "    </tr>\n",
              "    <tr>\n",
              "      <th>3</th>\n",
              "      <td>public void performInstruction(){\\nif (!isDone...</td>\n",
              "      <td>/**Perform a single instruction of the process...</td>\n",
              "    </tr>\n",
              "  </tbody>\n",
              "</table>\n",
              "</div>"
            ],
            "text/plain": [
              "                                                code  \\\n",
              "0            public Point getLoc(){return location;}   \n",
              "1  public void draw(Graphics g){\\ng.setColor(colo...   \n",
              "2  public boolean isDone(){\\nreturn finishedInstr...   \n",
              "3  public void performInstruction(){\\nif (!isDone...   \n",
              "\n",
              "                                             javadoc  \n",
              "0  /*** Gets the location.\\n*\\n* @return the curr...  \n",
              "1  /*** Draws the ball, and if non-active also dr...  \n",
              "2  /*** Checks if the process is completed.\\n* @r...  \n",
              "3  /**Perform a single instruction of the process...  "
            ]
          },
          "execution_count": 9,
          "metadata": {},
          "output_type": "execute_result"
        }
      ],
      "source": [
        "df2col.head(4)"
      ]
    },
    {
      "cell_type": "markdown",
      "metadata": {
        "id": "3mpQy4NChZ16"
      },
      "source": [
        "## Model Selections:\n",
        "- Qwen 2.5 coder (0.5b)\n",
        "- Codellama (7b)\n",
        "- Wizardcoder (33b)\n"
      ]
    },
    {
      "cell_type": "code",
      "execution_count": 10,
      "metadata": {
        "id": "X5uiGnIVhZHk"
      },
      "outputs": [],
      "source": [
        "# models from hugging face\n",
        "model1 = 'Qwen/Qwen2.5-Coder-0.5B-Instruct'\n",
        "model2 = 'WizardLMTeam/WizardCoder-33B-V1.1'\n",
        "model3 = 'codellama/CodeLlama-7b-hf'\n"
      ]
    },
    {
      "cell_type": "markdown",
      "metadata": {
        "id": "p51DvfaXkeSq"
      },
      "source": [
        "## Fine tuning Qwen 2.5 Coder (0.5B)"
      ]
    },
    {
      "cell_type": "markdown",
      "metadata": {
        "id": "1HxbfYQlgywk"
      },
      "source": [
        "### Setting up model"
      ]
    },
    {
      "cell_type": "code",
      "execution_count": 11,
      "metadata": {
        "collapsed": true,
        "id": "HK_P7-ZbhONc"
      },
      "outputs": [
        {
          "name": "stderr",
          "output_type": "stream",
          "text": [
            "c:\\Users\\eyas1\\OneDrive\\Desktop\\CS 422 Project\\422Project\\venv\\Lib\\site-packages\\unsloth_zoo\\gradient_checkpointing.py:330: UserWarning: expandable_segments not supported on this platform (Triggered internally at C:\\actions-runner\\_work\\pytorch\\pytorch\\pytorch\\c10/cuda/CUDAAllocatorConfig.h:28.)\n",
            "  GPU_BUFFERS = tuple([torch.empty(2*256*2048, dtype = dtype, device = f\"cuda:{i}\") for i in range(n_gpus)])\n"
          ]
        },
        {
          "name": "stdout",
          "output_type": "stream",
          "text": [
            "==((====))==  Unsloth 2025.4.3: Fast Qwen2 patching. Transformers: 4.51.3.\n",
            "   \\\\   /|    NVIDIA GeForce RTX 3080 Ti. Num GPUs = 1. Max memory: 12.0 GB. Platform: Windows.\n",
            "O^O/ \\_/ \\    Torch: 2.7.0+cu118. CUDA: 8.6. CUDA Toolkit: 11.8. Triton: 3.3.0\n",
            "\\        /    Bfloat16 = TRUE. FA [Xformers = None. FA2 = False]\n",
            " \"-____-\"     Free license: http://github.com/unslothai/unsloth\n",
            "Unsloth: Fast downloading is enabled - ignore downloading bars which are red colored!\n"
          ]
        }
      ],
      "source": [
        "model, tokenizer = FastLanguageModel.from_pretrained(\n",
        "    # qwen coder 0.5b\n",
        "    model_name= model1,\n",
        "    max_seq_length=max_seq_length,\n",
        "    dtype = dtype,\n",
        "    # give each model 4bit quantization or however you spell it\n",
        "    load_in_4bit= True\n",
        ")"
      ]
    },
    {
      "cell_type": "markdown",
      "metadata": {
        "id": "-bDBWIGMg6GR"
      },
      "source": [
        "### Establish How the model will learn"
      ]
    },
    {
      "cell_type": "code",
      "execution_count": 12,
      "metadata": {
        "id": "TAvzN-TYlVR0"
      },
      "outputs": [
        {
          "name": "stderr",
          "output_type": "stream",
          "text": [
            "Unsloth 2025.4.3 patched 24 layers with 24 QKV layers, 24 O layers and 24 MLP layers.\n"
          ]
        }
      ],
      "source": [
        "model = FastLanguageModel.get_peft_model(\n",
        "    model,\n",
        "    r = 16,\n",
        "    target_modules = [\"q_proj\",\"k_proj\",\"v_proj\",\"o_proj\",\n",
        "                    \"gate_proj\",\"up_proj\",\"down_proj\",],\n",
        "    lora_alpha = 16,\n",
        "    lora_dropout = 0,\n",
        "    bias = \"none\",\n",
        "    use_gradient_checkpointing = \"unsloth\",\n",
        "    random_state = 3407,\n",
        "    use_rslora = False,\n",
        "    loftq_config = None,\n",
        ")"
      ]
    },
    {
      "cell_type": "markdown",
      "metadata": {
        "id": "2dZVBkCSyido"
      },
      "source": [
        "### Start Training (Can be changed)"
      ]
    },
    {
      "cell_type": "code",
      "execution_count": 13,
      "metadata": {
        "id": "wwXLnYTgtGD8"
      },
      "outputs": [
        {
          "data": {
            "application/vnd.jupyter.widget-view+json": {
              "model_id": "40aa38e49b894dd4a602d9ea35893e18",
              "version_major": 2,
              "version_minor": 0
            },
            "text/plain": [
              "Unsloth: Tokenizing [\"code\"]:   0%|          | 0/161 [00:00<?, ? examples/s]"
            ]
          },
          "metadata": {},
          "output_type": "display_data"
        }
      ],
      "source": [
        "from trl import SFTTrainer\n",
        "from transformers import TrainingArguments\n",
        "\n",
        "trainer = SFTTrainer(\n",
        "    model=model,\n",
        "    tokenizer=tokenizer,\n",
        "    train_dataset=dataset2col,\n",
        "    dataset_text_field=\"code\",\n",
        "    args=TrainingArguments(\n",
        "        output_dir=\"output\",\n",
        "        per_device_train_batch_size=2,\n",
        "        num_train_epochs=2,\n",
        "        learning_rate=2e-4,\n",
        "        report_to=\"none\",\n",
        "    ),\n",
        "    dataset_num_proc=1,  # <- add this line to avoid crashing\n",
        ")\n"
      ]
    },
    {
      "cell_type": "code",
      "execution_count": 14,
      "metadata": {
        "id": "r5-rPKB4wINt"
      },
      "outputs": [
        {
          "name": "stderr",
          "output_type": "stream",
          "text": [
            "==((====))==  Unsloth - 2x faster free finetuning | Num GPUs used = 1\n",
            "   \\\\   /|    Num examples = 161 | Num Epochs = 2 | Total steps = 162\n",
            "O^O/ \\_/ \\    Batch size per device = 2 | Gradient accumulation steps = 1\n",
            "\\        /    Data Parallel GPUs = 1 | Total batch size (2 x 1 x 1) = 2\n",
            " \"-____-\"     Trainable parameters = 8,798,208/5,000,000,000 (0.18% trained)\n"
          ]
        },
        {
          "data": {
            "text/html": [
              "\n",
              "    <div>\n",
              "      \n",
              "      <progress value='162' max='162' style='width:300px; height:20px; vertical-align: middle;'></progress>\n",
              "      [162/162 00:44, Epoch 2/2]\n",
              "    </div>\n",
              "    <table border=\"1\" class=\"dataframe\">\n",
              "  <thead>\n",
              " <tr style=\"text-align: left;\">\n",
              "      <th>Step</th>\n",
              "      <th>Training Loss</th>\n",
              "    </tr>\n",
              "  </thead>\n",
              "  <tbody>\n",
              "  </tbody>\n",
              "</table><p>"
            ],
            "text/plain": [
              "<IPython.core.display.HTML object>"
            ]
          },
          "metadata": {},
          "output_type": "display_data"
        },
        {
          "data": {
            "text/plain": [
              "TrainOutput(global_step=162, training_loss=0.014899389243420259, metrics={'train_runtime': 45.6245, 'train_samples_per_second': 7.058, 'train_steps_per_second': 3.551, 'total_flos': 73639954982400.0, 'train_loss': 0.014899389243420259})"
            ]
          },
          "execution_count": 14,
          "metadata": {},
          "output_type": "execute_result"
        }
      ],
      "source": [
        "trainer.train()\n"
      ]
    },
    {
      "cell_type": "markdown",
      "metadata": {
        "id": "B5CAdPnq6n4L"
      },
      "source": [
        "## Upload to Hugging Face"
      ]
    },
    {
      "cell_type": "code",
      "execution_count": null,
      "metadata": {
        "id": "oj-2l4W96rMl"
      },
      "outputs": [
        {
          "data": {
            "application/vnd.jupyter.widget-view+json": {
              "model_id": "027662e5523d4c3e9595a076b69f4a2e",
              "version_major": 2,
              "version_minor": 0
            },
            "text/plain": [
              "VBox(children=(HTML(value='<center> <img\\nsrc=https://huggingface.co/front/assets/huggingface_logo-noborder.sv…"
            ]
          },
          "metadata": {},
          "output_type": "display_data"
        },
        {
          "data": {
            "application/vnd.jupyter.widget-view+json": {
              "model_id": "1e609f1c2535419186ba1a6c57c4d489",
              "version_major": 2,
              "version_minor": 0
            },
            "text/plain": [
              "README.md:   0%|          | 0.00/628 [00:00<?, ?B/s]"
            ]
          },
          "metadata": {},
          "output_type": "display_data"
        },
        {
          "name": "stdout",
          "output_type": "stream",
          "text": [
            "Saved model to https://huggingface.co/Eyas1/fine_tuned_qwen_java_docs\n"
          ]
        },
        {
          "data": {
            "application/vnd.jupyter.widget-view+json": {
              "model_id": "719d4bab1fcf498da1137335a59801c1",
              "version_major": 2,
              "version_minor": 0
            },
            "text/plain": [
              "README.md:   0%|          | 0.00/628 [00:00<?, ?B/s]"
            ]
          },
          "metadata": {},
          "output_type": "display_data"
        },
        {
          "name": "stderr",
          "output_type": "stream",
          "text": [
            "No files have been modified since last commit. Skipping to prevent empty commit.\n"
          ]
        }
      ],
      "source": [
        "from huggingface_hub import login\n",
        "\n",
        "# Log in first (you only need to do this once)\n",
        "login()\n",
        "\n",
        "# Push model\n",
        "model.push_to_hub(\"Eyas1/fine_tuned_qwen_java_docs\")\n",
        "tokenizer.push_to_hub(\"Eyas1/fine_tuned_qwen_java_docs\")\n"
      ]
    }
  ],
  "metadata": {
    "accelerator": "GPU",
    "colab": {
      "gpuType": "T4",
      "provenance": []
    },
    "kernelspec": {
      "display_name": "venv",
      "language": "python",
      "name": "python3"
    },
    "language_info": {
      "codemirror_mode": {
        "name": "ipython",
        "version": 3
      },
      "file_extension": ".py",
      "mimetype": "text/x-python",
      "name": "python",
      "nbconvert_exporter": "python",
      "pygments_lexer": "ipython3",
      "version": "3.12.3"
    }
  },
  "nbformat": 4,
  "nbformat_minor": 0
}
