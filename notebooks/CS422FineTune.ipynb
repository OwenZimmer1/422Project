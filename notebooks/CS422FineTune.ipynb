{
  "cells": [
    {
      "cell_type": "markdown",
      "metadata": {
        "id": "76zQciorbHch"
      },
      "source": []
    },
    {
      "cell_type": "markdown",
      "metadata": {
        "id": "QF-sQeSgbJVh"
      },
      "source": [
        "# Time to Train my first LLM\n",
        "---\n",
        "\n"
      ]
    },
    {
      "cell_type": "markdown",
      "metadata": {
        "id": "whtcHhqbhImx"
      },
      "source": [
        "## Setup"
      ]
    },
    {
      "cell_type": "code",
      "execution_count": 18,
      "metadata": {
        "colab": {
          "base_uri": "https://localhost:8080/"
        },
        "collapsed": true,
        "id": "NEkmy0gGb2JB",
        "outputId": "411443bb-76c6-4ca4-a874-3c404bec914f"
      },
      "outputs": [],
      "source": [
        "# install unsloth and pandas\n",
        "#!pip install unsloth\n",
        "#!pip install pandas"
      ]
    },
    {
      "cell_type": "code",
      "execution_count": 1,
      "metadata": {},
      "outputs": [
        {
          "data": {
            "text/plain": [
              "True"
            ]
          },
          "execution_count": 1,
          "metadata": {},
          "output_type": "execute_result"
        }
      ],
      "source": [
        "# checking if I can use my gpu\n",
        "import torch\n",
        "torch.cuda.is_available()"
      ]
    },
    {
      "cell_type": "code",
      "execution_count": 3,
      "metadata": {
        "colab": {
          "base_uri": "https://localhost:8080/",
          "height": 350
        },
        "id": "JSJU-Z3TbPMS",
        "outputId": "c6b7b7fb-cbe9-41f3-c2ec-9a018e163e12"
      },
      "outputs": [
        {
          "name": "stdout",
          "output_type": "stream",
          "text": [
            "🦥 Unsloth: Will patch your computer to enable 2x faster free finetuning.\n"
          ]
        },
        {
          "name": "stderr",
          "output_type": "stream",
          "text": [
            "WARNING[XFORMERS]: xFormers can't load C++/CUDA extensions. xFormers was built for:\n",
            "    PyTorch 2.7.0+cu126 with CUDA 1206 (you have 2.7.0+cu118)\n",
            "    Python  3.12.10 (you have 3.12.3)\n",
            "  Please reinstall xformers (see https://github.com/facebookresearch/xformers#installing-xformers)\n",
            "  Memory-efficient attention, SwiGLU, sparse and more won't be available.\n",
            "  Set XFORMERS_MORE_DETAILS=1 for more details\n"
          ]
        },
        {
          "name": "stdout",
          "output_type": "stream",
          "text": [
            "🦥 Unsloth Zoo will now patch everything to make training faster!\n"
          ]
        }
      ],
      "source": [
        "# import the libs that our teacher told us to\n",
        "from unsloth import FastLanguageModel\n",
        "import torch"
      ]
    },
    {
      "cell_type": "code",
      "execution_count": 4,
      "metadata": {
        "id": "sAMZojRQdNNW"
      },
      "outputs": [],
      "source": [
        "# set the max number of tokens that can be passed in per chunk\n",
        "max_seq_length = 2048\n",
        "\n",
        "# let unsloth select our data type for us\n",
        "dtype = None\n",
        "\n",
        "# enable 4-bit quantization\n",
        "# less memory but slightly less accuracy its just some math stuff\n",
        "load_in_4bit = True"
      ]
    },
    {
      "cell_type": "code",
      "execution_count": 22,
      "metadata": {
        "id": "yN30xJLzhEPw"
      },
      "outputs": [],
      "source": [
        "#from google.colab import drive\n",
        "#drive.mount('/content/drive')"
      ]
    },
    {
      "cell_type": "code",
      "execution_count": 23,
      "metadata": {
        "id": "kjDYDV3rhY2u"
      },
      "outputs": [],
      "source": [
        "# find path to my data\n",
        "#!ls 'drive/MyDrive/intro to AI/Notebooks'"
      ]
    },
    {
      "cell_type": "markdown",
      "metadata": {},
      "source": [
        "### Prepare Data"
      ]
    },
    {
      "cell_type": "code",
      "execution_count": 5,
      "metadata": {
        "id": "P9sgyIWsieVa"
      },
      "outputs": [],
      "source": [
        "import json\n",
        "import pandas as pd\n",
        "from datasets import Dataset\n",
        "\n",
        "# connect to our data path\n",
        "#dataPath = 'drive/MyDrive/intro to AI/Notebooks/allMethodsCombined.json'\n",
        "\n",
        "dataPath = '../data/allMethodsCombined.json'\n",
        "\n",
        "# load and convert to DataFrame\n",
        "with open(dataPath, 'r') as f:\n",
        "    data = json.load(f)\n",
        "\n",
        "df = pd.DataFrame(data)  # <- make it a DataFrame\n",
        "\n",
        "# save the DataFrame to CSV\n",
        "df.to_csv('allMethodsCombined.csv', index=False)\n",
        "\n",
        "# convert to a hf dataset\n",
        "dataset = Dataset.from_pandas(df)\n"
      ]
    },
    {
      "cell_type": "code",
      "execution_count": 6,
      "metadata": {
        "id": "C1WC2E9DwZHG"
      },
      "outputs": [],
      "source": [
        "# make a 2 col dataset\n",
        "df2col = df[['code', 'javadoc']]\n",
        "\n",
        "dataset2col = Dataset.from_pandas(df)\n"
      ]
    },
    {
      "cell_type": "code",
      "execution_count": 7,
      "metadata": {},
      "outputs": [
        {
          "data": {
            "text/html": [
              "<div>\n",
              "<style scoped>\n",
              "    .dataframe tbody tr th:only-of-type {\n",
              "        vertical-align: middle;\n",
              "    }\n",
              "\n",
              "    .dataframe tbody tr th {\n",
              "        vertical-align: top;\n",
              "    }\n",
              "\n",
              "    .dataframe thead th {\n",
              "        text-align: right;\n",
              "    }\n",
              "</style>\n",
              "<table border=\"1\" class=\"dataframe\">\n",
              "  <thead>\n",
              "    <tr style=\"text-align: right;\">\n",
              "      <th></th>\n",
              "      <th>code</th>\n",
              "      <th>javadoc</th>\n",
              "    </tr>\n",
              "  </thead>\n",
              "  <tbody>\n",
              "    <tr>\n",
              "      <th>0</th>\n",
              "      <td>public Point getLoc(){return location;}</td>\n",
              "      <td>/*** Gets the location.\\n*\\n* @return the curr...</td>\n",
              "    </tr>\n",
              "    <tr>\n",
              "      <th>1</th>\n",
              "      <td>public void draw(Graphics g){\\ng.setColor(colo...</td>\n",
              "      <td>/*** Draws the ball, and if non-active also dr...</td>\n",
              "    </tr>\n",
              "    <tr>\n",
              "      <th>2</th>\n",
              "      <td>public boolean isDone(){\\nreturn finishedInstr...</td>\n",
              "      <td>/*** Checks if the process is completed.\\n* @r...</td>\n",
              "    </tr>\n",
              "    <tr>\n",
              "      <th>3</th>\n",
              "      <td>public void performInstruction(){\\nif (!isDone...</td>\n",
              "      <td>/**Perform a single instruction of the process...</td>\n",
              "    </tr>\n",
              "  </tbody>\n",
              "</table>\n",
              "</div>"
            ],
            "text/plain": [
              "                                                code  \\\n",
              "0            public Point getLoc(){return location;}   \n",
              "1  public void draw(Graphics g){\\ng.setColor(colo...   \n",
              "2  public boolean isDone(){\\nreturn finishedInstr...   \n",
              "3  public void performInstruction(){\\nif (!isDone...   \n",
              "\n",
              "                                             javadoc  \n",
              "0  /*** Gets the location.\\n*\\n* @return the curr...  \n",
              "1  /*** Draws the ball, and if non-active also dr...  \n",
              "2  /*** Checks if the process is completed.\\n* @r...  \n",
              "3  /**Perform a single instruction of the process...  "
            ]
          },
          "execution_count": 7,
          "metadata": {},
          "output_type": "execute_result"
        }
      ],
      "source": [
        "df2col.head(4)"
      ]
    },
    {
      "cell_type": "markdown",
      "metadata": {},
      "source": [
        "### Create a prompt for our dataset "
      ]
    },
    {
      "cell_type": "code",
      "execution_count": null,
      "metadata": {},
      "outputs": [],
      "source": [
        "from langchain.prompts import PromptTemplate\n",
        "\n",
        "multiShot = PromptTemplate(\n",
        "    input_variables=[\"method_code\",\"javadoc\"],\n",
        "    template='''\\\n",
        "Write a professional Javadoc comment for the following Java method. Only tell me the javadoc, **do not return any code.** \n",
        "\n",
        "Example 1:\n",
        "Method:\n",
        "public String reverseProcessed(String text) {{\n",
        "    if (text == null) return null;\n",
        "    String cleaned = text.trim().toLowerCase();\n",
        "    return new StringBuilder(cleaned).reverse().toString();\n",
        "}}\n",
        "\n",
        "Javadoc:\n",
        "/**\n",
        " * Reverses the characters in the given string after trimming whitespace and converting to lowercase.\n",
        " *\n",
        " * @param text the input string to process\n",
        " * @return the reversed, lowercase, trimmed string\n",
        " */\n",
        "\n",
        "Example 2:\n",
        "Method:\n",
        "private int add(int a, int b) {{\n",
        "    return a + b;\n",
        "}}\n",
        "\n",
        "Javadoc:\n",
        "/**\n",
        " * Adds two integers.\n",
        " *\n",
        " * @param a the first integer\n",
        " * @param b the second integer\n",
        " * @return the sum of the two integers\n",
        " */\n",
        "\n",
        "Now write a Javadoc comment for this method:\n",
        "Method:\n",
        "{method_code}\n",
        "\n",
        "Expexted Javadoc:\n",
        "{javadoc}\n",
        "\n",
        "Javadoc:\n",
        "'''\n",
        ")"
      ]
    },
    {
      "cell_type": "markdown",
      "metadata": {},
      "source": [
        "### Map our prompt to our dataset"
      ]
    },
    {
      "cell_type": "code",
      "execution_count": null,
      "metadata": {},
      "outputs": [
        {
          "data": {
            "application/vnd.jupyter.widget-view+json": {
              "model_id": "aa943826b70c4ff68d227f60d49e29b3",
              "version_major": 2,
              "version_minor": 0
            },
            "text/plain": [
              "Map:   0%|          | 0/228 [00:00<?, ? examples/s]"
            ]
          },
          "metadata": {},
          "output_type": "display_data"
        }
      ],
      "source": [
        "def format_with_prompt(example):\n",
        "    return {\n",
        "        \"codeWithPrompt\": multiShot.format(\n",
        "            method_code=example[\"code\"],\n",
        "            javadoc=example[\"javadoc\"]\n",
        "        )\n",
        "    }\n",
        "\n",
        "finalDataset = dataset2col.map(format_with_prompt)"
      ]
    },
    {
      "cell_type": "code",
      "execution_count": null,
      "metadata": {},
      "outputs": [
        {
          "data": {
            "text/html": [
              "<div>\n",
              "<style scoped>\n",
              "    .dataframe tbody tr th:only-of-type {\n",
              "        vertical-align: middle;\n",
              "    }\n",
              "\n",
              "    .dataframe tbody tr th {\n",
              "        vertical-align: top;\n",
              "    }\n",
              "\n",
              "    .dataframe thead th {\n",
              "        text-align: right;\n",
              "    }\n",
              "</style>\n",
              "<table border=\"1\" class=\"dataframe\">\n",
              "  <thead>\n",
              "    <tr style=\"text-align: right;\">\n",
              "      <th></th>\n",
              "      <th>javadoc</th>\n",
              "      <th>code</th>\n",
              "      <th>method_name</th>\n",
              "      <th>parameters</th>\n",
              "      <th>return_type</th>\n",
              "      <th>return_variable</th>\n",
              "      <th>called_methods</th>\n",
              "      <th>local_variables</th>\n",
              "      <th>thrown_exceptions</th>\n",
              "      <th>class_name</th>\n",
              "      <th>codeWithPrompt</th>\n",
              "    </tr>\n",
              "  </thead>\n",
              "  <tbody>\n",
              "    <tr>\n",
              "      <th>0</th>\n",
              "      <td>/*** Gets the location.\\n*\\n* @return the current location\\n*/</td>\n",
              "      <td>public Point getLoc(){return location;}</td>\n",
              "      <td>getLoc</td>\n",
              "      <td></td>\n",
              "      <td>Point</td>\n",
              "      <td>location</td>\n",
              "      <td>[]</td>\n",
              "      <td>[location]</td>\n",
              "      <td>[]</td>\n",
              "      <td>Ball</td>\n",
              "      <td>Write a professional Javadoc comment for the following Java method. Only tell me the javadoc, **do not return any code.** \\n\\nExample 1:\\nMethod:\\npublic String reverseProcessed(String text) {\\n    if (text == null) return null;\\n    String cleaned = text.trim().toLowerCase();\\n    return new StringBuilder(cleaned).reverse().toString();\\n}\\n\\nJavadoc:\\n/**\\n * Reverses the characters in the given string after trimming whitespace and converting to lowercase.\\n *\\n * @param text the input string to process\\n * @return the reversed, lowercase, trimmed string\\n */\\n\\nExample 2:\\nMethod:\\nprivate int add(int a, int b) {\\n    return a + b;\\n}\\n\\nJavadoc:\\n/**\\n * Adds two integers.\\n *\\n * @param a the first integer\\n * @param b the second integer\\n * @return the sum of the two integers\\n */\\n\\nNow write a Javadoc comment for this method:\\nMethod:\\npublic Point getLoc(){return location;}\\n\\nExpexted Javadoc:\\n/*** Gets the location.\\n*\\n* @return the current location\\n*/\\n\\nJavadoc:\\n</td>\n",
              "    </tr>\n",
              "  </tbody>\n",
              "</table>\n",
              "</div>"
            ],
            "text/plain": [
              "                                                          javadoc  \\\n",
              "0  /*** Gets the location.\\n*\\n* @return the current location\\n*/   \n",
              "\n",
              "                                      code method_name parameters return_type  \\\n",
              "0  public Point getLoc(){return location;}      getLoc                  Point   \n",
              "\n",
              "  return_variable called_methods local_variables thrown_exceptions class_name  \\\n",
              "0        location             []      [location]                []       Ball   \n",
              "\n",
              "                                                                                                                                                                                                                                                                                                                                                                                                                                                                                                                                                                                                                                                                                                                                                                                                                                                                                                                                                                                                                      codeWithPrompt  \n",
              "0  Write a professional Javadoc comment for the following Java method. Only tell me the javadoc, **do not return any code.** \\n\\nExample 1:\\nMethod:\\npublic String reverseProcessed(String text) {\\n    if (text == null) return null;\\n    String cleaned = text.trim().toLowerCase();\\n    return new StringBuilder(cleaned).reverse().toString();\\n}\\n\\nJavadoc:\\n/**\\n * Reverses the characters in the given string after trimming whitespace and converting to lowercase.\\n *\\n * @param text the input string to process\\n * @return the reversed, lowercase, trimmed string\\n */\\n\\nExample 2:\\nMethod:\\nprivate int add(int a, int b) {\\n    return a + b;\\n}\\n\\nJavadoc:\\n/**\\n * Adds two integers.\\n *\\n * @param a the first integer\\n * @param b the second integer\\n * @return the sum of the two integers\\n */\\n\\nNow write a Javadoc comment for this method:\\nMethod:\\npublic Point getLoc(){return location;}\\n\\nExpexted Javadoc:\\n/*** Gets the location.\\n*\\n* @return the current location\\n*/\\n\\nJavadoc:\\n  "
            ]
          },
          "metadata": {},
          "output_type": "display_data"
        }
      ],
      "source": [
        "import pandas as pd\n",
        "pd.set_option('display.max_colwidth', None)\n",
        "\n",
        "finalDataset.select(range(1)).to_pandas()\n"
      ]
    },
    {
      "cell_type": "markdown",
      "metadata": {
        "id": "3mpQy4NChZ16"
      },
      "source": [
        "## Model Selections:\n",
        "- Qwen 2.5 coder (0.5b)\n",
        "- Codellama (7b)"
      ]
    },
    {
      "cell_type": "code",
      "execution_count": 8,
      "metadata": {
        "id": "X5uiGnIVhZHk"
      },
      "outputs": [],
      "source": [
        "# models from hugging face\n",
        "model1 = 'Qwen/Qwen2.5-Coder-0.5B-Instruct'\n",
        "model2 = 'codellama/CodeLlama-7b-hf'\n"
      ]
    },
    {
      "cell_type": "markdown",
      "metadata": {
        "id": "p51DvfaXkeSq"
      },
      "source": [
        "## Qwen 2.5 Coder (0.5B)"
      ]
    },
    {
      "cell_type": "markdown",
      "metadata": {
        "id": "1HxbfYQlgywk"
      },
      "source": [
        "### Setting up model"
      ]
    },
    {
      "cell_type": "code",
      "execution_count": 22,
      "metadata": {
        "collapsed": true,
        "id": "HK_P7-ZbhONc"
      },
      "outputs": [
        {
          "name": "stdout",
          "output_type": "stream",
          "text": [
            "==((====))==  Unsloth 2025.4.3: Fast Qwen2 patching. Transformers: 4.51.3.\n",
            "   \\\\   /|    NVIDIA GeForce RTX 3080 Ti. Num GPUs = 1. Max memory: 12.0 GB. Platform: Windows.\n",
            "O^O/ \\_/ \\    Torch: 2.7.0+cu118. CUDA: 8.6. CUDA Toolkit: 11.8. Triton: 3.3.0\n",
            "\\        /    Bfloat16 = TRUE. FA [Xformers = None. FA2 = False]\n",
            " \"-____-\"     Free license: http://github.com/unslothai/unsloth\n",
            "Unsloth: Fast downloading is enabled - ignore downloading bars which are red colored!\n"
          ]
        }
      ],
      "source": [
        "model, tokenizer = FastLanguageModel.from_pretrained(\n",
        "    # qwen coder 0.5b\n",
        "    model_name= model1,\n",
        "    max_seq_length=max_seq_length,\n",
        "    dtype = dtype,\n",
        "    # give each model 4bit quantization or however you spell it\n",
        "    load_in_4bit= load_in_4bit\n",
        ")"
      ]
    },
    {
      "cell_type": "markdown",
      "metadata": {
        "id": "-bDBWIGMg6GR"
      },
      "source": [
        "### Establish How the model will learn"
      ]
    },
    {
      "cell_type": "code",
      "execution_count": 21,
      "metadata": {
        "id": "TAvzN-TYlVR0"
      },
      "outputs": [
        {
          "name": "stderr",
          "output_type": "stream",
          "text": [
            "Unsloth: Already have LoRA adapters! We shall skip this step.\n"
          ]
        }
      ],
      "source": [
        "model = FastLanguageModel.get_peft_model(\n",
        "    model,\n",
        "    r = 16,\n",
        "    target_modules = [\"q_proj\",\"k_proj\",\"v_proj\",\"o_proj\",\n",
        "                    \"gate_proj\",\"up_proj\",\"down_proj\",],\n",
        "    lora_alpha = 16,\n",
        "    lora_dropout = 0,\n",
        "    bias = \"none\",\n",
        "    use_gradient_checkpointing = \"unsloth\",\n",
        "    random_state = 3407,\n",
        "    use_rslora = False,\n",
        "    loftq_config = None,\n",
        ")"
      ]
    },
    {
      "cell_type": "markdown",
      "metadata": {
        "id": "2dZVBkCSyido"
      },
      "source": [
        "### Start Training "
      ]
    },
    {
      "cell_type": "code",
      "execution_count": 17,
      "metadata": {},
      "outputs": [],
      "source": [
        "def formatting_func(example):\n",
        "    return [f\"{example['codeWithPrompt']} {example['javadoc']}\"]\n"
      ]
    },
    {
      "cell_type": "code",
      "execution_count": 34,
      "metadata": {
        "id": "wwXLnYTgtGD8"
      },
      "outputs": [
        {
          "data": {
            "application/vnd.jupyter.widget-view+json": {
              "model_id": "f053e81bfaf1428295680c5f8ff05133",
              "version_major": 2,
              "version_minor": 0
            },
            "text/plain": [
              "Unsloth: Tokenizing [\"codeWithPrompt\"]:   0%|          | 0/228 [00:00<?, ? examples/s]"
            ]
          },
          "metadata": {},
          "output_type": "display_data"
        },
        {
          "name": "stdout",
          "output_type": "stream",
          "text": [
            "Unsloth: Hugging Face's packing is currently buggy - we're disabling it for now!\n"
          ]
        }
      ],
      "source": [
        "from unsloth import is_bfloat16_supported, UnslothTrainingArguments\n",
        "from trl import SFTTrainer\n",
        "\n",
        "trainer = SFTTrainer(\n",
        "    model=model,\n",
        "    tokenizer=tokenizer,\n",
        "    train_dataset=finalDataset,\n",
        "    dataset_text_field=\"codeWithPrompt\",\n",
        "    formatting_func=formatting_func,\n",
        "    max_seq_length=512,\n",
        "    dataset_num_proc=1,\n",
        "    packing=True,\n",
        "    args=UnslothTrainingArguments(\n",
        "        per_device_train_batch_size=1,\n",
        "        gradient_accumulation_steps=16,\n",
        "        warmup_steps=50,\n",
        "        max_steps=150,\n",
        "        learning_rate=2e-5,\n",
        "        lr_scheduler_type=\"cosine\",\n",
        "        optim=\"adamw_8bit\",\n",
        "        weight_decay=0.1,\n",
        "        fp16=not is_bfloat16_supported(),\n",
        "        bf16=is_bfloat16_supported(),\n",
        "        logging_steps=10,\n",
        "        save_steps=250,\n",
        "        save_total_limit=2,\n",
        "        output_dir=\"outputs\",\n",
        "        report_to=[],\n",
        "        seed=3407,\n",
        "    ),\n",
        ")\n"
      ]
    },
    {
      "cell_type": "code",
      "execution_count": 35,
      "metadata": {},
      "outputs": [
        {
          "name": "stderr",
          "output_type": "stream",
          "text": [
            "==((====))==  Unsloth - 2x faster free finetuning | Num GPUs used = 1\n",
            "   \\\\   /|    Num examples = 228 | Num Epochs = 11 | Total steps = 150\n",
            "O^O/ \\_/ \\    Batch size per device = 1 | Gradient accumulation steps = 16\n",
            "\\        /    Data Parallel GPUs = 1 | Total batch size (1 x 16 x 1) = 16\n",
            " \"-____-\"     Trainable parameters = 8,798,208/5,000,000,000 (0.18% trained)\n"
          ]
        },
        {
          "data": {
            "text/html": [
              "\n",
              "    <div>\n",
              "      \n",
              "      <progress value='150' max='150' style='width:300px; height:20px; vertical-align: middle;'></progress>\n",
              "      [150/150 09:47, Epoch 10/11]\n",
              "    </div>\n",
              "    <table border=\"1\" class=\"dataframe\">\n",
              "  <thead>\n",
              " <tr style=\"text-align: left;\">\n",
              "      <th>Step</th>\n",
              "      <th>Training Loss</th>\n",
              "    </tr>\n",
              "  </thead>\n",
              "  <tbody>\n",
              "    <tr>\n",
              "      <td>10</td>\n",
              "      <td>0.040600</td>\n",
              "    </tr>\n",
              "    <tr>\n",
              "      <td>20</td>\n",
              "      <td>0.036100</td>\n",
              "    </tr>\n",
              "    <tr>\n",
              "      <td>30</td>\n",
              "      <td>0.018900</td>\n",
              "    </tr>\n",
              "    <tr>\n",
              "      <td>40</td>\n",
              "      <td>0.009600</td>\n",
              "    </tr>\n",
              "    <tr>\n",
              "      <td>50</td>\n",
              "      <td>0.005300</td>\n",
              "    </tr>\n",
              "    <tr>\n",
              "      <td>60</td>\n",
              "      <td>0.002700</td>\n",
              "    </tr>\n",
              "    <tr>\n",
              "      <td>70</td>\n",
              "      <td>0.001500</td>\n",
              "    </tr>\n",
              "    <tr>\n",
              "      <td>80</td>\n",
              "      <td>0.001800</td>\n",
              "    </tr>\n",
              "    <tr>\n",
              "      <td>90</td>\n",
              "      <td>0.001000</td>\n",
              "    </tr>\n",
              "    <tr>\n",
              "      <td>100</td>\n",
              "      <td>0.000500</td>\n",
              "    </tr>\n",
              "    <tr>\n",
              "      <td>110</td>\n",
              "      <td>0.000800</td>\n",
              "    </tr>\n",
              "    <tr>\n",
              "      <td>120</td>\n",
              "      <td>0.000600</td>\n",
              "    </tr>\n",
              "    <tr>\n",
              "      <td>130</td>\n",
              "      <td>0.000500</td>\n",
              "    </tr>\n",
              "    <tr>\n",
              "      <td>140</td>\n",
              "      <td>0.000500</td>\n",
              "    </tr>\n",
              "    <tr>\n",
              "      <td>150</td>\n",
              "      <td>0.000600</td>\n",
              "    </tr>\n",
              "  </tbody>\n",
              "</table><p>"
            ],
            "text/plain": [
              "<IPython.core.display.HTML object>"
            ]
          },
          "metadata": {},
          "output_type": "display_data"
        },
        {
          "data": {
            "text/plain": [
              "TrainOutput(global_step=150, training_loss=0.008071566289290786, metrics={'train_runtime': 592.7136, 'train_samples_per_second': 4.049, 'train_steps_per_second': 0.253, 'total_flos': 1603071634291200.0, 'train_loss': 0.008071566289290786})"
            ]
          },
          "execution_count": 35,
          "metadata": {},
          "output_type": "execute_result"
        }
      ],
      "source": [
        "# actually do the training\n",
        "# this will take a while\n",
        "trainer.train()"
      ]
    },
    {
      "cell_type": "markdown",
      "metadata": {},
      "source": [
        "### Vizualize Training "
      ]
    },
    {
      "cell_type": "code",
      "execution_count": 38,
      "metadata": {},
      "outputs": [
        {
          "data": {
            "image/png": "[encoded data removed]",
            "text/plain": [
              "<Figure size 1000x600 with 1 Axes>"
            ]
          },
          "metadata": {},
          "output_type": "display_data"
        }
      ],
      "source": [
        "\n",
        "import matplotlib.pyplot as plt\n",
        "import numpy as np\n",
        "# After training is complete\n",
        "training_logs = trainer.state.log_history\n",
        "# Extract loss values\n",
        "train_losses = [log.get('loss') for log in training_logs if 'loss' in log]\n",
        "steps = list(range(len(train_losses)))\n",
        "# Plot the training loss\n",
        "plt.figure(figsize=(10, 6))\n",
        "plt.plot(steps, train_losses)\n",
        "plt.xlabel('Training Steps')\n",
        "plt.ylabel('Training Loss')\n",
        "plt.title('Training Loss over Time')\n",
        "plt.grid(True)\n",
        "plt.show()\n"
      ]
    },
    {
      "cell_type": "markdown",
      "metadata": {
        "id": "B5CAdPnq6n4L"
      },
      "source": [
        "### Upload to Hugging Face"
      ]
    },
    {
      "cell_type": "code",
      "execution_count": 37,
      "metadata": {
        "id": "oj-2l4W96rMl"
      },
      "outputs": [
        {
          "data": {
            "application/vnd.jupyter.widget-view+json": {
              "model_id": "b444072abc6d4a4ea9056d77822909d3",
              "version_major": 2,
              "version_minor": 0
            },
            "text/plain": [
              "VBox(children=(HTML(value='<center> <img\\nsrc=https://huggingface.co/front/assets/huggingface_logo-noborder.sv…"
            ]
          },
          "metadata": {},
          "output_type": "display_data"
        },
        {
          "data": {
            "application/vnd.jupyter.widget-view+json": {
              "model_id": "6f9d4d6a84144072bcb83ef0b4684966",
              "version_major": 2,
              "version_minor": 0
            },
            "text/plain": [
              "  0%|          | 0/1 [00:00<?, ?it/s]"
            ]
          },
          "metadata": {},
          "output_type": "display_data"
        },
        {
          "data": {
            "application/vnd.jupyter.widget-view+json": {
              "model_id": "dc904375dfdf41d49a46572534ba6922",
              "version_major": 2,
              "version_minor": 0
            },
            "text/plain": [
              "adapter_model.safetensors:   0%|          | 0.00/35.2M [00:00<?, ?B/s]"
            ]
          },
          "metadata": {},
          "output_type": "display_data"
        },
        {
          "name": "stdout",
          "output_type": "stream",
          "text": [
            "Saved model to https://huggingface.co/Eyas1/fine_tuned_qwen_java_docs\n"
          ]
        },
        {
          "data": {
            "application/vnd.jupyter.widget-view+json": {
              "model_id": "df4ff8b3cd4b47cdbad3ea1048feb755",
              "version_major": 2,
              "version_minor": 0
            },
            "text/plain": [
              "README.md:   0%|          | 0.00/628 [00:00<?, ?B/s]"
            ]
          },
          "metadata": {},
          "output_type": "display_data"
        },
        {
          "data": {
            "application/vnd.jupyter.widget-view+json": {
              "model_id": "dfb440eadca34b0a8960cce626415c3b",
              "version_major": 2,
              "version_minor": 0
            },
            "text/plain": [
              "  0%|          | 0/1 [00:00<?, ?it/s]"
            ]
          },
          "metadata": {},
          "output_type": "display_data"
        },
        {
          "data": {
            "application/vnd.jupyter.widget-view+json": {
              "model_id": "4f760555ffee414cbcda1d9eed0088c7",
              "version_major": 2,
              "version_minor": 0
            },
            "text/plain": [
              "tokenizer.json:   0%|          | 0.00/11.4M [00:00<?, ?B/s]"
            ]
          },
          "metadata": {},
          "output_type": "display_data"
        }
      ],
      "source": [
        "from huggingface_hub import login\n",
        "\n",
        "# Log in first (you only need to do this once)\n",
        "login()\n",
        "\n",
        "# Push model\n",
        "model.push_to_hub(\"Eyas1/fine_tuned_qwen_java_docs\")\n",
        "tokenizer.push_to_hub(\"Eyas1/fine_tuned_qwen_java_docs\")\n"
      ]
    },
    {
      "cell_type": "markdown",
      "metadata": {},
      "source": [
        "## Code llama (7b)\n"
      ]
    },
    {
      "cell_type": "code",
      "execution_count": 31,
      "metadata": {},
      "outputs": [
        {
          "ename": "AttributeError",
          "evalue": "'Qwen2ForCausalLM' object has no attribute 'count'",
          "output_type": "error",
          "traceback": [
            "\u001b[31m---------------------------------------------------------------------------\u001b[39m",
            "\u001b[31mAttributeError\u001b[39m                            Traceback (most recent call last)",
            "\u001b[36mFile \u001b[39m\u001b[32mc:\\Users\\eyas1\\OneDrive\\Desktop\\CS 422 Project\\422Project\\venv\\Lib\\site-packages\\peft\\peft_model.py:793\u001b[39m, in \u001b[36mPeftModel.__getattr__\u001b[39m\u001b[34m(self, name)\u001b[39m\n\u001b[32m    792\u001b[39m \u001b[38;5;28;01mtry\u001b[39;00m:\n\u001b[32m--> \u001b[39m\u001b[32m793\u001b[39m     \u001b[38;5;28;01mreturn\u001b[39;00m \u001b[38;5;28;43msuper\u001b[39;49m\u001b[43m(\u001b[49m\u001b[43m)\u001b[49m\u001b[43m.\u001b[49m\u001b[34;43m__getattr__\u001b[39;49m\u001b[43m(\u001b[49m\u001b[43mname\u001b[49m\u001b[43m)\u001b[49m  \u001b[38;5;66;03m# defer to nn.Module's logic\u001b[39;00m\n\u001b[32m    794\u001b[39m \u001b[38;5;28;01mexcept\u001b[39;00m \u001b[38;5;167;01mAttributeError\u001b[39;00m:\n",
            "\u001b[36mFile \u001b[39m\u001b[32mc:\\Users\\eyas1\\OneDrive\\Desktop\\CS 422 Project\\422Project\\venv\\Lib\\site-packages\\torch\\nn\\modules\\module.py:1940\u001b[39m, in \u001b[36mModule.__getattr__\u001b[39m\u001b[34m(self, name)\u001b[39m\n\u001b[32m   1939\u001b[39m         \u001b[38;5;28;01mreturn\u001b[39;00m modules[name]\n\u001b[32m-> \u001b[39m\u001b[32m1940\u001b[39m \u001b[38;5;28;01mraise\u001b[39;00m \u001b[38;5;167;01mAttributeError\u001b[39;00m(\n\u001b[32m   1941\u001b[39m     \u001b[33mf\u001b[39m\u001b[33m\"\u001b[39m\u001b[33m'\u001b[39m\u001b[38;5;132;01m{\u001b[39;00m\u001b[38;5;28mtype\u001b[39m(\u001b[38;5;28mself\u001b[39m).\u001b[34m__name__\u001b[39m\u001b[38;5;132;01m}\u001b[39;00m\u001b[33m'\u001b[39m\u001b[33m object has no attribute \u001b[39m\u001b[33m'\u001b[39m\u001b[38;5;132;01m{\u001b[39;00mname\u001b[38;5;132;01m}\u001b[39;00m\u001b[33m'\u001b[39m\u001b[33m\"\u001b[39m\n\u001b[32m   1942\u001b[39m )\n",
            "\u001b[31mAttributeError\u001b[39m: 'PeftModelForCausalLM' object has no attribute 'count'",
            "\nDuring handling of the above exception, another exception occurred:\n",
            "\u001b[31mAttributeError\u001b[39m                            Traceback (most recent call last)",
            "\u001b[36mFile \u001b[39m\u001b[32mc:\\Users\\eyas1\\OneDrive\\Desktop\\CS 422 Project\\422Project\\venv\\Lib\\site-packages\\peft\\tuners\\lora\\model.py:359\u001b[39m, in \u001b[36mLoraModel.__getattr__\u001b[39m\u001b[34m(self, name)\u001b[39m\n\u001b[32m    358\u001b[39m \u001b[38;5;28;01mtry\u001b[39;00m:\n\u001b[32m--> \u001b[39m\u001b[32m359\u001b[39m     \u001b[38;5;28;01mreturn\u001b[39;00m \u001b[38;5;28;43msuper\u001b[39;49m\u001b[43m(\u001b[49m\u001b[43m)\u001b[49m\u001b[43m.\u001b[49m\u001b[34;43m__getattr__\u001b[39;49m\u001b[43m(\u001b[49m\u001b[43mname\u001b[49m\u001b[43m)\u001b[49m  \u001b[38;5;66;03m# defer to nn.Module's logic\u001b[39;00m\n\u001b[32m    360\u001b[39m \u001b[38;5;28;01mexcept\u001b[39;00m \u001b[38;5;167;01mAttributeError\u001b[39;00m:\n",
            "\u001b[36mFile \u001b[39m\u001b[32mc:\\Users\\eyas1\\OneDrive\\Desktop\\CS 422 Project\\422Project\\venv\\Lib\\site-packages\\torch\\nn\\modules\\module.py:1940\u001b[39m, in \u001b[36mModule.__getattr__\u001b[39m\u001b[34m(self, name)\u001b[39m\n\u001b[32m   1939\u001b[39m         \u001b[38;5;28;01mreturn\u001b[39;00m modules[name]\n\u001b[32m-> \u001b[39m\u001b[32m1940\u001b[39m \u001b[38;5;28;01mraise\u001b[39;00m \u001b[38;5;167;01mAttributeError\u001b[39;00m(\n\u001b[32m   1941\u001b[39m     \u001b[33mf\u001b[39m\u001b[33m\"\u001b[39m\u001b[33m'\u001b[39m\u001b[38;5;132;01m{\u001b[39;00m\u001b[38;5;28mtype\u001b[39m(\u001b[38;5;28mself\u001b[39m).\u001b[34m__name__\u001b[39m\u001b[38;5;132;01m}\u001b[39;00m\u001b[33m'\u001b[39m\u001b[33m object has no attribute \u001b[39m\u001b[33m'\u001b[39m\u001b[38;5;132;01m{\u001b[39;00mname\u001b[38;5;132;01m}\u001b[39;00m\u001b[33m'\u001b[39m\u001b[33m\"\u001b[39m\n\u001b[32m   1942\u001b[39m )\n",
            "\u001b[31mAttributeError\u001b[39m: 'LoraModel' object has no attribute 'count'",
            "\nDuring handling of the above exception, another exception occurred:\n",
            "\u001b[31mAttributeError\u001b[39m                            Traceback (most recent call last)",
            "\u001b[36mCell\u001b[39m\u001b[36m \u001b[39m\u001b[32mIn[31]\u001b[39m\u001b[32m, line 1\u001b[39m\n\u001b[32m----> \u001b[39m\u001b[32m1\u001b[39m model2, tokenizer = \u001b[43mFastLanguageModel\u001b[49m\u001b[43m.\u001b[49m\u001b[43mfrom_pretrained\u001b[49m\u001b[43m(\u001b[49m\n\u001b[32m      2\u001b[39m \u001b[43m    \u001b[49m\u001b[38;5;66;43;03m# qwen coder 0.5b\u001b[39;49;00m\n\u001b[32m      3\u001b[39m \u001b[43m    \u001b[49m\u001b[43mmodel_name\u001b[49m\u001b[43m=\u001b[49m\u001b[43m \u001b[49m\u001b[43mmodel2\u001b[49m\u001b[43m,\u001b[49m\n\u001b[32m      4\u001b[39m \u001b[43m    \u001b[49m\u001b[43mmax_seq_length\u001b[49m\u001b[43m=\u001b[49m\u001b[43mmax_seq_length\u001b[49m\u001b[43m,\u001b[49m\n\u001b[32m      5\u001b[39m \u001b[43m    \u001b[49m\u001b[43mdtype\u001b[49m\u001b[43m \u001b[49m\u001b[43m=\u001b[49m\u001b[43m \u001b[49m\u001b[43mdtype\u001b[49m\u001b[43m,\u001b[49m\n\u001b[32m      6\u001b[39m \u001b[43m    \u001b[49m\u001b[38;5;66;43;03m# give each model 4bit quantization or however you spell it\u001b[39;49;00m\n\u001b[32m      7\u001b[39m \u001b[43m    \u001b[49m\u001b[43mload_in_4bit\u001b[49m\u001b[43m=\u001b[49m\u001b[43m \u001b[49m\u001b[43mload_in_4bit\u001b[49m\n\u001b[32m      8\u001b[39m \u001b[43m)\u001b[49m\n",
            "\u001b[36mFile \u001b[39m\u001b[32mc:\\Users\\eyas1\\OneDrive\\Desktop\\CS 422 Project\\422Project\\venv\\Lib\\site-packages\\unsloth\\models\\loader.py:146\u001b[39m, in \u001b[36mFastLanguageModel.from_pretrained\u001b[39m\u001b[34m(model_name, max_seq_length, dtype, load_in_4bit, load_in_8bit, full_finetuning, token, device_map, rope_scaling, fix_tokenizer, trust_remote_code, use_gradient_checkpointing, resize_model_vocab, revision, use_exact_model_name, fast_inference, gpu_memory_utilization, float8_kv_cache, random_state, max_lora_rank, disable_log_stats, *args, **kwargs)\u001b[39m\n\u001b[32m    144\u001b[39m old_model_name = model_name\n\u001b[32m    145\u001b[39m \u001b[38;5;28;01mif\u001b[39;00m \u001b[38;5;129;01mnot\u001b[39;00m use_exact_model_name:\n\u001b[32m--> \u001b[39m\u001b[32m146\u001b[39m     model_name = \u001b[43mget_model_name\u001b[49m\u001b[43m(\u001b[49m\u001b[43mmodel_name\u001b[49m\u001b[43m,\u001b[49m\u001b[43m \u001b[49m\u001b[43mload_in_4bit\u001b[49m\u001b[43m)\u001b[49m\n\u001b[32m    148\u001b[39m \u001b[38;5;28;01mif\u001b[39;00m USE_MODELSCOPE \u001b[38;5;129;01mand\u001b[39;00m \u001b[38;5;129;01mnot\u001b[39;00m os.path.exists(model_name):\n\u001b[32m    149\u001b[39m     \u001b[38;5;28;01mfrom\u001b[39;00m\u001b[38;5;250m \u001b[39m\u001b[34;01mmodelscope\u001b[39;00m\u001b[38;5;250m \u001b[39m\u001b[38;5;28;01mimport\u001b[39;00m snapshot_download\n",
            "\u001b[36mFile \u001b[39m\u001b[32mc:\\Users\\eyas1\\OneDrive\\Desktop\\CS 422 Project\\422Project\\venv\\Lib\\site-packages\\unsloth\\models\\loader_utils.py:105\u001b[39m, in \u001b[36mget_model_name\u001b[39m\u001b[34m(model_name, load_in_4bit)\u001b[39m\n\u001b[32m     97\u001b[39m \u001b[38;5;28;01mdef\u001b[39;00m\u001b[38;5;250m \u001b[39m\u001b[34mget_model_name\u001b[39m(model_name, load_in_4bit = \u001b[38;5;28;01mTrue\u001b[39;00m):\n\u001b[32m     98\u001b[39m     new_model_name = __get_model_name(\n\u001b[32m     99\u001b[39m         model_name = model_name,\n\u001b[32m    100\u001b[39m         load_in_4bit = load_in_4bit,\n\u001b[32m   (...)\u001b[39m\u001b[32m    103\u001b[39m         MAP_TO_UNSLOTH_16bit = MAP_TO_UNSLOTH_16bit,\n\u001b[32m    104\u001b[39m     )\n\u001b[32m--> \u001b[39m\u001b[32m105\u001b[39m     \u001b[38;5;28;01mif\u001b[39;00m new_model_name \u001b[38;5;129;01mis\u001b[39;00m \u001b[38;5;28;01mNone\u001b[39;00m \u001b[38;5;129;01mand\u001b[39;00m \u001b[43mmodel_name\u001b[49m\u001b[43m.\u001b[49m\u001b[43mcount\u001b[49m(\u001b[33m\"\u001b[39m\u001b[33m/\u001b[39m\u001b[33m\"\u001b[39m) == \u001b[32m1\u001b[39m \u001b[38;5;129;01mand\u001b[39;00m model_name[\u001b[32m0\u001b[39m].isalnum():\n\u001b[32m    106\u001b[39m         \u001b[38;5;66;03m# Try checking if a new Unsloth version allows it!\u001b[39;00m\n\u001b[32m    107\u001b[39m         NEW_INT_TO_FLOAT_MAPPER, NEW_FLOAT_TO_INT_MAPPER, NEW_MAP_TO_UNSLOTH_16bit = _get_new_mapper()\n\u001b[32m    108\u001b[39m         upgraded_model_name = __get_model_name(\n\u001b[32m    109\u001b[39m             model_name = model_name,\n\u001b[32m    110\u001b[39m             load_in_4bit = load_in_4bit,\n\u001b[32m   (...)\u001b[39m\u001b[32m    113\u001b[39m             MAP_TO_UNSLOTH_16bit = NEW_MAP_TO_UNSLOTH_16bit,\n\u001b[32m    114\u001b[39m         )\n",
            "\u001b[36mFile \u001b[39m\u001b[32mc:\\Users\\eyas1\\OneDrive\\Desktop\\CS 422 Project\\422Project\\venv\\Lib\\site-packages\\peft\\peft_model.py:797\u001b[39m, in \u001b[36mPeftModel.__getattr__\u001b[39m\u001b[34m(self, name)\u001b[39m\n\u001b[32m    795\u001b[39m \u001b[38;5;28;01mif\u001b[39;00m name == \u001b[33m\"\u001b[39m\u001b[33mbase_model\u001b[39m\u001b[33m\"\u001b[39m:  \u001b[38;5;66;03m# see #1892: prevent infinite recursion if class is not initialized\u001b[39;00m\n\u001b[32m    796\u001b[39m     \u001b[38;5;28;01mraise\u001b[39;00m\n\u001b[32m--> \u001b[39m\u001b[32m797\u001b[39m \u001b[38;5;28;01mreturn\u001b[39;00m \u001b[38;5;28;43mgetattr\u001b[39;49m\u001b[43m(\u001b[49m\u001b[38;5;28;43mself\u001b[39;49m\u001b[43m.\u001b[49m\u001b[43mbase_model\u001b[49m\u001b[43m,\u001b[49m\u001b[43m \u001b[49m\u001b[43mname\u001b[49m\u001b[43m)\u001b[49m\n",
            "\u001b[36mFile \u001b[39m\u001b[32mc:\\Users\\eyas1\\OneDrive\\Desktop\\CS 422 Project\\422Project\\venv\\Lib\\site-packages\\peft\\tuners\\lora\\model.py:363\u001b[39m, in \u001b[36mLoraModel.__getattr__\u001b[39m\u001b[34m(self, name)\u001b[39m\n\u001b[32m    361\u001b[39m \u001b[38;5;28;01mif\u001b[39;00m name == \u001b[33m\"\u001b[39m\u001b[33mmodel\u001b[39m\u001b[33m\"\u001b[39m:  \u001b[38;5;66;03m# see #1892: prevent infinite recursion if class is not initialized\u001b[39;00m\n\u001b[32m    362\u001b[39m     \u001b[38;5;28;01mraise\u001b[39;00m\n\u001b[32m--> \u001b[39m\u001b[32m363\u001b[39m \u001b[38;5;28;01mreturn\u001b[39;00m \u001b[38;5;28;43mgetattr\u001b[39;49m\u001b[43m(\u001b[49m\u001b[38;5;28;43mself\u001b[39;49m\u001b[43m.\u001b[49m\u001b[43mmodel\u001b[49m\u001b[43m,\u001b[49m\u001b[43m \u001b[49m\u001b[43mname\u001b[49m\u001b[43m)\u001b[49m\n",
            "\u001b[36mFile \u001b[39m\u001b[32mc:\\Users\\eyas1\\OneDrive\\Desktop\\CS 422 Project\\422Project\\venv\\Lib\\site-packages\\torch\\nn\\modules\\module.py:1940\u001b[39m, in \u001b[36mModule.__getattr__\u001b[39m\u001b[34m(self, name)\u001b[39m\n\u001b[32m   1938\u001b[39m     \u001b[38;5;28;01mif\u001b[39;00m name \u001b[38;5;129;01min\u001b[39;00m modules:\n\u001b[32m   1939\u001b[39m         \u001b[38;5;28;01mreturn\u001b[39;00m modules[name]\n\u001b[32m-> \u001b[39m\u001b[32m1940\u001b[39m \u001b[38;5;28;01mraise\u001b[39;00m \u001b[38;5;167;01mAttributeError\u001b[39;00m(\n\u001b[32m   1941\u001b[39m     \u001b[33mf\u001b[39m\u001b[33m\"\u001b[39m\u001b[33m'\u001b[39m\u001b[38;5;132;01m{\u001b[39;00m\u001b[38;5;28mtype\u001b[39m(\u001b[38;5;28mself\u001b[39m).\u001b[34m__name__\u001b[39m\u001b[38;5;132;01m}\u001b[39;00m\u001b[33m'\u001b[39m\u001b[33m object has no attribute \u001b[39m\u001b[33m'\u001b[39m\u001b[38;5;132;01m{\u001b[39;00mname\u001b[38;5;132;01m}\u001b[39;00m\u001b[33m'\u001b[39m\u001b[33m\"\u001b[39m\n\u001b[32m   1942\u001b[39m )\n",
            "\u001b[31mAttributeError\u001b[39m: 'Qwen2ForCausalLM' object has no attribute 'count'"
          ]
        }
      ],
      "source": [
        "model2, tokenizer = FastLanguageModel.from_pretrained(\n",
        "    # qwen coder 0.5b\n",
        "    model_name= model2,\n",
        "    max_seq_length=max_seq_length,\n",
        "    dtype = dtype,\n",
        "    # give each model 4bit quantization or however you spell it\n",
        "    load_in_4bit= load_in_4bit\n",
        ")"
      ]
    },
    {
      "cell_type": "code",
      "execution_count": 32,
      "metadata": {},
      "outputs": [
        {
          "name": "stderr",
          "output_type": "stream",
          "text": [
            "Unsloth: Already have LoRA adapters! We shall skip this step.\n"
          ]
        }
      ],
      "source": [
        "model2 = FastLanguageModel.get_peft_model(\n",
        "    model2,\n",
        "    r = 16,\n",
        "    target_modules = [\"q_proj\",\"k_proj\",\"v_proj\",\"o_proj\",\n",
        "                    \"gate_proj\",\"up_proj\",\"down_proj\",],\n",
        "    lora_alpha = 16,\n",
        "    lora_dropout = 0,\n",
        "    bias = \"none\",\n",
        "    use_gradient_checkpointing = \"unsloth\",\n",
        "    random_state = 3407,\n",
        "    use_rslora = False,\n",
        "    loftq_config = None,\n",
        ")"
      ]
    },
    {
      "cell_type": "markdown",
      "metadata": {},
      "source": [
        "### Training prams \n",
        "Codellama does better with a slower learning rate and more warmup steps"
      ]
    },
    {
      "cell_type": "code",
      "execution_count": 26,
      "metadata": {},
      "outputs": [
        {
          "data": {
            "application/vnd.jupyter.widget-view+json": {
              "model_id": "ea1e95a4ff3949d3bf41f35b16525911",
              "version_major": 2,
              "version_minor": 0
            },
            "text/plain": [
              "Unsloth: Tokenizing [\"codeWithPrompt\"]:   0%|          | 0/228 [00:00<?, ? examples/s]"
            ]
          },
          "metadata": {},
          "output_type": "display_data"
        },
        {
          "name": "stdout",
          "output_type": "stream",
          "text": [
            "Unsloth: Hugging Face's packing is currently buggy - we're disabling it for now!\n"
          ]
        }
      ],
      "source": [
        "from unsloth import is_bfloat16_supported, UnslothTrainingArguments\n",
        "from trl import SFTTrainer\n",
        "\n",
        "trainer = SFTTrainer(\n",
        "    model=model2,\n",
        "    tokenizer=tokenizer,\n",
        "    train_dataset=finalDataset,\n",
        "    dataset_text_field=\"codeWithPrompt\",\n",
        "    formatting_func=formatting_func,\n",
        "    max_seq_length=512,\n",
        "    dataset_num_proc=1,\n",
        "    packing=True,\n",
        "    args=UnslothTrainingArguments(\n",
        "        per_device_train_batch_size=1,\n",
        "        gradient_accumulation_steps=16,\n",
        "        warmup_steps=100,\n",
        "        max_steps=150,\n",
        "        learning_rate=1e-5,\n",
        "        lr_scheduler_type=\"cosine\",\n",
        "        optim=\"adamw_8bit\",\n",
        "        weight_decay=0.1,\n",
        "        fp16=not is_bfloat16_supported(),\n",
        "        bf16=is_bfloat16_supported(),\n",
        "        logging_steps=10,\n",
        "        save_steps=250,\n",
        "        save_total_limit=2,\n",
        "        output_dir=\"outputs\",\n",
        "        report_to=[],\n",
        "        seed=3407,\n",
        "    ),\n",
        ")\n"
      ]
    },
    {
      "cell_type": "code",
      "execution_count": 27,
      "metadata": {},
      "outputs": [
        {
          "name": "stderr",
          "output_type": "stream",
          "text": [
            "==((====))==  Unsloth - 2x faster free finetuning | Num GPUs used = 1\n",
            "   \\\\   /|    Num examples = 228 | Num Epochs = 11 | Total steps = 150\n",
            "O^O/ \\_/ \\    Batch size per device = 1 | Gradient accumulation steps = 16\n",
            "\\        /    Data Parallel GPUs = 1 | Total batch size (1 x 16 x 1) = 16\n",
            " \"-____-\"     Trainable parameters = 8,798,208/5,000,000,000 (0.18% trained)\n"
          ]
        },
        {
          "data": {
            "text/html": [
              "\n",
              "    <div>\n",
              "      \n",
              "      <progress value='150' max='150' style='width:300px; height:20px; vertical-align: middle;'></progress>\n",
              "      [150/150 09:45, Epoch 10/11]\n",
              "    </div>\n",
              "    <table border=\"1\" class=\"dataframe\">\n",
              "  <thead>\n",
              " <tr style=\"text-align: left;\">\n",
              "      <th>Step</th>\n",
              "      <th>Training Loss</th>\n",
              "    </tr>\n",
              "  </thead>\n",
              "  <tbody>\n",
              "    <tr>\n",
              "      <td>10</td>\n",
              "      <td>0.455000</td>\n",
              "    </tr>\n",
              "    <tr>\n",
              "      <td>20</td>\n",
              "      <td>0.453900</td>\n",
              "    </tr>\n",
              "    <tr>\n",
              "      <td>30</td>\n",
              "      <td>0.431800</td>\n",
              "    </tr>\n",
              "    <tr>\n",
              "      <td>40</td>\n",
              "      <td>0.380400</td>\n",
              "    </tr>\n",
              "    <tr>\n",
              "      <td>50</td>\n",
              "      <td>0.332400</td>\n",
              "    </tr>\n",
              "    <tr>\n",
              "      <td>60</td>\n",
              "      <td>0.194900</td>\n",
              "    </tr>\n",
              "    <tr>\n",
              "      <td>70</td>\n",
              "      <td>0.099300</td>\n",
              "    </tr>\n",
              "    <tr>\n",
              "      <td>80</td>\n",
              "      <td>0.051500</td>\n",
              "    </tr>\n",
              "    <tr>\n",
              "      <td>90</td>\n",
              "      <td>0.027100</td>\n",
              "    </tr>\n",
              "    <tr>\n",
              "      <td>100</td>\n",
              "      <td>0.016200</td>\n",
              "    </tr>\n",
              "    <tr>\n",
              "      <td>110</td>\n",
              "      <td>0.011100</td>\n",
              "    </tr>\n",
              "    <tr>\n",
              "      <td>120</td>\n",
              "      <td>0.008600</td>\n",
              "    </tr>\n",
              "    <tr>\n",
              "      <td>130</td>\n",
              "      <td>0.008100</td>\n",
              "    </tr>\n",
              "    <tr>\n",
              "      <td>140</td>\n",
              "      <td>0.008300</td>\n",
              "    </tr>\n",
              "    <tr>\n",
              "      <td>150</td>\n",
              "      <td>0.007300</td>\n",
              "    </tr>\n",
              "  </tbody>\n",
              "</table><p>"
            ],
            "text/plain": [
              "<IPython.core.display.HTML object>"
            ]
          },
          "metadata": {},
          "output_type": "display_data"
        },
        {
          "data": {
            "text/plain": [
              "TrainOutput(global_step=150, training_loss=0.16571995134154954, metrics={'train_runtime': 590.9663, 'train_samples_per_second': 4.061, 'train_steps_per_second': 0.254, 'total_flos': 1972415501721600.0, 'train_loss': 0.16571995134154954})"
            ]
          },
          "execution_count": 27,
          "metadata": {},
          "output_type": "execute_result"
        }
      ],
      "source": [
        "trainer.train()"
      ]
    },
    {
      "cell_type": "markdown",
      "metadata": {},
      "source": [
        "### Vizualize Training "
      ]
    },
    {
      "cell_type": "code",
      "execution_count": 28,
      "metadata": {},
      "outputs": [
        {
          "data": {
            "image/png": "[encoded data removed]",
            "text/plain": [
              "<Figure size 1000x600 with 1 Axes>"
            ]
          },
          "metadata": {},
          "output_type": "display_data"
        }
      ],
      "source": [
        "import matplotlib.pyplot as plt\n",
        "import numpy as np\n",
        "# After training is complete\n",
        "training_logs = trainer.state.log_history\n",
        "# Extract loss values\n",
        "train_losses = [log.get('loss') for log in training_logs if 'loss' in log]\n",
        "steps = list(range(len(train_losses)))\n",
        "# Plot the training loss\n",
        "plt.figure(figsize=(10, 6))\n",
        "plt.plot(steps, train_losses)\n",
        "plt.xlabel('Training Steps')\n",
        "plt.ylabel('Training Loss')\n",
        "plt.title('Training Loss over Time')\n",
        "plt.grid(True)\n",
        "plt.show()\n"
      ]
    },
    {
      "cell_type": "markdown",
      "metadata": {},
      "source": [
        "### Upload to HF"
      ]
    },
    {
      "cell_type": "code",
      "execution_count": 29,
      "metadata": {},
      "outputs": [
        {
          "data": {
            "application/vnd.jupyter.widget-view+json": {
              "model_id": "496591fb238444a0aeccd12f41a5ca5f",
              "version_major": 2,
              "version_minor": 0
            },
            "text/plain": [
              "VBox(children=(HTML(value='<center> <img\\nsrc=https://huggingface.co/front/assets/huggingface_logo-noborder.sv…"
            ]
          },
          "metadata": {},
          "output_type": "display_data"
        },
        {
          "data": {
            "application/vnd.jupyter.widget-view+json": {
              "model_id": "c648bf1869f44d62afa80a5ac9e27f6f",
              "version_major": 2,
              "version_minor": 0
            },
            "text/plain": [
              "README.md:   0%|          | 0.00/628 [00:00<?, ?B/s]"
            ]
          },
          "metadata": {},
          "output_type": "display_data"
        },
        {
          "data": {
            "application/vnd.jupyter.widget-view+json": {
              "model_id": "1c1ad4ea84fd462bb1690055063c4c97",
              "version_major": 2,
              "version_minor": 0
            },
            "text/plain": [
              "  0%|          | 0/1 [00:00<?, ?it/s]"
            ]
          },
          "metadata": {},
          "output_type": "display_data"
        },
        {
          "data": {
            "application/vnd.jupyter.widget-view+json": {
              "model_id": "2b6e4c3ced514c75aaf7bc5a7be1a499",
              "version_major": 2,
              "version_minor": 0
            },
            "text/plain": [
              "adapter_model.safetensors:   0%|          | 0.00/35.2M [00:00<?, ?B/s]"
            ]
          },
          "metadata": {},
          "output_type": "display_data"
        },
        {
          "name": "stdout",
          "output_type": "stream",
          "text": [
            "Saved model to https://huggingface.co/Eyas1/fine_tuned_codellama_java_docs\n"
          ]
        },
        {
          "data": {
            "application/vnd.jupyter.widget-view+json": {
              "model_id": "3dd985f8c49f4dceb65a0ea5fcc753cf",
              "version_major": 2,
              "version_minor": 0
            },
            "text/plain": [
              "README.md:   0%|          | 0.00/628 [00:00<?, ?B/s]"
            ]
          },
          "metadata": {},
          "output_type": "display_data"
        },
        {
          "data": {
            "application/vnd.jupyter.widget-view+json": {
              "model_id": "e58ee572bbba42189b87b3ec02f12afd",
              "version_major": 2,
              "version_minor": 0
            },
            "text/plain": [
              "  0%|          | 0/1 [00:00<?, ?it/s]"
            ]
          },
          "metadata": {},
          "output_type": "display_data"
        },
        {
          "data": {
            "application/vnd.jupyter.widget-view+json": {
              "model_id": "873d53288dfd4aaa9f4edf6aed3e349f",
              "version_major": 2,
              "version_minor": 0
            },
            "text/plain": [
              "tokenizer.model:   0%|          | 0.00/500k [00:00<?, ?B/s]"
            ]
          },
          "metadata": {},
          "output_type": "display_data"
        }
      ],
      "source": [
        "from huggingface_hub import login\n",
        "\n",
        "# Log in first (you only need to do this once)\n",
        "login()\n",
        "\n",
        "# Push model\n",
        "model2.push_to_hub(\"Eyas1/fine_tuned_codellama_java_docs\")\n",
        "tokenizer.push_to_hub(\"Eyas1/fine_tuned_codellama_java_docs\")\n"
      ]
    }
  ],
  "metadata": {
    "accelerator": "GPU",
    "colab": {
      "gpuType": "T4",
      "provenance": []
    },
    "kernelspec": {
      "display_name": "venv",
      "language": "python",
      "name": "python3"
    },
    "language_info": {
      "codemirror_mode": {
        "name": "ipython",
        "version": 3
      },
      "file_extension": ".py",
      "mimetype": "text/x-python",
      "name": "python",
      "nbconvert_exporter": "python",
      "pygments_lexer": "ipython3",
      "version": "3.12.3"
    }
  },
  "nbformat": 4,
  "nbformat_minor": 0
}
