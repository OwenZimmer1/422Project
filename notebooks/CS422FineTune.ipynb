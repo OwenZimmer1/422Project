{
  "cells": [
    {
      "cell_type": "markdown",
      "metadata": {
        "id": "76zQciorbHch"
      },
      "source": []
    },
    {
      "cell_type": "markdown",
      "metadata": {
        "id": "QF-sQeSgbJVh"
      },
      "source": [
        "# Time to Train my first LLM\n",
        "---\n",
        "\n"
      ]
    },
    {
      "cell_type": "markdown",
      "metadata": {
        "id": "whtcHhqbhImx"
      },
      "source": [
        "## Setup"
      ]
    },
    {
      "cell_type": "code",
      "execution_count": 20,
      "metadata": {
        "colab": {
          "base_uri": "https://localhost:8080/"
        },
        "collapsed": true,
        "id": "NEkmy0gGb2JB",
        "outputId": "411443bb-76c6-4ca4-a874-3c404bec914f"
      },
      "outputs": [],
      "source": [
        "# install unsloth and pandas\n",
        "#!pip install unsloth\n",
        "#!pip install pandas"
      ]
    },
    {
      "cell_type": "code",
      "execution_count": 21,
      "metadata": {},
      "outputs": [
        {
          "data": {
            "text/plain": [
              "True"
            ]
          },
          "execution_count": 21,
          "metadata": {},
          "output_type": "execute_result"
        }
      ],
      "source": [
        "# checking if I can use my gpu\n",
        "import torch\n",
        "torch.cuda.is_available()"
      ]
    },
    {
      "cell_type": "code",
      "execution_count": 22,
      "metadata": {
        "colab": {
          "base_uri": "https://localhost:8080/",
          "height": 350
        },
        "id": "JSJU-Z3TbPMS",
        "outputId": "c6b7b7fb-cbe9-41f3-c2ec-9a018e163e12"
      },
      "outputs": [],
      "source": [
        "# import the libs that our teacher told us to\n",
        "from unsloth import FastLanguageModel\n",
        "import torch"
      ]
    },
    {
      "cell_type": "code",
      "execution_count": 23,
      "metadata": {
        "id": "sAMZojRQdNNW"
      },
      "outputs": [],
      "source": [
        "# set the max number of tokens that can be passed in per chunk\n",
        "max_seq_length = 2048\n",
        "\n",
        "# let unsloth select our data type for us\n",
        "dtype = None\n",
        "\n",
        "# enable 4-bit quantization\n",
        "# less memory but slightly less accuracy its just some math stuff\n",
        "load_in_4bit = True"
      ]
    },
    {
      "cell_type": "code",
      "execution_count": 24,
      "metadata": {
        "id": "yN30xJLzhEPw"
      },
      "outputs": [],
      "source": [
        "#from google.colab import drive\n",
        "#drive.mount('/content/drive')"
      ]
    },
    {
      "cell_type": "code",
      "execution_count": 25,
      "metadata": {
        "id": "kjDYDV3rhY2u"
      },
      "outputs": [],
      "source": [
        "# find path to my data\n",
        "#!ls 'drive/MyDrive/intro to AI/Notebooks'"
      ]
    },
    {
      "cell_type": "code",
      "execution_count": 26,
      "metadata": {
        "id": "P9sgyIWsieVa"
      },
      "outputs": [],
      "source": [
        "import json\n",
        "import pandas as pd\n",
        "from datasets import Dataset\n",
        "\n",
        "# connect to our data path\n",
        "#dataPath = 'drive/MyDrive/intro to AI/Notebooks/allMethodsCombined.json'\n",
        "\n",
        "dataPath = '../data/allMethodsCombined.json'\n",
        "\n",
        "# load and convert to DataFrame\n",
        "with open(dataPath, 'r') as f:\n",
        "    data = json.load(f)\n",
        "\n",
        "df = pd.DataFrame(data)  # <- make it a DataFrame\n",
        "\n",
        "# save the DataFrame to CSV\n",
        "df.to_csv('allMethodsCombined.csv', index=False)\n",
        "\n",
        "# convert to a hf dataset\n",
        "dataset = Dataset.from_pandas(df)\n"
      ]
    },
    {
      "cell_type": "code",
      "execution_count": 27,
      "metadata": {
        "id": "C1WC2E9DwZHG"
      },
      "outputs": [],
      "source": [
        "# make a 2 col dataset\n",
        "df2col = df[['code', 'javadoc']]\n",
        "\n",
        "dataset2col = Dataset.from_pandas(df)\n"
      ]
    },
    {
      "cell_type": "code",
      "execution_count": 28,
      "metadata": {},
      "outputs": [
        {
          "data": {
            "text/html": [
              "<div>\n",
              "<style scoped>\n",
              "    .dataframe tbody tr th:only-of-type {\n",
              "        vertical-align: middle;\n",
              "    }\n",
              "\n",
              "    .dataframe tbody tr th {\n",
              "        vertical-align: top;\n",
              "    }\n",
              "\n",
              "    .dataframe thead th {\n",
              "        text-align: right;\n",
              "    }\n",
              "</style>\n",
              "<table border=\"1\" class=\"dataframe\">\n",
              "  <thead>\n",
              "    <tr style=\"text-align: right;\">\n",
              "      <th></th>\n",
              "      <th>code</th>\n",
              "      <th>javadoc</th>\n",
              "    </tr>\n",
              "  </thead>\n",
              "  <tbody>\n",
              "    <tr>\n",
              "      <th>0</th>\n",
              "      <td>public Point getLoc(){return location;}</td>\n",
              "      <td>/*** Gets the location.\\n*\\n* @return the curr...</td>\n",
              "    </tr>\n",
              "    <tr>\n",
              "      <th>1</th>\n",
              "      <td>public void draw(Graphics g){\\ng.setColor(colo...</td>\n",
              "      <td>/*** Draws the ball, and if non-active also dr...</td>\n",
              "    </tr>\n",
              "    <tr>\n",
              "      <th>2</th>\n",
              "      <td>public boolean isDone(){\\nreturn finishedInstr...</td>\n",
              "      <td>/*** Checks if the process is completed.\\n* @r...</td>\n",
              "    </tr>\n",
              "    <tr>\n",
              "      <th>3</th>\n",
              "      <td>public void performInstruction(){\\nif (!isDone...</td>\n",
              "      <td>/**Perform a single instruction of the process...</td>\n",
              "    </tr>\n",
              "  </tbody>\n",
              "</table>\n",
              "</div>"
            ],
            "text/plain": [
              "                                                code  \\\n",
              "0            public Point getLoc(){return location;}   \n",
              "1  public void draw(Graphics g){\\ng.setColor(colo...   \n",
              "2  public boolean isDone(){\\nreturn finishedInstr...   \n",
              "3  public void performInstruction(){\\nif (!isDone...   \n",
              "\n",
              "                                             javadoc  \n",
              "0  /*** Gets the location.\\n*\\n* @return the curr...  \n",
              "1  /*** Draws the ball, and if non-active also dr...  \n",
              "2  /*** Checks if the process is completed.\\n* @r...  \n",
              "3  /**Perform a single instruction of the process...  "
            ]
          },
          "execution_count": 28,
          "metadata": {},
          "output_type": "execute_result"
        }
      ],
      "source": [
        "df2col.head(4)"
      ]
    },
    {
      "cell_type": "markdown",
      "metadata": {
        "id": "3mpQy4NChZ16"
      },
      "source": [
        "## Model Selections:\n",
        "- Qwen 2.5 coder (0.5b)\n",
        "- Codellama (7b)\n",
        "- Wizardcoder (33b)\n"
      ]
    },
    {
      "cell_type": "code",
      "execution_count": 29,
      "metadata": {
        "id": "X5uiGnIVhZHk"
      },
      "outputs": [],
      "source": [
        "# models from hugging face\n",
        "model1 = 'Qwen/Qwen2.5-Coder-0.5B-Instruct'\n",
        "model2 = 'WizardLMTeam/WizardCoder-33B-V1.1'\n",
        "model3 = 'codellama/CodeLlama-7b-hf'\n"
      ]
    },
    {
      "cell_type": "markdown",
      "metadata": {
        "id": "p51DvfaXkeSq"
      },
      "source": [
        "## Fine tuning Qwen 2.5 Coder (0.5B)"
      ]
    },
    {
      "cell_type": "markdown",
      "metadata": {
        "id": "1HxbfYQlgywk"
      },
      "source": [
        "### Setting up model"
      ]
    },
    {
      "cell_type": "code",
      "execution_count": 30,
      "metadata": {
        "collapsed": true,
        "id": "HK_P7-ZbhONc"
      },
      "outputs": [
        {
          "name": "stdout",
          "output_type": "stream",
          "text": [
            "==((====))==  Unsloth 2025.4.3: Fast Qwen2 patching. Transformers: 4.51.3.\n",
            "   \\\\   /|    NVIDIA GeForce RTX 3080 Ti. Num GPUs = 1. Max memory: 12.0 GB. Platform: Windows.\n",
            "O^O/ \\_/ \\    Torch: 2.7.0+cu118. CUDA: 8.6. CUDA Toolkit: 11.8. Triton: 3.3.0\n",
            "\\        /    Bfloat16 = TRUE. FA [Xformers = None. FA2 = False]\n",
            " \"-____-\"     Free license: http://github.com/unslothai/unsloth\n",
            "Unsloth: Fast downloading is enabled - ignore downloading bars which are red colored!\n"
          ]
        }
      ],
      "source": [
        "model, tokenizer = FastLanguageModel.from_pretrained(\n",
        "    # qwen coder 0.5b\n",
        "    model_name= model1,\n",
        "    max_seq_length=max_seq_length,\n",
        "    dtype = dtype,\n",
        "    # give each model 4bit quantization or however you spell it\n",
        "    load_in_4bit= True\n",
        ")"
      ]
    },
    {
      "cell_type": "markdown",
      "metadata": {
        "id": "-bDBWIGMg6GR"
      },
      "source": [
        "### Establish How the model will learn"
      ]
    },
    {
      "cell_type": "code",
      "execution_count": 31,
      "metadata": {
        "id": "TAvzN-TYlVR0"
      },
      "outputs": [],
      "source": [
        "model = FastLanguageModel.get_peft_model(\n",
        "    model,\n",
        "    r = 16,\n",
        "    target_modules = [\"q_proj\",\"k_proj\",\"v_proj\",\"o_proj\",\n",
        "                    \"gate_proj\",\"up_proj\",\"down_proj\",],\n",
        "    lora_alpha = 16,\n",
        "    lora_dropout = 0,\n",
        "    bias = \"none\",\n",
        "    use_gradient_checkpointing = \"unsloth\",\n",
        "    random_state = 3407,\n",
        "    use_rslora = False,\n",
        "    loftq_config = None,\n",
        ")"
      ]
    },
    {
      "cell_type": "markdown",
      "metadata": {},
      "source": [
        "### Create a prompt for our dataset "
      ]
    },
    {
      "cell_type": "code",
      "execution_count": 32,
      "metadata": {},
      "outputs": [],
      "source": [
        "from langchain.prompts import PromptTemplate\n",
        "\n",
        "oneShotReason = PromptTemplate(\n",
        "    input_variables=[\"method_code\"],\n",
        "    template='''\\\n",
        "You are a Java expert. Given a method, write a clear and professional Javadoc comment **first**, followed by a simple, high-school-level explanation of what the method does.\n",
        "\n",
        "\n",
        "Example:\n",
        "Method:\n",
        "public String reverseProcessed(String text) {{\n",
        "    if (text == null) return null;\n",
        "    String cleaned = text.trim().toLowerCase();\n",
        "    return new StringBuilder(cleaned).reverse().toString();\n",
        "}}\n",
        "\n",
        "Reasoning:\n",
        "Checks for null, trims and lowercases the input, then reverses it.\n",
        "\n",
        "Expected Output:\n",
        "/**\n",
        " * Reverses the characters in the given string after trimming whitespace and converting to lowercase.\n",
        " *\n",
        " * @param text the input string to process\n",
        " * @return the reversed, lowercase, trimmed string\n",
        " */\n",
        "\n",
        "Now analyze and write a Javadoc for the following method:\n",
        "{method_code}\n",
        "'''\n",
        ")\n"
      ]
    },
    {
      "cell_type": "code",
      "execution_count": 33,
      "metadata": {},
      "outputs": [],
      "source": [
        "from langchain import PromptTemplate\n",
        "\n",
        "oneShot = PromptTemplate(\n",
        "    input_variables=[\"method_code\"],\n",
        "    template='''\\\n",
        "Write a professional Javadoc comment for the following Java method. Only tell me the javadoc, **do not return any code.** \n",
        "\n",
        "Example 1:\n",
        "Method:\n",
        "public String reverseProcessed(String text) {{\n",
        "    if (text == null) return null;\n",
        "    String cleaned = text.trim().toLowerCase();\n",
        "    return new StringBuilder(cleaned).reverse().toString();\n",
        "}}\n",
        "\n",
        "Javadoc:\n",
        "/**\n",
        " * Reverses the characters in the given string after trimming whitespace and converting to lowercase.\n",
        " *\n",
        " * @param text the input string to process\n",
        " * @return the reversed, lowercase, trimmed string\n",
        " */\n",
        "\n",
        "Example 2:\n",
        "Method:\n",
        "private int add(int a, int b) {{\n",
        "    return a + b;\n",
        "}}\n",
        "\n",
        "Javadoc:\n",
        "/**\n",
        " * Adds two integers.\n",
        " *\n",
        " * @param a the first integer\n",
        " * @param b the second integer\n",
        " * @return the sum of the two integers\n",
        " */\n",
        "\n",
        "Now write a Javadoc comment for this method:\n",
        "Method:\n",
        "{method_code}\n",
        "\n",
        "Javadoc:\n",
        "'''\n",
        ")"
      ]
    },
    {
      "cell_type": "code",
      "execution_count": 34,
      "metadata": {},
      "outputs": [
        {
          "data": {
            "application/vnd.jupyter.widget-view+json": {
              "model_id": "044e139a52294875980e2c82f548bf42",
              "version_major": 2,
              "version_minor": 0
            },
            "text/plain": [
              "Map:   0%|          | 0/161 [00:00<?, ? examples/s]"
            ]
          },
          "metadata": {},
          "output_type": "display_data"
        }
      ],
      "source": [
        "# add promt to the dataset\n",
        "def format_with_prompt(example):\n",
        "    return {\"codeWithPrompt\": oneShot.format(method_code=example[\"code\"])}\n",
        "\n",
        "finalDataset = dataset2col.map(format_with_prompt)\n"
      ]
    },
    {
      "cell_type": "code",
      "execution_count": 39,
      "metadata": {},
      "outputs": [
        {
          "data": {
            "text/html": [
              "<div>\n",
              "<style scoped>\n",
              "    .dataframe tbody tr th:only-of-type {\n",
              "        vertical-align: middle;\n",
              "    }\n",
              "\n",
              "    .dataframe tbody tr th {\n",
              "        vertical-align: top;\n",
              "    }\n",
              "\n",
              "    .dataframe thead th {\n",
              "        text-align: right;\n",
              "    }\n",
              "</style>\n",
              "<table border=\"1\" class=\"dataframe\">\n",
              "  <thead>\n",
              "    <tr style=\"text-align: right;\">\n",
              "      <th></th>\n",
              "      <th>javadoc</th>\n",
              "      <th>code</th>\n",
              "      <th>method_name</th>\n",
              "      <th>parameters</th>\n",
              "      <th>return_type</th>\n",
              "      <th>return_variable</th>\n",
              "      <th>called_methods</th>\n",
              "      <th>local_variables</th>\n",
              "      <th>thrown_exceptions</th>\n",
              "      <th>codeWithPrompt</th>\n",
              "    </tr>\n",
              "  </thead>\n",
              "  <tbody>\n",
              "    <tr>\n",
              "      <th>0</th>\n",
              "      <td>/*** Gets the location.\\n*\\n* @return the current location\\n*/</td>\n",
              "      <td>public Point getLoc(){return location;}</td>\n",
              "      <td>getLoc</td>\n",
              "      <td></td>\n",
              "      <td>Point</td>\n",
              "      <td>location</td>\n",
              "      <td>[]</td>\n",
              "      <td>[location]</td>\n",
              "      <td>[]</td>\n",
              "      <td>Write a professional Javadoc comment for the following Java method. Only tell me the javadoc, **do not return any code.** \\n\\nExample 1:\\nMethod:\\npublic String reverseProcessed(String text) {\\n    if (text == null) return null;\\n    String cleaned = text.trim().toLowerCase();\\n    return new StringBuilder(cleaned).reverse().toString();\\n}\\n\\nJavadoc:\\n/**\\n * Reverses the characters in the given string after trimming whitespace and converting to lowercase.\\n *\\n * @param text the input string to process\\n * @return the reversed, lowercase, trimmed string\\n */\\n\\nExample 2:\\nMethod:\\nprivate int add(int a, int b) {\\n    return a + b;\\n}\\n\\nJavadoc:\\n/**\\n * Adds two integers.\\n *\\n * @param a the first integer\\n * @param b the second integer\\n * @return the sum of the two integers\\n */\\n\\nNow write a Javadoc comment for this method:\\nMethod:\\npublic Point getLoc(){return location;}\\n\\nJavadoc:\\n</td>\n",
              "    </tr>\n",
              "  </tbody>\n",
              "</table>\n",
              "</div>"
            ],
            "text/plain": [
              "                                                          javadoc  \\\n",
              "0  /*** Gets the location.\\n*\\n* @return the current location\\n*/   \n",
              "\n",
              "                                      code method_name parameters return_type  \\\n",
              "0  public Point getLoc(){return location;}      getLoc                  Point   \n",
              "\n",
              "  return_variable called_methods local_variables thrown_exceptions  \\\n",
              "0        location             []      [location]                []   \n",
              "\n",
              "                                                                                                                                                                                                                                                                                                                                                                                                                                                                                                                                                                                                                                                                                                                                                                                                                                                                                                                                 codeWithPrompt  \n",
              "0  Write a professional Javadoc comment for the following Java method. Only tell me the javadoc, **do not return any code.** \\n\\nExample 1:\\nMethod:\\npublic String reverseProcessed(String text) {\\n    if (text == null) return null;\\n    String cleaned = text.trim().toLowerCase();\\n    return new StringBuilder(cleaned).reverse().toString();\\n}\\n\\nJavadoc:\\n/**\\n * Reverses the characters in the given string after trimming whitespace and converting to lowercase.\\n *\\n * @param text the input string to process\\n * @return the reversed, lowercase, trimmed string\\n */\\n\\nExample 2:\\nMethod:\\nprivate int add(int a, int b) {\\n    return a + b;\\n}\\n\\nJavadoc:\\n/**\\n * Adds two integers.\\n *\\n * @param a the first integer\\n * @param b the second integer\\n * @return the sum of the two integers\\n */\\n\\nNow write a Javadoc comment for this method:\\nMethod:\\npublic Point getLoc(){return location;}\\n\\nJavadoc:\\n  "
            ]
          },
          "execution_count": 39,
          "metadata": {},
          "output_type": "execute_result"
        }
      ],
      "source": [
        "import pandas as pd\n",
        "pd.set_option('display.max_colwidth', None)\n",
        "\n",
        "finalDataset.select(range(1)).to_pandas()\n"
      ]
    },
    {
      "cell_type": "markdown",
      "metadata": {
        "id": "2dZVBkCSyido"
      },
      "source": [
        "### Start Training (Can be changed)"
      ]
    },
    {
      "cell_type": "code",
      "execution_count": 18,
      "metadata": {},
      "outputs": [],
      "source": [
        "#add formatting func for some reason\n",
        "def formatting_func(example):\n",
        "    return example[\"codeWithPrompt\"]\n"
      ]
    },
    {
      "cell_type": "code",
      "execution_count": 18,
      "metadata": {
        "id": "wwXLnYTgtGD8"
      },
      "outputs": [
        {
          "data": {
            "application/vnd.jupyter.widget-view+json": {
              "model_id": "cb5d7d383fdb47b9a3e1c98a57d3f0e7",
              "version_major": 2,
              "version_minor": 0
            },
            "text/plain": [
              "Unsloth: Tokenizing [\"codeWithPrompt\"]:   0%|          | 0/161 [00:00<?, ? examples/s]"
            ]
          },
          "metadata": {},
          "output_type": "display_data"
        }
      ],
      "source": [
        "from trl import SFTTrainer\n",
        "from transformers import TrainingArguments\n",
        "\n",
        "trainer = SFTTrainer(\n",
        "    model=model,\n",
        "    tokenizer=tokenizer,\n",
        "    train_dataset=finalDataset,\n",
        "    dataset_text_field=\"codeWithPrompt\",\n",
        "    formatting_func=formatting_func,\n",
        "    args=TrainingArguments(\n",
        "        per_device_train_batch_size=2,\n",
        "        num_train_epochs=2,\n",
        "        learning_rate=2e-4,\n",
        "        report_to=\"none\",\n",
        "    ),\n",
        "    dataset_num_proc=1,\n",
        ")\n",
        "\n"
      ]
    },
    {
      "cell_type": "code",
      "execution_count": 19,
      "metadata": {
        "id": "r5-rPKB4wINt"
      },
      "outputs": [
        {
          "name": "stderr",
          "output_type": "stream",
          "text": [
            "==((====))==  Unsloth - 2x faster free finetuning | Num GPUs used = 1\n",
            "   \\\\   /|    Num examples = 161 | Num Epochs = 2 | Total steps = 162\n",
            "O^O/ \\_/ \\    Batch size per device = 2 | Gradient accumulation steps = 1\n",
            "\\        /    Data Parallel GPUs = 1 | Total batch size (2 x 1 x 1) = 2\n",
            " \"-____-\"     Trainable parameters = 8,798,208/5,000,000,000 (0.18% trained)\n"
          ]
        },
        {
          "data": {
            "text/html": [
              "\n",
              "    <div>\n",
              "      \n",
              "      <progress value='162' max='162' style='width:300px; height:20px; vertical-align: middle;'></progress>\n",
              "      [162/162 00:45, Epoch 2/2]\n",
              "    </div>\n",
              "    <table border=\"1\" class=\"dataframe\">\n",
              "  <thead>\n",
              " <tr style=\"text-align: left;\">\n",
              "      <th>Step</th>\n",
              "      <th>Training Loss</th>\n",
              "    </tr>\n",
              "  </thead>\n",
              "  <tbody>\n",
              "  </tbody>\n",
              "</table><p>"
            ],
            "text/plain": [
              "<IPython.core.display.HTML object>"
            ]
          },
          "metadata": {},
          "output_type": "display_data"
        },
        {
          "data": {
            "text/plain": [
              "TrainOutput(global_step=162, training_loss=0.002400798378167329, metrics={'train_runtime': 46.2593, 'train_samples_per_second': 6.961, 'train_steps_per_second': 3.502, 'total_flos': 211089470000640.0, 'train_loss': 0.002400798378167329})"
            ]
          },
          "execution_count": 19,
          "metadata": {},
          "output_type": "execute_result"
        }
      ],
      "source": [
        "trainer.train()\n"
      ]
    },
    {
      "cell_type": "markdown",
      "metadata": {
        "id": "B5CAdPnq6n4L"
      },
      "source": [
        "## Upload to Hugging Face"
      ]
    },
    {
      "cell_type": "code",
      "execution_count": 20,
      "metadata": {
        "id": "oj-2l4W96rMl"
      },
      "outputs": [
        {
          "data": {
            "application/vnd.jupyter.widget-view+json": {
              "model_id": "0fc05ffc26de4ab3aec3b56f2837c39a",
              "version_major": 2,
              "version_minor": 0
            },
            "text/plain": [
              "VBox(children=(HTML(value='<center> <img\\nsrc=https://huggingface.co/front/assets/huggingface_logo-noborder.sv…"
            ]
          },
          "metadata": {},
          "output_type": "display_data"
        },
        {
          "data": {
            "application/vnd.jupyter.widget-view+json": {
              "model_id": "3b4ced4d2df948d7a43eb5785c206b5e",
              "version_major": 2,
              "version_minor": 0
            },
            "text/plain": [
              "  0%|          | 0/1 [00:00<?, ?it/s]"
            ]
          },
          "metadata": {},
          "output_type": "display_data"
        },
        {
          "data": {
            "application/vnd.jupyter.widget-view+json": {
              "model_id": "7d5a6c63fa7e4cee838c7592b520c2d3",
              "version_major": 2,
              "version_minor": 0
            },
            "text/plain": [
              "adapter_model.safetensors:   0%|          | 0.00/35.2M [00:00<?, ?B/s]"
            ]
          },
          "metadata": {},
          "output_type": "display_data"
        },
        {
          "name": "stdout",
          "output_type": "stream",
          "text": [
            "Saved model to https://huggingface.co/Eyas1/fine_tuned_qwen_java_docs\n"
          ]
        },
        {
          "data": {
            "application/vnd.jupyter.widget-view+json": {
              "model_id": "38a7bec4975f4af9b34efb5a60b7d94d",
              "version_major": 2,
              "version_minor": 0
            },
            "text/plain": [
              "README.md:   0%|          | 0.00/628 [00:00<?, ?B/s]"
            ]
          },
          "metadata": {},
          "output_type": "display_data"
        },
        {
          "name": "stderr",
          "output_type": "stream",
          "text": [
            "No files have been modified since last commit. Skipping to prevent empty commit.\n"
          ]
        }
      ],
      "source": [
        "from huggingface_hub import login\n",
        "\n",
        "# Log in first (you only need to do this once)\n",
        "login()\n",
        "\n",
        "# Push model\n",
        "model.push_to_hub(\"Eyas1/fine_tuned_qwen_java_docs\")\n",
        "tokenizer.push_to_hub(\"Eyas1/fine_tuned_qwen_java_docs\")\n"
      ]
    }
  ],
  "metadata": {
    "accelerator": "GPU",
    "colab": {
      "gpuType": "T4",
      "provenance": []
    },
    "kernelspec": {
      "display_name": "venv",
      "language": "python",
      "name": "python3"
    },
    "language_info": {
      "codemirror_mode": {
        "name": "ipython",
        "version": 3
      },
      "file_extension": ".py",
      "mimetype": "text/x-python",
      "name": "python",
      "nbconvert_exporter": "python",
      "pygments_lexer": "ipython3",
      "version": "3.12.3"
    }
  },
  "nbformat": 4,
  "nbformat_minor": 0
}
