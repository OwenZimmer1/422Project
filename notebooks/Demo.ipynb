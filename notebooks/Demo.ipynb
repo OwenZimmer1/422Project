{
 "cells": [
  {
   "cell_type": "markdown",
   "id": "8245eb39",
   "metadata": {},
   "source": [
    "# Demo\n",
    "This was my process of selecting a scoring method to determine which model evaluates our code "
   ]
  },
  {
   "cell_type": "markdown",
   "id": "f5c60e39",
   "metadata": {},
   "source": [
    "## Setup stuff"
   ]
  },
  {
   "cell_type": "code",
   "execution_count": 1,
   "id": "a1a54375",
   "metadata": {},
   "outputs": [],
   "source": [
    "import langchain\n",
    "import ollama"
   ]
  },
  {
   "cell_type": "code",
   "execution_count": 74,
   "id": "d5a601da",
   "metadata": {},
   "outputs": [],
   "source": [
    "# establish models \n",
    "qwenSmall = 'qwen2.5-coder:0.5b'\n",
    "wizCoder = 'wizardcoder:33b'\n"
   ]
  },
  {
   "cell_type": "code",
   "execution_count": 70,
   "id": "b905dd9b",
   "metadata": {},
   "outputs": [],
   "source": [
    "from langchain.prompts import PromptTemplate\n",
    "\n",
    "oneShot = PromptTemplate(\n",
    "    input_variables=[\"method_code\"],\n",
    "    template='''\\\n",
    "You are a java expert. Write a professional Javadoc comment for the following Java method. Be concise but informative.\n",
    "\n",
    "Example:\n",
    "Method:\n",
    "public String reverseProcessed(String text) {{\n",
    "    if (text == null) return null;\n",
    "    String cleaned = text.trim().toLowerCase();\n",
    "    return new StringBuilder(cleaned).reverse().toString();\n",
    "}}\n",
    "\n",
    "Expected Output:\n",
    "/**\n",
    " * Reverses the characters in the given string after trimming whitespace and converting to lowercase.\n",
    " *\n",
    " * @param text the input string to process\n",
    " * @return the reversed, lowercase, trimmed string\n",
    " */\n",
    "\n",
    "make sure to only include the java doc comment, and not the method itself.\n",
    "now write a expertly written javadoc comment for this method:\n",
    "{method_code}\n",
    "'''\n",
    ")\n"
   ]
  },
  {
   "cell_type": "markdown",
   "id": "034f8417",
   "metadata": {},
   "source": [
    "# Test methods"
   ]
  },
  {
   "cell_type": "code",
   "execution_count": 11,
   "id": "49bd95f8",
   "metadata": {},
   "outputs": [],
   "source": [
    "longMethod = \"\"\"private Node doRemove(Node r, String s, Node before, boolean removeOnce, Integer val) {\n",
    "\t\tif(r == null) {\n",
    "\t\t\tlastRemoved = null;\n",
    "\t\t\treturn null;\n",
    "\t\t}\n",
    "\t\tint c = s.compareTo(r.string);\n",
    "\t\tif(c < 0) r.left = doRemove(r.left, s, before, removeOnce, val);\n",
    "\t\telse if(c > 0) r.right = doRemove(r.right, s, r, removeOnce, val);\n",
    "\t\telse {\n",
    "\t\t\tif(val != null && val != r.count) return r;\n",
    "\t\t\tlastRemoved = r.count;\n",
    "\t\t\tif(removeOnce && r.count > 1) {\n",
    "\t\t\t\tr.count--;\n",
    "\t\t\t\treturn r;\n",
    "\t\t\t}\n",
    "\t\t\tif(before.next != r) {\n",
    "\t\t\t\tbefore = r.left;\n",
    "\t\t\t\twhile(before.right != null) before = before.right;\n",
    "\t\t\t}\n",
    "\t\t\tversion++;\n",
    "\t\t\tnumEntries--;\n",
    "\t\t\tif(r.left == null) {\n",
    "\t\t\t\tbefore.next = r.next;\n",
    "\t\t\t\treturn r.right;\n",
    "\t\t\t}\n",
    "\t\t\tif(r.right == null) {\n",
    "\t\t\t\tbefore.next = r.next;\n",
    "\t\t\t\treturn r.left;\n",
    "\t\t\t}\n",
    "\t\t\t\n",
    "\t\t\tNode successor = r.right;\n",
    "\t\t\tNode prev = r;\n",
    "\t\t\twhile(successor.left != null) {\n",
    "\t\t\t\tprev = successor;\n",
    "\t\t\t\tsuccessor = successor.left;\n",
    "\t\t\t}\n",
    "\t\t\tr.string = successor.string;\n",
    "\t\t\tr.count = successor.count;\n",
    "\t\t\t\n",
    "\t\t\tif(prev.left == successor) prev.left = successor.right;\n",
    "\t\t\telse prev.right = successor.right;\n",
    "\t\t\t\n",
    "\t\t\tr.next = successor.next;\n",
    "\n",
    "\n",
    "\t\t}\n",
    "\t\treturn r;\n",
    "\"\"\""
   ]
  },
  {
   "cell_type": "code",
   "execution_count": 59,
   "id": "e94db7e5",
   "metadata": {},
   "outputs": [],
   "source": [
    "longmethod2 = '''\n",
    "public BallSeq clone( )\n",
    "    {{\n",
    "        assert wellFormed() : \"invariant wrong at start of clone()\";\n",
    "\n",
    "        BallSeq result;\n",
    "\n",
    "        try\n",
    "        {{\n",
    "            result = (BallSeq) super.clone( );\n",
    "        }}\n",
    "        catch (CloneNotSupportedException e)\n",
    "        {{\n",
    "            // This exception should not occur. But if it does, it would probably\n",
    "            // indicate a programming error that made super.clone unavailable.\n",
    "            // The most common error would be forgetting the \"Implements Cloneable\"\n",
    "            // clause at the start of this class.\n",
    "            throw new RuntimeException\n",
    "            (\"This class does not implement Cloneable\");\n",
    "        }}\n",
    "        // This is inspired by the textbook for this class, page 203\n",
    "        if(result.head == null) return result;\n",
    "\n",
    "        Node source = result.head;\n",
    "        Node copyHead = new Node(source.data, null);\n",
    "        Node copyTail = copyHead;\n",
    "\n",
    "        while(source.next != null) {{\n",
    "            if(source == cursor) result.cursor = copyTail;\n",
    "            if(source == precursor) result.precursor = copyTail;\n",
    "            if(source == tail) result.tail = source;\n",
    "            source = source.next;\n",
    "            copyTail.next = new Node(source.data, null);\n",
    "            copyTail = copyTail.next;\n",
    "        }}\n",
    "        result.head = copyHead;\n",
    "        if(source == cursor) result.cursor = copyTail;\n",
    "        if(source == tail) result.tail = copyTail;\n",
    "\n",
    "        // TODO: Implemented by student.\n",
    "        // Now do the hard work of cloning the list.\n",
    "        // See pp 200-204, 235 (3rd ed. pp. 193-197, 228)\n",
    "        // Setting precursor, cursor and tail correctly is tricky.\n",
    "\n",
    "\n",
    "        assert wellFormed() : \"invariant wrong at end of clone() for this\";\n",
    "        assert result.wellFormed() : \"invariant wrong for result of clone() for copy\";\n",
    "        return result;\n",
    "    }}\n",
    "'''"
   ]
  },
  {
   "cell_type": "code",
   "execution_count": 79,
   "id": "41cbeecb",
   "metadata": {},
   "outputs": [],
   "source": [
    "shortMethod = \"\"\"\n",
    "    private void connect(HexPiece p) {\n",
    "HexCoordinate h = p.getLocation();\n",
    "for (HexDirection d : HexDirection.values()) {\n",
    "HexCoordinate h2 = d.move(h);\n",
    "HexPiece p2 = findPiece(h2);\n",
    "if (p2 != null) {\n",
    "p.neighbors[d.ordinal()] = p2;\n",
    "p2.neighbors[d.reverse().ordinal()] = p;\n",
    "}\n",
    "}\n",
    "}\n",
    " \"\"\""
   ]
  },
  {
   "cell_type": "markdown",
   "id": "e01ee43b",
   "metadata": {},
   "source": [
    "# Score Based System"
   ]
  },
  {
   "cell_type": "code",
   "execution_count": 7,
   "id": "46b8a526",
   "metadata": {},
   "outputs": [],
   "source": [
    "def score_method_complexity(method_code):\n",
    "    lines = method_code.strip().splitlines()\n",
    "    score = 0\n",
    "\n",
    "    # Base score: length of method\n",
    "    if len(lines) > 20:\n",
    "        score += 2\n",
    "    elif len(lines) > 10:\n",
    "        score += 1\n",
    "\n",
    "    # Keywords that indicate control flow or complexity\n",
    "    keywords = [\"for\", \"while\", \"if\", \"else\", \"switch\", \"case\", \"try\", \"catch\", \"finally\", \"return\"]\n",
    "    score += sum(1 for line in lines for kw in keywords if kw in line)\n",
    "\n",
    "    # Additional indicators of advanced logic\n",
    "    if \"clone\" in method_code or \"recursion\" in method_code.lower():\n",
    "        score += 2\n",
    "    if \"assert\" in method_code:\n",
    "        score += 1\n",
    "    if \"TODO\" in method_code or \"textbook\" in method_code.lower():\n",
    "        score += 1\n",
    "\n",
    "    # Thresholds\n",
    "    if score >= 8:\n",
    "        return \"super_difficult\", score\n",
    "    elif score >= 4:\n",
    "        return \"complex\", score\n",
    "    else:\n",
    "        return \"simple\", score\n"
   ]
  },
  {
   "cell_type": "markdown",
   "id": "e6e97e4e",
   "metadata": {},
   "source": [
    "## Testing Scoring System "
   ]
  },
  {
   "cell_type": "code",
   "execution_count": 14,
   "id": "84a1334b",
   "metadata": {},
   "outputs": [
    {
     "data": {
      "text/plain": [
       "('super_difficult', 29)"
      ]
     },
     "execution_count": 14,
     "metadata": {},
     "output_type": "execute_result"
    }
   ],
   "source": [
    "score_method_complexity(longMethod)"
   ]
  },
  {
   "cell_type": "code",
   "execution_count": 15,
   "id": "e3f65338",
   "metadata": {},
   "outputs": [
    {
     "data": {
      "text/plain": [
       "('simple', 3)"
      ]
     },
     "execution_count": 15,
     "metadata": {},
     "output_type": "execute_result"
    }
   ],
   "source": [
    "score_method_complexity(shortMethod)"
   ]
  },
  {
   "cell_type": "markdown",
   "id": "078d5406",
   "metadata": {},
   "source": [
    "# LLM Based Approach "
   ]
  },
  {
   "cell_type": "code",
   "execution_count": 37,
   "id": "3ef41904",
   "metadata": {},
   "outputs": [],
   "source": [
    "from langchain.prompts import PromptTemplate\n",
    "\n",
    "routePrompt = PromptTemplate(input_variables=[\"method_code\"],\n",
    "    template='''\n",
    "    You are a helpful assistant that helps to determine the complexity of a method.\n",
    "    You are given a method and you need to determine if it is simple, complex or super difficult.\n",
    "    A method is considered simple if it has a low number of lines and control flow statements.\n",
    "    A method is considered complex if it has a moderate number of lines and control flow statements.\n",
    "    A method is considered super difficult if it has a high number of lines and control flow statements.\n",
    "\n",
    "\n",
    "    you are only allowed to respond in one word simple, complex or super_difficult.\n",
    "    You are given the following method:\n",
    "    {method_code}\n",
    "    '''\n",
    ")"
   ]
  },
  {
   "cell_type": "markdown",
   "id": "bf2fb574",
   "metadata": {},
   "source": [
    "## testing outputs"
   ]
  },
  {
   "cell_type": "code",
   "execution_count": 38,
   "id": "c842e491",
   "metadata": {},
   "outputs": [
    {
     "name": "stdout",
     "output_type": "stream",
     "text": [
      "simple\n"
     ]
    }
   ],
   "source": [
    "from ollama import chat\n",
    "response = chat(model=qwenSmall, messages=[{'role': 'user', 'content': routePrompt.format(method_code=shortMethod)}])\n",
    "print(response['message']['content'])"
   ]
  },
  {
   "cell_type": "code",
   "execution_count": 43,
   "id": "4f8f4013",
   "metadata": {},
   "outputs": [
    {
     "name": "stdout",
     "output_type": "stream",
     "text": [
      "simple\n"
     ]
    }
   ],
   "source": [
    "from ollama import chat\n",
    "response = chat(model=qwenSmall, messages=[{'role': 'user', 'content': routePrompt.format(method_code=longMethod)}])\n",
    "print(response['message']['content'])"
   ]
  },
  {
   "cell_type": "markdown",
   "id": "d33fbe4e",
   "metadata": {},
   "source": [
    "# Some library that I found online that does exactly what im looking for I love python \n",
    "this library looks at how many outcomes our code can take the more outcomes the higher the score "
   ]
  },
  {
   "cell_type": "code",
   "execution_count": null,
   "id": "54c55bff",
   "metadata": {},
   "outputs": [],
   "source": [
    "# gets the cyclomatic complexity of a method\n",
    "import lizard\n",
    "\n",
    "def get_java_method_complexity(method_string):\n",
    "    wrapped = f\" {{\\n{method_string}\\n}}\"\n",
    "    results = lizard.analyze_file.analyze_source_code(\"Dummy.java\", wrapped)\n",
    "    complexity = results.function_list[0].cyclomatic_complexity\n",
    "    return complexity"
   ]
  },
  {
   "cell_type": "markdown",
   "id": "b5579e08",
   "metadata": {},
   "source": [
    "## Testing"
   ]
  },
  {
   "cell_type": "code",
   "execution_count": 69,
   "id": "2753ebbc",
   "metadata": {},
   "outputs": [
    {
     "data": {
      "text/plain": [
       "14"
      ]
     },
     "execution_count": 69,
     "metadata": {},
     "output_type": "execute_result"
    }
   ],
   "source": [
    "get_java_method_complexity(longMethod)"
   ]
  },
  {
   "cell_type": "code",
   "execution_count": 68,
   "id": "832afca8",
   "metadata": {},
   "outputs": [
    {
     "data": {
      "text/plain": [
       "3"
      ]
     },
     "execution_count": 68,
     "metadata": {},
     "output_type": "execute_result"
    }
   ],
   "source": [
    "get_java_method_complexity(shortMethod)"
   ]
  },
  {
   "cell_type": "code",
   "execution_count": 67,
   "id": "f8f98dcc",
   "metadata": {},
   "outputs": [
    {
     "data": {
      "text/plain": [
       "9"
      ]
     },
     "execution_count": 67,
     "metadata": {},
     "output_type": "execute_result"
    }
   ],
   "source": [
    "get_java_method_complexity(longmethod2)"
   ]
  },
  {
   "cell_type": "markdown",
   "id": "0fdca4da",
   "metadata": {},
   "source": [
    "## Demo"
   ]
  },
  {
   "cell_type": "code",
   "execution_count": 77,
   "id": "bbf1c16c",
   "metadata": {},
   "outputs": [
    {
     "name": "stdout",
     "output_type": "stream",
     "text": [
      "Using model: wizardcoder:33b\n",
      "/**\n",
      " * This method removes a node from the tree according to the comparison of its string field with the given string 's'.\n",
      " * If 'removeOnce' is true and the count of the removed node is greater than 1, it will decrement the count.\n",
      " * If the 'val' parameter is not null and doesn't match the count of the node being removed, the node remains unchanged.\n",
      " * It updates 'lastRemoved', 'version', and 'numEntries'.\n",
      " * If a successor node has been found to replace the one being deleted, it makes appropriate adjustments such as updating its string and count fields.\n",
      " * @param r The current root of the tree/subtree.\n",
      " * @param s The string to compare with the string field of each node for removal.\n",
      " * @param before A reference to the parent of the soon-to-be deleted node, used when replacing a node with another node.\n",
      " * @param removeOnce If true and the count of the removed node is greater than 1, decrements the count.\n",
      " * @param val If not null and doesn't match the count of the node being removed, the node remains unchanged.\n",
      " * @return The root of the tree/subtree (possibly new) after the removal operation.\n",
      " */\n"
     ]
    }
   ],
   "source": [
    "from ollama import chat\n",
    "\n",
    "complexity = get_java_method_complexity(longMethod)\n",
    "\n",
    "if complexity > 7:\n",
    "    model = wizCoder\n",
    "else:\n",
    "    model = qwenSmall\n",
    "\n",
    "print(f\"Using model: {model}\")\n",
    "response = chat(model=model, messages=[{'role': 'user', 'content': oneShot.format(method_code=longMethod)}])\n",
    "print(response['message']['content'])\n"
   ]
  },
  {
   "cell_type": "code",
   "execution_count": 80,
   "id": "eef9f4eb",
   "metadata": {},
   "outputs": [
    {
     "name": "stdout",
     "output_type": "stream",
     "text": [
      "Using model: qwen2.5-coder:0.5b\n",
      "### javadoc Comment for `connect` Method\n",
      "\n",
      "The `connect` method takes a `HexPiece` object, which represents a location in the grid of coordinates on an HTML canvas. It first trims any leading or trailing whitespace from the input string and converts it to lowercase before cleaning.\n",
      "\n",
      "1. **Trimming**: \n",
      "   - The method uses `trim()` to remove any leading or trailing whitespace characters.\n",
      "   - The cleaned string is stored in the variable `cleaned`.\n",
      "\n",
      "2. **Lowercasing**:\n",
      "   - The method then converts the entire string to lowercase using `toLowerCase()`, which ensures that all characters are in the same case.\n",
      "\n",
      "3. **Cleaning and Reversing**:\n",
      "   - A `StringBuilder` is used to efficiently build the new string by reversing each character of the cleaned string.\n",
      "   - The `reverse()` method is called on the `StringBuilder`, which reverses the string in place.\n",
      "   - Characters at even indices are appended to the result, while characters at odd indices are prepended.\n",
      "\n",
      "4. **Finding Neighbors**:\n",
      "   - After reversing the string, the method iterates over each direction (up, down, left, right) and finds a neighbor of the current piece by moving it horizontally or vertically.\n",
      "   - If such a neighbor is found, its coordinates are added to the `neighbors` map.\n",
      "\n",
      "### Method Example\n",
      "\n",
      "Here's how you can use the `connect` method in a more complete example:\n",
      "\n",
      "```java\n",
      "// Assuming HexPiece is a class representing a piece of HTML coordinate\n",
      "HexPiece p = new HexPiece(10, 5);\n",
      "connect(p);\n",
      "\n",
      "// Output: \"elvtr\"\n",
      "```\n",
      "\n",
      "### Explanation\n",
      "\n",
      "- **Trimming and Lowercasing**: The input string is trimmed to remove any leading or trailing whitespace.\n",
      "- **Reversing the String**: A `StringBuilder` is used to efficiently reverse each character of the cleaned string.\n",
      "- **Neighbor Finding**: The method finds neighbors by moving pieces horizontally or vertically using `move()`.\n",
      "\n",
      "This implementation ensures that the coordinates are correctly processed and can be easily queried in other parts of the application.\n"
     ]
    }
   ],
   "source": [
    "from ollama import chat\n",
    "\n",
    "complexity = get_java_method_complexity(shortMethod)\n",
    "\n",
    "if complexity > 7:\n",
    "    model = wizCoder\n",
    "else:\n",
    "    model = qwenSmall\n",
    "\n",
    "print(f\"Using model: {model}\")\n",
    "response = chat(model=model, messages=[{'role': 'user', 'content': oneShot.format(method_code=shortMethod)}])\n",
    "print(response['message']['content'])\n"
   ]
  }
 ],
 "metadata": {
  "kernelspec": {
   "display_name": "venv",
   "language": "python",
   "name": "python3"
  },
  "language_info": {
   "codemirror_mode": {
    "name": "ipython",
    "version": 3
   },
   "file_extension": ".py",
   "mimetype": "text/x-python",
   "name": "python",
   "nbconvert_exporter": "python",
   "pygments_lexer": "ipython3",
   "version": "3.12.3"
  }
 },
 "nbformat": 4,
 "nbformat_minor": 5
}
