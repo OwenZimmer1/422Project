{
 "cells": [
  {
   "cell_type": "markdown",
   "id": "8245eb39",
   "metadata": {},
   "source": [
    "# Demo\n",
    "This was my process of selecting a scoring method to determine which model evaluates our code "
   ]
  },
  {
   "cell_type": "markdown",
   "id": "f5c60e39",
   "metadata": {},
   "source": [
    "## Setup stuff"
   ]
  },
  {
   "cell_type": "code",
   "execution_count": 39,
   "id": "a1a54375",
   "metadata": {},
   "outputs": [],
   "source": [
    "import langchain\n",
    "import ollama"
   ]
  },
  {
   "cell_type": "code",
   "execution_count": 40,
   "id": "d5a601da",
   "metadata": {},
   "outputs": [],
   "source": [
    "from transformers import AutoModelForCausalLM, AutoTokenizer\n",
    "\n",
    "model = AutoModelForCausalLM.from_pretrained(\n",
    "    \"Eyas1/fine_tuned_qwen_java_docs\",\n",
    "    device_map=None,\n",
    "    torch_dtype=\"float32\",\n",
    "    trust_remote_code=True\n",
    ")\n",
    "\n",
    "tokenizer = AutoTokenizer.from_pretrained(\n",
    "    \"Eyas1/fine_tuned_qwen_java_docs\",\n",
    "    trust_remote_code=True\n",
    ")\n"
   ]
  },
  {
   "cell_type": "code",
   "execution_count": 41,
   "id": "22b6cede",
   "metadata": {},
   "outputs": [],
   "source": [
    "from transformers import AutoModelForCausalLM, AutoTokenizer\n",
    "\n",
    "model2 = AutoModelForCausalLM.from_pretrained(\n",
    "    \"Eyas1/fine_tuned_codellama_java_docs\",\n",
    "    device_map=None,\n",
    "    torch_dtype=\"float32\",\n",
    "    trust_remote_code=True\n",
    ")\n",
    "\n",
    "tokenizer = AutoTokenizer.from_pretrained(\n",
    "    \"Eyas1/fine_tuned_codellama_java_docs\",\n",
    "    trust_remote_code=True\n",
    ")\n"
   ]
  },
  {
   "cell_type": "code",
   "execution_count": 42,
   "id": "b905dd9b",
   "metadata": {},
   "outputs": [],
   "source": [
    "from langchain.prompts import PromptTemplate\n",
    "\n",
    "multiShot = PromptTemplate(\n",
    "    input_variables=[\"method_code\"],\n",
    "    template='''\\\n",
    "Write a professional Javadoc comment for the following Java method. Only tell me the javadoc, **do not return any code.** \n",
    "\n",
    "Example 1:\n",
    "Method:\n",
    "public String reverseProcessed(String text) {{\n",
    "    if (text == null) return null;\n",
    "    String cleaned = text.trim().toLowerCase();\n",
    "    return new StringBuilder(cleaned).reverse().toString();\n",
    "}}\n",
    "\n",
    "Javadoc:\n",
    "/**\n",
    " * Reverses the characters in the given string after trimming whitespace and converting to lowercase.\n",
    " *\n",
    " * @param text the input string to process\n",
    " * @return the reversed, lowercase, trimmed string\n",
    " */\n",
    "\n",
    "Example 2:\n",
    "Method:\n",
    "private int add(int a, int b) {{\n",
    "    return a + b;\n",
    "}}\n",
    "\n",
    "Javadoc:\n",
    "/**\n",
    " * Adds two integers.\n",
    " *\n",
    " * @param a the first integer\n",
    " * @param b the second integer\n",
    " * @return the sum of the two integers\n",
    " */\n",
    "\n",
    "Now write a Javadoc comment for this method:\n",
    "Method:\n",
    "{method_code}\n",
    "\n",
    "\n",
    "'''\n",
    ")"
   ]
  },
  {
   "cell_type": "markdown",
   "id": "034f8417",
   "metadata": {},
   "source": [
    "# Test methods"
   ]
  },
  {
   "cell_type": "code",
   "execution_count": 43,
   "id": "49bd95f8",
   "metadata": {},
   "outputs": [],
   "source": [
    "longMethod = \"\"\"private Node doRemove(Node r, String s, Node before, boolean removeOnce, Integer val) {\n",
    "\t\tif(r == null) {\n",
    "\t\t\tlastRemoved = null;\n",
    "\t\t\treturn null;\n",
    "\t\t}\n",
    "\t\tint c = s.compareTo(r.string);\n",
    "\t\tif(c < 0) r.left = doRemove(r.left, s, before, removeOnce, val);\n",
    "\t\telse if(c > 0) r.right = doRemove(r.right, s, r, removeOnce, val);\n",
    "\t\telse {\n",
    "\t\t\tif(val != null && val != r.count) return r;\n",
    "\t\t\tlastRemoved = r.count;\n",
    "\t\t\tif(removeOnce && r.count > 1) {\n",
    "\t\t\t\tr.count--;\n",
    "\t\t\t\treturn r;\n",
    "\t\t\t}\n",
    "\t\t\tif(before.next != r) {\n",
    "\t\t\t\tbefore = r.left;\n",
    "\t\t\t\twhile(before.right != null) before = before.right;\n",
    "\t\t\t}\n",
    "\t\t\tversion++;\n",
    "\t\t\tnumEntries--;\n",
    "\t\t\tif(r.left == null) {\n",
    "\t\t\t\tbefore.next = r.next;\n",
    "\t\t\t\treturn r.right;\n",
    "\t\t\t}\n",
    "\t\t\tif(r.right == null) {\n",
    "\t\t\t\tbefore.next = r.next;\n",
    "\t\t\t\treturn r.left;\n",
    "\t\t\t}\n",
    "\t\t\t\n",
    "\t\t\tNode successor = r.right;\n",
    "\t\t\tNode prev = r;\n",
    "\t\t\twhile(successor.left != null) {\n",
    "\t\t\t\tprev = successor;\n",
    "\t\t\t\tsuccessor = successor.left;\n",
    "\t\t\t}\n",
    "\t\t\tr.string = successor.string;\n",
    "\t\t\tr.count = successor.count;\n",
    "\t\t\t\n",
    "\t\t\tif(prev.left == successor) prev.left = successor.right;\n",
    "\t\t\telse prev.right = successor.right;\n",
    "\t\t\t\n",
    "\t\t\tr.next = successor.next;\n",
    "\n",
    "\n",
    "\t\t}\n",
    "\t\treturn r;\n",
    "\"\"\""
   ]
  },
  {
   "cell_type": "code",
   "execution_count": 44,
   "id": "e94db7e5",
   "metadata": {},
   "outputs": [],
   "source": [
    "longmethod2 = '''\n",
    "public BallSeq clone( )\n",
    "    {{\n",
    "        assert wellFormed() : \"invariant wrong at start of clone()\";\n",
    "\n",
    "        BallSeq result;\n",
    "\n",
    "        try\n",
    "        {{\n",
    "            result = (BallSeq) super.clone( );\n",
    "        }}\n",
    "        catch (CloneNotSupportedException e)\n",
    "        {{\n",
    "            // This exception should not occur. But if it does, it would probably\n",
    "            // indicate a programming error that made super.clone unavailable.\n",
    "            // The most common error would be forgetting the \"Implements Cloneable\"\n",
    "            // clause at the start of this class.\n",
    "            throw new RuntimeException\n",
    "            (\"This class does not implement Cloneable\");\n",
    "        }}\n",
    "        // This is inspired by the textbook for this class, page 203\n",
    "        if(result.head == null) return result;\n",
    "\n",
    "        Node source = result.head;\n",
    "        Node copyHead = new Node(source.data, null);\n",
    "        Node copyTail = copyHead;\n",
    "\n",
    "        while(source.next != null) {{\n",
    "            if(source == cursor) result.cursor = copyTail;\n",
    "            if(source == precursor) result.precursor = copyTail;\n",
    "            if(source == tail) result.tail = source;\n",
    "            source = source.next;\n",
    "            copyTail.next = new Node(source.data, null);\n",
    "            copyTail = copyTail.next;\n",
    "        }}\n",
    "        result.head = copyHead;\n",
    "        if(source == cursor) result.cursor = copyTail;\n",
    "        if(source == tail) result.tail = copyTail;\n",
    "\n",
    "        // TODO: Implemented by student.\n",
    "        // Now do the hard work of cloning the list.\n",
    "        // See pp 200-204, 235 (3rd ed. pp. 193-197, 228)\n",
    "        // Setting precursor, cursor and tail correctly is tricky.\n",
    "\n",
    "\n",
    "        assert wellFormed() : \"invariant wrong at end of clone() for this\";\n",
    "        assert result.wellFormed() : \"invariant wrong for result of clone() for copy\";\n",
    "        return result;\n",
    "    }}\n",
    "'''"
   ]
  },
  {
   "cell_type": "code",
   "execution_count": 45,
   "id": "41cbeecb",
   "metadata": {},
   "outputs": [],
   "source": [
    "shortMethod = \"\"\"\n",
    "    private void connect(HexPiece p) {\n",
    "HexCoordinate h = p.getLocation();\n",
    "for (HexDirection d : HexDirection.values()) {\n",
    "HexCoordinate h2 = d.move(h);\n",
    "HexPiece p2 = findPiece(h2);\n",
    "if (p2 != null) {\n",
    "p.neighbors[d.ordinal()] = p2;\n",
    "p2.neighbors[d.reverse().ordinal()] = p;\n",
    "}\n",
    "}\n",
    "}\n",
    " \"\"\""
   ]
  },
  {
   "cell_type": "code",
   "execution_count": 46,
   "id": "46b8a526",
   "metadata": {},
   "outputs": [],
   "source": [
    "def score_method_complexity(method_code):\n",
    "    lines = method_code.strip().splitlines()\n",
    "    score = 0\n",
    "\n",
    "    # Base score: length of method\n",
    "    if len(lines) > 20:\n",
    "        score += 2\n",
    "    elif len(lines) > 10:\n",
    "        score += 1\n",
    "\n",
    "    # Keywords that indicate control flow or complexity\n",
    "    keywords = [\"for\", \"while\", \"if\", \"else\", \"switch\", \"case\", \"try\", \"catch\", \"finally\", \"return\"]\n",
    "    score += sum(1 for line in lines for kw in keywords if kw in line)\n",
    "\n",
    "    # Additional indicators of advanced logic\n",
    "    if \"clone\" in method_code or \"recursion\" in method_code.lower():\n",
    "        score += 2\n",
    "    if \"assert\" in method_code:\n",
    "        score += 1\n",
    "    if \"TODO\" in method_code or \"textbook\" in method_code.lower():\n",
    "        score += 1\n",
    "\n",
    "    # Thresholds\n",
    "    if score >= 8:\n",
    "        return \"super_difficult\", score\n",
    "    elif score >= 4:\n",
    "        return \"complex\", score\n",
    "    else:\n",
    "        return \"simple\", score\n"
   ]
  },
  {
   "cell_type": "markdown",
   "id": "e6e97e4e",
   "metadata": {},
   "source": [
    "## Testing Scoring System "
   ]
  },
  {
   "cell_type": "code",
   "execution_count": 47,
   "id": "84a1334b",
   "metadata": {},
   "outputs": [
    {
     "data": {
      "text/plain": [
       "('super_difficult', 29)"
      ]
     },
     "execution_count": 47,
     "metadata": {},
     "output_type": "execute_result"
    }
   ],
   "source": [
    "score_method_complexity(longMethod)"
   ]
  },
  {
   "cell_type": "code",
   "execution_count": 48,
   "id": "e3f65338",
   "metadata": {},
   "outputs": [
    {
     "data": {
      "text/plain": [
       "('simple', 3)"
      ]
     },
     "execution_count": 48,
     "metadata": {},
     "output_type": "execute_result"
    }
   ],
   "source": [
    "score_method_complexity(shortMethod)"
   ]
  },
  {
   "cell_type": "code",
   "execution_count": 49,
   "id": "3ef41904",
   "metadata": {},
   "outputs": [],
   "source": [
    "from langchain.prompts import PromptTemplate\n",
    "\n",
    "routePrompt = PromptTemplate(input_variables=[\"method_code\"],\n",
    "    template='''\n",
    "    You are a helpful assistant that helps to determine the complexity of a method.\n",
    "    You are given a method and you need to determine if it is simple, complex or super difficult.\n",
    "    A method is considered simple if it has a low number of lines and control flow statements.\n",
    "    A method is considered complex if it has a moderate number of lines and control flow statements.\n",
    "    A method is considered super difficult if it has a high number of lines and control flow statements.\n",
    "\n",
    "\n",
    "    you are only allowed to respond in one word simple, complex or super_difficult.\n",
    "    You are given the following method:\n",
    "    {method_code}\n",
    "    '''\n",
    ")"
   ]
  },
  {
   "cell_type": "markdown",
   "id": "bf2fb574",
   "metadata": {},
   "source": [
    "## testing outputs"
   ]
  },
  {
   "cell_type": "code",
   "execution_count": 50,
   "id": "c842e491",
   "metadata": {},
   "outputs": [
    {
     "ename": "NameError",
     "evalue": "name 'qwenSmall' is not defined",
     "output_type": "error",
     "traceback": [
      "\u001b[31m---------------------------------------------------------------------------\u001b[39m",
      "\u001b[31mNameError\u001b[39m                                 Traceback (most recent call last)",
      "\u001b[36mCell\u001b[39m\u001b[36m \u001b[39m\u001b[32mIn[50]\u001b[39m\u001b[32m, line 2\u001b[39m\n\u001b[32m      1\u001b[39m \u001b[38;5;28;01mfrom\u001b[39;00m\u001b[38;5;250m \u001b[39m\u001b[34;01mollama\u001b[39;00m\u001b[38;5;250m \u001b[39m\u001b[38;5;28;01mimport\u001b[39;00m chat\n\u001b[32m----> \u001b[39m\u001b[32m2\u001b[39m response = chat(model=\u001b[43mqwenSmall\u001b[49m, messages=[{\u001b[33m'\u001b[39m\u001b[33mrole\u001b[39m\u001b[33m'\u001b[39m: \u001b[33m'\u001b[39m\u001b[33muser\u001b[39m\u001b[33m'\u001b[39m, \u001b[33m'\u001b[39m\u001b[33mcontent\u001b[39m\u001b[33m'\u001b[39m: routePrompt.format(method_code=shortMethod)}])\n\u001b[32m      3\u001b[39m \u001b[38;5;28mprint\u001b[39m(response[\u001b[33m'\u001b[39m\u001b[33mmessage\u001b[39m\u001b[33m'\u001b[39m][\u001b[33m'\u001b[39m\u001b[33mcontent\u001b[39m\u001b[33m'\u001b[39m])\n",
      "\u001b[31mNameError\u001b[39m: name 'qwenSmall' is not defined"
     ]
    }
   ],
   "source": [
    "from ollama import chat\n",
    "response = chat(model=qwenSmall, messages=[{'role': 'user', 'content': routePrompt.format(method_code=shortMethod)}])\n",
    "print(response['message']['content'])"
   ]
  },
  {
   "cell_type": "code",
   "execution_count": null,
   "id": "4f8f4013",
   "metadata": {},
   "outputs": [
    {
     "name": "stdout",
     "output_type": "stream",
     "text": [
      "simple\n"
     ]
    }
   ],
   "source": [
    "from ollama import chat\n",
    "response = chat(model=qwenSmall, messages=[{'role': 'user', 'content': routePrompt.format(method_code=longMethod)}])\n",
    "print(response['message']['content'])"
   ]
  },
  {
   "cell_type": "markdown",
   "id": "d33fbe4e",
   "metadata": {},
   "source": [
    "# Cyclomatic complexity \n",
    "this library looks at how many outcomes our code can take the more outcomes the higher the score "
   ]
  },
  {
   "cell_type": "code",
   "execution_count": null,
   "id": "54c55bff",
   "metadata": {},
   "outputs": [],
   "source": [
    "# gets the cyclomatic complexity of a method\n",
    "import lizard\n",
    "\n",
    "def get_java_method_complexity(method_string):\n",
    "    wrapped = f\" {{\\n{method_string}\\n}}\"\n",
    "    results = lizard.analyze_file.analyze_source_code(\"Dummy.java\", wrapped)\n",
    "    complexity = results.function_list[0].cyclomatic_complexity\n",
    "    return complexity"
   ]
  },
  {
   "cell_type": "markdown",
   "id": "b5579e08",
   "metadata": {},
   "source": [
    "## Testing"
   ]
  },
  {
   "cell_type": "code",
   "execution_count": null,
   "id": "2753ebbc",
   "metadata": {},
   "outputs": [
    {
     "data": {
      "text/plain": [
       "14"
      ]
     },
     "execution_count": 33,
     "metadata": {},
     "output_type": "execute_result"
    }
   ],
   "source": [
    "get_java_method_complexity(longMethod)"
   ]
  },
  {
   "cell_type": "code",
   "execution_count": null,
   "id": "832afca8",
   "metadata": {},
   "outputs": [
    {
     "data": {
      "text/plain": [
       "3"
      ]
     },
     "execution_count": 34,
     "metadata": {},
     "output_type": "execute_result"
    }
   ],
   "source": [
    "get_java_method_complexity(shortMethod)"
   ]
  },
  {
   "cell_type": "code",
   "execution_count": null,
   "id": "f8f98dcc",
   "metadata": {},
   "outputs": [
    {
     "data": {
      "text/plain": [
       "9"
      ]
     },
     "execution_count": 18,
     "metadata": {},
     "output_type": "execute_result"
    }
   ],
   "source": [
    "get_java_method_complexity(longmethod2)"
   ]
  },
  {
   "cell_type": "markdown",
   "id": "0fdca4da",
   "metadata": {},
   "source": [
    "## Demo"
   ]
  },
  {
   "cell_type": "code",
   "execution_count": 53,
   "id": "fcabf730",
   "metadata": {},
   "outputs": [],
   "source": [
    "myMethod = multiShot.format(method_code=\"\"\"\n",
    "your method code here\"\"\")\n"
   ]
  },
  {
   "cell_type": "code",
   "execution_count": 56,
   "id": "011d8085",
   "metadata": {},
   "outputs": [],
   "source": [
    "complexity = get_java_method_complexity(myMethod)\n"
   ]
  },
  {
   "cell_type": "code",
   "execution_count": null,
   "id": "bbf1c16c",
   "metadata": {},
   "outputs": [
    {
     "name": "stdout",
     "output_type": "stream",
     "text": [
      "Write a professional Javadoc comment for the following Java method. Only tell me the javadoc, **do not return any code.** \n",
      "\n",
      "Example 1:\n",
      "Method:\n",
      "public String reverseProcessed(String text) {\n",
      "    if (text == null) return null;\n",
      "    String cleaned = text.trim().toLowerCase();\n",
      "    return new StringBuilder(cleaned).reverse().toString();\n",
      "}\n",
      "\n",
      "Javadoc:\n",
      "/**\n",
      " * Reverses the characters in the given string after trimming whitespace and converting to lowercase.\n",
      " *\n",
      " * @param text the input string to process\n",
      " * @return the reversed, lowercase, trimmed string\n",
      " */\n",
      "\n",
      "Example 2:\n",
      "Method:\n",
      "private int add(int a, int b) {\n",
      "    return a + b;\n",
      "}\n",
      "\n",
      "Javadoc:\n",
      "/**\n",
      " * Adds two integers.\n",
      " *\n",
      " * @param a the first integer\n",
      " * @param b the second integer\n",
      " * @return the sum of the two integers\n",
      " */\n",
      "\n",
      "Now write a Javadoc comment for this method:\n",
      "Method:\n",
      "Write a professional Javadoc comment for the following Java method. Only tell me the javadoc, **do not return any code.** \n",
      "\n",
      "Example 1:\n",
      "Method:\n",
      "public String reverseProcessed(String text) {\n",
      "    if (text == null) return null;\n",
      "    String cleaned = text.trim().toLowerCase();\n",
      "    return new StringBuilder(cleaned).reverse().toString();\n",
      "}\n",
      "\n",
      "Javadoc:\n",
      "/**\n",
      " * Reverses the characters in the given string after trimming whitespace and converting to lowercase.\n",
      " *\n",
      " * @param text the input string to process\n",
      " * @return the reversed, lowercase, trimmed string\n",
      " */\n",
      "\n",
      "Example 2:\n",
      "Method:\n",
      "private int add(int a, int b) {\n",
      "    return a + b;\n",
      "}\n",
      "\n",
      "Javadoc:\n",
      "/**\n",
      " * Adds two integers.\n",
      " *\n",
      " * @param a the first integer\n",
      " * @param b the second integer\n",
      " * @return the sum of the two integers\n",
      " */\n",
      "\n",
      "Now write a Javadoc comment for this method:\n",
      "Method:\n",
      "\n",
      "your method code here\n",
      "\n",
      "\n",
      "\n",
      "\n",
      "\n",
      " valall b) {\n",
      "ement clock when code.аль \n",
      " valExample 1:\n",
      "Method:\n",
      "Qu String reverseProcessed(String text) {\n",
      "ement if (text == null) subst null;�park String thrusted = text.trim().toLowerCase();\n",
      "    return new StringBuilder(cleaned).reverse().toString();\n",
      "}\n",
      " valJavadoc:\n",
      " Media\n",
      " * Reverses the characters in the given string after trimming whitespace and to lowercase.\n",
      " *\n",
      " * @paramcc the input string to process\n",
      " * @return the reversed, lowercase, trimmed string\n",
      " */\n",
      " valExample 2:\n",
      "Method:\n",
      " Gonz int add(int a, int b) {\n",
      "ement subst a + b;�ні\n",
      " valJavadoc:\n",
      " Media\n",
      " * Adds two integers.\n",
      " *\n",
      " * @param a the first integer\n",
      " * @param b the second integer\n",
      " * @return the sum of the two integers\n",
      " */\n",
      "\n",
      "Now write a Javadoc comment for this method:\n",
      "Method:\n",
      "\u001a method code here\n",
      " val\n",
      " val\n",
      " valall b) {\n",
      "ement clock when code.аль \n",
      " valExample 1:\n",
      "Method:\n",
      "Qu String reverseProcessed(String text) {\n",
      "ement if (text == null) subst null;�park String thrusted = text.trim().toLowerCase();\n",
      "    return new StringBuilder(cleaned).reverse().toString();\n",
      "}\n",
      " valJavadoc:\n",
      " Media\n",
      " * Reverses the characters in the given string after trimming whitespace and to lowercase.\n",
      " *\n",
      " * @paramcc the input string to process\n",
      " * @return the reversed, lowercase, trimmed string\n",
      " */\n",
      " valExample 2:\n",
      "Method:\n",
      " Gonz int add(int a, int b) {\n",
      "ement subst a + b;�ні\n",
      " valJavadoc:\n",
      " Media\n",
      " * Adds two integers.\n",
      " *\n",
      " * @param a the first integer\n",
      " * @param b the second integer\n",
      " * @return the sum of the two integers\n",
      " */\n",
      "\n",
      "Now write a Javadoc comment for this method:\n",
      "Method:\n",
      "\u001a method code here\n",
      " val\n",
      " val\n",
      " valall b) {\n",
      "ement clock when code.аль \n",
      " valExample 1:\n",
      "Method:\n",
      "Qu String reverseProcessed(String text) {\n",
      "ement if (text == null) subst\n"
     ]
    }
   ],
   "source": [
    "selected_model = model2 if complexity > 7 else model\n",
    "\n",
    "inputs = tokenizer(multiShot.format(method_code=myMethod), return_tensors=\"pt\").to(selected_model.device)\n",
    "outputs = selected_model.generate(**inputs, max_new_tokens=512)\n",
    "print(tokenizer.decode(outputs[0], skip_special_tokens=True))\n"
   ]
  }
 ],
 "metadata": {
  "kernelspec": {
   "display_name": "venv",
   "language": "python",
   "name": "python3"
  },
  "language_info": {
   "codemirror_mode": {
    "name": "ipython",
    "version": 3
   },
   "file_extension": ".py",
   "mimetype": "text/x-python",
   "name": "python",
   "nbconvert_exporter": "python",
   "pygments_lexer": "ipython3",
   "version": "3.12.3"
  }
 },
 "nbformat": 4,
 "nbformat_minor": 5
}
