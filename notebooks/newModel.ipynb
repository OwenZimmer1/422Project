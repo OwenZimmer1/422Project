{
 "cells": [
  {
   "cell_type": "markdown",
   "id": "c91d7c60",
   "metadata": {},
   "source": [
    "# Testing out my new models "
   ]
  },
  {
   "cell_type": "markdown",
   "id": "40332112",
   "metadata": {},
   "source": [
    "## Setup"
   ]
  },
  {
   "cell_type": "code",
   "execution_count": 2,
   "id": "483a899b",
   "metadata": {},
   "outputs": [],
   "source": [
    "from transformers import AutoModelForCausalLM, AutoTokenizer\n",
    "\n",
    "model = AutoModelForCausalLM.from_pretrained(\n",
    "    \"Eyas1/fine_tuned_qwen_java_docs\",\n",
    "    device_map=None,\n",
    "    torch_dtype=\"float32\",\n",
    "    trust_remote_code=True\n",
    ")\n",
    "\n",
    "tokenizer = AutoTokenizer.from_pretrained(\n",
    "    \"Eyas1/fine_tuned_qwen_java_docs\",\n",
    "    trust_remote_code=True\n",
    ")\n"
   ]
  },
  {
   "cell_type": "markdown",
   "id": "947a44ee",
   "metadata": {},
   "source": [
    "## Prompts + Code\n",
    "Prompt: MultiShot\n",
    "\n",
    " - 3 easy\n",
    " - 3 medium \n",
    " - 3 hard\n",
    " - 1 method of death"
   ]
  },
  {
   "cell_type": "code",
   "execution_count": 3,
   "id": "947b789f",
   "metadata": {},
   "outputs": [],
   "source": [
    "from langchain.prompts import PromptTemplate\n",
    "multiShot = PromptTemplate(\n",
    "    input_variables=[\"method_code\"],\n",
    "    template='''\\\n",
    "Write a professional Javadoc comment for the following Java method. Only tell me the javadoc, **do not return any code.** \n",
    "\n",
    "Example 1:\n",
    "Method:\n",
    "public String reverseProcessed(String text) {{\n",
    "    if (text == null) return null;\n",
    "    String cleaned = text.trim().toLowerCase();\n",
    "    return new StringBuilder(cleaned).reverse().toString();\n",
    "}}\n",
    "\n",
    "Javadoc:\n",
    "/**\n",
    " * Reverses the characters in the given string after trimming whitespace and converting to lowercase.\n",
    " *\n",
    " * @param text the input string to process\n",
    " * @return the reversed, lowercase, trimmed string\n",
    " */\n",
    "\n",
    "Example 2:\n",
    "Method:\n",
    "private int add(int a, int b) {{\n",
    "    return a + b;\n",
    "}}\n",
    "\n",
    "Javadoc:\n",
    "/**\n",
    " * Adds two integers.\n",
    " *\n",
    " * @param a the first integer\n",
    " * @param b the second integer\n",
    " * @return the sum of the two integers\n",
    " */\n",
    "\n",
    "Now write a Javadoc comment for this method:\n",
    "Method:\n",
    "{method_code}\n",
    "\n",
    "Javadoc:\n",
    "'''\n",
    ")"
   ]
  },
  {
   "cell_type": "markdown",
   "id": "2fcf3893",
   "metadata": {},
   "source": [
    "## Method of death \n",
    " - solveEncryptedMaze"
   ]
  },
  {
   "cell_type": "code",
   "execution_count": 20,
   "id": "33a50d72",
   "metadata": {},
   "outputs": [],
   "source": [
    "methodOfDeath = multiShot.format(method_code=\"\"\"\"private boolean solveEncryptedMaze(MazeNode node, String targetHash, Set<MazeNode> visited, Deque<String> path, ExecutorService pool) {\n",
    "    if (node == null || visited.contains(node)) return false;\n",
    "    visited.add(node);\n",
    "    path.addLast(node.value);\n",
    "\n",
    "    StringBuilder sb = new StringBuilder();\n",
    "    for (String s : path) sb.append(s);\n",
    "    String currentHash = computeSHA256(sb.toString());\n",
    "\n",
    "    if (currentHash.equals(targetHash)) return true;\n",
    "\n",
    "    List<Callable<Boolean>> tasks = new ArrayList<>();\n",
    "    for (MazeNode neighbor : node.getNeighbors()) {\n",
    "        tasks.add(() -> solveEncryptedMaze(neighbor, targetHash, new HashSet<>(visited), new ArrayDeque<>(path), pool));\n",
    "    }\n",
    "\n",
    "    try {\n",
    "        for (Future<Boolean> future : pool.invokeAll(tasks)) {\n",
    "            if (future.get()) return true;\n",
    "        }\n",
    "    } catch (InterruptedException | ExecutionException e) {\n",
    "        Thread.currentThread().interrupt();\n",
    "    }\n",
    "\n",
    "    path.removeLast();\n",
    "    return false;\n",
    "}\n",
    "\"\"\")"
   ]
  },
  {
   "cell_type": "markdown",
   "id": "3eb22af7",
   "metadata": {},
   "source": [
    "## Hard Methods\n",
    " - Remove from BST\n",
    " - Balance Tree\n",
    " - inOrder Traversal"
   ]
  },
  {
   "cell_type": "code",
   "execution_count": 4,
   "id": "116a1d30",
   "metadata": {},
   "outputs": [],
   "source": [
    "hardMethod =multiShot.format(method_code=\"\"\" \n",
    "Write a javadoc abot the following method:\n",
    "private Node doRemove(Node r, String s, Node before, boolean removeOnce, Integer val) {\n",
    "\t\tif(r == null) {\n",
    "\t\t\tlastRemoved = null;\n",
    "\t\t\treturn null;\n",
    "\t\t}\n",
    "\t\tint c = s.compareTo(r.string);\n",
    "\t\tif(c < 0) r.left = doRemove(r.left, s, before, removeOnce, val);\n",
    "\t\telse if(c > 0) r.right = doRemove(r.right, s, r, removeOnce, val);\n",
    "\t\telse {\n",
    "\t\t\tif(val != null && val != r.count) return r;\n",
    "\t\t\tlastRemoved = r.count;\n",
    "\t\t\tif(removeOnce && r.count > 1) {\n",
    "\t\t\t\tr.count--;\n",
    "\t\t\t\treturn r;\n",
    "\t\t\t}\n",
    "\t\t\tif(before.next != r) {\n",
    "\t\t\t\tbefore = r.left;\n",
    "\t\t\t\twhile(before.right != null) before = before.right;\n",
    "\t\t\t}\n",
    "\t\t\tversion++;\n",
    "\t\t\tnumEntries--;\n",
    "\t\t\tif(r.left == null) {\n",
    "\t\t\t\tbefore.next = r.next;\n",
    "\t\t\t\treturn r.right;\n",
    "\t\t\t}\n",
    "\t\t\tif(r.right == null) {\n",
    "\t\t\t\tbefore.next = r.next;\n",
    "\t\t\t\treturn r.left;\n",
    "\t\t\t}\n",
    "\t\t\t\n",
    "\t\t\tNode successor = r.right;\n",
    "\t\t\tNode prev = r;\n",
    "\t\t\twhile(successor.left != null) {\n",
    "\t\t\t\tprev = successor;\n",
    "\t\t\t\tsuccessor = successor.left;\n",
    "\t\t\t}\n",
    "\t\t\tr.string = successor.string;\n",
    "\t\t\tr.count = successor.count;\n",
    "\t\t\t\n",
    "\t\t\tif(prev.left == successor) prev.left = successor.right;\n",
    "\t\t\telse prev.right = successor.right;\n",
    "\t\t\t\n",
    "\t\t\tr.next = successor.next;\n",
    "\n",
    "\n",
    "\t\t}\n",
    "\t\treturn r;\n",
    "\"\"\")"
   ]
  },
  {
   "cell_type": "code",
   "execution_count": 11,
   "id": "e48a83ba",
   "metadata": {},
   "outputs": [],
   "source": [
    "hardMethod2 =multiShot.format(method_code=\"\"\"private Node balanceTree(Node node) {\n",
    "    if (node == null) return null;\n",
    "\n",
    "    int balance = height(node.left) - height(node.right);\n",
    "\n",
    "    if (balance > 1) {\n",
    "        if (height(node.left.left) >= height(node.left.right)) {\n",
    "            node = rotateRight(node);\n",
    "        } else {\n",
    "            node.left = rotateLeft(node.left);\n",
    "            node = rotateRight(node);\n",
    "        }\n",
    "    } else if (balance < -1) {\n",
    "        if (height(node.right.right) >= height(node.right.left)) {\n",
    "            node = rotateLeft(node);\n",
    "        } else {\n",
    "            node.right = rotateRight(node.right);\n",
    "            node = rotateLeft(node);\n",
    "        }\n",
    "    }\n",
    "\n",
    "    return node;\n",
    "}\n",
    "\"\"\")"
   ]
  },
  {
   "cell_type": "code",
   "execution_count": 12,
   "id": "aad0f8fa",
   "metadata": {},
   "outputs": [],
   "source": [
    "hardMethod3 =multiShot.format(method_code=\"\"\"private void inOrderTraversal(Node node, List<String> result) {\n",
    "    if (node == null) return;\n",
    "    inOrderTraversal(node.left, result);\n",
    "    for (int i = 0; i < node.count; i++) {\n",
    "        result.add(node.string);\n",
    "    }\n",
    "    inOrderTraversal(node.right, result);\n",
    "}\n",
    "\"\"\")"
   ]
  },
  {
   "cell_type": "markdown",
   "id": "389c6fcc",
   "metadata": {},
   "source": [
    "## Medium Methods\n",
    " - Connect\n",
    " - Count Vowels\n",
    " - Merge Arrays"
   ]
  },
  {
   "cell_type": "code",
   "execution_count": 13,
   "id": "6b285594",
   "metadata": {},
   "outputs": [],
   "source": [
    "mediumMethod =multiShot.format(method_code=\"\"\"\n",
    "    private void connect(HexPiece p) {\n",
    "HexCoordinate h = p.getLocation();\n",
    "for (HexDirection d : HexDirection.values()) {\n",
    "HexCoordinate h2 = d.move(h);\n",
    "HexPiece p2 = findPiece(h2);\n",
    "if (p2 != null) {\n",
    "p.neighbors[d.ordinal()] = p2;\n",
    "p2.neighbors[d.reverse().ordinal()] = p;\n",
    "}\n",
    "}\n",
    "}\n",
    "                         \"\"\")"
   ]
  },
  {
   "cell_type": "code",
   "execution_count": 14,
   "id": "1be60f65",
   "metadata": {},
   "outputs": [],
   "source": [
    "mediumMethod2 =multiShot.format(method_code=\"\"\"public int countVowels(String text) {\n",
    "    int count = 0;\n",
    "    for (char c : text.toLowerCase().toCharArray()) {\n",
    "        if (\"aeiou\".indexOf(c) != -1) {\n",
    "            count++;\n",
    "        }\n",
    "    }\n",
    "    return count;\n",
    "}\n",
    "\"\"\")"
   ]
  },
  {
   "cell_type": "code",
   "execution_count": 15,
   "id": "23c33fb0",
   "metadata": {},
   "outputs": [],
   "source": [
    "mediumMethod3 =multiShot.format(method_code=\"\"\"public int[] mergeArrays(int[] a, int[] b) {\n",
    "    int[] result = new int[a.length + b.length];\n",
    "    System.arraycopy(a, 0, result, 0, a.length);\n",
    "    System.arraycopy(b, 0, result, a.length, b.length);\n",
    "    return result;\n",
    "}\n",
    "\"\"\")"
   ]
  },
  {
   "cell_type": "markdown",
   "id": "2459fa9d",
   "metadata": {},
   "source": [
    "## Easy Methods \n",
    " - isEven \n",
    " - isPrime\n",
    " - capitalizeWords"
   ]
  },
  {
   "cell_type": "code",
   "execution_count": 6,
   "id": "ce933069",
   "metadata": {},
   "outputs": [],
   "source": [
    "easyMethod =multiShot.format(method_code=\"\"\"\n",
    "public boolean isEven(int number) {\n",
    "    return number % 2 == 0;\n",
    "}\n",
    "\"\"\")"
   ]
  },
  {
   "cell_type": "code",
   "execution_count": 7,
   "id": "b89311f2",
   "metadata": {},
   "outputs": [],
   "source": [
    "easyMethod2 =multiShot.format(method_code=\"\"\"public boolean isPrime(int number) {\n",
    "    if (number <= 1) return false;\n",
    "    for (int i = 2; i <= Math.sqrt(number); i++) {\n",
    "        if (number % i == 0) return false;\n",
    "    }\n",
    "    return true;\n",
    "}\n",
    "\"\"\")"
   ]
  },
  {
   "cell_type": "code",
   "execution_count": 8,
   "id": "12b4c56c",
   "metadata": {},
   "outputs": [],
   "source": [
    "easymethod3 =multiShot.format(method_code=\"\"\"public String capitalizeWords(String sentence) {\n",
    "    String[] words = sentence.split(\" \");\n",
    "    StringBuilder result = new StringBuilder();\n",
    "    for (String word : words) {\n",
    "        if (!word.isEmpty()) {\n",
    "            result.append(Character.toUpperCase(word.charAt(0)))\n",
    "                  .append(word.substring(1))\n",
    "                  .append(\" \");\n",
    "        }\n",
    "    }\n",
    "    return result.toString().trim();\n",
    "}\n",
    "\"\"\")"
   ]
  },
  {
   "cell_type": "markdown",
   "id": "b75c538c",
   "metadata": {},
   "source": [
    "## Testing our Model"
   ]
  },
  {
   "cell_type": "markdown",
   "id": "af7dbb14",
   "metadata": {},
   "source": [
    "### Hard Method"
   ]
  },
  {
   "cell_type": "code",
   "execution_count": null,
   "id": "7c329424",
   "metadata": {},
   "outputs": [
    {
     "name": "stdout",
     "output_type": "stream",
     "text": [
      "/**\n",
      " * Removes the node from the list if it is removed once.\n",
      " *\n",
      " * @param r the node to remove\n",
      " * @param s the string to compare with\n",
      " * @param before the previous node\n",
      " * @param removeOnce true if the node should be removed once\n",
      " * @param val the value to set if the node is removed once\n",
      " * @return the updated node\n",
      " */\n",
      "```\n"
     ]
    }
   ],
   "source": [
    "# testing hard\n",
    "inputs = tokenizer(hardMethod, return_tensors=\"pt\").to(model.device)\n",
    "outputs = model.generate(**inputs, max_new_tokens=1000)\n",
    "print(tokenizer.decode(outputs[0][inputs['input_ids'].shape[1]:], skip_special_tokens=True))\n"
   ]
  },
  {
   "cell_type": "code",
   "execution_count": 17,
   "id": "105105cd",
   "metadata": {},
   "outputs": [
    {
     "name": "stdout",
     "output_type": "stream",
     "text": [
      "/**\n",
      " * Performs a left rotation on the tree at the given node.\n",
      " *\n",
      " * @param node the node to perform the rotation on\n",
      " * @return the rotated node\n",
      " */\n",
      "```\n"
     ]
    }
   ],
   "source": [
    "inputs = tokenizer(hardMethod2, return_tensors=\"pt\").to(model.device)\n",
    "outputs = model.generate(**inputs, max_new_tokens=1000)\n",
    "print(tokenizer.decode(outputs[0][inputs['input_ids'].shape[1]:], skip_special_tokens=True))\n"
   ]
  },
  {
   "cell_type": "code",
   "execution_count": 18,
   "id": "43e5b0cc",
   "metadata": {},
   "outputs": [
    {
     "name": "stdout",
     "output_type": "stream",
     "text": [
      "/**\n",
      " * Traverses the nodes of a binary tree in an in-order traversal.\n",
      " *\n",
      " * @param node the root of the binary tree\n",
      " * @param result the list to store the traversed strings\n",
      " */\n",
      "```\n"
     ]
    }
   ],
   "source": [
    "inputs = tokenizer(hardMethod3, return_tensors=\"pt\").to(model.device)\n",
    "outputs = model.generate(**inputs, max_new_tokens=1000)\n",
    "print(tokenizer.decode(outputs[0][inputs['input_ids'].shape[1]:], skip_special_tokens=True))\n"
   ]
  },
  {
   "cell_type": "markdown",
   "id": "28f66297",
   "metadata": {},
   "source": [
    "### Medium Method"
   ]
  },
  {
   "cell_type": "code",
   "execution_count": 14,
   "id": "661de9bb",
   "metadata": {},
   "outputs": [
    {
     "name": "stdout",
     "output_type": "stream",
     "text": [
      "/**\n",
      " * Connects two hex pieces together.\n",
      " *\n",
      " * @param p1 the first hex piece\n",
      " * @param p2 the second hex piece\n",
      " * @throws IllegalArgumentException if either of the hex pieces is null or if they are not connected\n",
      " */\n",
      "```\n",
      "\n",
      "This Javadoc should explain the purpose of the `connect` method, its parameters, and what it does. It should also include a detailed explanation of how the method works, including its parameters and the logic behind connecting two pieces together. Additionally, it should provide an example of how to use the `connect` method and include error handling to manage potential issues.\n"
     ]
    }
   ],
   "source": [
    "# testing hard\n",
    "inputs = tokenizer(mediumMethod, return_tensors=\"pt\").to(model.device)\n",
    "outputs = model.generate(**inputs, max_new_tokens=1000)\n",
    "print(tokenizer.decode(outputs[0][inputs['input_ids'].shape[1]:], skip_special_tokens=True))\n"
   ]
  },
  {
   "cell_type": "code",
   "execution_count": 16,
   "id": "6f42d5f5",
   "metadata": {},
   "outputs": [
    {
     "name": "stdout",
     "output_type": "stream",
     "text": [
      "/**\n",
      " * Counts the number of vowels in the given string.\n",
      " *\n",
      " * @param text the input string to count vowels in\n",
      " * @return the number of vowels in the string\n",
      " */\n",
      "```\n",
      "\n",
      "This Javadoc should provide a clear and concise description of the method's purpose, parameters, and return value, as well as any potential issues or limitations that might arise from calling this method. It should also include examples of how the method can be used and what its expected behavior is. The docstring should also include any warnings or exceptions that might occur if the method is called with incorrect parameters.\n"
     ]
    }
   ],
   "source": [
    "inputs = tokenizer(mediumMethod2, return_tensors=\"pt\").to(model.device)\n",
    "outputs = model.generate(**inputs, max_new_tokens=1000)\n",
    "print(tokenizer.decode(outputs[0][inputs['input_ids'].shape[1]:], skip_special_tokens=True))\n"
   ]
  },
  {
   "cell_type": "code",
   "execution_count": null,
   "id": "054c6f2d",
   "metadata": {},
   "outputs": [],
   "source": [
    "inputs = tokenizer(mediumMethod3, return_tensors=\"pt\").to(model.device)\n",
    "outputs = model.generate(**inputs, max_new_tokens=1000)\n",
    "print(tokenizer.decode(outputs[0][inputs['input_ids'].shape[1]:], skip_special_tokens=True))\n"
   ]
  },
  {
   "cell_type": "markdown",
   "id": "ca16c4ea",
   "metadata": {},
   "source": [
    "### Easy Method"
   ]
  },
  {
   "cell_type": "code",
   "execution_count": 15,
   "id": "26a58941",
   "metadata": {},
   "outputs": [
    {
     "name": "stdout",
     "output_type": "stream",
     "text": [
      "/**\n",
      " * Checks if a number is even.\n",
      " *\n",
      " * @param number the number to check\n",
      " * @return true if the number is even, false otherwise\n",
      " */\n",
      "```\n",
      "\n",
      "This is the first example, and the second is an example of a private method. Both comments should provide a clear and concise description of what the method does, as well as any relevant parameters or return values. The `@return` tag should be used to specify the expected return type, and the `@param` tag should be used to specify the parameter types. The `@return` tag should also include a brief description of what the method returns. The `@param` tag should also include a brief description of what each parameter takes, and the `@return` tag should also include a brief description of what the method returns. The `@param` tag should also include a brief description of what each parameter takes, and the `@return` tag should also include a brief description of what the method returns. The `@param` tag should also include a brief description of what each parameter takes, and the `@return` tag should also include a brief description of what the method returns. The `@param` tag should also include a brief description of what each parameter takes, and the `@return` tag should also include a brief description of what the method returns. The `@param` tag should also include a brief description of what each parameter takes, and the `@return` tag should also include a brief description of what the method returns. The `@param` tag should also include a brief description of what each parameter takes, and the `@return` tag should also include a brief description of what the method returns. The `@param` tag should also include a brief description of what each parameter takes, and the `@return` tag should also include a brief description of what the method returns. The `@param` tag should also include a brief description of what each parameter takes, and the `@return` tag should also include a brief description of what the method returns. The `@param` tag should also include a brief description of what each parameter takes, and the `@return` tag should also include a brief description of what the method returns. The `@param` tag should also include a brief description of what each parameter takes, and the `@return` tag should also include a brief description of what the method returns. The `@param` tag should also include a brief description of what each parameter takes, and the `@return` tag should also include a brief description of what the method returns. The `@param` tag should also include a brief description of what each parameter takes, and the `@return` tag should also include a brief description of what the method returns. The `@param` tag should also include a brief description of what each parameter takes, and the `@return` tag should also include a brief description of what the method returns. The `@param` tag should also include a brief description of what each parameter takes, and the `@return` tag should also include a brief description of what the method returns. The `@param` tag should also include a brief description of what each parameter takes, and the `@return` tag should also include a brief description of what the method returns. The `@param` tag should also include a brief description of what each parameter takes, and the `@return` tag should also include a brief description of what the method returns. The `@param` tag should also include a brief description of what each parameter takes, and the `@return` tag should also include a brief description of what the method returns. The `@param` tag should also include a brief description of what each parameter takes, and the `@return` tag should also include a brief description of what the method returns. The `@param` tag should also include a brief description of what each parameter takes, and the `@return` tag should also include a brief description of what the method returns. The `@param` tag should also include a brief description of what each parameter takes, and the `@return` tag should also include a brief description of what the method returns. The `@param` tag should also include a brief description of what each parameter takes, and the `@return` tag should also include a brief description of what the method returns. The `@param` tag should also include a brief description of what each parameter takes, and the `@return` tag should also include a brief description of what the method returns. The `@param` tag should also include a brief description of what each parameter takes, and the `@return` tag should also include a brief description of what the method returns. The `@param` tag should also include a brief description of what each parameter takes, and the `@\n"
     ]
    }
   ],
   "source": [
    "# testing hard\n",
    "inputs = tokenizer(easyMethod, return_tensors=\"pt\").to(model.device)\n",
    "outputs = model.generate(**inputs, max_new_tokens=1000)\n",
    "print(tokenizer.decode(outputs[0][inputs['input_ids'].shape[1]:], skip_special_tokens=True))\n"
   ]
  },
  {
   "cell_type": "code",
   "execution_count": null,
   "id": "7cf7fc55",
   "metadata": {},
   "outputs": [
    {
     "name": "stdout",
     "output_type": "stream",
     "text": [
      "/**\n",
      " * Checks if a number is prime.\n",
      " *\n",
      " * @param number the number to check\n",
      " * @return true if the number is prime, false otherwise\n",
      " */\n",
      "```\n"
     ]
    }
   ],
   "source": [
    "\n",
    "inputs = tokenizer(easyMethod2, return_tensors=\"pt\").to(model.device)\n",
    "outputs = model.generate(**inputs, max_new_tokens=1000)\n",
    "print(tokenizer.decode(outputs[0][inputs['input_ids'].shape[1]:], skip_special_tokens=True))\n"
   ]
  },
  {
   "cell_type": "code",
   "execution_count": null,
   "id": "cdaa3134",
   "metadata": {},
   "outputs": [
    {
     "name": "stdout",
     "output_type": "stream",
     "text": [
      "/**\n",
      " * Capitalizes each word in the given sentence.\n",
      " *\n",
      " * @param sentence the sentence to process\n",
      " * @return the sentence with each word capitalized\n",
      " */\n",
      "```\n"
     ]
    }
   ],
   "source": [
    "\n",
    "inputs = tokenizer(easymethod3, return_tensors=\"pt\").to(model.device)\n",
    "outputs = model.generate(**inputs, max_new_tokens=1000)\n",
    "print(tokenizer.decode(outputs[0][inputs['input_ids'].shape[1]:], skip_special_tokens=True))\n"
   ]
  },
  {
   "cell_type": "markdown",
   "id": "bee5142f",
   "metadata": {},
   "source": [
    "### Method of Death "
   ]
  },
  {
   "cell_type": "code",
   "execution_count": 21,
   "id": "224d768f",
   "metadata": {},
   "outputs": [
    {
     "name": "stdout",
     "output_type": "stream",
     "text": [
      "/**\n",
      " * Solves the encrypted maze using a breadth-first search algorithm.\n",
      " *\n",
      " * @param node the current node in the maze\n",
      " * @param targetHash the hash of the target maze node\n",
      " * @param visited a set of visited nodes\n",
      " * @param path a deque of paths taken so far\n",
      " * @param executorService an executor service to run tasks asynchronously\n",
      " * @return true if the target maze node is found, false otherwise\n",
      " */\n",
      "```\n",
      "\n",
      "To explain the method, you can use the following code:\n",
      "\n",
      "```java\n",
      "public class MazeNode {\n",
      "    private String value;\n",
      "    private List<MazeNode> neighbors;\n",
      "\n",
      "    public MazeNode(String value) {\n",
      "        this.value = value;\n",
      "        this.neighbors = new ArrayList<>();\n",
      "    }\n",
      "\n",
      "    public void addNeighbor(MazeNode neighbor) {\n",
      "        this.neighbors.add(neighbor);\n",
      "    }\n",
      "\n",
      "    public String getValue() {\n",
      "        return value;\n",
      "    }\n",
      "\n",
      "    public List<MazeNode> getNeighbors() {\n",
      "        return neighbors;\n",
      "    }\n",
      "}\n",
      "```\n",
      "\n",
      "This code defines a `MazeNode` class with properties for the value of the node and a list of its neighbors. The `MazeNode` class also has a constructor that takes a `value` and initializes the list of neighbors.\n",
      "\n",
      "The `solveEncryptedMaze` method is a recursive function that takes three parameters: the current node, the target hash, a set of visited nodes, a deque of paths taken so far, and an executor service. It checks if the current node is null or if it has already been visited. If so, it returns false.\n",
      "\n",
      "If the current node is not null, it adds the current node to the visited set and adds its value to the path deque.\n",
      "\n",
      "Next, it computes the SHA-256 hash of the current path and compares it to the target hash. If they match, it returns true; otherwise, it returns false.\n",
      "\n",
      "The `solveEncryptedMaze` method uses a breadth-first search algorithm to find the target maze node. It creates a queue of paths taken so far and a thread pool to run the task asynchronously. It checks if the thread pool has been interrupted and if an exception was thrown during execution. If so, it interrupts the thread pool and rethrows the exception.\n",
      "\n",
      "The `solveEncryptedMaze` method returns true if the target maze node is found, false otherwise.\n"
     ]
    }
   ],
   "source": [
    "inputs = tokenizer(methodOfDeath, return_tensors=\"pt\").to(model.device)\n",
    "outputs = model.generate(**inputs, max_new_tokens=1000)\n",
    "print(tokenizer.decode(outputs[0][inputs['input_ids'].shape[1]:], skip_special_tokens=True))"
   ]
  }
 ],
 "metadata": {
  "kernelspec": {
   "display_name": "venv",
   "language": "python",
   "name": "python3"
  },
  "language_info": {
   "codemirror_mode": {
    "name": "ipython",
    "version": 3
   },
   "file_extension": ".py",
   "mimetype": "text/x-python",
   "name": "python",
   "nbconvert_exporter": "python",
   "pygments_lexer": "ipython3",
   "version": "3.12.3"
  }
 },
 "nbformat": 4,
 "nbformat_minor": 5
}
