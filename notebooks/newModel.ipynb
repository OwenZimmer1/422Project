{
 "cells": [
  {
   "cell_type": "markdown",
   "id": "c91d7c60",
   "metadata": {},
   "source": [
    "# Testing out my new models "
   ]
  },
  {
   "cell_type": "markdown",
   "id": "40332112",
   "metadata": {},
   "source": [
    "## Setup"
   ]
  },
  {
   "cell_type": "code",
   "execution_count": 1,
   "id": "483a899b",
   "metadata": {},
   "outputs": [
    {
     "data": {
      "application/vnd.jupyter.widget-view+json": {
       "model_id": "6c486a47e6eb439fbe6eb3404c1f38d2",
       "version_major": 2,
       "version_minor": 0
      },
      "text/plain": [
       "adapter_config.json:   0%|          | 0.00/912 [00:00<?, ?B/s]"
      ]
     },
     "metadata": {},
     "output_type": "display_data"
    },
    {
     "name": "stderr",
     "output_type": "stream",
     "text": [
      "c:\\Users\\eyas1\\OneDrive\\Desktop\\CS 422 Project\\422Project\\venv\\Lib\\site-packages\\huggingface_hub\\file_download.py:144: UserWarning: `huggingface_hub` cache-system uses symlinks by default to efficiently store duplicated files but your machine does not support them in C:\\Users\\eyas1\\.cache\\huggingface\\hub\\models--Eyas1--fine_tuned_qwen_java_docs. Caching files will still work but in a degraded version that might require more space on your disk. This warning can be disabled by setting the `HF_HUB_DISABLE_SYMLINKS_WARNING` environment variable. For more details, see https://huggingface.co/docs/huggingface_hub/how-to-cache#limitations.\n",
      "To support symlinks on Windows, you either need to activate Developer Mode or to run Python as an administrator. In order to activate developer mode, see this article: https://docs.microsoft.com/en-us/windows/apps/get-started/enable-your-device-for-development\n",
      "  warnings.warn(message)\n"
     ]
    },
    {
     "data": {
      "application/vnd.jupyter.widget-view+json": {
       "model_id": "9a5fcb74081840fb98063e643abebb94",
       "version_major": 2,
       "version_minor": 0
      },
      "text/plain": [
       "adapter_model.safetensors:   0%|          | 0.00/35.2M [00:00<?, ?B/s]"
      ]
     },
     "metadata": {},
     "output_type": "display_data"
    },
    {
     "data": {
      "application/vnd.jupyter.widget-view+json": {
       "model_id": "e85faca83a6c46f7b152fad6a8814095",
       "version_major": 2,
       "version_minor": 0
      },
      "text/plain": [
       "tokenizer_config.json:   0%|          | 0.00/7.76k [00:00<?, ?B/s]"
      ]
     },
     "metadata": {},
     "output_type": "display_data"
    },
    {
     "data": {
      "application/vnd.jupyter.widget-view+json": {
       "model_id": "bca380c3b59e4cd08d457920fc85a0db",
       "version_major": 2,
       "version_minor": 0
      },
      "text/plain": [
       "vocab.json:   0%|          | 0.00/2.78M [00:00<?, ?B/s]"
      ]
     },
     "metadata": {},
     "output_type": "display_data"
    },
    {
     "data": {
      "application/vnd.jupyter.widget-view+json": {
       "model_id": "b3556f4c94894d96af8c685ce13b1afa",
       "version_major": 2,
       "version_minor": 0
      },
      "text/plain": [
       "merges.txt:   0%|          | 0.00/1.67M [00:00<?, ?B/s]"
      ]
     },
     "metadata": {},
     "output_type": "display_data"
    },
    {
     "data": {
      "application/vnd.jupyter.widget-view+json": {
       "model_id": "cbe9036869e347aca1b7cdaa9b09e2b7",
       "version_major": 2,
       "version_minor": 0
      },
      "text/plain": [
       "tokenizer.json:   0%|          | 0.00/11.4M [00:00<?, ?B/s]"
      ]
     },
     "metadata": {},
     "output_type": "display_data"
    },
    {
     "data": {
      "application/vnd.jupyter.widget-view+json": {
       "model_id": "c143c7f6c9ee484d9d32bb01f1906b3b",
       "version_major": 2,
       "version_minor": 0
      },
      "text/plain": [
       "added_tokens.json:   0%|          | 0.00/657 [00:00<?, ?B/s]"
      ]
     },
     "metadata": {},
     "output_type": "display_data"
    },
    {
     "data": {
      "application/vnd.jupyter.widget-view+json": {
       "model_id": "2e32cb779cc748c5b1f6e8e4ffe7d2fa",
       "version_major": 2,
       "version_minor": 0
      },
      "text/plain": [
       "special_tokens_map.json:   0%|          | 0.00/644 [00:00<?, ?B/s]"
      ]
     },
     "metadata": {},
     "output_type": "display_data"
    }
   ],
   "source": [
    "from transformers import AutoModelForCausalLM, AutoTokenizer\n",
    "\n",
    "model = AutoModelForCausalLM.from_pretrained(\n",
    "    \"Eyas1/fine_tuned_qwen_java_docs\",\n",
    "    device_map=None,\n",
    "    torch_dtype=\"float32\",\n",
    "    trust_remote_code=True\n",
    ")\n",
    "\n",
    "tokenizer = AutoTokenizer.from_pretrained(\n",
    "    \"Eyas1/fine_tuned_qwen_java_docs\",\n",
    "    trust_remote_code=True\n",
    ")\n"
   ]
  },
  {
   "cell_type": "markdown",
   "id": "947a44ee",
   "metadata": {},
   "source": [
    "## Prompts + Code\n",
    "Prompt: MultiShot\n",
    "\n",
    "Code: \n",
    " - isEven (Easy)\n",
    " - Connect (Medium)\n",
    " - Remove from BST (Hard)"
   ]
  },
  {
   "cell_type": "code",
   "execution_count": 9,
   "id": "947b789f",
   "metadata": {},
   "outputs": [],
   "source": [
    "from langchain.prompts import PromptTemplate\n",
    "multiShot = PromptTemplate(\n",
    "    input_variables=[\"method_code\"],\n",
    "    template='''\\\n",
    "Write a professional Javadoc comment for the following Java method. Only tell me the javadoc, **do not return any code.** \n",
    "\n",
    "Example 1:\n",
    "Method:\n",
    "public String reverseProcessed(String text) {{\n",
    "    if (text == null) return null;\n",
    "    String cleaned = text.trim().toLowerCase();\n",
    "    return new StringBuilder(cleaned).reverse().toString();\n",
    "}}\n",
    "\n",
    "Javadoc:\n",
    "/**\n",
    " * Reverses the characters in the given string after trimming whitespace and converting to lowercase.\n",
    " *\n",
    " * @param text the input string to process\n",
    " * @return the reversed, lowercase, trimmed string\n",
    " */\n",
    "\n",
    "Example 2:\n",
    "Method:\n",
    "private int add(int a, int b) {{\n",
    "    return a + b;\n",
    "}}\n",
    "\n",
    "Javadoc:\n",
    "/**\n",
    " * Adds two integers.\n",
    " *\n",
    " * @param a the first integer\n",
    " * @param b the second integer\n",
    " * @return the sum of the two integers\n",
    " */\n",
    "\n",
    "Now write a Javadoc comment for this method:\n",
    "Method:\n",
    "{method_code}\n",
    "\n",
    "Javadoc:\n",
    "'''\n",
    ")"
   ]
  },
  {
   "cell_type": "code",
   "execution_count": 10,
   "id": "116a1d30",
   "metadata": {},
   "outputs": [],
   "source": [
    "hardMethod =multiShot.format(method_code=\"\"\" \n",
    "Write a javadoc abot the following method:\n",
    "private Node doRemove(Node r, String s, Node before, boolean removeOnce, Integer val) {\n",
    "\t\tif(r == null) {\n",
    "\t\t\tlastRemoved = null;\n",
    "\t\t\treturn null;\n",
    "\t\t}\n",
    "\t\tint c = s.compareTo(r.string);\n",
    "\t\tif(c < 0) r.left = doRemove(r.left, s, before, removeOnce, val);\n",
    "\t\telse if(c > 0) r.right = doRemove(r.right, s, r, removeOnce, val);\n",
    "\t\telse {\n",
    "\t\t\tif(val != null && val != r.count) return r;\n",
    "\t\t\tlastRemoved = r.count;\n",
    "\t\t\tif(removeOnce && r.count > 1) {\n",
    "\t\t\t\tr.count--;\n",
    "\t\t\t\treturn r;\n",
    "\t\t\t}\n",
    "\t\t\tif(before.next != r) {\n",
    "\t\t\t\tbefore = r.left;\n",
    "\t\t\t\twhile(before.right != null) before = before.right;\n",
    "\t\t\t}\n",
    "\t\t\tversion++;\n",
    "\t\t\tnumEntries--;\n",
    "\t\t\tif(r.left == null) {\n",
    "\t\t\t\tbefore.next = r.next;\n",
    "\t\t\t\treturn r.right;\n",
    "\t\t\t}\n",
    "\t\t\tif(r.right == null) {\n",
    "\t\t\t\tbefore.next = r.next;\n",
    "\t\t\t\treturn r.left;\n",
    "\t\t\t}\n",
    "\t\t\t\n",
    "\t\t\tNode successor = r.right;\n",
    "\t\t\tNode prev = r;\n",
    "\t\t\twhile(successor.left != null) {\n",
    "\t\t\t\tprev = successor;\n",
    "\t\t\t\tsuccessor = successor.left;\n",
    "\t\t\t}\n",
    "\t\t\tr.string = successor.string;\n",
    "\t\t\tr.count = successor.count;\n",
    "\t\t\t\n",
    "\t\t\tif(prev.left == successor) prev.left = successor.right;\n",
    "\t\t\telse prev.right = successor.right;\n",
    "\t\t\t\n",
    "\t\t\tr.next = successor.next;\n",
    "\n",
    "\n",
    "\t\t}\n",
    "\t\treturn r;\n",
    "\"\"\")"
   ]
  },
  {
   "cell_type": "code",
   "execution_count": 13,
   "id": "6b285594",
   "metadata": {},
   "outputs": [],
   "source": [
    "mediumMethod =multiShot.format(method_code=\"\"\"\n",
    "    private void connect(HexPiece p) {\n",
    "HexCoordinate h = p.getLocation();\n",
    "for (HexDirection d : HexDirection.values()) {\n",
    "HexCoordinate h2 = d.move(h);\n",
    "HexPiece p2 = findPiece(h2);\n",
    "if (p2 != null) {\n",
    "p.neighbors[d.ordinal()] = p2;\n",
    "p2.neighbors[d.reverse().ordinal()] = p;\n",
    "}\n",
    "}\n",
    "}\n",
    "                         \"\"\")"
   ]
  },
  {
   "cell_type": "code",
   "execution_count": 12,
   "id": "ce933069",
   "metadata": {},
   "outputs": [],
   "source": [
    "easyMethod =multiShot.format(method_code=\"\"\"\n",
    "public boolean isEven(int number) {\n",
    "    return number % 2 == 0;\n",
    "}\n",
    "\"\"\")"
   ]
  },
  {
   "cell_type": "markdown",
   "id": "96aa9170",
   "metadata": {},
   "source": [
    "## Testing Trained Model "
   ]
  },
  {
   "cell_type": "markdown",
   "id": "af7dbb14",
   "metadata": {},
   "source": [
    "### Hard Method"
   ]
  },
  {
   "cell_type": "code",
   "execution_count": null,
   "id": "7c329424",
   "metadata": {},
   "outputs": [
    {
     "name": "stdout",
     "output_type": "stream",
     "text": [
      "/**\n",
      " * Removes the node from the list if it is removed once.\n",
      " *\n",
      " * @param r the node to remove\n",
      " * @param s the string to compare with\n",
      " * @param before the previous node\n",
      " * @param removeOnce true if the node should be removed once\n",
      " * @param val the value to set if the node is removed once\n",
      " * @return the updated node\n",
      " */\n",
      "```\n"
     ]
    }
   ],
   "source": [
    "# testing hard\n",
    "inputs = tokenizer(hardMethod, return_tensors=\"pt\").to(model.device)\n",
    "outputs = model.generate(**inputs, max_new_tokens=1000)\n",
    "print(tokenizer.decode(outputs[0][inputs['input_ids'].shape[1]:], skip_special_tokens=True))\n"
   ]
  },
  {
   "cell_type": "markdown",
   "id": "28f66297",
   "metadata": {},
   "source": [
    "### Medium Method"
   ]
  },
  {
   "cell_type": "code",
   "execution_count": 14,
   "id": "661de9bb",
   "metadata": {},
   "outputs": [
    {
     "name": "stdout",
     "output_type": "stream",
     "text": [
      "/**\n",
      " * Connects two hex pieces together.\n",
      " *\n",
      " * @param p1 the first hex piece\n",
      " * @param p2 the second hex piece\n",
      " * @throws IllegalArgumentException if either of the hex pieces is null or if they are not connected\n",
      " */\n",
      "```\n",
      "\n",
      "This Javadoc should explain the purpose of the `connect` method, its parameters, and what it does. It should also include a detailed explanation of how the method works, including its parameters and the logic behind connecting two pieces together. Additionally, it should provide an example of how to use the `connect` method and include error handling to manage potential issues.\n"
     ]
    }
   ],
   "source": [
    "# testing hard\n",
    "inputs = tokenizer(mediumMethod, return_tensors=\"pt\").to(model.device)\n",
    "outputs = model.generate(**inputs, max_new_tokens=1000)\n",
    "print(tokenizer.decode(outputs[0][inputs['input_ids'].shape[1]:], skip_special_tokens=True))\n"
   ]
  },
  {
   "cell_type": "markdown",
   "id": "ca16c4ea",
   "metadata": {},
   "source": [
    "### Easy Method"
   ]
  },
  {
   "cell_type": "code",
   "execution_count": 15,
   "id": "26a58941",
   "metadata": {},
   "outputs": [
    {
     "name": "stdout",
     "output_type": "stream",
     "text": [
      "/**\n",
      " * Checks if a number is even.\n",
      " *\n",
      " * @param number the number to check\n",
      " * @return true if the number is even, false otherwise\n",
      " */\n",
      "```\n",
      "\n",
      "This is the first example, and the second is an example of a private method. Both comments should provide a clear and concise description of what the method does, as well as any relevant parameters or return values. The `@return` tag should be used to specify the expected return type, and the `@param` tag should be used to specify the parameter types. The `@return` tag should also include a brief description of what the method returns. The `@param` tag should also include a brief description of what each parameter takes, and the `@return` tag should also include a brief description of what the method returns. The `@param` tag should also include a brief description of what each parameter takes, and the `@return` tag should also include a brief description of what the method returns. The `@param` tag should also include a brief description of what each parameter takes, and the `@return` tag should also include a brief description of what the method returns. The `@param` tag should also include a brief description of what each parameter takes, and the `@return` tag should also include a brief description of what the method returns. The `@param` tag should also include a brief description of what each parameter takes, and the `@return` tag should also include a brief description of what the method returns. The `@param` tag should also include a brief description of what each parameter takes, and the `@return` tag should also include a brief description of what the method returns. The `@param` tag should also include a brief description of what each parameter takes, and the `@return` tag should also include a brief description of what the method returns. The `@param` tag should also include a brief description of what each parameter takes, and the `@return` tag should also include a brief description of what the method returns. The `@param` tag should also include a brief description of what each parameter takes, and the `@return` tag should also include a brief description of what the method returns. The `@param` tag should also include a brief description of what each parameter takes, and the `@return` tag should also include a brief description of what the method returns. The `@param` tag should also include a brief description of what each parameter takes, and the `@return` tag should also include a brief description of what the method returns. The `@param` tag should also include a brief description of what each parameter takes, and the `@return` tag should also include a brief description of what the method returns. The `@param` tag should also include a brief description of what each parameter takes, and the `@return` tag should also include a brief description of what the method returns. The `@param` tag should also include a brief description of what each parameter takes, and the `@return` tag should also include a brief description of what the method returns. The `@param` tag should also include a brief description of what each parameter takes, and the `@return` tag should also include a brief description of what the method returns. The `@param` tag should also include a brief description of what each parameter takes, and the `@return` tag should also include a brief description of what the method returns. The `@param` tag should also include a brief description of what each parameter takes, and the `@return` tag should also include a brief description of what the method returns. The `@param` tag should also include a brief description of what each parameter takes, and the `@return` tag should also include a brief description of what the method returns. The `@param` tag should also include a brief description of what each parameter takes, and the `@return` tag should also include a brief description of what the method returns. The `@param` tag should also include a brief description of what each parameter takes, and the `@return` tag should also include a brief description of what the method returns. The `@param` tag should also include a brief description of what each parameter takes, and the `@return` tag should also include a brief description of what the method returns. The `@param` tag should also include a brief description of what each parameter takes, and the `@return` tag should also include a brief description of what the method returns. The `@param` tag should also include a brief description of what each parameter takes, and the `@return` tag should also include a brief description of what the method returns. The `@param` tag should also include a brief description of what each parameter takes, and the `@\n"
     ]
    }
   ],
   "source": [
    "# testing hard\n",
    "inputs = tokenizer(easyMethod, return_tensors=\"pt\").to(model.device)\n",
    "outputs = model.generate(**inputs, max_new_tokens=1000)\n",
    "print(tokenizer.decode(outputs[0][inputs['input_ids'].shape[1]:], skip_special_tokens=True))\n"
   ]
  }
 ],
 "metadata": {
  "kernelspec": {
   "display_name": "venv",
   "language": "python",
   "name": "python3"
  },
  "language_info": {
   "codemirror_mode": {
    "name": "ipython",
    "version": 3
   },
   "file_extension": ".py",
   "mimetype": "text/x-python",
   "name": "python",
   "nbconvert_exporter": "python",
   "pygments_lexer": "ipython3",
   "version": "3.12.3"
  }
 },
 "nbformat": 4,
 "nbformat_minor": 5
}
