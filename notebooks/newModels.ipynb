{
 "cells": [
  {
   "cell_type": "markdown",
   "id": "c97f2b72",
   "metadata": {},
   "source": [
    "# Testing our fine tuned models "
   ]
  },
  {
   "cell_type": "markdown",
   "id": "91298fbd",
   "metadata": {},
   "source": [
    "## Setup"
   ]
  },
  {
   "cell_type": "code",
   "execution_count": 10,
   "id": "3b797ebc",
   "metadata": {},
   "outputs": [],
   "source": [
    "from transformers import AutoModelForCausalLM, AutoTokenizer\n",
    "import torch\n",
    "\n",
    "model = AutoModelForCausalLM.from_pretrained(\"Eyas1/fine_tuned_qwen_java_docs\")\n",
    "tokenizer = AutoTokenizer.from_pretrained(\"Eyas1/fine_tuned_qwen_java_docs\")\n"
   ]
  },
  {
   "cell_type": "code",
   "execution_count": null,
   "id": "7a75a783",
   "metadata": {},
   "outputs": [],
   "source": []
  }
 ],
 "metadata": {
  "kernelspec": {
   "display_name": "venv",
   "language": "python",
   "name": "python3"
  },
  "language_info": {
   "codemirror_mode": {
    "name": "ipython",
    "version": 3
   },
   "file_extension": ".py",
   "mimetype": "text/x-python",
   "name": "python",
   "nbconvert_exporter": "python",
   "pygments_lexer": "ipython3",
   "version": "3.12.3"
  }
 },
 "nbformat": 4,
 "nbformat_minor": 5
}
