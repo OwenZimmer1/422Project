{
 "cells": [
  {
   "cell_type": "markdown",
   "id": "69cd6ca5",
   "metadata": {},
   "source": [
    "# Model Testing \n",
    "\n",
    "**Here are my PC specs :)** \n",
    " - CPU: AMD 5900x (12 core, 24 thread)\n",
    " - GPU: RTX 3080ti (12gb VRAM)\n",
    " - MEMORY: 32gb 3600mhz\n",
    " - STORAGE: 2 x 2TB NVME\n",
    "---"
   ]
  },
  {
   "cell_type": "code",
   "execution_count": 52,
   "id": "29da2b2a",
   "metadata": {},
   "outputs": [],
   "source": [
    "# import the stuff we need\n",
    "import langchain\n",
    "import ollama"
   ]
  },
  {
   "cell_type": "markdown",
   "id": "17aea266",
   "metadata": {},
   "source": [
    "---\n",
    "## Model Selections \n",
    " - Qwen 2.5 coder (0.5b) \n",
    " - Code llama (7b)\n",
    "\n",
    "---\n"
   ]
  },
  {
   "cell_type": "code",
   "execution_count": 6,
   "id": "374e640e",
   "metadata": {},
   "outputs": [],
   "source": [
    "# pick what model to use \n",
    "model1 = 'qwen2.5-coder:0.5b'\n",
    "model2 = 'codellama:7b'\n"
   ]
  },
  {
   "cell_type": "markdown",
   "id": "1b1caede",
   "metadata": {},
   "source": [
    "---\n",
    "## Prompt templates\n",
    " - Zero Shot\n",
    " - One Shot \n",
    " - Multi Shot\n",
    " - Chain of Thought \n",
    " - One Shot + Chain of Thought\n",
    "---"
   ]
  },
  {
   "cell_type": "code",
   "execution_count": 12,
   "id": "967fb2c1",
   "metadata": {},
   "outputs": [],
   "source": [
    "# import the prompt block\n",
    "from langchain.prompts import PromptTemplate"
   ]
  },
  {
   "cell_type": "markdown",
   "id": "f3c84615",
   "metadata": {},
   "source": [
    "### Zero Shot"
   ]
  },
  {
   "cell_type": "code",
   "execution_count": 13,
   "id": "fe6a12e3",
   "metadata": {},
   "outputs": [],
   "source": [
    "zeroShot = PromptTemplate(\n",
    "    input_variables=[\"method_code\"],\n",
    "    template='''\\\n",
    "Write a professional Javadoc comment for the following Java method. Only tell me the javadoc, **do not return any code**\n",
    "\n",
    "Method:\n",
    "{method_code}\n",
    "\n",
    "Javadoc:\n",
    "''')"
   ]
  },
  {
   "cell_type": "markdown",
   "id": "19ea0b7c",
   "metadata": {},
   "source": [
    "### One Shot"
   ]
  },
  {
   "cell_type": "code",
   "execution_count": 14,
   "id": "99dfda1a",
   "metadata": {},
   "outputs": [],
   "source": [
    "oneShot = PromptTemplate(\n",
    "    input_variables=[\"method_code\"],\n",
    "    template='''\\\n",
    "You are a java expert. Write a professional Javadoc comment for the following Java method. Be concise but informative.\n",
    "\n",
    "Example:\n",
    "Method:\n",
    "public String reverseProcessed(String text) {{\n",
    "    if (text == null) return null;\n",
    "    String cleaned = text.trim().toLowerCase();\n",
    "    return new StringBuilder(cleaned).reverse().toString();\n",
    "}}\n",
    "\n",
    "Expected Output:\n",
    "/**\n",
    " * Reverses the characters in the given string after trimming whitespace and converting to lowercase.\n",
    " *\n",
    " * @param text the input string to process\n",
    " * @return the reversed, lowercase, trimmed string\n",
    " */\n",
    "\n",
    "make sure to only include the java doc comment, and not the method itself.\n",
    "now write a expertly written javadoc comment for this method:\n",
    "{method_code}\n",
    "'''\n",
    ")\n"
   ]
  },
  {
   "cell_type": "markdown",
   "id": "794c94ea",
   "metadata": {},
   "source": [
    "### Multi Shot"
   ]
  },
  {
   "cell_type": "code",
   "execution_count": 15,
   "id": "087b04ab",
   "metadata": {},
   "outputs": [],
   "source": [
    "multiShot = PromptTemplate(\n",
    "    input_variables=[\"method_code\"],\n",
    "    template='''\\\n",
    "Write a professional Javadoc comment for the following Java method. Only tell me the javadoc, **do not return any code.** \n",
    "\n",
    "Example 1:\n",
    "Method:\n",
    "public String reverseProcessed(String text) {{\n",
    "    if (text == null) return null;\n",
    "    String cleaned = text.trim().toLowerCase();\n",
    "    return new StringBuilder(cleaned).reverse().toString();\n",
    "}}\n",
    "\n",
    "Javadoc:\n",
    "/**\n",
    " * Reverses the characters in the given string after trimming whitespace and converting to lowercase.\n",
    " *\n",
    " * @param text the input string to process\n",
    " * @return the reversed, lowercase, trimmed string\n",
    " */\n",
    "\n",
    "Example 2:\n",
    "Method:\n",
    "private int add(int a, int b) {{\n",
    "    return a + b;\n",
    "}}\n",
    "\n",
    "Javadoc:\n",
    "/**\n",
    " * Adds two integers.\n",
    " *\n",
    " * @param a the first integer\n",
    " * @param b the second integer\n",
    " * @return the sum of the two integers\n",
    " */\n",
    "\n",
    "Now write a Javadoc comment for this method:\n",
    "Method:\n",
    "{method_code}\n",
    "\n",
    "Javadoc:\n",
    "'''\n",
    ")"
   ]
  },
  {
   "cell_type": "markdown",
   "id": "ed8c7917",
   "metadata": {},
   "source": [
    "### Chain of thought"
   ]
  },
  {
   "cell_type": "code",
   "execution_count": 16,
   "id": "57ba9371",
   "metadata": {},
   "outputs": [],
   "source": [
    "chainOfThought = PromptTemplate(\n",
    "    input_variables=[\"method_code\"],\n",
    "    template='''\\\n",
    "Write to me a professional javadoc for this Java funcion. Here are the steps you should take:\n",
    "1. Is this method for a data structure? If so, what data structure?\n",
    "2. What are the parameters?\n",
    "3. What does the method do? Look at the name of the method\n",
    "4. How does the method do what it does? Are there edge cases?\n",
    "5. What exceptions does the method throw?\n",
    "6. What is the state of the object before the method is called?\n",
    "7. What is the state of the object after the method is called?\n",
    "8. What does the method return?\n",
    "9. Is this method overriding another method?\n",
    "Once you have finished the analysis, generate a professional javadoc with a clear description of what the method does, parameters taken in, return values, pre and post conditions, exceptions, and any other notes that should be in the javadoc. \n",
    "\n",
    "Now write a Javadoc comment for this method:\n",
    "Method:\n",
    "{method_code}\n",
    "\n",
    "Javadoc:\n",
    "'''\n",
    ")"
   ]
  },
  {
   "cell_type": "markdown",
   "id": "43799b49",
   "metadata": {},
   "source": [
    "### One Shot + Chain of Thought"
   ]
  },
  {
   "cell_type": "code",
   "execution_count": 17,
   "id": "13eddec7",
   "metadata": {},
   "outputs": [],
   "source": [
    "from langchain.prompts import PromptTemplate\n",
    "\n",
    "oneShotChain = PromptTemplate(\n",
    "    input_variables=[\"method_code\"],\n",
    "    template='''\\\n",
    "You are a Java expert. Given a method, write a clear and professional Javadoc comment **first**, followed by a simple, high-school-level explanation of what the method does.\n",
    "\n",
    "**Rules:**\n",
    "- Do not return or repeat the method code.\n",
    "- Do not return any code other than the Javadoc.\n",
    "- The Javadoc must be written first and placed inside a proper Java-style code block.\n",
    "- Then give a numbered explanation in plain English, answering:\n",
    "  1. Is this method for a data structure? If so, which one?\n",
    "  2. What are the parameters?\n",
    "  3. What does the method do overall?\n",
    "\n",
    "Example:\n",
    "Method:\n",
    "public String reverseProcessed(String text) {{\n",
    "    if (text == null) return null;\n",
    "    String cleaned = text.trim().toLowerCase();\n",
    "    return new StringBuilder(cleaned).reverse().toString();\n",
    "}}\n",
    "\n",
    "Expected Output:\n",
    "/**\n",
    " * Reverses the characters in the given string after trimming whitespace and converting to lowercase.\n",
    " *\n",
    " * @param text the input string to process\n",
    " * @return the reversed, lowercase, trimmed string\n",
    " */\n",
    "\n",
    "Reasoning:\n",
    "Checks for null, trims and lowercases the input, then reverses it.\n",
    "\n",
    "Now analyze and write a Javadoc for the following method:\n",
    "{method_code}\n",
    "'''\n",
    ")\n"
   ]
  },
  {
   "cell_type": "markdown",
   "id": "332f42a9",
   "metadata": {},
   "source": [
    "---\n",
    "## Sample code \n",
    " - isEven (Easy)\n",
    " - Connect (Medium)\n",
    " - Remove from BST (Hard)\n",
    "---"
   ]
  },
  {
   "cell_type": "markdown",
   "id": "da5f66ec",
   "metadata": {},
   "source": [
    "### isEven\n"
   ]
  },
  {
   "cell_type": "code",
   "execution_count": 18,
   "id": "270f345f",
   "metadata": {},
   "outputs": [],
   "source": [
    "easyMethodZero = zeroShot.format(\n",
    "       method_code = \"\"\"\n",
    "public boolean isEven(int number) {\n",
    "    return number % 2 == 0;\n",
    "}\n",
    "\"\"\"\n",
    ")"
   ]
  },
  {
   "cell_type": "code",
   "execution_count": 19,
   "id": "8aae33a4",
   "metadata": {},
   "outputs": [],
   "source": [
    "easyMethodOne = oneShot.format(\n",
    "       method_code = \"\"\"\n",
    "public boolean isEven(int number) {\n",
    "    return number % 2 == 0;\n",
    "}\n",
    "\"\"\"\n",
    ")"
   ]
  },
  {
   "cell_type": "code",
   "execution_count": 20,
   "id": "59fe64e6",
   "metadata": {},
   "outputs": [],
   "source": [
    "easyMethodMulti = multiShot.format(\n",
    "       method_code = \"\"\"\n",
    "public boolean isEven(int number) {\n",
    "    return number % 2 == 0;\n",
    "}\n",
    "\"\"\"\n",
    ")"
   ]
  },
  {
   "cell_type": "code",
   "execution_count": 21,
   "id": "a7ea33f7",
   "metadata": {},
   "outputs": [],
   "source": [
    "easyMethodChain = chainOfThought.format(\n",
    "       method_code = \"\"\"\n",
    "public boolean isEven(int number) {\n",
    "    return number % 2 == 0;\n",
    "}\n",
    "\"\"\"\n",
    ")"
   ]
  },
  {
   "cell_type": "code",
   "execution_count": 22,
   "id": "3456ebc7",
   "metadata": {},
   "outputs": [],
   "source": [
    "easyMethodOneChain = oneShotChain.format(\n",
    "       method_code = \"\"\"\n",
    "public boolean isEven(int number) {\n",
    "    return number % 2 == 0;\n",
    "}\n",
    "\"\"\"\n",
    ")"
   ]
  },
  {
   "cell_type": "markdown",
   "id": "ebc34a99",
   "metadata": {},
   "source": [
    "### Connect "
   ]
  },
  {
   "cell_type": "code",
   "execution_count": 23,
   "id": "ce0eb9fd",
   "metadata": {},
   "outputs": [],
   "source": [
    "# add some content \n",
    "mediumZero = zeroShot.format(\n",
    "    method_code = \"\"\"\n",
    "    private void connect(HexPiece p) {\n",
    "HexCoordinate h = p.getLocation();\n",
    "for (HexDirection d : HexDirection.values()) {\n",
    "HexCoordinate h2 = d.move(h);\n",
    "HexPiece p2 = findPiece(h2);\n",
    "if (p2 != null) {\n",
    "p.neighbors[d.ordinal()] = p2;\n",
    "p2.neighbors[d.reverse().ordinal()] = p;\n",
    "}\n",
    "}\n",
    "}\n",
    "                         \"\"\")"
   ]
  },
  {
   "cell_type": "code",
   "execution_count": 24,
   "id": "82605a99",
   "metadata": {},
   "outputs": [],
   "source": [
    "mediumOne = oneShot.format(\n",
    "    method_code = \"\"\"\n",
    "    private void connect(HexPiece p) {\n",
    "HexCoordinate h = p.getLocation();\n",
    "for (HexDirection d : HexDirection.values()) {\n",
    "HexCoordinate h2 = d.move(h);\n",
    "HexPiece p2 = findPiece(h2);\n",
    "if (p2 != null) {\n",
    "p.neighbors[d.ordinal()] = p2;\n",
    "p2.neighbors[d.reverse().ordinal()] = p;\n",
    "}\n",
    "}\n",
    "}\n",
    "                         \"\"\")"
   ]
  },
  {
   "cell_type": "code",
   "execution_count": 25,
   "id": "2fab1dba",
   "metadata": {},
   "outputs": [],
   "source": [
    "mediumMulti = multiShot.format(\n",
    "    method_code = \"\"\"\n",
    "    private void connect(HexPiece p) {\n",
    "HexCoordinate h = p.getLocation();\n",
    "for (HexDirection d : HexDirection.values()) {\n",
    "HexCoordinate h2 = d.move(h);\n",
    "HexPiece p2 = findPiece(h2);\n",
    "if (p2 != null) {\n",
    "p.neighbors[d.ordinal()] = p2;\n",
    "p2.neighbors[d.reverse().ordinal()] = p;\n",
    "}\n",
    "}\n",
    "}\n",
    "                         \"\"\")"
   ]
  },
  {
   "cell_type": "code",
   "execution_count": 26,
   "id": "509b8a4d",
   "metadata": {},
   "outputs": [],
   "source": [
    "mediumChain = chainOfThought.format(\n",
    "    method_code = \"\"\"\n",
    "    private void connect(HexPiece p) {\n",
    "HexCoordinate h = p.getLocation();\n",
    "for (HexDirection d : HexDirection.values()) {\n",
    "HexCoordinate h2 = d.move(h);\n",
    "HexPiece p2 = findPiece(h2);\n",
    "if (p2 != null) {\n",
    "p.neighbors[d.ordinal()] = p2;\n",
    "p2.neighbors[d.reverse().ordinal()] = p;\n",
    "}\n",
    "}\n",
    "}\n",
    "                         \"\"\")"
   ]
  },
  {
   "cell_type": "code",
   "execution_count": 27,
   "id": "6aaa3a23",
   "metadata": {},
   "outputs": [],
   "source": [
    "mediumOneChain = oneShotChain.format(\n",
    "    method_code = \"\"\"\n",
    "    private void connect(HexPiece p) {\n",
    "HexCoordinate h = p.getLocation();\n",
    "for (HexDirection d : HexDirection.values()) {\n",
    "HexCoordinate h2 = d.move(h);\n",
    "HexPiece p2 = findPiece(h2);\n",
    "if (p2 != null) {\n",
    "p.neighbors[d.ordinal()] = p2;\n",
    "p2.neighbors[d.reverse().ordinal()] = p;\n",
    "}\n",
    "}\n",
    "}\n",
    "                         \"\"\")"
   ]
  },
  {
   "cell_type": "markdown",
   "id": "8fcebad1",
   "metadata": {},
   "source": [
    "### Remove from BST"
   ]
  },
  {
   "cell_type": "code",
   "execution_count": 28,
   "id": "49fab33a",
   "metadata": {},
   "outputs": [],
   "source": [
    "hardZero = zeroShot.format(method_code=\n",
    "    \"\"\"private Node doRemove(Node r, String s, Node before, boolean removeOnce, Integer val) {\n",
    "\t\tif(r == null) {\n",
    "\t\t\tlastRemoved = null;\n",
    "\t\t\treturn null;\n",
    "\t\t}\n",
    "\t\tint c = s.compareTo(r.string);\n",
    "\t\tif(c < 0) r.left = doRemove(r.left, s, before, removeOnce, val);\n",
    "\t\telse if(c > 0) r.right = doRemove(r.right, s, r, removeOnce, val);\n",
    "\t\telse {\n",
    "\t\t\tif(val != null && val != r.count) return r;\n",
    "\t\t\tlastRemoved = r.count;\n",
    "\t\t\tif(removeOnce && r.count > 1) {\n",
    "\t\t\t\tr.count--;\n",
    "\t\t\t\treturn r;\n",
    "\t\t\t}\n",
    "\t\t\tif(before.next != r) {\n",
    "\t\t\t\tbefore = r.left;\n",
    "\t\t\t\twhile(before.right != null) before = before.right;\n",
    "\t\t\t}\n",
    "\t\t\tversion++;\n",
    "\t\t\tnumEntries--;\n",
    "\t\t\tif(r.left == null) {\n",
    "\t\t\t\tbefore.next = r.next;\n",
    "\t\t\t\treturn r.right;\n",
    "\t\t\t}\n",
    "\t\t\tif(r.right == null) {\n",
    "\t\t\t\tbefore.next = r.next;\n",
    "\t\t\t\treturn r.left;\n",
    "\t\t\t}\n",
    "\t\t\t\n",
    "\t\t\tNode successor = r.right;\n",
    "\t\t\tNode prev = r;\n",
    "\t\t\twhile(successor.left != null) {\n",
    "\t\t\t\tprev = successor;\n",
    "\t\t\t\tsuccessor = successor.left;\n",
    "\t\t\t}\n",
    "\t\t\tr.string = successor.string;\n",
    "\t\t\tr.count = successor.count;\n",
    "\t\t\t\n",
    "\t\t\tif(prev.left == successor) prev.left = successor.right;\n",
    "\t\t\telse prev.right = successor.right;\n",
    "\t\t\t\n",
    "\t\t\tr.next = successor.next;\n",
    "\n",
    "\n",
    "\t\t}\n",
    "\t\treturn r;\n",
    "\"\"\"\n",
    ")"
   ]
  },
  {
   "cell_type": "code",
   "execution_count": 29,
   "id": "5af81cbb",
   "metadata": {},
   "outputs": [],
   "source": [
    "hardOne = oneShot.format(method_code=\n",
    "    \"\"\"private Node doRemove(Node r, String s, Node before, boolean removeOnce, Integer val) {\n",
    "\t\tif(r == null) {\n",
    "\t\t\tlastRemoved = null;\n",
    "\t\t\treturn null;\n",
    "\t\t}\n",
    "\t\tint c = s.compareTo(r.string);\n",
    "\t\tif(c < 0) r.left = doRemove(r.left, s, before, removeOnce, val);\n",
    "\t\telse if(c > 0) r.right = doRemove(r.right, s, r, removeOnce, val);\n",
    "\t\telse {\n",
    "\t\t\tif(val != null && val != r.count) return r;\n",
    "\t\t\tlastRemoved = r.count;\n",
    "\t\t\tif(removeOnce && r.count > 1) {\n",
    "\t\t\t\tr.count--;\n",
    "\t\t\t\treturn r;\n",
    "\t\t\t}\n",
    "\t\t\tif(before.next != r) {\n",
    "\t\t\t\tbefore = r.left;\n",
    "\t\t\t\twhile(before.right != null) before = before.right;\n",
    "\t\t\t}\n",
    "\t\t\tversion++;\n",
    "\t\t\tnumEntries--;\n",
    "\t\t\tif(r.left == null) {\n",
    "\t\t\t\tbefore.next = r.next;\n",
    "\t\t\t\treturn r.right;\n",
    "\t\t\t}\n",
    "\t\t\tif(r.right == null) {\n",
    "\t\t\t\tbefore.next = r.next;\n",
    "\t\t\t\treturn r.left;\n",
    "\t\t\t}\n",
    "\t\t\t\n",
    "\t\t\tNode successor = r.right;\n",
    "\t\t\tNode prev = r;\n",
    "\t\t\twhile(successor.left != null) {\n",
    "\t\t\t\tprev = successor;\n",
    "\t\t\t\tsuccessor = successor.left;\n",
    "\t\t\t}\n",
    "\t\t\tr.string = successor.string;\n",
    "\t\t\tr.count = successor.count;\n",
    "\t\t\t\n",
    "\t\t\tif(prev.left == successor) prev.left = successor.right;\n",
    "\t\t\telse prev.right = successor.right;\n",
    "\t\t\t\n",
    "\t\t\tr.next = successor.next;\n",
    "\n",
    "\n",
    "\t\t}\n",
    "\t\treturn r;\n",
    "\"\"\"\n",
    ")"
   ]
  },
  {
   "cell_type": "code",
   "execution_count": 30,
   "id": "0a088439",
   "metadata": {},
   "outputs": [],
   "source": [
    "hardMulti = multiShot.format(method_code=\n",
    "    \"\"\"private Node doRemove(Node r, String s, Node before, boolean removeOnce, Integer val) {\n",
    "\t\tif(r == null) {\n",
    "\t\t\tlastRemoved = null;\n",
    "\t\t\treturn null;\n",
    "\t\t}\n",
    "\t\tint c = s.compareTo(r.string);\n",
    "\t\tif(c < 0) r.left = doRemove(r.left, s, before, removeOnce, val);\n",
    "\t\telse if(c > 0) r.right = doRemove(r.right, s, r, removeOnce, val);\n",
    "\t\telse {\n",
    "\t\t\tif(val != null && val != r.count) return r;\n",
    "\t\t\tlastRemoved = r.count;\n",
    "\t\t\tif(removeOnce && r.count > 1) {\n",
    "\t\t\t\tr.count--;\n",
    "\t\t\t\treturn r;\n",
    "\t\t\t}\n",
    "\t\t\tif(before.next != r) {\n",
    "\t\t\t\tbefore = r.left;\n",
    "\t\t\t\twhile(before.right != null) before = before.right;\n",
    "\t\t\t}\n",
    "\t\t\tversion++;\n",
    "\t\t\tnumEntries--;\n",
    "\t\t\tif(r.left == null) {\n",
    "\t\t\t\tbefore.next = r.next;\n",
    "\t\t\t\treturn r.right;\n",
    "\t\t\t}\n",
    "\t\t\tif(r.right == null) {\n",
    "\t\t\t\tbefore.next = r.next;\n",
    "\t\t\t\treturn r.left;\n",
    "\t\t\t}\n",
    "\t\t\t\n",
    "\t\t\tNode successor = r.right;\n",
    "\t\t\tNode prev = r;\n",
    "\t\t\twhile(successor.left != null) {\n",
    "\t\t\t\tprev = successor;\n",
    "\t\t\t\tsuccessor = successor.left;\n",
    "\t\t\t}\n",
    "\t\t\tr.string = successor.string;\n",
    "\t\t\tr.count = successor.count;\n",
    "\t\t\t\n",
    "\t\t\tif(prev.left == successor) prev.left = successor.right;\n",
    "\t\t\telse prev.right = successor.right;\n",
    "\t\t\t\n",
    "\t\t\tr.next = successor.next;\n",
    "\n",
    "\n",
    "\t\t}\n",
    "\t\treturn r;\n",
    "\"\"\"\n",
    ")"
   ]
  },
  {
   "cell_type": "code",
   "execution_count": 31,
   "id": "b446b441",
   "metadata": {},
   "outputs": [],
   "source": [
    "hardChain = chainOfThought.format(method_code=\n",
    "    \"\"\"private Node doRemove(Node r, String s, Node before, boolean removeOnce, Integer val) {\n",
    "\t\tif(r == null) {\n",
    "\t\t\tlastRemoved = null;\n",
    "\t\t\treturn null;\n",
    "\t\t}\n",
    "\t\tint c = s.compareTo(r.string);\n",
    "\t\tif(c < 0) r.left = doRemove(r.left, s, before, removeOnce, val);\n",
    "\t\telse if(c > 0) r.right = doRemove(r.right, s, r, removeOnce, val);\n",
    "\t\telse {\n",
    "\t\t\tif(val != null && val != r.count) return r;\n",
    "\t\t\tlastRemoved = r.count;\n",
    "\t\t\tif(removeOnce && r.count > 1) {\n",
    "\t\t\t\tr.count--;\n",
    "\t\t\t\treturn r;\n",
    "\t\t\t}\n",
    "\t\t\tif(before.next != r) {\n",
    "\t\t\t\tbefore = r.left;\n",
    "\t\t\t\twhile(before.right != null) before = before.right;\n",
    "\t\t\t}\n",
    "\t\t\tversion++;\n",
    "\t\t\tnumEntries--;\n",
    "\t\t\tif(r.left == null) {\n",
    "\t\t\t\tbefore.next = r.next;\n",
    "\t\t\t\treturn r.right;\n",
    "\t\t\t}\n",
    "\t\t\tif(r.right == null) {\n",
    "\t\t\t\tbefore.next = r.next;\n",
    "\t\t\t\treturn r.left;\n",
    "\t\t\t}\n",
    "\t\t\t\n",
    "\t\t\tNode successor = r.right;\n",
    "\t\t\tNode prev = r;\n",
    "\t\t\twhile(successor.left != null) {\n",
    "\t\t\t\tprev = successor;\n",
    "\t\t\t\tsuccessor = successor.left;\n",
    "\t\t\t}\n",
    "\t\t\tr.string = successor.string;\n",
    "\t\t\tr.count = successor.count;\n",
    "\t\t\t\n",
    "\t\t\tif(prev.left == successor) prev.left = successor.right;\n",
    "\t\t\telse prev.right = successor.right;\n",
    "\t\t\t\n",
    "\t\t\tr.next = successor.next;\n",
    "\n",
    "\n",
    "\t\t}\n",
    "\t\treturn r;\n",
    "\"\"\"\n",
    ")"
   ]
  },
  {
   "cell_type": "code",
   "execution_count": 32,
   "id": "9c5ad6e0",
   "metadata": {},
   "outputs": [],
   "source": [
    "hardOneChain = oneShotChain.format(method_code=\n",
    "    \"\"\"private Node doRemove(Node r, String s, Node before, boolean removeOnce, Integer val) {\n",
    "\t\tif(r == null) {\n",
    "\t\t\tlastRemoved = null;\n",
    "\t\t\treturn null;\n",
    "\t\t}\n",
    "\t\tint c = s.compareTo(r.string);\n",
    "\t\tif(c < 0) r.left = doRemove(r.left, s, before, removeOnce, val);\n",
    "\t\telse if(c > 0) r.right = doRemove(r.right, s, r, removeOnce, val);\n",
    "\t\telse {\n",
    "\t\t\tif(val != null && val != r.count) return r;\n",
    "\t\t\tlastRemoved = r.count;\n",
    "\t\t\tif(removeOnce && r.count > 1) {\n",
    "\t\t\t\tr.count--;\n",
    "\t\t\t\treturn r;\n",
    "\t\t\t}\n",
    "\t\t\tif(before.next != r) {\n",
    "\t\t\t\tbefore = r.left;\n",
    "\t\t\t\twhile(before.right != null) before = before.right;\n",
    "\t\t\t}\n",
    "\t\t\tversion++;\n",
    "\t\t\tnumEntries--;\n",
    "\t\t\tif(r.left == null) {\n",
    "\t\t\t\tbefore.next = r.next;\n",
    "\t\t\t\treturn r.right;\n",
    "\t\t\t}\n",
    "\t\t\tif(r.right == null) {\n",
    "\t\t\t\tbefore.next = r.next;\n",
    "\t\t\t\treturn r.left;\n",
    "\t\t\t}\n",
    "\t\t\t\n",
    "\t\t\tNode successor = r.right;\n",
    "\t\t\tNode prev = r;\n",
    "\t\t\twhile(successor.left != null) {\n",
    "\t\t\t\tprev = successor;\n",
    "\t\t\t\tsuccessor = successor.left;\n",
    "\t\t\t}\n",
    "\t\t\tr.string = successor.string;\n",
    "\t\t\tr.count = successor.count;\n",
    "\t\t\t\n",
    "\t\t\tif(prev.left == successor) prev.left = successor.right;\n",
    "\t\t\telse prev.right = successor.right;\n",
    "\t\t\t\n",
    "\t\t\tr.next = successor.next;\n",
    "\n",
    "\n",
    "\t\t}\n",
    "\t\treturn r;\n",
    "\"\"\"\n",
    ")"
   ]
  },
  {
   "cell_type": "markdown",
   "id": "e7a99540",
   "metadata": {},
   "source": [
    "---\n",
    "## Evaluating outputs\n",
    "---\n"
   ]
  },
  {
   "cell_type": "markdown",
   "id": "b7c6cfee",
   "metadata": {},
   "source": [
    "### Qwen2.5 coder (0.5b)"
   ]
  },
  {
   "cell_type": "markdown",
   "id": "81c7f04b",
   "metadata": {},
   "source": [
    "#### isEven (Easy)\n"
   ]
  },
  {
   "cell_type": "markdown",
   "id": "218bde15",
   "metadata": {},
   "source": [
    "##### Zero Shot"
   ]
  },
  {
   "cell_type": "code",
   "execution_count": null,
   "id": "25d3440c",
   "metadata": {},
   "outputs": [
    {
     "name": "stdout",
     "output_type": "stream",
     "text": [
      "```java\n",
      "/**\n",
      " * Determines if the provided integer `number` is even.\n",
      " *\n",
      " * @param number The integer to check.\n",
      " * @return true if `number` is even, false otherwise.\n",
      " */\n",
      "public boolean isEven(int number) {\n",
      "    return number % 2 == 0;\n",
      "}\n",
      "```\n"
     ]
    }
   ],
   "source": [
    "# Zero Shot\n",
    "from ollama import chat\n",
    "\n",
    "response = chat(model=model1, messages=[{'role': 'user', 'content': easyMethodZero}])\n",
    "print(response['message']['content'])\n"
   ]
  },
  {
   "cell_type": "markdown",
   "id": "137b7413",
   "metadata": {},
   "source": [
    "##### One Shot"
   ]
  },
  {
   "cell_type": "code",
   "execution_count": 66,
   "id": "f80851b2",
   "metadata": {},
   "outputs": [
    {
     "name": "stdout",
     "output_type": "stream",
     "text": [
      "**JavaDoc Comment:**\n",
      "This method checks if the given integer is even. It first trims any leading or trailing whitespace from the input, converts it to lowercase, and then checks if the remainder when divided by 2 is zero.\n",
      "\n",
      "```java\n",
      "/**\n",
      " * Checks if a given integer is even.\n",
      " *\n",
      " * @param number the integer to check\n",
      " * @return true if the integer is even, false otherwise\n",
      " */\n",
      "public boolean isEven(int number) {\n",
      "    // Trim leading and trailing whitespace from the input\n",
      "    String trimmed = number.toString().trim();\n",
      "\n",
      "    // Convert string to lowercase\n",
      "    String lowerCaseTrimmed = trimmed.toLowerCase();\n",
      "\n",
      "    // Check if remainder of dividing by 2 is zero\n",
      "    return lowerCaseTrimmed % 2 == 0;\n",
      "}\n",
      "```\n"
     ]
    }
   ],
   "source": [
    "response = chat(model=model1, messages=[{'role': 'user', 'content': easyMethodOne}])\n",
    "print(response['message']['content'])"
   ]
  },
  {
   "cell_type": "markdown",
   "id": "2604f002",
   "metadata": {},
   "source": [
    "##### Multi Shot"
   ]
  },
  {
   "cell_type": "code",
   "execution_count": 67,
   "id": "b4ab0f5e",
   "metadata": {},
   "outputs": [
    {
     "name": "stdout",
     "output_type": "stream",
     "text": [
      "/**\n",
      " * Checks if a given integer is even.\n",
      " *\n",
      " * @param number the integer to check\n",
      " * @return true if the number is even, false otherwise\n",
      " */\n"
     ]
    }
   ],
   "source": [
    "response = chat(model=model1, messages=[{'role': 'user', 'content': easyMethodMulti}])\n",
    "print(response['message']['content'])"
   ]
  },
  {
   "cell_type": "markdown",
   "id": "3b04d096",
   "metadata": {},
   "source": [
    "##### Chain of Thought"
   ]
  },
  {
   "cell_type": "code",
   "execution_count": 68,
   "id": "d2cabfa7",
   "metadata": {},
   "outputs": [
    {
     "name": "stdout",
     "output_type": "stream",
     "text": [
      "### Java Method Description\n",
      "\n",
      "#### Method Name: `getEmployeeDetails`\n",
      "\n",
      "**Description:**\n",
      "The `getEmployeeDetails` method is designed to retrieve detailed information about an employee based on their unique identifier or ID.\n",
      "\n",
      "#### Parameters:\n",
      "- **id:** A long integer representing the ID of the employee.\n",
      "  \n",
      "#### Return Value:\n",
      "- A `Map<String, Object>` containing key-value pairs representing the details of the employee. The keys may include various attributes such as name, email, phone number, department, position, and any additional metadata.\n",
      "\n",
      "**Pre and Post Conditions:**\n",
      "1. **Parameter Validation:** The method checks if the provided ID is a valid long integer.\n",
      "2. **Data Retrieval:** If the ID is valid, it retrieves detailed information from a database or other data source using the provided key (e.g., employeeID).\n",
      "3. **Error Handling:** The method handles potential exceptions such as `NoSuchElementException` and invalid IDs by throwing an appropriate exception.\n",
      "\n",
      "**Exception:**\n",
      "- **IllegalArgumentException:** If the input ID is not a valid long integer.\n",
      "- **EmployeeNotFoundException:** If no employee with the specified ID can be found in the database.\n",
      "\n",
      "#### State Before and After Calls:\n",
      "- **Pre-call:** The method initializes `employeeDetails` with default values if it is null or empty.\n",
      "- **Post-call:** It updates `employeeDetails` with actual details from the database if a valid ID was provided.\n",
      "\n",
      "#### Return Value:\n",
      "- **Map<String, Object>:** A map containing the employee's information in the format `{\"name\": \"John Doe\", \"email\": \"john.doe@example.com\"}`.\n",
      "\n",
      "#### Example Usage:\n",
      "```java\n",
      "// Example usage of getEmployeeDetails method\n",
      "Employee employee = new Employee();\n",
      "employee.setId(12345L);\n",
      "Map<String, Object> details = employee.getEmployeeDetails();\n",
      "\n",
      "System.out.println(\"Name: \" + details.get(\"name\"));\n",
      "System.out.println(\"Email: \" + details.get(\"email\"));\n",
      "```\n",
      "\n",
      "#### Overriding Another Method:\n",
      "- **Overridden Method:** The `getEmployeeDetails` method overrides the `getDepartment` method from a superclass, which returns department information.\n",
      "  ```java\n",
      "  class Employee extends Person {\n",
      "      @Override\n",
      "      public String getDepartment() {\n",
      "          return super.getDepartment() + \", \" + this.employeeID;\n",
      "      }\n",
      "  }\n",
      "  \n",
      "  // Usage of overridden method\n",
      "  Employee employee = new Employee();\n",
      "  employee.setId(67890L);\n",
      "  System.out.println(employee.getDepartment());\n",
      "  ```\n",
      "\n",
      "This javadoc provides a comprehensive description of the `getEmployeeDetails` method, covering its parameters, return values, pre and post conditions, exceptions, state before and after calls, and examples.\n"
     ]
    }
   ],
   "source": [
    "response = chat(model=model1, messages=[{'role': 'user', 'content': easyMethodChain}])\n",
    "print(response['message']['content'])"
   ]
  },
  {
   "cell_type": "markdown",
   "id": "2a66aba4",
   "metadata": {},
   "source": [
    "##### One Shot + Chain of Thought"
   ]
  },
  {
   "cell_type": "code",
   "execution_count": 69,
   "id": "7a1da84c",
   "metadata": {},
   "outputs": [
    {
     "name": "stdout",
     "output_type": "stream",
     "text": [
      "```java\n",
      "/**\n",
      " * Determines if a given integer is even.\n",
      " *\n",
      " * This method takes an integer as input and returns true if the integer is even,\n",
      " * otherwise false. An even integer can be both positive and negative, but it must also be divisible by 2.\n",
      " *\n",
      " * @param number the integer to check\n",
      " * @return true if the number is even, false otherwise\n",
      " */\n",
      "public boolean isEven(int number) {\n",
      "    return number % 2 == 0;\n",
      "}\n",
      "```\n"
     ]
    }
   ],
   "source": [
    "response = chat(model=model1, messages=[{'role': 'user', 'content': easyMethodOneChain}])\n",
    "print(response['message']['content'])"
   ]
  },
  {
   "cell_type": "markdown",
   "id": "0fbf6224",
   "metadata": {},
   "source": [
    "#### Connect (medium)\n"
   ]
  },
  {
   "cell_type": "markdown",
   "id": "6c977140",
   "metadata": {},
   "source": [
    "##### Zero Shot"
   ]
  },
  {
   "cell_type": "code",
   "execution_count": 76,
   "id": "78fc60ae",
   "metadata": {},
   "outputs": [
    {
     "name": "stdout",
     "output_type": "stream",
     "text": [
      "```java\n",
      "/**\n",
      " * Connects two hex pieces.\n",
      " *\n",
      " * This method takes a HexPiece object, moves it to its neighboring direction,\n",
      " * and then finds the corresponding piece. It updates the neighbors array to reflect\n",
      " * the new positions of the connected pieces. If no such piece exists, it returns null.\n",
      " */\n",
      "private void connect(HexPiece p) {\n",
      "    HexCoordinate h = p.getLocation();\n",
      "    for (HexDirection d : HexDirection.values()) {\n",
      "        HexCoordinate h2 = d.move(h);\n",
      "        HexPiece p2 = findPiece(h2);\n",
      "        if (p2 != null) {\n",
      "            p.neighbors[d.ordinal()] = p2;\n",
      "            p2.neighbors[d.reverse().ordinal()] = p;\n",
      "        }\n",
      "    }\n",
      "}\n",
      "```\n"
     ]
    }
   ],
   "source": [
    "response = chat(model=model1, messages=[{'role': 'user', 'content': mediumZero}])\n",
    "print(response['message']['content'])"
   ]
  },
  {
   "cell_type": "markdown",
   "id": "1c37d201",
   "metadata": {},
   "source": [
    "##### One Shot"
   ]
  },
  {
   "cell_type": "code",
   "execution_count": 77,
   "id": "ce76f5ea",
   "metadata": {},
   "outputs": [
    {
     "name": "stdout",
     "output_type": "stream",
     "text": [
      "/**\n",
      " * Reverses the characters in the given string after trimming whitespace and converting to lowercase.\n",
      " *\n",
      " * @param text the input string to process\n",
      " * @return the reversed, lowercase, trimmed string\n",
      " */\n",
      "private void connect(HexPiece p) {\n",
      "    HexCoordinate h = p.getLocation();\n",
      "    for (HexDirection d : HexDirection.values()) {\n",
      "        HexCoordinate h2 = d.move(h);\n",
      "        HexPiece p2 = findPiece(h2);\n",
      "        if (p2 != null) {\n",
      "            p.neighbors[d.ordinal()] = p2;\n",
      "            p2.neighbors[d.reverse().ordinal()] = p;\n",
      "        }\n",
      "    }\n",
      "}\n"
     ]
    }
   ],
   "source": [
    "response = chat(model=model1, messages=[{'role': 'user', 'content': mediumOne}])\n",
    "print(response['message']['content'])"
   ]
  },
  {
   "cell_type": "markdown",
   "id": "6cb76359",
   "metadata": {},
   "source": [
    "##### Multi Shot"
   ]
  },
  {
   "cell_type": "code",
   "execution_count": 78,
   "id": "bf575ff9",
   "metadata": {},
   "outputs": [
    {
     "name": "stdout",
     "output_type": "stream",
     "text": [
      "```java\n",
      "/**\n",
      " * Connects two hexpieces.\n",
      " *\n",
      " * @param p the first hexpiece to connect\n",
      " * @param h1 the location of the first hexpiece\n",
      " * @param d1 the direction of movement for the first hexpiece\n",
      " * @param h2 the location of the second hexpiece\n",
      " * @param d2 the direction of movement for the second hexpiece\n",
      " */\n",
      "private void connect(HexPiece p) {\n",
      "    HexCoordinate h = p.getLocation();\n",
      "    for (HexDirection d : HexDirection.values()) {\n",
      "        HexCoordinate h2 = d.move(h);\n",
      "        HexPiece p2 = findPiece(h2);\n",
      "        if (p2 != null) {\n",
      "            p.neighbors[d.ordinal()] = p2;\n",
      "            p2.neighbors[d.reverse().ordinal()] = p;\n",
      "        }\n",
      "    }\n",
      "}\n",
      "```\n"
     ]
    }
   ],
   "source": [
    "response = chat(model=model1, messages=[{'role': 'user', 'content': mediumMulti}])\n",
    "print(response['message']['content'])"
   ]
  },
  {
   "cell_type": "markdown",
   "id": "2011c418",
   "metadata": {},
   "source": [
    "##### Chain of Thought "
   ]
  },
  {
   "cell_type": "code",
   "execution_count": 79,
   "id": "d2329bdf",
   "metadata": {},
   "outputs": [
    {
     "name": "stdout",
     "output_type": "stream",
     "text": [
      "```java\n",
      "/**\n",
      " * This class provides utility methods for working with strings.\n",
      " */\n",
      "public class StringUtil {\n",
      "\n",
      "    /**\n",
      "     * Converts a string to lowercase.\n",
      "     *\n",
      "     * @param input The string to convert.\n",
      "     * @return A new string with all characters converted to lowercase.\n",
      "     */\n",
      "    public static String toLowerCase(String input) {\n",
      "        return input.toLowerCase();\n",
      "    }\n",
      "\n",
      "    /**\n",
      "     * Checks if two strings are equal, ignoring case.\n",
      "     *\n",
      "     * @param str1 The first string to compare.\n",
      "     * @param str2 The second string to compare.\n",
      "     * @return true if the strings are equal after converting them to lowercase, false otherwise.\n",
      "     */\n",
      "    public static boolean areEqualIgnoringCase(String str1, String str2) {\n",
      "        return str1.equals(str2);\n",
      "    }\n",
      "\n",
      "    /**\n",
      "     * Removes all characters from a string that are not alphabetic.\n",
      "     *\n",
      "     * @param input The string to clean.\n",
      "     * @return A new string with only alphabetic characters remaining.\n",
      "     */\n",
      "    public static String removeNonAlphabeticCharacters(String input) {\n",
      "        return input.replaceAll(\"[^a-zA-Z]\", \"\");\n",
      "    }\n",
      "\n",
      "    /**\n",
      "     * Converts a string to uppercase.\n",
      "     *\n",
      "     * @param input The string to convert.\n",
      "     * @return A new string with all characters converted to uppercase.\n",
      "     */\n",
      "    public static String toUpperCase(String input) {\n",
      "        return input.toUpperCase();\n",
      "    }\n",
      "\n",
      "    /**\n",
      "     * Checks if a string is whitespace-only.\n",
      "     *\n",
      "     * @param input The string to check.\n",
      "     * @return true if the string contains only whitespace, false otherwise.\n",
      "     */\n",
      "    public static boolean isWhitespaceOnly(String input) {\n",
      "        return input.trim().isEmpty();\n",
      "    }\n",
      "}\n",
      "```\n"
     ]
    }
   ],
   "source": [
    "response = chat(model=model1, messages=[{'role': 'user', 'content': mediumChain}])\n",
    "print(response['message']['content'])"
   ]
  },
  {
   "cell_type": "markdown",
   "id": "2dad9253",
   "metadata": {},
   "source": [
    "##### One Shot + Chain of Thought "
   ]
  },
  {
   "cell_type": "code",
   "execution_count": 80,
   "id": "6ffc6406",
   "metadata": {},
   "outputs": [
    {
     "name": "stdout",
     "output_type": "stream",
     "text": [
      "```java\n",
      "/**\n",
      " * Connects a piece of hexagonal coordinate to its neighboring pieces.\n",
      " *\n",
      " * This method takes in a HexPiece object, which represents a vertex in a hexagonal grid,\n",
      " * and connects it to all its neighboring pieces. Each piece has neighbors specified by the provided direction.\n",
      " *\n",
      " * @param p The HexPiece object representing the starting vertex.\n",
      " */\n",
      "private void connect(HexPiece p) {\n",
      "    HexCoordinate h = p.getLocation();\n",
      "    for (HexDirection d : HexDirection.values()) {\n",
      "        HexCoordinate h2 = d.move(h);\n",
      "        HexPiece p2 = findPiece(h2);\n",
      "        if (p2 != null) {\n",
      "            p.neighbors[d.ordinal()] = p2;\n",
      "            p2.neighbors[d.reverse().ordinal()] = p;\n",
      "        }\n",
      "    }\n",
      "}\n",
      "```\n",
      "\n",
      "### Explanation:\n",
      "- **Method Signature**: The method `connect` takes a single parameter, `HexPiece`, which is assumed to be an instance of the `HexPiece` class.\n",
      "- **Parameters**:\n",
      "  - `p`: A reference to a `HexPiece` object representing the starting vertex.\n",
      "- **Logic**:\n",
      "  - It first trims whitespace from the input string and converts it to lowercase for uniformity in comparisons.\n",
      "  - It then iterates over each possible direction (`North`, `South`, `East`, `West`) and calculates its corresponding `HexCoordinate`.\n",
      "  - For each piece, it attempts to find a neighboring piece that shares its neighbors with the current piece. If such a neighbor exists, it updates the map of neighbors between the two pieces.\n",
      "- **Return Value**: This method does not return any value but performs a series of operations on the provided hexagonal grid.\n",
      "\n",
      "The method is designed to efficiently connect hexagonal coordinates and manage their neighbors.\n"
     ]
    }
   ],
   "source": [
    "response = chat(model=model1, messages=[{'role': 'user', 'content': mediumOneChain}])\n",
    "print(response['message']['content'])"
   ]
  },
  {
   "cell_type": "markdown",
   "id": "75fd6389",
   "metadata": {},
   "source": [
    "#### Remove from BST (Hard)\n"
   ]
  },
  {
   "cell_type": "markdown",
   "id": "b51b131f",
   "metadata": {},
   "source": [
    "##### Zero Shot"
   ]
  },
  {
   "cell_type": "code",
   "execution_count": 86,
   "id": "c260587a",
   "metadata": {},
   "outputs": [
    {
     "name": "stdout",
     "output_type": "stream",
     "text": [
      "### Method `doRemove`\n",
      "\n",
      "**Description:** \n",
      "This method removes a node from the binary search tree (BST). It takes a node `r`, a string `s` to remove, and optional parameters `before`, `removeOnce`, and `val`. The function returns the removed node or `null` if no node was found. If removing the node makes it appear in multiple versions of the count, the version number is incremented.\n",
      "\n",
      "**Parameters:**\n",
      "- `r`: The current root of the BST.\n",
      "- `s`: The string to remove from the tree.\n",
      "- `before`: A reference to the node before which the removed node should be replaced. It can be null if the node being removed is not part of a chain of nodes that need to be updated.\n",
      "- `removeOnce`: A boolean indicating whether to remove the node only once after removal.\n",
      "- `val`: An integer representing the value to update the current node's count. If null, the count remains unchanged.\n",
      "\n",
      "**Return Value:**\n",
      "- The removed node or `null` if no node was found.\n",
      "\n",
      "### Example Usage\n",
      "\n",
      "```java\n",
      "// Assume you have a binary search tree with nodes [1, 2, 3, 4, 5]\n",
      "Node root = new Node(1);\n",
      "root.left = new Node(2);\n",
      "root.right = new Node(3);\n",
      "root.left.left = new Node(4);\n",
      "root.left.right = new Node(5);\n",
      "\n",
      "// Remove the node '3' with value 2\n",
      "node r = doRemove(root, \"3\", null, true, 2);\n",
      "System.out.println(r.string + \", count: \" + r.count); // Output: 4, count: 3\n",
      "\n",
      "// Remove the node '3' again without any modifications\n",
      "r = doRemove(root, \"3\", null, false);\n",
      "System.out.println(r.string + \", count: \" + r.count); // Output: 5, count: 1\n",
      "```\n",
      "\n",
      "### Explanation:\n",
      "\n",
      "- **Node Removal:** The method recursively searches for the node to remove based on the string comparison. If the removed node is part of a chain that needs to be updated (i.e., it has a previous node and a right child), it updates the node's count.\n",
      "- **Versioning:** After removing a node, the version number is incremented by 1.\n",
      "- **Edge Cases:** The method handles edge cases such as when the root is null or the removed node does not exist in the tree.\n"
     ]
    }
   ],
   "source": [
    "response = chat(model=model1, messages=[{'role': 'user', 'content': hardZero}])\n",
    "print(response['message']['content'])"
   ]
  },
  {
   "cell_type": "markdown",
   "id": "dd7f9a10",
   "metadata": {},
   "source": [
    "##### One Shot"
   ]
  },
  {
   "cell_type": "code",
   "execution_count": 87,
   "id": "8b6bea03",
   "metadata": {},
   "outputs": [
    {
     "name": "stdout",
     "output_type": "stream",
     "text": [
      "```java\n",
      "/**\n",
      " * Removes the first occurrence of a string from a linked list based on its content.\n",
      " *\n",
      " * @param <T> the type of elements in the linked list\n",
      " * @param s the string to remove from the linked list\n",
      " * @param before the node before which the removal should be made\n",
      " * @param removeOnce whether to only remove once if the count is greater than 1\n",
      " * @param val the value to replace the removed string with (null for no replacement)\n",
      " * @return the modified linked list or null if no string was found\n",
      " */\n",
      "private Node doRemove(Node r, String s, Node before, boolean removeOnce, Integer val) {\n",
      "\tif (r == null) {\n",
      "\t\tlastRemoved = null;\n",
      "\t\treturn null;\n",
      "\t}\n",
      "\n",
      "\tint c = s.compareTo(r.string);\n",
      "\tif (c < 0) r.left = doRemove(r.left, s, before, removeOnce, val);\n",
      "\telse if (c > 0) r.right = doRemove(r.right, s, r, removeOnce, val);\n",
      "\telse {\n",
      "\t\tif (val != null && val != r.count) return r;\n",
      "\t\tlastRemoved = r.count;\n",
      "\t\tif(removeOnce && r.count > 1) {\n",
      "\t\t\tr.count--;\n",
      "\t\t\treturn r;\n",
      "\t\t}\n",
      "\t\tif(before.next != r) {\n",
      "\t\t\tbefore = r.left;\n",
      "\t\t\twhile(before.right != null) before = before.right;\n",
      "\t\t}\n",
      "\n",
      "\t\tNode successor = r.right;\n",
      "\t\tNode prev = r;\n",
      "\t\twhile(successor.left != null) {\n",
      "\t\t\tprev = successor;\n",
      "\t\t\tsuccessor = successor.left;\n",
      "\t\t}\n",
      "\t\tr.string = successor.string;\n",
      "\t\tr.count = successor.count;\n",
      "\n",
      "\t\tif(prev.left == successor) prev.left = successor.right;\n",
      "\t\telse prev.right = successor.right;\n",
      "\n",
      "\t\tr.next = successor.next;\n",
      "\n",
      "\t\treturn r;\n",
      "\t}\n",
      "\treturn null;\n",
      "}\n",
      "```\n"
     ]
    }
   ],
   "source": [
    "response = chat(model=model1, messages=[{'role': 'user', 'content': hardOne}])\n",
    "print(response['message']['content'])"
   ]
  },
  {
   "cell_type": "markdown",
   "id": "facea8e0",
   "metadata": {},
   "source": [
    "##### MultiShot"
   ]
  },
  {
   "cell_type": "code",
   "execution_count": 88,
   "id": "59871fb3",
   "metadata": {},
   "outputs": [
    {
     "name": "stdout",
     "output_type": "stream",
     "text": [
      "```java\n",
      "/**\n",
      " * Removes the first occurrence of a specified string from the list of nodes.\n",
      " *\n",
      " * @param nodes the list of nodes to search in\n",
      " * @param s the string to remove\n",
      " * @return the modified list of nodes with the specified string removed, or null if not found\n",
      " */\n",
      "Node doRemove(Node[] nodes, String s) {\n",
      "    for (int i = 0; i < nodes.length; i++) {\n",
      "        if (nodes[i].string.equals(s)) {\n",
      "            Node successor = nodes[i];\n",
      "            nodes[i] = nodes[i + 1]; // Move the current node to the next one\n",
      "            return successor;\n",
      "        }\n",
      "    }\n",
      "    return null;\n",
      "}\n",
      "```\n"
     ]
    }
   ],
   "source": [
    "response = chat(model=model1, messages=[{'role': 'user', 'content': hardMulti}])\n",
    "print(response['message']['content'])"
   ]
  },
  {
   "cell_type": "markdown",
   "id": "1d6872c3",
   "metadata": {},
   "source": [
    "##### Chain of Thought"
   ]
  },
  {
   "cell_type": "code",
   "execution_count": 89,
   "id": "a7cde6ac",
   "metadata": {},
   "outputs": [
    {
     "name": "stdout",
     "output_type": "stream",
     "text": [
      "```java\n",
      "/**\n",
      " * An interface for a data structure.\n",
      " */\n",
      "public interface DataStructure {\n",
      "\n",
      "    /**\n",
      "     * Retrieves an element from the data structure at the specified index.\n",
      "     *\n",
      "     * @param index The index of the element to retrieve.\n",
      "     * @return The element found at the specified index, or null if not present.\n",
      "     */\n",
      "    Object getElement(int index);\n",
      "\n",
      "    /**\n",
      "     * Inserts a new element into the data structure at the specified index.\n",
      "     *\n",
      "     * @param index The index where the element should be inserted.\n",
      "     * @param element The element to insert.\n",
      "     */\n",
      "    void insertElement(int index, Object element);\n",
      "\n",
      "    /**\n",
      "     * Removes an element from the data structure at the specified index.\n",
      "     *\n",
      "     * @param index The index of the element to remove.\n",
      "     */\n",
      "    void removeElement(int index);\n",
      "\n",
      "    /**\n",
      "     * Retrieves and returns all elements in the data structure.\n",
      "     *\n",
      "     * @return An array containing all elements in the data structure.\n",
      "     */\n",
      "    Object[] getAllElements();\n",
      "}\n",
      "```\n",
      "\n",
      "### Explanation:\n",
      "\n",
      "1. **Interface Definition**: The `DataStructure` interface defines a method signature for common operations on a data structure.\n",
      "\n",
      "2. **Parameters**:\n",
      "   - `index`: The position in the data structure where an element should be retrieved or inserted.\n",
      "   - `element`: The value to insert into the data structure.\n",
      "\n",
      "3. **Return Value**:\n",
      "   - `Object`: The element at the specified index, or null if not found.\n",
      "\n",
      "4. **Pre and Post Conditions**:\n",
      "   - No preconditions are explicitly listed in this example since it's a pure method and doesn't need them.\n",
      "   - No post conditions either because the `getAllElements` method returns an array and we don't expect any side effects from the data structure.\n",
      "\n",
      "5. **Exceptions**:\n",
      "   - No exceptions are thrown in this example, as there is no specific error handling required for this operation.\n",
      "\n",
      "6. **State of Object Before Method Call**:\n",
      "   - The method has access to a protected instance variable `elements`, which holds all elements in the data structure.\n",
      "   - It does not return any modified state because it's an internal method that does not modify the object or its state outside of it.\n",
      "\n",
      "7. **State of Object After Method Call**:\n",
      "   - The `getAllElements` method returns a copy of the current state of the data structure, which is not changed by this method.\n",
      "   - However, the return value is explicitly declared as an array.\n",
      "\n",
      "8. **Return Value**:\n",
      "   - The method returns an array containing all elements in the data structure, similar to what the `getAllElements` method returns.\n",
      "\n",
      "9. **Overriding Another Method**:\n",
      "   - This example does not define any specific behavior for methods overriding another method. If there were such a method, it would be more complex and would have additional logic to manage the object's state before and after the method call.\n",
      "\n",
      "This documentation provides a clear and concise description of what the `DataStructure` interface does, its parameters, return values, pre and post conditions, exceptions, and any other notes.\n"
     ]
    }
   ],
   "source": [
    "response = chat(model=model1, messages=[{'role': 'user', 'content': hardChain}])\n",
    "print(response['message']['content'])"
   ]
  },
  {
   "cell_type": "markdown",
   "id": "4c28eaeb",
   "metadata": {},
   "source": [
    "##### One Shot + Chain of Thought"
   ]
  },
  {
   "cell_type": "code",
   "execution_count": 90,
   "id": "baa17d4d",
   "metadata": {},
   "outputs": [
    {
     "name": "stdout",
     "output_type": "stream",
     "text": [
      "```java\n",
      "/**\n",
      " * Removes a node from the binary search tree (BST) and updates other pointers.\n",
      " *\n",
      " * @param root The root of the BST.\n",
      " * @param key The value to remove from the BST.\n",
      " * @return The updated root of the BST, or null if the node was not found.\n",
      " */\n",
      "Node doRemove(Node root, String key) {\n",
      "    // Check for null\n",
      "    if (root == null) return null;\n",
      "\n",
      "    int c = key.compareTo(root.string);\n",
      "    \n",
      "    // If the string is smaller than the current node's value, remove from left subtree\n",
      "    if (c < 0) {\n",
      "        root.left = doRemove(root.left, key);\n",
      "    }\n",
      "    \n",
      "    // If the string is larger than the current node's value, remove from right subtree\n",
      "    else if (c > 0) {\n",
      "        root.right = doRemove(root.right, key);\n",
      "    }\n",
      "\n",
      "    // If the string matches the current node's value, return the node itself\n",
      "    else {\n",
      "        // Check if val is different from the node's count\n",
      "        if (val != null && val != root.count) {\n",
      "            return root;\n",
      "        }\n",
      "\n",
      "        lastRemoved = root.count; // Update lastRemoved to store the node's count\n",
      "        if (removeOnce && root.count > 1) { // Remove the node and update other pointers if necessary\n",
      "            root.count--; // Decrement count if removing once is allowed\n",
      "            return root; // Return the updated root of the BST\n",
      "        }\n",
      "\n",
      "        if (before.next != root) {\n",
      "            before = root.left; // Move the previous node to the right child's leftmost leaf\n",
      "            while(before.right != null) before = before.right;\n",
      "        }\n",
      "\n",
      "        version++; // Increment version counter\n",
      "        numEntries--; // Decrement number of entries\n",
      "\n",
      "        if (root.left == null) {\n",
      "            before.next = root.next; // Update left child's next node to the right child's last node\n",
      "            return root.right;\n",
      "        }\n",
      "        \n",
      "        if (root.right == null) {\n",
      "            before.next = root.next; // Update right child's next node to the right child's last node\n",
      "            return root.left;\n",
      "        }\n",
      "\n",
      "        Node successor = root.right; // Find the successor node in the right subtree\n",
      "        Node prev = root; // Keep track of the current node\n",
      "\n",
      "        while(successor.left != null) {\n",
      "            prev = successor;\n",
      "            successor = successor.left;\n",
      "        }\n",
      "        \n",
      "        root.string = successor.string; // Update string with the successor's string\n",
      "        root.count = successor.count;\n",
      "\n",
      "        if(prev.left == successor) prev.left = successor.right;\n",
      "        else prev.right = successor.right;\n",
      "\n",
      "        root.next = successor.next; // Update next pointer of the current node\n",
      "\n",
      "        return root;\n",
      "    }\n",
      "}\n",
      "```\n",
      "\n",
      "### Explanation:\n",
      "- The `doRemove` method takes a `Node` object and a `String` key as parameters.\n",
      "- It checks if the string to remove is smaller than or larger than the current node's value.\n",
      "- If it's smaller, it recursively removes from the left subtree.\n",
      "- If it's larger, it recursively removes from the right subtree.\n",
      "- If the string matches the current node's value, it checks if `val` is different from the node's count. If so, it returns the node itself without making any changes.\n",
      "- If `removeOnce` is true and the count of the node exceeds 1, it decrements the count and updates other pointers.\n",
      "- If `before.next != root`, it moves the previous node to the right child's leftmost leaf.\n",
      "- It increments the version counter and the number of entries.\n",
      "- The method returns the updated root of the BST.\n"
     ]
    }
   ],
   "source": [
    "response = chat(model=model1, messages=[{'role': 'user', 'content': hardOneChain}])\n",
    "print(response['message']['content'])"
   ]
  },
  {
   "cell_type": "markdown",
   "id": "9f3b00a8",
   "metadata": {},
   "source": [
    "### Code llama (7b)"
   ]
  },
  {
   "cell_type": "markdown",
   "id": "7f92720c",
   "metadata": {},
   "source": [
    "#### isEven (Easy)"
   ]
  },
  {
   "cell_type": "markdown",
   "id": "7e7df6f0",
   "metadata": {},
   "source": [
    "##### Zero Shot"
   ]
  },
  {
   "cell_type": "code",
   "execution_count": 91,
   "id": "6c2109a4",
   "metadata": {},
   "outputs": [
    {
     "name": "stdout",
     "output_type": "stream",
     "text": [
      "/**\n",
      " * Determines whether a given integer is even.\n",
      " *\n",
      " * @param number the integer to check\n",
      " * @return true if the number is even, false otherwise\n",
      " */\n"
     ]
    }
   ],
   "source": [
    "# Zero Shot\n",
    "from ollama import chat\n",
    "\n",
    "response = chat(model=model2, messages=[{'role': 'user', 'content': easyMethodZero}])\n",
    "print(response['message']['content'])\n"
   ]
  },
  {
   "cell_type": "markdown",
   "id": "4b1bb0c3",
   "metadata": {},
   "source": [
    "##### One Shot"
   ]
  },
  {
   "cell_type": "code",
   "execution_count": 92,
   "id": "fc58c2f0",
   "metadata": {},
   "outputs": [
    {
     "name": "stdout",
     "output_type": "stream",
     "text": [
      "Public boolean isEven(int number) {\n",
      "    /**\n",
      "     * Determines whether the given integer is even.\n",
      "     *\n",
      "     * @param number the integer to check\n",
      "     * @return true if the input is an even number, false otherwise\n",
      "     */\n",
      "}\n"
     ]
    }
   ],
   "source": [
    "response = chat(model=model2, messages=[{'role': 'user', 'content': easyMethodOne}])\n",
    "print(response['message']['content'])"
   ]
  },
  {
   "cell_type": "markdown",
   "id": "63b194fd",
   "metadata": {},
   "source": [
    "##### Multi Shot"
   ]
  },
  {
   "cell_type": "code",
   "execution_count": 93,
   "id": "901513dd",
   "metadata": {},
   "outputs": [
    {
     "name": "stdout",
     "output_type": "stream",
     "text": [
      "/**\n",
      " * Checks if the given integer is even.\n",
      " *\n",
      " * @param number the integer to check\n",
      " * @return true if the integer is even, false otherwise\n",
      " */\n"
     ]
    }
   ],
   "source": [
    "response = chat(model=model2, messages=[{'role': 'user', 'content': easyMethodMulti}])\n",
    "print(response['message']['content'])"
   ]
  },
  {
   "cell_type": "markdown",
   "id": "5ed5ca0e",
   "metadata": {},
   "source": [
    "##### Chain of Thought"
   ]
  },
  {
   "cell_type": "code",
   "execution_count": 35,
   "id": "dd9e771c",
   "metadata": {},
   "outputs": [
    {
     "name": "stdout",
     "output_type": "stream",
     "text": [
      "\n",
      "This method checks whether the given `number` is even or not. It takes in a single parameter of type `int`, and returns a `boolean` value indicating whether the input is even (i.e., divisible by 2) or not.\n",
      "\n",
      "Here are some notes on the method:\n",
      "\n",
      "* The method uses the modulus operator (`%`) to check if the given number is even. If the result of the operation is 0, then the number is even. Otherwise, it is odd.\n",
      "* The method does not have any edge cases that need to be considered. It will always return a correct value based on the input parameter.\n",
      "* The method does not throw any exceptions. If the input parameter is not an `int` type, it will simply return false.\n",
      "* The state of the object before calling this method is not relevant for this method.\n",
      "* The state of the object after calling this method is the same as before calling the method.\n",
      "* The method does not override any other methods.\n",
      "\n",
      "Here is an example of a professional Javadoc for this method:\n",
      "```\n",
      "/**\n",
      " * Determines whether the given number is even or not.\n",
      " *\n",
      " * @param number the number to be checked\n",
      " * @return true if the number is even, false otherwise\n",
      " */\n",
      "public boolean isEven(int number) {\n",
      "    return number % 2 == 0;\n",
      "}\n",
      "```\n"
     ]
    }
   ],
   "source": [
    "response = chat(model=model2, messages=[{'role': 'user', 'content': easyMethodChain}])\n",
    "print(response['message']['content'])"
   ]
  },
  {
   "cell_type": "markdown",
   "id": "8ef423a3",
   "metadata": {},
   "source": [
    "##### One Shot + Chain of Thought"
   ]
  },
  {
   "cell_type": "code",
   "execution_count": 95,
   "id": "1fb8798f",
   "metadata": {},
   "outputs": [
    {
     "name": "stdout",
     "output_type": "stream",
     "text": [
      "\n",
      "Method:\n",
      "public boolean isEven(int number) {\n",
      "    return number % 2 == 0;\n",
      "}\n",
      "\n",
      "Javadoc:\n",
      "/**\n",
      " * Checks if the given integer is even.\n",
      " *\n",
      " * @param number the integer to check\n",
      " * @return true if the number is even, false otherwise\n",
      " */\n",
      "\n",
      "Explanation:\n",
      "1. This method is for a data structure (specifically, an integer).\n",
      "2. The parameters are the single input parameter, an integer named \"number\".\n",
      "3. The method checks whether the given integer is even by returning true if it is divisible by 2 and false otherwise.\n"
     ]
    }
   ],
   "source": [
    "response = chat(model=model2, messages=[{'role': 'user', 'content': easyMethodOneChain}])\n",
    "print(response['message']['content'])"
   ]
  },
  {
   "cell_type": "markdown",
   "id": "e5cd16e6",
   "metadata": {},
   "source": [
    "#### Connect (medium)\n"
   ]
  },
  {
   "cell_type": "markdown",
   "id": "cf1874af",
   "metadata": {},
   "source": [
    "##### Zero Shot"
   ]
  },
  {
   "cell_type": "code",
   "execution_count": 96,
   "id": "bc2d37ba",
   "metadata": {},
   "outputs": [
    {
     "name": "stdout",
     "output_type": "stream",
     "text": [
      "\n",
      "The `connect` method takes a single argument of type `HexPiece` and establishes connections between the piece and its neighbors in the hexagonal grid. The method first retrieves the location of the piece using the `getLocation` method and then iterates over all possible directions in the hexagonal grid. For each direction, it calculates the neighboring coordinate using the `move` method and attempts to find a piece at that location using the `findPiece` method. If a piece is found, the two pieces are connected by setting the neighbors array for both pieces to reference each other.\n"
     ]
    }
   ],
   "source": [
    "response = chat(model=model2, messages=[{'role': 'user', 'content': mediumZero}])\n",
    "print(response['message']['content'])"
   ]
  },
  {
   "cell_type": "markdown",
   "id": "6dbe5c2d",
   "metadata": {},
   "source": [
    "##### One Shot"
   ]
  },
  {
   "cell_type": "code",
   "execution_count": 97,
   "id": "d3d06571",
   "metadata": {},
   "outputs": [
    {
     "name": "stdout",
     "output_type": "stream",
     "text": [
      "\n",
      "/**\n",
      " * Connects the given {@code HexPiece} to its neighboring pieces in the hexagonal grid.\n",
      " *\n",
      " * @param p the {@code HexPiece} to connect\n",
      " */\n",
      "private void connect(HexPiece p) {\n",
      "    HexCoordinate h = p.getLocation(); // Get the location of the piece\n",
      "    for (HexDirection d : HexDirection.values()) { // Loop through all possible directions\n",
      "        HexCoordinate h2 = d.move(h); // Calculate the neighboring coordinate\n",
      "        HexPiece p2 = findPiece(h2); // Find the piece at the neighboring coordinate\n",
      "        if (p2 != null) { // If the neighboring piece is not null, connect them\n",
      "            p.neighbors[d.ordinal()] = p2; // Set the neighboring pieces to each other\n",
      "            p2.neighbors[d.reverse().ordinal()] = p; // Set the reverse neighboring pieces to each other\n",
      "        }\n",
      "    }\n",
      "}\n"
     ]
    }
   ],
   "source": [
    "response = chat(model=model2, messages=[{'role': 'user', 'content': mediumOne}])\n",
    "print(response['message']['content'])"
   ]
  },
  {
   "cell_type": "markdown",
   "id": "97646196",
   "metadata": {},
   "source": [
    "##### Multi Shot"
   ]
  },
  {
   "cell_type": "code",
   "execution_count": 98,
   "id": "40fe89f6",
   "metadata": {},
   "outputs": [
    {
     "name": "stdout",
     "output_type": "stream",
     "text": [
      "/**\n",
      " * Connects a HexPiece to its neighboring pieces.\n",
      " *\n",
      " * @param p the HexPiece to connect\n",
      " */\n",
      "private void connect(HexPiece p) {\n",
      "    HexCoordinate h = p.getLocation();\n",
      "    for (HexDirection d : HexDirection.values()) {\n",
      "        HexCoordinate h2 = d.move(h);\n",
      "        HexPiece p2 = findPiece(h2);\n",
      "        if (p2 != null) {\n",
      "            p.neighbors[d.ordinal()] = p2;\n",
      "            p2.neighbors[d.reverse().ordinal()] = p;\n",
      "        }\n",
      "    }\n",
      "}\n"
     ]
    }
   ],
   "source": [
    "response = chat(model=model2, messages=[{'role': 'user', 'content': mediumMulti}])\n",
    "print(response['message']['content'])"
   ]
  },
  {
   "cell_type": "markdown",
   "id": "e934a159",
   "metadata": {},
   "source": [
    "##### Chain of Thought "
   ]
  },
  {
   "cell_type": "code",
   "execution_count": 99,
   "id": "30f630a6",
   "metadata": {},
   "outputs": [
    {
     "name": "stdout",
     "output_type": "stream",
     "text": [
      "\n",
      "/**\n",
      "* Adds an element to the data structure\n",
      "*\n",
      "* @param element - The element to add\n",
      "* @return True if the element was successfully added, false otherwise\n",
      "*/\n",
      "public boolean add(E element) {\n",
      "\t// check for null elements\n",
      "\tif (element == null) {\n",
      "\t\tthrow new NullPointerException(\"Cannot add a null element\");\n",
      "\t}\n",
      "\n",
      "\t// check if the data structure is full\n",
      "\tif (size() == capacity()) {\n",
      "\t\tthrow new IllegalStateException(\"The data structure is full\");\n",
      "\t}\n",
      "\n",
      "\t// add the element to the data structure\n",
      "\tdata[tail] = element;\n",
      "\ttail = (tail + 1) % capacity();\n",
      "\tsize++;\n",
      "\n",
      "\treturn true;\n",
      "}\n",
      "\n",
      "This method adds an element to a data structure, which can be a queue, stack, or other collection. The parameter of this method is the element to be added and it returns a boolean value indicating whether the element was successfully added or not. This method first checks if the element being added is null, if so, throws a NullPointerException. Then, this method checks if the data structure is full, if so, throws an IllegalStateException. After that, it adds the element to the data structure and increments the tail index by one modulo the capacity of the data structure. Finally, this method returns true indicating that the element was successfully added to the data structure.\n",
      "\n",
      "This method does not have any edge cases, but it has a precondition that the size of the data structure is less than its capacity. And also, it throws an exception if it is full.\n"
     ]
    }
   ],
   "source": [
    "response = chat(model=model2, messages=[{'role': 'user', 'content': mediumChain}])\n",
    "print(response['message']['content'])"
   ]
  },
  {
   "cell_type": "markdown",
   "id": "a1d48c05",
   "metadata": {},
   "source": [
    "##### One Shot + Chain of Thought "
   ]
  },
  {
   "cell_type": "code",
   "execution_count": 100,
   "id": "a68164fd",
   "metadata": {},
   "outputs": [
    {
     "name": "stdout",
     "output_type": "stream",
     "text": [
      "Javadoc:\n",
      "/**\n",
      " * Connects the given HexPiece to its neighboring pieces in the hex grid.\n",
      " *\n",
      " * @param p the HexPiece to connect\n",
      " */\n",
      "\n",
      "Explanation:\n",
      "This method takes a single parameter of type HexPiece, which represents a piece on a hexagonal grid. The method iterates over all possible directions on the hex grid and checks if there is a neighboring piece in that direction. If there is, it sets the neighbors field of both pieces to reference each other. This allows for efficient lookup of neighboring pieces in the hex grid.\n",
      "\n",
      "1. Yes, this method is for a data structure (specifically, a HexPiece).\n",
      "2. The parameters are: p (of type HexPiece), which represents the piece to connect.\n",
      "3. This method sets up the connections between neighboring pieces in the hex grid by updating their neighbors fields.\n"
     ]
    }
   ],
   "source": [
    "response = chat(model=model2, messages=[{'role': 'user', 'content': mediumOneChain}])\n",
    "print(response['message']['content'])"
   ]
  },
  {
   "cell_type": "markdown",
   "id": "b6b19b58",
   "metadata": {},
   "source": [
    "#### Remove from BST (Hard)\n"
   ]
  },
  {
   "cell_type": "markdown",
   "id": "3fb3d09a",
   "metadata": {},
   "source": [
    "##### Zero Shot"
   ]
  },
  {
   "cell_type": "code",
   "execution_count": 101,
   "id": "a1deff11",
   "metadata": {},
   "outputs": [
    {
     "name": "stdout",
     "output_type": "stream",
     "text": [
      "\n",
      "/**\n",
      " * Removes a node from the tree based on its value and returns the updated root node.\n",
      " *\n",
      " * @param r The root node of the tree.\n",
      " * @param s The string to be removed.\n",
      " * @param before The node that precedes the node to be removed in the linked list.\n",
      " * @param removeOnce If true, only remove the first occurrence of the given string.\n",
      " * @param val The value of the node to be removed.\n",
      " * @return The updated root node after removing the given node.\n",
      " */\n"
     ]
    }
   ],
   "source": [
    "response = chat(model=model2, messages=[{'role': 'user', 'content': hardZero}])\n",
    "print(response['message']['content'])"
   ]
  },
  {
   "cell_type": "markdown",
   "id": "779f379f",
   "metadata": {},
   "source": [
    "##### One Shot"
   ]
  },
  {
   "cell_type": "code",
   "execution_count": 102,
   "id": "44193f83",
   "metadata": {},
   "outputs": [
    {
     "name": "stdout",
     "output_type": "stream",
     "text": [
      "\n",
      "/**\n",
      " * Removes the specified string from the trie, if it exists. The method returns the updated trie node after the removal.\n",
      " *\n",
      " * @param r the current trie node\n",
      " * @param s the string to remove\n",
      " * @param before the previous node in the trie\n",
      " * @param removeOnce whether to remove only once or all occurrences of the specified string\n",
      " * @param val the count value to remove (if not null)\n",
      " * @return the updated trie node after the removal\n",
      " */\n",
      "private Node doRemove(Node r, String s, Node before, boolean removeOnce, Integer val) {\n",
      "\t// Your code goes here\n",
      "}\n"
     ]
    }
   ],
   "source": [
    "response = chat(model=model2, messages=[{'role': 'user', 'content': hardOne}])\n",
    "print(response['message']['content'])"
   ]
  },
  {
   "cell_type": "markdown",
   "id": "0b508de2",
   "metadata": {},
   "source": [
    "##### MultiShot"
   ]
  },
  {
   "cell_type": "code",
   "execution_count": 103,
   "id": "1d4576d1",
   "metadata": {},
   "outputs": [
    {
     "name": "stdout",
     "output_type": "stream",
     "text": [
      "\n",
      "/**\n",
      " * Removes a node from the trie based on the given string, and returns the modified trie.\n",
      " * The method takes in an additional parameter \"val\" which represents the number of times the string has been added to the trie.\n",
      " * If the val argument is not null and does not match the current count for the string, the method will return without making any changes to the trie.\n",
      " * If the removeOnce parameter is set to true, the method will only remove the node if it was previously added once.\n",
      " *\n",
      " * @param r the root of the trie\n",
      " * @param s the string to be removed\n",
      " * @param before the previous node in the trie\n",
      " * @param removeOnce whether or not to only remove the node if it has been added once\n",
      " * @param val the number of times the string has been added to the trie, or null if no check is desired\n",
      " * @return the modified trie with the node removed\n",
      " */\n",
      "private Node doRemove(Node r, String s, Node before, boolean removeOnce, Integer val) {\n",
      "\t// method body goes here\n",
      "}\n"
     ]
    }
   ],
   "source": [
    "response = chat(model=model2, messages=[{'role': 'user', 'content': hardMulti}])\n",
    "print(response['message']['content'])"
   ]
  },
  {
   "cell_type": "markdown",
   "id": "fc6b0523",
   "metadata": {},
   "source": [
    "##### Chain of Thought"
   ]
  },
  {
   "cell_type": "code",
   "execution_count": 104,
   "id": "a1a8cb95",
   "metadata": {},
   "outputs": [
    {
     "name": "stdout",
     "output_type": "stream",
     "text": [
      "This Java function is called \"binarySearch\" and belongs to the class \"Arrays\" which implements the sorting algorithm. The method takes an array of ints as a parameter and returns the index at which the search key, a value of type \"int\", is located in the array. If the search key is not present in the array, then -1 is returned.\n",
      "The parameters are:\n",
      "- An array of integers named \"a\".\n",
      "\n",
      "The method does: This method implements the binary search algorithm, which is a fast searching algorithm for finding an element's index in a sorted array. It uses the divide and conquer technique to perform the search and has a time complexity of O(log n). \n",
      "Edge cases are: If the input array is not sorted, the method will not work properly.\n",
      "Exceptions thrown by this method include \"NullPointerException\" if the input array is null and \"ArrayIndexOutOfBoundsException\" if the index of the search key is out of bounds in the array. \n",
      "The object state before the method call is: An empty or unsorted array. \n",
      "The object state after the method call is: The sorted array with the search key's index.\n",
      "Return values are: the index of the search key if found, -1 otherwise.  \n"
     ]
    }
   ],
   "source": [
    "response = chat(model=model2, messages=[{'role': 'user', 'content': hardChain}])\n",
    "print(response['message']['content'])"
   ]
  },
  {
   "cell_type": "markdown",
   "id": "febc25c2",
   "metadata": {},
   "source": [
    "##### One Shot + Chain of Thought"
   ]
  },
  {
   "cell_type": "code",
   "execution_count": 105,
   "id": "3efc73d3",
   "metadata": {},
   "outputs": [
    {
     "name": "stdout",
     "output_type": "stream",
     "text": [
      "\n",
      "Method:\n",
      "private Node doRemove(Node r, String s, Node before, boolean removeOnce, Integer val) {\n",
      "    if (r == null) {\n",
      "        lastRemoved = null;\n",
      "        return null;\n",
      "    }\n",
      "    int c = s.compareTo(r.string);\n",
      "    if (c < 0) {\n",
      "        r.left = doRemove(r.left, s, before, removeOnce, val);\n",
      "    } else if (c > 0) {\n",
      "        r.right = doRemove(r.right, s, r, removeOnce, val);\n",
      "    } else {\n",
      "        if (val != null && val != r.count) return r;\n",
      "        lastRemoved = r.count;\n",
      "        if (removeOnce && r.count > 1) {\n",
      "            r.count--;\n",
      "            return r;\n",
      "        }\n",
      "        // Remove the node from the tree\n",
      "        before.next = r.next;\n",
      "        numEntries--;\n",
      "        version++;\n",
      "        if (r.left == null) {\n",
      "            return r.right;\n",
      "        } else if (r.right == null) {\n",
      "            return r.left;\n",
      "        } else {\n",
      "            Node successor = r.right;\n",
      "            Node prev = r;\n",
      "            while (successor.left != null) {\n",
      "                prev = successor;\n",
      "                successor = successor.left;\n",
      "            }\n",
      "            r.string = successor.string;\n",
      "            r.count = successor.count;\n",
      "            if (prev.left == successor) {\n",
      "                prev.left = successor.right;\n",
      "            } else {\n",
      "                prev.right = successor.right;\n",
      "            }\n",
      "            r.next = successor.next;\n",
      "        }\n",
      "    }\n",
      "    return r;\n",
      "}\n",
      "\n",
      "Javadoc:\n",
      "/**\n",
      " * Removes a node from the tree with a specified value. If the value is not found, the method returns null. If removeOnce is set to true and the value is found, the method removes only one occurrence of that value, and returns the modified tree. Otherwise, the entire node is removed, and the method returns the updated tree.\n",
      " *\n",
      " * @param r the root of the tree\n",
      " * @param s the value to be removed\n",
      " * @param before the node to be updated with the next node after removal\n",
      " * @param removeOnce whether to remove only once or all occurrences of the value\n",
      " * @param val the value to check against\n",
      " * @return the modified tree\n",
      " */\n",
      "\n",
      "Explanation:\n",
      "This method is part of a data structure called a trie, which is a type of balanced binary search tree. It takes in a node r representing the root of the tree, and a string s representing the value to be removed. The method also takes in two boolean parameters: removeOnce and val. If removeOnce is set to true, the method removes only one occurrence of the value, otherwise it removes all occurrences of the value. The val parameter is used to check if the value exists in the tree or not.\n",
      "\n",
      "The method first checks if the node r is null, if yes then it returns null and updates the lastRemoved variable with a null value. If the node r is not null, then it compares the value s to the string stored in the node r. If the value s is less than the string stored in the node r, then it recursively calls the doRemove method on the left subtree of the node r, passing in the left child node as the new root and so on until it finds the node with the value to be removed or a leaf node where no such value exists. Once the node is found, the method checks if removeOnce is set to true and the value to be removed exists only once in the tree, if yes then it reduces the count of the node by one and returns the modified tree, otherwise it removes the entire node from the tree and updates the version and numEntries variables.\n",
      "\n",
      "The method returns the updated tree after removal or null if no such value exists in the tree.\n"
     ]
    }
   ],
   "source": [
    "response = chat(model=model2, messages=[{'role': 'user', 'content': hardOneChain}])\n",
    "print(response['message']['content'])"
   ]
  }
 ],
 "metadata": {
  "kernelspec": {
   "display_name": "venv",
   "language": "python",
   "name": "python3"
  },
  "language_info": {
   "codemirror_mode": {
    "name": "ipython",
    "version": 3
   },
   "file_extension": ".py",
   "mimetype": "text/x-python",
   "name": "python",
   "nbconvert_exporter": "python",
   "pygments_lexer": "ipython3",
   "version": "3.12.3"
  }
 },
 "nbformat": 4,
 "nbformat_minor": 5
}
