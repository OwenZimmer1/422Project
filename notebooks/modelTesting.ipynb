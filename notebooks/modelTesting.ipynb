{
 "cells": [
  {
   "cell_type": "markdown",
   "id": "69cd6ca5",
   "metadata": {},
   "source": [
    "# Model Testing \n",
    "\n",
    "**Here are my PC specs :)** \n",
    " - CPU: AMD 5900x (12 core, 24 thread)\n",
    " - GPU: RTX 3080ti (12gb VRAM)\n",
    " - MEMORY: 32gb 3600mhz\n",
    " - STORAGE: 2 x 2TB NVME\n",
    "---"
   ]
  },
  {
   "cell_type": "code",
   "execution_count": 3,
   "id": "29da2b2a",
   "metadata": {},
   "outputs": [],
   "source": [
    "# import the stuff we need\n",
    "import langchain\n",
    "import ollama"
   ]
  },
  {
   "cell_type": "markdown",
   "id": "17aea266",
   "metadata": {},
   "source": [
    "## Model Selections \n",
    " - Qwen 2.5 coder (0.5b) \n",
    " - Code llama (7b)\n",
    " - Wizardcoder (33b)\n",
    "\n",
    "---\n"
   ]
  },
  {
   "cell_type": "code",
   "execution_count": 17,
   "id": "374e640e",
   "metadata": {},
   "outputs": [],
   "source": [
    "# pick what model to use \n",
    "model1 = 'qwen2.5-coder:0.5b'\n",
    "model2 = 'codellama:7b'\n",
    "model3 = 'wizardcoder:33b'\n"
   ]
  },
  {
   "cell_type": "markdown",
   "id": "1b1caede",
   "metadata": {},
   "source": [
    "## Prompt templates\n",
    " - One shot \n",
    " - Multi shot\n",
    " - Chain of Thought \n",
    " - One Shot + Chain of Thought\n",
    "---"
   ]
  },
  {
   "cell_type": "code",
   "execution_count": 5,
   "id": "967fb2c1",
   "metadata": {},
   "outputs": [],
   "source": [
    "# import the prompt block\n",
    "from langchain.prompts import PromptTemplate"
   ]
  },
  {
   "cell_type": "markdown",
   "id": "19ea0b7c",
   "metadata": {},
   "source": [
    "### One Shot"
   ]
  },
  {
   "cell_type": "code",
   "execution_count": 6,
   "id": "99dfda1a",
   "metadata": {},
   "outputs": [],
   "source": [
    "oneShot = PromptTemplate(\n",
    "    input_variables=[\"method_code\"],\n",
    "    template='''\\\n",
    "You are a java expert. Write a professional Javadoc comment for the following Java method. Be concise but informative.\n",
    "\n",
    "Example:\n",
    "Method:\n",
    "public String reverseProcessed(String text) {{\n",
    "    if (text == null) return null;\n",
    "    String cleaned = text.trim().toLowerCase();\n",
    "    return new StringBuilder(cleaned).reverse().toString();\n",
    "}}\n",
    "\n",
    "Expected Output:\n",
    "/**\n",
    " * Reverses the characters in the given string after trimming whitespace and converting to lowercase.\n",
    " *\n",
    " * @param text the input string to process\n",
    " * @return the reversed, lowercase, trimmed string\n",
    " */\n",
    "\n",
    "make sure to only include the java doc comment, and not the method itself.\n",
    "now write a expertly written javadoc comment for this method:\n",
    "{method_code}\n",
    "'''\n",
    ")\n"
   ]
  },
  {
   "cell_type": "markdown",
   "id": "ed8c7917",
   "metadata": {},
   "source": [
    "### Chain of thought"
   ]
  },
  {
   "cell_type": "code",
   "execution_count": 7,
   "id": "57ba9371",
   "metadata": {},
   "outputs": [],
   "source": [
    "chainOfThought = PromptTemplate(\n",
    "    template='''\n",
    "Write to me a professional javadoc for this Java funcion. Here are the steps you should take:\n",
    "1. Is this method for a data structure? If so, what data structure?\n",
    "2. What are the parameters?\n",
    "3. What does the method do? Look at the name of the method\n",
    "4. How does the method do what it does? Are there edge cases?\n",
    "5. What exceptions does the method throw?\n",
    "6. What is the state of the object before the method is called?\n",
    "7. What is the state of the object after the method is called?\n",
    "8. What does the method return?\n",
    "9. Is this method overriding another method?\n",
    "Once you have finished the analysis, generate a professional javadoc with a clear description of what the method does, parameters taken in, return values, pre and post conditions, exceptions, and any other notes that should be in the javadoc. \n",
    "'''\n",
    ")"
   ]
  },
  {
   "cell_type": "markdown",
   "id": "43799b49",
   "metadata": {},
   "source": [
    "### One Shot + Chain of Thought"
   ]
  },
  {
   "cell_type": "code",
   "execution_count": 8,
   "id": "13eddec7",
   "metadata": {},
   "outputs": [],
   "source": [
    "from langchain.prompts import PromptTemplate\n",
    "\n",
    "oneShotReason = PromptTemplate(\n",
    "    input_variables=[\"method_code\"],\n",
    "    template='''\\\n",
    "You are a Java expert. Given a method, write a clear and professional Javadoc comment **first**, followed by a simple, high-school-level explanation of what the method does.\n",
    "\n",
    "**Rules:**\n",
    "- Do not return or repeat the method code.\n",
    "- Do not return any code other than the Javadoc.\n",
    "- The Javadoc must be written first and placed inside a proper Java-style code block.\n",
    "- Then give a numbered explanation in plain English, answering:\n",
    "  1. Is this method for a data structure? If so, which one?\n",
    "  2. What are the parameters?\n",
    "  3. What does the method do overall?\n",
    "\n",
    "Example:\n",
    "Method:\n",
    "public String reverseProcessed(String text) {{\n",
    "    if (text == null) return null;\n",
    "    String cleaned = text.trim().toLowerCase();\n",
    "    return new StringBuilder(cleaned).reverse().toString();\n",
    "}}\n",
    "\n",
    "Reasoning:\n",
    "Checks for null, trims and lowercases the input, then reverses it.\n",
    "\n",
    "Expected Output:\n",
    "/**\n",
    " * Reverses the characters in the given string after trimming whitespace and converting to lowercase.\n",
    " *\n",
    " * @param text the input string to process\n",
    " * @return the reversed, lowercase, trimmed string\n",
    " */\n",
    "\n",
    "Now analyze and write a Javadoc for the following method:\n",
    "{method_code}\n",
    "'''\n",
    ")\n"
   ]
  },
  {
   "cell_type": "markdown",
   "id": "332f42a9",
   "metadata": {},
   "source": [
    "## Sample code \n",
    " - removeFromBST (Chain of Thought)\n",
    " - cloneBallSeq (One Shot)\n",
    " - connect (One Shot)\n",
    "---"
   ]
  },
  {
   "cell_type": "code",
   "execution_count": 9,
   "id": "49fab33a",
   "metadata": {},
   "outputs": [],
   "source": [
    "removeFromBST = oneShot.format(method_code=\n",
    "    \"\"\"private Node doRemove(Node r, String s, Node before, boolean removeOnce, Integer val) {\n",
    "\t\tif(r == null) {\n",
    "\t\t\tlastRemoved = null;\n",
    "\t\t\treturn null;\n",
    "\t\t}\n",
    "\t\tint c = s.compareTo(r.string);\n",
    "\t\tif(c < 0) r.left = doRemove(r.left, s, before, removeOnce, val);\n",
    "\t\telse if(c > 0) r.right = doRemove(r.right, s, r, removeOnce, val);\n",
    "\t\telse {\n",
    "\t\t\tif(val != null && val != r.count) return r;\n",
    "\t\t\tlastRemoved = r.count;\n",
    "\t\t\tif(removeOnce && r.count > 1) {\n",
    "\t\t\t\tr.count--;\n",
    "\t\t\t\treturn r;\n",
    "\t\t\t}\n",
    "\t\t\tif(before.next != r) {\n",
    "\t\t\t\tbefore = r.left;\n",
    "\t\t\t\twhile(before.right != null) before = before.right;\n",
    "\t\t\t}\n",
    "\t\t\tversion++;\n",
    "\t\t\tnumEntries--;\n",
    "\t\t\tif(r.left == null) {\n",
    "\t\t\t\tbefore.next = r.next;\n",
    "\t\t\t\treturn r.right;\n",
    "\t\t\t}\n",
    "\t\t\tif(r.right == null) {\n",
    "\t\t\t\tbefore.next = r.next;\n",
    "\t\t\t\treturn r.left;\n",
    "\t\t\t}\n",
    "\t\t\t\n",
    "\t\t\tNode successor = r.right;\n",
    "\t\t\tNode prev = r;\n",
    "\t\t\twhile(successor.left != null) {\n",
    "\t\t\t\tprev = successor;\n",
    "\t\t\t\tsuccessor = successor.left;\n",
    "\t\t\t}\n",
    "\t\t\tr.string = successor.string;\n",
    "\t\t\tr.count = successor.count;\n",
    "\t\t\t\n",
    "\t\t\tif(prev.left == successor) prev.left = successor.right;\n",
    "\t\t\telse prev.right = successor.right;\n",
    "\t\t\t\n",
    "\t\t\tr.next = successor.next;\n",
    "\n",
    "\n",
    "\t\t}\n",
    "\t\treturn r;\n",
    "\"\"\"\n",
    ")"
   ]
  },
  {
   "cell_type": "code",
   "execution_count": 10,
   "id": "1d05da87",
   "metadata": {},
   "outputs": [],
   "source": [
    "removeFromBST2 = oneShotReason.format(method_code=\n",
    "    \"\"\"private Node doRemove(Node r, String s, Node before, boolean removeOnce, Integer val) {\n",
    "\t\tif(r == null) {\n",
    "\t\t\tlastRemoved = null;\n",
    "\t\t\treturn null;\n",
    "\t\t}\n",
    "\t\tint c = s.compareTo(r.string);\n",
    "\t\tif(c < 0) r.left = doRemove(r.left, s, before, removeOnce, val);\n",
    "\t\telse if(c > 0) r.right = doRemove(r.right, s, r, removeOnce, val);\n",
    "\t\telse {\n",
    "\t\t\tif(val != null && val != r.count) return r;\n",
    "\t\t\tlastRemoved = r.count;\n",
    "\t\t\tif(removeOnce && r.count > 1) {\n",
    "\t\t\t\tr.count--;\n",
    "\t\t\t\treturn r;\n",
    "\t\t\t}\n",
    "\t\t\tif(before.next != r) {\n",
    "\t\t\t\tbefore = r.left;\n",
    "\t\t\t\twhile(before.right != null) before = before.right;\n",
    "\t\t\t}\n",
    "\t\t\tversion++;\n",
    "\t\t\tnumEntries--;\n",
    "\t\t\tif(r.left == null) {\n",
    "\t\t\t\tbefore.next = r.next;\n",
    "\t\t\t\treturn r.right;\n",
    "\t\t\t}\n",
    "\t\t\tif(r.right == null) {\n",
    "\t\t\t\tbefore.next = r.next;\n",
    "\t\t\t\treturn r.left;\n",
    "\t\t\t}\n",
    "\t\t\t\n",
    "\t\t\tNode successor = r.right;\n",
    "\t\t\tNode prev = r;\n",
    "\t\t\twhile(successor.left != null) {\n",
    "\t\t\t\tprev = successor;\n",
    "\t\t\t\tsuccessor = successor.left;\n",
    "\t\t\t}\n",
    "\t\t\tr.string = successor.string;\n",
    "\t\t\tr.count = successor.count;\n",
    "\t\t\t\n",
    "\t\t\tif(prev.left == successor) prev.left = successor.right;\n",
    "\t\t\telse prev.right = successor.right;\n",
    "\t\t\t\n",
    "\t\t\tr.next = successor.next;\n",
    "\n",
    "\n",
    "\t\t}\n",
    "\t\treturn r;\n",
    "\"\"\"\n",
    ")"
   ]
  },
  {
   "cell_type": "code",
   "execution_count": 11,
   "id": "0948f957",
   "metadata": {},
   "outputs": [],
   "source": [
    "cloneBallSeq = oneShot.format(method_code='''\n",
    "public BallSeq clone( )\n",
    "    {{\n",
    "        assert wellFormed() : \"invariant wrong at start of clone()\";\n",
    "\n",
    "        BallSeq result;\n",
    "\n",
    "        try\n",
    "        {{\n",
    "            result = (BallSeq) super.clone( );\n",
    "        }}\n",
    "        catch (CloneNotSupportedException e)\n",
    "        {{\n",
    "            // This exception should not occur. But if it does, it would probably\n",
    "            // indicate a programming error that made super.clone unavailable.\n",
    "            // The most common error would be forgetting the \"Implements Cloneable\"\n",
    "            // clause at the start of this class.\n",
    "            throw new RuntimeException\n",
    "            (\"This class does not implement Cloneable\");\n",
    "        }}\n",
    "        // This is inspired by the textbook for this class, page 203\n",
    "        if(result.head == null) return result;\n",
    "\n",
    "        Node source = result.head;\n",
    "        Node copyHead = new Node(source.data, null);\n",
    "        Node copyTail = copyHead;\n",
    "\n",
    "        while(source.next != null) {{\n",
    "            if(source == cursor) result.cursor = copyTail;\n",
    "            if(source == precursor) result.precursor = copyTail;\n",
    "            if(source == tail) result.tail = source;\n",
    "            source = source.next;\n",
    "            copyTail.next = new Node(source.data, null);\n",
    "            copyTail = copyTail.next;\n",
    "        }}\n",
    "        result.head = copyHead;\n",
    "        if(source == cursor) result.cursor = copyTail;\n",
    "        if(source == precursor) result.precursor = copyTail;\n",
    "        if(source == tail) result.tail = copyTail;\n",
    "\n",
    "        // TODO: Implemented by student.\n",
    "        // Now do the hard work of cloning the list.\n",
    "        // See pp 200-204, 235 (3rd ed. pp. 193-197, 228)\n",
    "        // Setting precursor, cursor and tail correctly is tricky.\n",
    "\n",
    "\n",
    "        assert wellFormed() : \"invariant wrong at end of clone() for this\";\n",
    "        assert result.wellFormed() : \"invariant wrong for result of clone() for copy\";\n",
    "        return result;\n",
    "    }}\n",
    "''')\n"
   ]
  },
  {
   "cell_type": "code",
   "execution_count": 12,
   "id": "1344b2d7",
   "metadata": {},
   "outputs": [],
   "source": [
    "# add some content \n",
    "shortMethod = oneShotReason.format(\n",
    "    method_code = \"\"\"\n",
    "    private void connect(HexPiece p) {\n",
    "HexCoordinate h = p.getLocation();\n",
    "for (HexDirection d : HexDirection.values()) {\n",
    "HexCoordinate h2 = d.move(h);\n",
    "HexPiece p2 = findPiece(h2);\n",
    "if (p2 != null) {\n",
    "p.neighbors[d.ordinal()] = p2;\n",
    "p2.neighbors[d.reverse().ordinal()] = p;\n",
    "}\n",
    "}\n",
    "}\n",
    "                         \"\"\")"
   ]
  },
  {
   "cell_type": "markdown",
   "id": "e7a99540",
   "metadata": {},
   "source": [
    "# Evaluating outputs"
   ]
  },
  {
   "cell_type": "markdown",
   "id": "b7c6cfee",
   "metadata": {},
   "source": [
    "### Qwen2.5 coder (0.5b)"
   ]
  },
  {
   "cell_type": "code",
   "execution_count": 13,
   "id": "25d3440c",
   "metadata": {},
   "outputs": [
    {
     "name": "stdout",
     "output_type": "stream",
     "text": [
      "### **Method: `connect(HexPiece p)`**\n",
      "\n",
      "#### **Purpose**:\n",
      "The method `connect` is designed to connect pieces of a hexadecimal grid. It takes in a `HexPiece` object and processes it to add its neighbors based on the given `HexDirection`.\n",
      "\n",
      "#### **Parameters**:\n",
      "- **`p`: HexPiece**: The piece whose neighbors are to be connected.\n",
      "\n",
      "#### **Description**:\n",
      "1. **Trimming and Lowercasing**:\n",
      "   - The method first trims any leading or trailing whitespace from the input string and converts it to lowercase using `toLowerCase()`.\n",
      "\n",
      "2. **Creating HexCoordinates**:\n",
      "   - It then creates a `HexCoordinate` object representing the location of each piece within the hexadecimal grid.\n",
      "   - This is done by calling `p.getLocation()`, which provides the coordinates in decimal form.\n",
      "\n",
      "3. **Connecting Neighbors**:\n",
      "   - The method iterates over the `HexDirection` enum, which contains all possible directions for connecting pieces.\n",
      "   - For each direction, it calculates the new position after moving to that direction using `d.move(h)`.\n",
      "   - It then finds a corresponding piece in the grid using `findPiece(h2)` and connects them. The indices of these pieces are determined by their respective `ordinal()` values.\n",
      "\n",
      "#### **Output**:\n",
      "- After processing all neighbors, the method returns the modified hexadecimal grid.\n",
      "- Each neighbor's coordinates and connections are stored in the `neighbors` array of the `HexPiece` object.\n",
      "\n",
      "This method is crucial for managing and manipulating the connections between hexagonal pieces within a grid, ensuring that the data integrity and structure are maintained.\n"
     ]
    }
   ],
   "source": [
    "# Run model\n",
    "from ollama import chat\n",
    "\n",
    "response = chat(model=model1, messages=[{'role': 'user', 'content': shortMethod}])\n",
    "print(response['message']['content'])\n"
   ]
  },
  {
   "cell_type": "code",
   "execution_count": 14,
   "id": "f80851b2",
   "metadata": {},
   "outputs": [
    {
     "name": "stdout",
     "output_type": "stream",
     "text": [
      "```java\n",
      "public BallSeq clone( ) {{\n",
      "    // This method clones the BallSeq object. It creates a new instance\n",
      "    // of BallSeq that contains the same data and structure as the original.\n",
      "    // The cloned BallSeq is independent of the original one, meaning it will not be affected by changes made to either.\n",
      "\n",
      "    BallSeq result = new BallSeq();\n",
      "\n",
      "    try {\n",
      "        // Clone the underlying list of nodes using the superclass's clone method\n",
      "        for (Node node : super.clone()) {\n",
      "            result.add(node);\n",
      "        }\n",
      "    } catch (CloneNotSupportedException e) {\n",
      "        // This exception should not occur. But if it does, it would probably\n",
      "        // indicate a programming error that made super.clone unavailable.\n",
      "        throw new RuntimeException(\"This class does not implement Cloneable\");\n",
      "    }\n",
      "\n",
      "    // Initialize the head and tail of the cloned BallSeq to point to the same nodes as the original\n",
      "    result.head = result.tail = null;\n",
      "\n",
      "    for (Node node : result) {\n",
      "        if (node == this.cursor) result.cursor = result.tail;\n",
      "        if (node == this.precursor) result.precursor = result.tail;\n",
      "        if (node == this.tail) result.tail = node;\n",
      "    }\n",
      "\n",
      "    // If the original list was empty, clone itself\n",
      "    if (this.head == null) {\n",
      "        result.head = result.tail = this;\n",
      "    } else {\n",
      "        // Perform hard work of cloning the list, such as setting precursor,\n",
      "        // cursor, and tail correctly.\n",
      "        // See pp 203-204, 235 (3rd ed. pp. 193-197, 228)\n",
      "    }\n",
      "\n",
      "    assert wellFormed() : \"invariant wrong at end of clone() for this\";\n",
      "    assert result.wellFormed() : \"invariant wrong for result of clone() for copy\";\n",
      "    return result;\n",
      "}}\n",
      "```\n"
     ]
    }
   ],
   "source": [
    "response = chat(model=model1, messages=[{'role': 'user', 'content': cloneBallSeq}])\n",
    "print(response['message']['content'])"
   ]
  },
  {
   "cell_type": "markdown",
   "id": "9e91d559",
   "metadata": {},
   "source": [
    "### Wizard Coder (33B)"
   ]
  },
  {
   "cell_type": "code",
   "execution_count": 15,
   "id": "fa8f3712",
   "metadata": {},
   "outputs": [
    {
     "name": "stdout",
     "output_type": "stream",
     "text": [
      "\n",
      "/**\n",
      " * A helper method that performs a removal operation on a Binary Search Tree (BST).\n",
      " * This function is called recursively until it finds the string to be removed and \n",
      " * adjusts the nodes accordingly.\n",
      " *\n",
      " * @param r The current node being examined.\n",
      " * @param s The string value of the node being searched for.\n",
      " * @param before A reference to the node that leads to the node 'r'.\n",
      " * @param removeOnce If true, only removes one occurrence of the given string if it exists.\n",
      " * @param val If provided, will only remove nodes with a count equal to this value.\n",
      " * @return The updated node after the operation.\n",
      " */\n",
      "\n",
      "Analysis: \n",
      "1. This method is for a data structure (a Binary Search Tree).\n",
      "2. Parameters r, s, before, removeOnce, val are all involved in recursive operations within the tree, where 'r' is the current node being examined and 's' is the string value of the node to be found or removed. The parameters 'before', 'removeOnce' and 'val' affect the operation's behavior.\n",
      "3. This method performs a removal from a binary search tree in accordance with BST rules (smaller values go left, larger ones go right). If removeOnce is true, it removes only one occurrence of the specified string; if val is provided, it removes only nodes that have a count equal to 'val'. \n"
     ]
    }
   ],
   "source": [
    "\n",
    "response = chat(model=model3, messages=[{'role': 'user', 'content': removeFromBST2}])\n",
    "print(response['message']['content'])"
   ]
  },
  {
   "cell_type": "code",
   "execution_count": 16,
   "id": "65506e77",
   "metadata": {},
   "outputs": [
    {
     "name": "stdout",
     "output_type": "stream",
     "text": [
      "/**\n",
      " * Clones the BallSeq object by creating a new BallSeq object and copying all nodes from the original list into it. This method also manages the cursor, precursor and tail pointers.\n",
      " * \n",
      " * @return A clone of this BallSeq object.\n",
      " */\n"
     ]
    }
   ],
   "source": [
    "response = chat(model=model3, messages=[{'role': 'user', 'content': cloneBallSeq}])\n",
    "print(response['message']['content'])"
   ]
  }
 ],
 "metadata": {
  "kernelspec": {
   "display_name": "venv",
   "language": "python",
   "name": "python3"
  },
  "language_info": {
   "codemirror_mode": {
    "name": "ipython",
    "version": 3
   },
   "file_extension": ".py",
   "mimetype": "text/x-python",
   "name": "python",
   "nbconvert_exporter": "python",
   "pygments_lexer": "ipython3",
   "version": "3.12.3"
  }
 },
 "nbformat": 4,
 "nbformat_minor": 5
}
