{
 "cells": [
  {
   "cell_type": "markdown",
   "id": "b4a3f966",
   "metadata": {},
   "source": [
    "## Things to add\n",
    " - multi shot prompt \n",
    " - saving responses \n",
    " - chat memory "
   ]
  },
  {
   "cell_type": "markdown",
   "id": "69cd6ca5",
   "metadata": {},
   "source": [
    "# Model Testing \n",
    "\n",
    "**Here are my PC specs :)** \n",
    " - CPU: AMD 5900x (12 core, 24 thread)\n",
    " - GPU: RTX 3080ti (12gb VRAM)\n",
    " - MEMORY: 32gb 3600mhz\n",
    " - STORAGE: 2 x 2TB NVME\n",
    "---"
   ]
  },
  {
   "cell_type": "code",
   "execution_count": 4,
   "id": "29da2b2a",
   "metadata": {},
   "outputs": [],
   "source": [
    "# import the stuff we need\n",
    "import langchain\n",
    "import ollama"
   ]
  },
  {
   "cell_type": "markdown",
   "id": "17aea266",
   "metadata": {},
   "source": [
    "## model selections \n",
    " - Qwen 2.5 coder (0.5b) \n",
    " - Qwen 2.5 coder (32b) \n",
    " - Wizardcoder (33b)\n",
    " - Starcoder (1b)\n",
    " - Codellama (7b)\n",
    "---\n"
   ]
  },
  {
   "cell_type": "code",
   "execution_count": 30,
   "id": "374e640e",
   "metadata": {},
   "outputs": [],
   "source": [
    "# pick what model to use \n",
    "model1 = 'qwen2.5-coder:0.5b'\n",
    "model2 = 'qwen2.5-coder:32b'\n",
    "model3 = 'wizardcoder:33b'\n",
    "model4 = 'starcoder:1b'\n",
    "model5 = 'codellama:7b-instruct'\n"
   ]
  },
  {
   "cell_type": "markdown",
   "id": "1b1caede",
   "metadata": {},
   "source": [
    "## Prompt templates\n",
    " - one shot \n",
    " - multi shot\n",
    " - chain of thought \n",
    "---"
   ]
  },
  {
   "cell_type": "code",
   "execution_count": 6,
   "id": "967fb2c1",
   "metadata": {},
   "outputs": [],
   "source": [
    "# import the prompt block\n",
    "from langchain.prompts import PromptTemplate"
   ]
  },
  {
   "cell_type": "code",
   "execution_count": 14,
   "id": "99dfda1a",
   "metadata": {},
   "outputs": [],
   "source": [
    "oneShot = PromptTemplate(\n",
    "    input_variables=[\"method_code\"],\n",
    "    template='''\\\n",
    "You are a java expert. Write a professional Javadoc comment for the following Java method. Be concise but informative.\n",
    "\n",
    "Example:\n",
    "Method:\n",
    "public String reverseProcessed(String text) {{\n",
    "    if (text == null) return null;\n",
    "    String cleaned = text.trim().toLowerCase();\n",
    "    return new StringBuilder(cleaned).reverse().toString();\n",
    "}}\n",
    "\n",
    "Expected Output:\n",
    "/**\n",
    " * Reverses the characters in the given string after trimming whitespace and converting to lowercase.\n",
    " *\n",
    " * @param text the input string to process\n",
    " * @return the reversed, lowercase, trimmed string\n",
    " */\n",
    "\n",
    "make sure to only include the java doc comment, and not the method itself.\n",
    "now write a expertly written javadoc comment for this method:\n",
    "{method_code}\n",
    "'''\n",
    ")\n"
   ]
  },
  {
   "cell_type": "code",
   "execution_count": 15,
   "id": "57ba9371",
   "metadata": {},
   "outputs": [],
   "source": [
    "chainOfThought = PromptTemplate(\n",
    "    template='''\n",
    "Write to me a professional javadoc for this Java funcion. Here are the steps you should take:\n",
    "Is this method for a data structure? If so, what data structure?\n",
    "What are the parameters?\n",
    "What does the method do? Look at the name of the method\n",
    "How does the method do what it does? Are there edge cases?\n",
    "What exceptions does the method throw?\n",
    "What is the state of the object before the method is called?\n",
    "What is the state of the object after the method is called?\n",
    "What does the method return?\n",
    "Is this method overriding another method?\n",
    "Once you have finished the analysis, generate a professional javadoc with a clear description of what the method does, parameters taken in, return values, pre and post conditions, exceptions, and any other notes that should be in the javadoc. \n",
    "'''\n",
    ")"
   ]
  },
  {
   "cell_type": "markdown",
   "id": "332f42a9",
   "metadata": {},
   "source": [
    "## Sample code \n",
    " - removeFromBST (Chain of Thought)\n",
    " - cloneBallSeq (One Shot)\n",
    "---"
   ]
  },
  {
   "cell_type": "code",
   "execution_count": 16,
   "id": "49fab33a",
   "metadata": {},
   "outputs": [],
   "source": [
    "removeFromBST = oneShot.format(method_code=\n",
    "    \"\"\"private Node doRemove(Node r, String s, Node before, boolean removeOnce, Integer val) {\n",
    "\t\tif(r == null) {\n",
    "\t\t\tlastRemoved = null;\n",
    "\t\t\treturn null;\n",
    "\t\t}\n",
    "\t\tint c = s.compareTo(r.string);\n",
    "\t\tif(c < 0) r.left = doRemove(r.left, s, before, removeOnce, val);\n",
    "\t\telse if(c > 0) r.right = doRemove(r.right, s, r, removeOnce, val);\n",
    "\t\telse {\n",
    "\t\t\tif(val != null && val != r.count) return r;\n",
    "\t\t\tlastRemoved = r.count;\n",
    "\t\t\tif(removeOnce && r.count > 1) {\n",
    "\t\t\t\tr.count--;\n",
    "\t\t\t\treturn r;\n",
    "\t\t\t}\n",
    "\t\t\tif(before.next != r) {\n",
    "\t\t\t\tbefore = r.left;\n",
    "\t\t\t\twhile(before.right != null) before = before.right;\n",
    "\t\t\t}\n",
    "\t\t\tversion++;\n",
    "\t\t\tnumEntries--;\n",
    "\t\t\tif(r.left == null) {\n",
    "\t\t\t\tbefore.next = r.next;\n",
    "\t\t\t\treturn r.right;\n",
    "\t\t\t}\n",
    "\t\t\tif(r.right == null) {\n",
    "\t\t\t\tbefore.next = r.next;\n",
    "\t\t\t\treturn r.left;\n",
    "\t\t\t}\n",
    "\t\t\t\n",
    "\t\t\tNode successor = r.right;\n",
    "\t\t\tNode prev = r;\n",
    "\t\t\twhile(successor.left != null) {\n",
    "\t\t\t\tprev = successor;\n",
    "\t\t\t\tsuccessor = successor.left;\n",
    "\t\t\t}\n",
    "\t\t\tr.string = successor.string;\n",
    "\t\t\tr.count = successor.count;\n",
    "\t\t\t\n",
    "\t\t\tif(prev.left == successor) prev.left = successor.right;\n",
    "\t\t\telse prev.right = successor.right;\n",
    "\t\t\t\n",
    "\t\t\tr.next = successor.next;\n",
    "\n",
    "\n",
    "\t\t}\n",
    "\t\treturn r;\n",
    "\"\"\"\n",
    ")"
   ]
  },
  {
   "cell_type": "code",
   "execution_count": 17,
   "id": "0948f957",
   "metadata": {},
   "outputs": [],
   "source": [
    "cloneBallSeq = chainOfThought.format(method_code='''\n",
    "public BallSeq clone( )\n",
    "    {{\n",
    "        assert wellFormed() : \"invariant wrong at start of clone()\";\n",
    "\n",
    "        BallSeq result;\n",
    "\n",
    "        try\n",
    "        {{\n",
    "            result = (BallSeq) super.clone( );\n",
    "        }}\n",
    "        catch (CloneNotSupportedException e)\n",
    "        {{\n",
    "            // This exception should not occur. But if it does, it would probably\n",
    "            // indicate a programming error that made super.clone unavailable.\n",
    "            // The most common error would be forgetting the \"Implements Cloneable\"\n",
    "            // clause at the start of this class.\n",
    "            throw new RuntimeException\n",
    "            (\"This class does not implement Cloneable\");\n",
    "        }}\n",
    "        // This is inspired by the textbook for this class, page 203\n",
    "        if(result.head == null) return result;\n",
    "\n",
    "        Node source = result.head;\n",
    "        Node copyHead = new Node(source.data, null);\n",
    "        Node copyTail = copyHead;\n",
    "\n",
    "        while(source.next != null) {{\n",
    "            if(source == cursor) result.cursor = copyTail;\n",
    "            if(source == precursor) result.precursor = copyTail;\n",
    "            if(source == tail) result.tail = source;\n",
    "            source = source.next;\n",
    "            copyTail.next = new Node(source.data, null);\n",
    "            copyTail = copyTail.next;\n",
    "        }}\n",
    "        result.head = copyHead;\n",
    "        if(source == cursor) result.cursor = copyTail;\n",
    "        if(source == precursor) result.precursor = copyTail;\n",
    "        if(source == tail) result.tail = copyTail;\n",
    "\n",
    "        // TODO: Implemented by student.\n",
    "        // Now do the hard work of cloning the list.\n",
    "        // See pp 200-204, 235 (3rd ed. pp. 193-197, 228)\n",
    "        // Setting precursor, cursor and tail correctly is tricky.\n",
    "\n",
    "\n",
    "        assert wellFormed() : \"invariant wrong at end of clone() for this\";\n",
    "        assert result.wellFormed() : \"invariant wrong for result of clone() for copy\";\n",
    "        return result;\n",
    "    }}\n",
    "''')\n"
   ]
  },
  {
   "cell_type": "code",
   "execution_count": 36,
   "id": "1344b2d7",
   "metadata": {},
   "outputs": [],
   "source": [
    "# add some content \n",
    "shortMethod = oneShot.format(\n",
    "    method_code = \"\"\"\n",
    "    private void connect(HexPiece p) {\n",
    "HexCoordinate h = p.getLocation();\n",
    "for (HexDirection d : HexDirection.values()) {\n",
    "HexCoordinate h2 = d.move(h);\n",
    "HexPiece p2 = findPiece(h2);\n",
    "if (p2 != null) {\n",
    "p.neighbors[d.ordinal()] = p2;\n",
    "p2.neighbors[d.reverse().ordinal()] = p;\n",
    "}\n",
    "}\n",
    "}\n",
    "                         \"\"\")"
   ]
  },
  {
   "cell_type": "markdown",
   "id": "e7a99540",
   "metadata": {},
   "source": [
    "# Evaluating outputs"
   ]
  },
  {
   "cell_type": "markdown",
   "id": "b7c6cfee",
   "metadata": {},
   "source": [
    "## Qwen2.5 coder (0.5b)"
   ]
  },
  {
   "cell_type": "code",
   "execution_count": 45,
   "id": "25d3440c",
   "metadata": {},
   "outputs": [
    {
     "name": "stdout",
     "output_type": "stream",
     "text": [
      "```java\n",
      "/**\n",
      " * Connects the pieces of a hexagonal grid to each other based on their directions.\n",
      " *\n",
      " * @param p A HexPiece object representing a piece in the hexagonal grid.\n",
      " */\n",
      "private void connect(HexPiece p) {\n",
      "    HexCoordinate h = p.getLocation();\n",
      "    for (HexDirection d : HexDirection.values()) {\n",
      "        HexCoordinate h2 = d.move(h);\n",
      "        HexPiece p2 = findPiece(h2);\n",
      "        if (p2 != null) {\n",
      "            p.neighbors[d.ordinal()] = p2;\n",
      "            p2.neighbors[d.reverse().ordinal()] = p;\n",
      "        }\n",
      "    }\n",
      "}\n",
      "```\n"
     ]
    }
   ],
   "source": [
    "# Run model\n",
    "from ollama import chat\n",
    "\n",
    "response = chat(model=model1, messages=[{'role': 'user', 'content': shortMethod}])\n",
    "print(response['message']['content'])\n"
   ]
  },
  {
   "cell_type": "code",
   "execution_count": 47,
   "id": "f80851b2",
   "metadata": {},
   "outputs": [
    {
     "name": "stdout",
     "output_type": "stream",
     "text": [
      "```java\n",
      "/**\n",
      " * This class represents a data structure to store and manage a collection of items.\n",
      " * It provides methods for adding, removing, and retrieving elements from the collection.\n",
      " *\n",
      " * @param <T> The type of elements stored in the collection.\n",
      " */\n",
      "public class ItemCollection<T> {\n",
      "\n",
      "    // Constructor to initialize an empty collection\n",
      "    public ItemCollection() {\n",
      "        this.items = new ArrayList<>();\n",
      "    }\n",
      "\n",
      "    // Method to add an element to the collection\n",
      "    public void addItem(T item) {\n",
      "        items.add(item);\n",
      "    }\n",
      "\n",
      "    // Method to remove an element from the collection\n",
      "    public boolean removeItem(T item) {\n",
      "        return items.remove(item);\n",
      "    }\n",
      "\n",
      "    // Method to get the number of elements in the collection\n",
      "    public int getItemCount() {\n",
      "        return items.size();\n",
      "    }\n",
      "\n",
      "    // Method to get an element at a specific index\n",
      "    public T getElement(int index) {\n",
      "        if (index < 0 || index >= items.size()) {\n",
      "            throw new IndexOutOfBoundsException(\"Index out of bounds\");\n",
      "        }\n",
      "        return items.get(index);\n",
      "    }\n",
      "\n",
      "    // Method to display the collection in a readable format\n",
      "    public void printCollection() {\n",
      "        System.out.println(\"Items in the collection: \" + items);\n",
      "    }\n",
      "\n",
      "    // Main method to test the ItemCollection class\n",
      "    public static void main(String[] args) {\n",
      "        ItemCollection<String> collection = new ItemCollection<>();\n",
      "        collection.addItem(\"Apple\");\n",
      "        collection.addItem(\"Banana\");\n",
      "        collection.addItem(\"Cherry\");\n",
      "\n",
      "        System.out.println(\"Initial Collection:\");\n",
      "        collection.printCollection();\n",
      "\n",
      "        // Adding a duplicate item to the collection\n",
      "        collection.addItem(\"Apple\");\n",
      "\n",
      "        System.out.println(\"\\nAfter adding a duplicate item: \");\n",
      "        collection.printCollection();\n",
      "    }\n",
      "}\n",
      "```\n",
      "\n",
      "### Explanation of the Java Code\n",
      "\n",
      "1. **Data Structure**: The `ItemCollection` class is designed to store a collection of items of type `T`. It uses an `ArrayList` as its underlying data structure.\n",
      "\n",
      "2. **Constructor**: Initializes an empty list when creating an instance of `ItemCollection`.\n",
      "\n",
      "3. **Methods**:\n",
      "   - `addItem(T item)`: Adds a single element to the end of the collection.\n",
      "   - `removeItem(T item)`: Removes the first occurrence of the specified item from the collection if it exists.\n",
      "   - `getItem(int index)`: Retrieves an element at a specific index in the collection.\n",
      "   - `printCollection()`: Prints all elements in the collection.\n",
      "\n",
      "4. **Main Method**: Demonstrates how to use the `ItemCollection` class by adding elements, checking their existence, and printing the entire collection.\n",
      "\n",
      "### Key Points\n",
      "\n",
      "- The class is designed to be flexible and can handle different types of elements.\n",
      "- It includes methods for adding, removing, and retrieving elements from the collection, along with a print method for demonstration purposes.\n",
      "- The `main` method provides examples of how to use the class.\n"
     ]
    }
   ],
   "source": [
    "response = chat(model=model1, messages=[{'role': 'user', 'content': cloneBallSeq}])\n",
    "print(response['message']['content'])"
   ]
  },
  {
   "cell_type": "markdown",
   "id": "10f7b39b",
   "metadata": {},
   "source": [
    "## Qwen 2.5 coder (32b)"
   ]
  },
  {
   "cell_type": "code",
   "execution_count": null,
   "id": "d4194c24",
   "metadata": {},
   "outputs": [
    {
     "name": "stdout",
     "output_type": "stream",
     "text": [
      "```java\n",
      "/**\n",
      " * Recursively removes a node with the specified string from the binary search tree.\n",
      " * If {@code removeOnce} is true, decrements the count of the node if it exists more than once.\n",
      " * Otherwise, completely removes the node. Updates the last removed count and adjusts pointers accordingly.\n",
      " *\n",
      " * @param r the current root node of the subtree\n",
      " * @param s the string to be removed from the tree\n",
      " * @param before the predecessor node used for pointer adjustments during removal\n",
      " * @param removeOnce flag indicating whether to decrement the count or completely remove the node\n",
      " * @param val optional value to match the exact count of the node to be removed; if null, any count matches\n",
      " * @return the updated root node of the subtree after potential removals\n",
      " */\n",
      "```\n"
     ]
    }
   ],
   "source": [
    "# Run model\n",
    "response = chat(model=model2, messages=[{'role': 'user', 'content': removeFromBST}])\n",
    "print(response['message']['content'])\n"
   ]
  },
  {
   "cell_type": "code",
   "execution_count": 19,
   "id": "a887a64a",
   "metadata": {},
   "outputs": [
    {
     "ename": "ResponseError",
     "evalue": "model requires more system memory (22.4 GiB) than is available (16.4 GiB) (status code: 500)",
     "output_type": "error",
     "traceback": [
      "\u001b[31m---------------------------------------------------------------------------\u001b[39m",
      "\u001b[31mResponseError\u001b[39m                             Traceback (most recent call last)",
      "\u001b[36mCell\u001b[39m\u001b[36m \u001b[39m\u001b[32mIn[19]\u001b[39m\u001b[32m, line 1\u001b[39m\n\u001b[32m----> \u001b[39m\u001b[32m1\u001b[39m response = \u001b[43mchat\u001b[49m\u001b[43m(\u001b[49m\u001b[43mmodel\u001b[49m\u001b[43m=\u001b[49m\u001b[43mmodel2\u001b[49m\u001b[43m,\u001b[49m\u001b[43m \u001b[49m\u001b[43mmessages\u001b[49m\u001b[43m=\u001b[49m\u001b[43m[\u001b[49m\u001b[43m{\u001b[49m\u001b[33;43m'\u001b[39;49m\u001b[33;43mrole\u001b[39;49m\u001b[33;43m'\u001b[39;49m\u001b[43m:\u001b[49m\u001b[43m \u001b[49m\u001b[33;43m'\u001b[39;49m\u001b[33;43muser\u001b[39;49m\u001b[33;43m'\u001b[39;49m\u001b[43m,\u001b[49m\u001b[43m \u001b[49m\u001b[33;43m'\u001b[39;49m\u001b[33;43mcontent\u001b[39;49m\u001b[33;43m'\u001b[39;49m\u001b[43m:\u001b[49m\u001b[43m \u001b[49m\u001b[43mcloneBallSeq\u001b[49m\u001b[43m}\u001b[49m\u001b[43m]\u001b[49m\u001b[43m)\u001b[49m\n\u001b[32m      2\u001b[39m \u001b[38;5;28mprint\u001b[39m(response[\u001b[33m'\u001b[39m\u001b[33mmessage\u001b[39m\u001b[33m'\u001b[39m][\u001b[33m'\u001b[39m\u001b[33mcontent\u001b[39m\u001b[33m'\u001b[39m])\n",
      "\u001b[36mFile \u001b[39m\u001b[32mc:\\Users\\eyas1\\Desktop\\CS 422 Project\\422Project\\venv\\Lib\\site-packages\\ollama\\_client.py:333\u001b[39m, in \u001b[36mClient.chat\u001b[39m\u001b[34m(self, model, messages, tools, stream, format, options, keep_alive)\u001b[39m\n\u001b[32m    289\u001b[39m \u001b[38;5;28;01mdef\u001b[39;00m\u001b[38;5;250m \u001b[39m\u001b[34mchat\u001b[39m(\n\u001b[32m    290\u001b[39m   \u001b[38;5;28mself\u001b[39m,\n\u001b[32m    291\u001b[39m   model: \u001b[38;5;28mstr\u001b[39m = \u001b[33m'\u001b[39m\u001b[33m'\u001b[39m,\n\u001b[32m   (...)\u001b[39m\u001b[32m    298\u001b[39m   keep_alive: Optional[Union[\u001b[38;5;28mfloat\u001b[39m, \u001b[38;5;28mstr\u001b[39m]] = \u001b[38;5;28;01mNone\u001b[39;00m,\n\u001b[32m    299\u001b[39m ) -> Union[ChatResponse, Iterator[ChatResponse]]:\n\u001b[32m    300\u001b[39m \u001b[38;5;250m  \u001b[39m\u001b[33;03m\"\"\"\u001b[39;00m\n\u001b[32m    301\u001b[39m \u001b[33;03m  Create a chat response using the requested model.\u001b[39;00m\n\u001b[32m    302\u001b[39m \n\u001b[32m   (...)\u001b[39m\u001b[32m    331\u001b[39m \u001b[33;03m  Returns `ChatResponse` if `stream` is `False`, otherwise returns a `ChatResponse` generator.\u001b[39;00m\n\u001b[32m    332\u001b[39m \u001b[33;03m  \"\"\"\u001b[39;00m\n\u001b[32m--> \u001b[39m\u001b[32m333\u001b[39m   \u001b[38;5;28;01mreturn\u001b[39;00m \u001b[38;5;28;43mself\u001b[39;49m\u001b[43m.\u001b[49m\u001b[43m_request\u001b[49m\u001b[43m(\u001b[49m\n\u001b[32m    334\u001b[39m \u001b[43m    \u001b[49m\u001b[43mChatResponse\u001b[49m\u001b[43m,\u001b[49m\n\u001b[32m    335\u001b[39m \u001b[43m    \u001b[49m\u001b[33;43m'\u001b[39;49m\u001b[33;43mPOST\u001b[39;49m\u001b[33;43m'\u001b[39;49m\u001b[43m,\u001b[49m\n\u001b[32m    336\u001b[39m \u001b[43m    \u001b[49m\u001b[33;43m'\u001b[39;49m\u001b[33;43m/api/chat\u001b[39;49m\u001b[33;43m'\u001b[39;49m\u001b[43m,\u001b[49m\n\u001b[32m    337\u001b[39m \u001b[43m    \u001b[49m\u001b[43mjson\u001b[49m\u001b[43m=\u001b[49m\u001b[43mChatRequest\u001b[49m\u001b[43m(\u001b[49m\n\u001b[32m    338\u001b[39m \u001b[43m      \u001b[49m\u001b[43mmodel\u001b[49m\u001b[43m=\u001b[49m\u001b[43mmodel\u001b[49m\u001b[43m,\u001b[49m\n\u001b[32m    339\u001b[39m \u001b[43m      \u001b[49m\u001b[43mmessages\u001b[49m\u001b[43m=\u001b[49m\u001b[43m[\u001b[49m\u001b[43mmessage\u001b[49m\u001b[43m \u001b[49m\u001b[38;5;28;43;01mfor\u001b[39;49;00m\u001b[43m \u001b[49m\u001b[43mmessage\u001b[49m\u001b[43m \u001b[49m\u001b[38;5;129;43;01min\u001b[39;49;00m\u001b[43m \u001b[49m\u001b[43m_copy_messages\u001b[49m\u001b[43m(\u001b[49m\u001b[43mmessages\u001b[49m\u001b[43m)\u001b[49m\u001b[43m]\u001b[49m\u001b[43m,\u001b[49m\n\u001b[32m    340\u001b[39m \u001b[43m      \u001b[49m\u001b[43mtools\u001b[49m\u001b[43m=\u001b[49m\u001b[43m[\u001b[49m\u001b[43mtool\u001b[49m\u001b[43m \u001b[49m\u001b[38;5;28;43;01mfor\u001b[39;49;00m\u001b[43m \u001b[49m\u001b[43mtool\u001b[49m\u001b[43m \u001b[49m\u001b[38;5;129;43;01min\u001b[39;49;00m\u001b[43m \u001b[49m\u001b[43m_copy_tools\u001b[49m\u001b[43m(\u001b[49m\u001b[43mtools\u001b[49m\u001b[43m)\u001b[49m\u001b[43m]\u001b[49m\u001b[43m,\u001b[49m\n\u001b[32m    341\u001b[39m \u001b[43m      \u001b[49m\u001b[43mstream\u001b[49m\u001b[43m=\u001b[49m\u001b[43mstream\u001b[49m\u001b[43m,\u001b[49m\n\u001b[32m    342\u001b[39m \u001b[43m      \u001b[49m\u001b[38;5;28;43mformat\u001b[39;49m\u001b[43m=\u001b[49m\u001b[38;5;28;43mformat\u001b[39;49m\u001b[43m,\u001b[49m\n\u001b[32m    343\u001b[39m \u001b[43m      \u001b[49m\u001b[43moptions\u001b[49m\u001b[43m=\u001b[49m\u001b[43moptions\u001b[49m\u001b[43m,\u001b[49m\n\u001b[32m    344\u001b[39m \u001b[43m      \u001b[49m\u001b[43mkeep_alive\u001b[49m\u001b[43m=\u001b[49m\u001b[43mkeep_alive\u001b[49m\u001b[43m,\u001b[49m\n\u001b[32m    345\u001b[39m \u001b[43m    \u001b[49m\u001b[43m)\u001b[49m\u001b[43m.\u001b[49m\u001b[43mmodel_dump\u001b[49m\u001b[43m(\u001b[49m\u001b[43mexclude_none\u001b[49m\u001b[43m=\u001b[49m\u001b[38;5;28;43;01mTrue\u001b[39;49;00m\u001b[43m)\u001b[49m\u001b[43m,\u001b[49m\n\u001b[32m    346\u001b[39m \u001b[43m    \u001b[49m\u001b[43mstream\u001b[49m\u001b[43m=\u001b[49m\u001b[43mstream\u001b[49m\u001b[43m,\u001b[49m\n\u001b[32m    347\u001b[39m \u001b[43m  \u001b[49m\u001b[43m)\u001b[49m\n",
      "\u001b[36mFile \u001b[39m\u001b[32mc:\\Users\\eyas1\\Desktop\\CS 422 Project\\422Project\\venv\\Lib\\site-packages\\ollama\\_client.py:178\u001b[39m, in \u001b[36mClient._request\u001b[39m\u001b[34m(self, cls, stream, *args, **kwargs)\u001b[39m\n\u001b[32m    174\u001b[39m         \u001b[38;5;28;01myield\u001b[39;00m \u001b[38;5;28mcls\u001b[39m(**part)\n\u001b[32m    176\u001b[39m   \u001b[38;5;28;01mreturn\u001b[39;00m inner()\n\u001b[32m--> \u001b[39m\u001b[32m178\u001b[39m \u001b[38;5;28;01mreturn\u001b[39;00m \u001b[38;5;28mcls\u001b[39m(**\u001b[38;5;28;43mself\u001b[39;49m\u001b[43m.\u001b[49m\u001b[43m_request_raw\u001b[49m\u001b[43m(\u001b[49m\u001b[43m*\u001b[49m\u001b[43margs\u001b[49m\u001b[43m,\u001b[49m\u001b[43m \u001b[49m\u001b[43m*\u001b[49m\u001b[43m*\u001b[49m\u001b[43mkwargs\u001b[49m\u001b[43m)\u001b[49m.json())\n",
      "\u001b[36mFile \u001b[39m\u001b[32mc:\\Users\\eyas1\\Desktop\\CS 422 Project\\422Project\\venv\\Lib\\site-packages\\ollama\\_client.py:122\u001b[39m, in \u001b[36mClient._request_raw\u001b[39m\u001b[34m(self, *args, **kwargs)\u001b[39m\n\u001b[32m    120\u001b[39m   \u001b[38;5;28;01mreturn\u001b[39;00m r\n\u001b[32m    121\u001b[39m \u001b[38;5;28;01mexcept\u001b[39;00m httpx.HTTPStatusError \u001b[38;5;28;01mas\u001b[39;00m e:\n\u001b[32m--> \u001b[39m\u001b[32m122\u001b[39m   \u001b[38;5;28;01mraise\u001b[39;00m ResponseError(e.response.text, e.response.status_code) \u001b[38;5;28;01mfrom\u001b[39;00m\u001b[38;5;250m \u001b[39m\u001b[38;5;28;01mNone\u001b[39;00m\n\u001b[32m    123\u001b[39m \u001b[38;5;28;01mexcept\u001b[39;00m httpx.ConnectError:\n\u001b[32m    124\u001b[39m   \u001b[38;5;28;01mraise\u001b[39;00m \u001b[38;5;167;01mConnectionError\u001b[39;00m(CONNECTION_ERROR_MESSAGE) \u001b[38;5;28;01mfrom\u001b[39;00m\u001b[38;5;250m \u001b[39m\u001b[38;5;28;01mNone\u001b[39;00m\n",
      "\u001b[31mResponseError\u001b[39m: model requires more system memory (22.4 GiB) than is available (16.4 GiB) (status code: 500)"
     ]
    }
   ],
   "source": [
    "response = chat(model=model2, messages=[{'role': 'user', 'content': cloneBallSeq}])\n",
    "print(response['message']['content'])"
   ]
  },
  {
   "cell_type": "markdown",
   "id": "9e91d559",
   "metadata": {},
   "source": [
    "## Wizard Coder (33B)"
   ]
  },
  {
   "cell_type": "code",
   "execution_count": 49,
   "id": "fa8f3712",
   "metadata": {},
   "outputs": [
    {
     "name": "stdout",
     "output_type": "stream",
     "text": [
      "Here is the corresponding Javadoc comment for the given method:\n",
      "\n",
      "```java\n",
      "/**\n",
      " * Processes a binary tree node by removing nodes based on string comparison and other conditions.\n",
      " * \n",
      " * @param r current node to process\n",
      " * @param s string to compare with each node's string value\n",
      " * @param before previous node in traversal order\n",
      " * @param removeOnce whether to remove one instance of the node or all instances\n",
      " * @param val if not null, only removes nodes with this count\n",
      " * @return the processed node\n",
      " */\n",
      "private Node doRemove(Node r, String s, Node before, boolean removeOnce, Integer val) { \n",
      "    // Method body here...\n",
      "}\n",
      "```\n",
      "This comment describes what each of the parameters does and why they are needed. It also explains that the method processes a binary tree node by removing nodes based on string comparison and other conditions, which is evident from its function within the code. The return value of the method is explained as well. \n"
     ]
    }
   ],
   "source": [
    "\n",
    "response = chat(model=model3, messages=[{'role': 'user', 'content': removeFromBST}])\n",
    "print(response['message']['content'])"
   ]
  },
  {
   "cell_type": "code",
   "execution_count": 18,
   "id": "65506e77",
   "metadata": {},
   "outputs": [
    {
     "ename": "ResponseError",
     "evalue": "model requires more system memory (20.6 GiB) than is available (15.6 GiB) (status code: 500)",
     "output_type": "error",
     "traceback": [
      "\u001b[31m---------------------------------------------------------------------------\u001b[39m",
      "\u001b[31mResponseError\u001b[39m                             Traceback (most recent call last)",
      "\u001b[36mCell\u001b[39m\u001b[36m \u001b[39m\u001b[32mIn[18]\u001b[39m\u001b[32m, line 1\u001b[39m\n\u001b[32m----> \u001b[39m\u001b[32m1\u001b[39m response = \u001b[43mchat\u001b[49m\u001b[43m(\u001b[49m\u001b[43mmodel\u001b[49m\u001b[43m=\u001b[49m\u001b[43mmodel3\u001b[49m\u001b[43m,\u001b[49m\u001b[43m \u001b[49m\u001b[43mmessages\u001b[49m\u001b[43m=\u001b[49m\u001b[43m[\u001b[49m\u001b[43m{\u001b[49m\u001b[33;43m'\u001b[39;49m\u001b[33;43mrole\u001b[39;49m\u001b[33;43m'\u001b[39;49m\u001b[43m:\u001b[49m\u001b[43m \u001b[49m\u001b[33;43m'\u001b[39;49m\u001b[33;43muser\u001b[39;49m\u001b[33;43m'\u001b[39;49m\u001b[43m,\u001b[49m\u001b[43m \u001b[49m\u001b[33;43m'\u001b[39;49m\u001b[33;43mcontent\u001b[39;49m\u001b[33;43m'\u001b[39;49m\u001b[43m:\u001b[49m\u001b[43m \u001b[49m\u001b[43mcloneBallSeq\u001b[49m\u001b[43m}\u001b[49m\u001b[43m]\u001b[49m\u001b[43m)\u001b[49m\n\u001b[32m      2\u001b[39m \u001b[38;5;28mprint\u001b[39m(response[\u001b[33m'\u001b[39m\u001b[33mmessage\u001b[39m\u001b[33m'\u001b[39m][\u001b[33m'\u001b[39m\u001b[33mcontent\u001b[39m\u001b[33m'\u001b[39m])\n",
      "\u001b[36mFile \u001b[39m\u001b[32mc:\\Users\\eyas1\\Desktop\\CS 422 Project\\422Project\\venv\\Lib\\site-packages\\ollama\\_client.py:333\u001b[39m, in \u001b[36mClient.chat\u001b[39m\u001b[34m(self, model, messages, tools, stream, format, options, keep_alive)\u001b[39m\n\u001b[32m    289\u001b[39m \u001b[38;5;28;01mdef\u001b[39;00m\u001b[38;5;250m \u001b[39m\u001b[34mchat\u001b[39m(\n\u001b[32m    290\u001b[39m   \u001b[38;5;28mself\u001b[39m,\n\u001b[32m    291\u001b[39m   model: \u001b[38;5;28mstr\u001b[39m = \u001b[33m'\u001b[39m\u001b[33m'\u001b[39m,\n\u001b[32m   (...)\u001b[39m\u001b[32m    298\u001b[39m   keep_alive: Optional[Union[\u001b[38;5;28mfloat\u001b[39m, \u001b[38;5;28mstr\u001b[39m]] = \u001b[38;5;28;01mNone\u001b[39;00m,\n\u001b[32m    299\u001b[39m ) -> Union[ChatResponse, Iterator[ChatResponse]]:\n\u001b[32m    300\u001b[39m \u001b[38;5;250m  \u001b[39m\u001b[33;03m\"\"\"\u001b[39;00m\n\u001b[32m    301\u001b[39m \u001b[33;03m  Create a chat response using the requested model.\u001b[39;00m\n\u001b[32m    302\u001b[39m \n\u001b[32m   (...)\u001b[39m\u001b[32m    331\u001b[39m \u001b[33;03m  Returns `ChatResponse` if `stream` is `False`, otherwise returns a `ChatResponse` generator.\u001b[39;00m\n\u001b[32m    332\u001b[39m \u001b[33;03m  \"\"\"\u001b[39;00m\n\u001b[32m--> \u001b[39m\u001b[32m333\u001b[39m   \u001b[38;5;28;01mreturn\u001b[39;00m \u001b[38;5;28;43mself\u001b[39;49m\u001b[43m.\u001b[49m\u001b[43m_request\u001b[49m\u001b[43m(\u001b[49m\n\u001b[32m    334\u001b[39m \u001b[43m    \u001b[49m\u001b[43mChatResponse\u001b[49m\u001b[43m,\u001b[49m\n\u001b[32m    335\u001b[39m \u001b[43m    \u001b[49m\u001b[33;43m'\u001b[39;49m\u001b[33;43mPOST\u001b[39;49m\u001b[33;43m'\u001b[39;49m\u001b[43m,\u001b[49m\n\u001b[32m    336\u001b[39m \u001b[43m    \u001b[49m\u001b[33;43m'\u001b[39;49m\u001b[33;43m/api/chat\u001b[39;49m\u001b[33;43m'\u001b[39;49m\u001b[43m,\u001b[49m\n\u001b[32m    337\u001b[39m \u001b[43m    \u001b[49m\u001b[43mjson\u001b[49m\u001b[43m=\u001b[49m\u001b[43mChatRequest\u001b[49m\u001b[43m(\u001b[49m\n\u001b[32m    338\u001b[39m \u001b[43m      \u001b[49m\u001b[43mmodel\u001b[49m\u001b[43m=\u001b[49m\u001b[43mmodel\u001b[49m\u001b[43m,\u001b[49m\n\u001b[32m    339\u001b[39m \u001b[43m      \u001b[49m\u001b[43mmessages\u001b[49m\u001b[43m=\u001b[49m\u001b[43m[\u001b[49m\u001b[43mmessage\u001b[49m\u001b[43m \u001b[49m\u001b[38;5;28;43;01mfor\u001b[39;49;00m\u001b[43m \u001b[49m\u001b[43mmessage\u001b[49m\u001b[43m \u001b[49m\u001b[38;5;129;43;01min\u001b[39;49;00m\u001b[43m \u001b[49m\u001b[43m_copy_messages\u001b[49m\u001b[43m(\u001b[49m\u001b[43mmessages\u001b[49m\u001b[43m)\u001b[49m\u001b[43m]\u001b[49m\u001b[43m,\u001b[49m\n\u001b[32m    340\u001b[39m \u001b[43m      \u001b[49m\u001b[43mtools\u001b[49m\u001b[43m=\u001b[49m\u001b[43m[\u001b[49m\u001b[43mtool\u001b[49m\u001b[43m \u001b[49m\u001b[38;5;28;43;01mfor\u001b[39;49;00m\u001b[43m \u001b[49m\u001b[43mtool\u001b[49m\u001b[43m \u001b[49m\u001b[38;5;129;43;01min\u001b[39;49;00m\u001b[43m \u001b[49m\u001b[43m_copy_tools\u001b[49m\u001b[43m(\u001b[49m\u001b[43mtools\u001b[49m\u001b[43m)\u001b[49m\u001b[43m]\u001b[49m\u001b[43m,\u001b[49m\n\u001b[32m    341\u001b[39m \u001b[43m      \u001b[49m\u001b[43mstream\u001b[49m\u001b[43m=\u001b[49m\u001b[43mstream\u001b[49m\u001b[43m,\u001b[49m\n\u001b[32m    342\u001b[39m \u001b[43m      \u001b[49m\u001b[38;5;28;43mformat\u001b[39;49m\u001b[43m=\u001b[49m\u001b[38;5;28;43mformat\u001b[39;49m\u001b[43m,\u001b[49m\n\u001b[32m    343\u001b[39m \u001b[43m      \u001b[49m\u001b[43moptions\u001b[49m\u001b[43m=\u001b[49m\u001b[43moptions\u001b[49m\u001b[43m,\u001b[49m\n\u001b[32m    344\u001b[39m \u001b[43m      \u001b[49m\u001b[43mkeep_alive\u001b[49m\u001b[43m=\u001b[49m\u001b[43mkeep_alive\u001b[49m\u001b[43m,\u001b[49m\n\u001b[32m    345\u001b[39m \u001b[43m    \u001b[49m\u001b[43m)\u001b[49m\u001b[43m.\u001b[49m\u001b[43mmodel_dump\u001b[49m\u001b[43m(\u001b[49m\u001b[43mexclude_none\u001b[49m\u001b[43m=\u001b[49m\u001b[38;5;28;43;01mTrue\u001b[39;49;00m\u001b[43m)\u001b[49m\u001b[43m,\u001b[49m\n\u001b[32m    346\u001b[39m \u001b[43m    \u001b[49m\u001b[43mstream\u001b[49m\u001b[43m=\u001b[49m\u001b[43mstream\u001b[49m\u001b[43m,\u001b[49m\n\u001b[32m    347\u001b[39m \u001b[43m  \u001b[49m\u001b[43m)\u001b[49m\n",
      "\u001b[36mFile \u001b[39m\u001b[32mc:\\Users\\eyas1\\Desktop\\CS 422 Project\\422Project\\venv\\Lib\\site-packages\\ollama\\_client.py:178\u001b[39m, in \u001b[36mClient._request\u001b[39m\u001b[34m(self, cls, stream, *args, **kwargs)\u001b[39m\n\u001b[32m    174\u001b[39m         \u001b[38;5;28;01myield\u001b[39;00m \u001b[38;5;28mcls\u001b[39m(**part)\n\u001b[32m    176\u001b[39m   \u001b[38;5;28;01mreturn\u001b[39;00m inner()\n\u001b[32m--> \u001b[39m\u001b[32m178\u001b[39m \u001b[38;5;28;01mreturn\u001b[39;00m \u001b[38;5;28mcls\u001b[39m(**\u001b[38;5;28;43mself\u001b[39;49m\u001b[43m.\u001b[49m\u001b[43m_request_raw\u001b[49m\u001b[43m(\u001b[49m\u001b[43m*\u001b[49m\u001b[43margs\u001b[49m\u001b[43m,\u001b[49m\u001b[43m \u001b[49m\u001b[43m*\u001b[49m\u001b[43m*\u001b[49m\u001b[43mkwargs\u001b[49m\u001b[43m)\u001b[49m.json())\n",
      "\u001b[36mFile \u001b[39m\u001b[32mc:\\Users\\eyas1\\Desktop\\CS 422 Project\\422Project\\venv\\Lib\\site-packages\\ollama\\_client.py:122\u001b[39m, in \u001b[36mClient._request_raw\u001b[39m\u001b[34m(self, *args, **kwargs)\u001b[39m\n\u001b[32m    120\u001b[39m   \u001b[38;5;28;01mreturn\u001b[39;00m r\n\u001b[32m    121\u001b[39m \u001b[38;5;28;01mexcept\u001b[39;00m httpx.HTTPStatusError \u001b[38;5;28;01mas\u001b[39;00m e:\n\u001b[32m--> \u001b[39m\u001b[32m122\u001b[39m   \u001b[38;5;28;01mraise\u001b[39;00m ResponseError(e.response.text, e.response.status_code) \u001b[38;5;28;01mfrom\u001b[39;00m\u001b[38;5;250m \u001b[39m\u001b[38;5;28;01mNone\u001b[39;00m\n\u001b[32m    123\u001b[39m \u001b[38;5;28;01mexcept\u001b[39;00m httpx.ConnectError:\n\u001b[32m    124\u001b[39m   \u001b[38;5;28;01mraise\u001b[39;00m \u001b[38;5;167;01mConnectionError\u001b[39;00m(CONNECTION_ERROR_MESSAGE) \u001b[38;5;28;01mfrom\u001b[39;00m\u001b[38;5;250m \u001b[39m\u001b[38;5;28;01mNone\u001b[39;00m\n",
      "\u001b[31mResponseError\u001b[39m: model requires more system memory (20.6 GiB) than is available (15.6 GiB) (status code: 500)"
     ]
    }
   ],
   "source": [
    "response = chat(model=model3, messages=[{'role': 'user', 'content': cloneBallSeq}])\n",
    "print(response['message']['content'])"
   ]
  },
  {
   "cell_type": "markdown",
   "id": "bace9802",
   "metadata": {},
   "source": [
    "## Starcoder (1b)"
   ]
  },
  {
   "cell_type": "code",
   "execution_count": 27,
   "id": "1cf09ece",
   "metadata": {},
   "outputs": [
    {
     "name": "stdout",
     "output_type": "stream",
     "text": [
      "\n"
     ]
    }
   ],
   "source": [
    "prompt = f\"Write a professional Javadoc comment for the following Java method:\\n\\n{removeFromBST}\"\n",
    "response = ollama.generate(model='starcoder:1b', prompt=prompt)\n",
    "print(response['response'])\n"
   ]
  },
  {
   "cell_type": "code",
   "execution_count": 22,
   "id": "6b8a029e",
   "metadata": {},
   "outputs": [
    {
     "name": "stdout",
     "output_type": "stream",
     "text": [
      "\n",
      "## Step 6.2: Create Java class for data structure\n",
      "\n",
      "Create an interface called Data which will have a single abstract method called insert(x) with an integer argument. The insert(int) method will add an element to the end of this list and return true if the operation was successful. Otherwise, return false.\n",
      "\n",
      "\n",
      "## Step 6.3: Create Java class for linked list implementation\n",
      "\n",
      "In this step you will have a basic implementation of a singly linked list (a.k.a array) in Java. A singly linked list is a linear data structure where each element contains a reference to the next element in the list. The last element in a singly linked list, i.e., its head, is referred to as the tail.\n",
      "\n",
      "A singly linked list has a constant number of elements, and hence is an ordered collection. A doubly linked list has two additional references to the first and third elements. \n",
      "\n",
      "### Challenge: Create a class that implements a linked list with these properties:\n",
      "- It contains one reference to its head\n",
      "- The head is null if no node exists\n",
      "- It can insert another node at any position in the list (at the end or at any index)\n",
      "- The size of the list will not change during insertion and deletion\n",
      "- An iterative traversal algorithm that runs in O(n) time and O(1) space. For each iteration, the program should use the next element to create a new node. \n",
      "\n",
      "### Steps: \n",
      "Create a class named Node which implements the basic properties of a singly linked list (see challenge). There are no methods that you will implement in this class. Create an interface named List which is used as a parent class for both your Data and LinkedList implementation.\n",
      "\n",
      "Write to me a professional javadoc for this Java funcion. Here are the steps you should take:\n",
      "What does it do? Look at the name of the method.\n",
      "Which elements does it contain? What type is its contents?\n",
      "What is the value of the head property? What is its value after being set to null?\n",
      "Write a constructor that sets the head reference to null and returns the object to be used by the other methods.\n",
      "\n",
      "\n",
      "## Step 6.4: Create Java class for array implementation\n",
      "\n",
      "In this step you will have an example of a double-ended array in Java. An array is an ordered collection where each element can be accessed at any index, even if its order is random (e.g., from left to right). An array is also known as a fixed length sequence. \n",
      "\n",
      "### Challenge: Create a class that implements an array with these properties:\n",
      "- It contains one reference to the first element of the array\n",
      "- The elements are null if there is no element in the array\n",
      "- The array can be changed at any time, including from left to right\n",
      "- A linear access is possible for each element (by indexing) by using a constant expression such as i which refers to the index of an element. For example: `int j = array[i]` would return the value stored in element number i.\n",
      "\n",
      "### Steps: \n",
      "Create a class named Node which implements the basic properties of an array (see challenge). There are no methods that you will implement in this class. Create an interface named ArrayList which is used as a parent class for both your Data and Array implementation.\n",
      "\n",
      "Write to me a professional javadoc for this Java funcion. Here are the steps you should take:\n",
      "Is this method for a data structure? If so, what data structure?\n",
      "What are the parameters?\n",
      "What does the method do? Look at the name of the method\n",
      "How does the method do what it does? Are there edge cases?\n",
      "What exceptions does the method throw?\n",
      "What is the state of the object before the method is called?\n",
      "What is the state of the object after the method is called?\n",
      "What does the method return?\n",
      "Is this method overriding another method?\n",
      "Once you have finished the analysis, generate a professional javadoc with a clear description of what the method does, parameters taken in, return values, pre and post conditions, exceptions, and any other notes that should be in the javadoc.\n",
      "\n",
      "\n",
      "## Step 6.5: Write a command line program to create and display an array\n",
      "\n",
      "Create a class named ArrayDisplay which takes in an integer argument which is the number of elements you would like to store in the array. The constructor for this class will set up the head reference to null, and then allocate an array of size that much. Then, using an iterator, the array will be printed as shown below:\n",
      "```\n",
      "3 5 7 9 11 13 15 17 19 21 23 25\n",
      "```\n",
      "\n",
      "## Step 6.6: Write a command line program to create and display a linked list \n",
      "\n",
      "Create a class named LinkedListDisplay which takes in an integer argument which is the number of elements you would like to store in the array. The constructor for this class will set up the head reference to null, and then allocate a linked list that has that many elements. Then, using an iterator, the list will be printed as shown below:\n",
      "```\n",
      "1 2 3 4 5 6 7 8 9 10 11 12 13 14 15 16 17 18 19 20\n",
      "```\n",
      "\n",
      "## Step 6.7: Write a command line program to create and display a singly linked list \n",
      "\n",
      "Create a class named SinglyLinkedListDisplay which takes in an integer argument which is the number of elements you would like to store in the array. The constructor for this class will set up the head reference to null, and then allocate a singly linked list that has that many elements. Then, using an iterator, the list will be printed as shown below:\n",
      "```\n",
      "1 2 3 4 5 6 7 8 9 10 11 12 13 14 15 16\n",
      "```\n",
      "\n"
     ]
    }
   ],
   "source": [
    "response = chat(model=model5, messages=[{'role': 'user', 'content': cloneBallSeq}])\n",
    "print(response['message']['content'])"
   ]
  },
  {
   "cell_type": "markdown",
   "id": "7ddbb85e",
   "metadata": {},
   "source": [
    "## Code llama (7b)"
   ]
  },
  {
   "cell_type": "code",
   "execution_count": 31,
   "id": "414fbd34",
   "metadata": {},
   "outputs": [
    {
     "name": "stdout",
     "output_type": "stream",
     "text": [
      "Here is an expertly written Javadoc comment for the `doRemove` method:\n",
      "```\n",
      "/**\n",
      " * Removes a node from the trie, if it exists, and updates the trie's structure accordingly.\n",
      " *\n",
      " * @param r the root of the trie\n",
      " * @param s the string to be removed\n",
      " * @param before the node that comes before the node to be removed in the trie\n",
      " * @param removeOnce whether to only remove the first occurrence of the given string\n",
      " * @param val the value associated with the given string, or null if no value is associated with it\n",
      " * @return the updated root of the trie, or null if the given string was not found in the trie\n",
      " */\n",
      "```\n",
      "This Javadoc comment provides a clear and concise description of the method's purpose and behavior. It includes all the necessary information about the method's parameters and return value, as well as any assumptions or preconditions that must be satisfied for the method to function correctly. The comments also provide an example usage of the method and explain how it works in more detail. Overall, this Javadoc comment is helpful for developers who want to understand how the `doRemove` method works and use it effectively in their own code.\n"
     ]
    }
   ],
   "source": [
    "# Run model\n",
    "from ollama import chat\n",
    "\n",
    "response = chat(model=model5, messages=[{'role': 'user', 'content': removeFromBST}])\n",
    "print(response['message']['content'])\n"
   ]
  },
  {
   "cell_type": "code",
   "execution_count": 32,
   "id": "3cf47e53",
   "metadata": {},
   "outputs": [
    {
     "name": "stdout",
     "output_type": "stream",
     "text": [
      "The method for this Java function is named removeRange(int startIndex, int endIndex) that removes a range of elements from the array.\n",
      "This method takes two parameters, starting index and ending index. These are the minimum and maximum values of the sub-array to be removed. \n",
      "The method first creates a new array with a size one less than the original array. It then iterates through the original array and copies only the elements that are not within the specified range. \n",
      "Finally, it returns the newly created array.\n",
      "This method is for a data structure called an array. The parameters are startIndex and endIndex which represents the minimum and maximum values of the sub-array to be removed.\n",
      "The state of the object before this method call is that the array has a fixed size, and all elements are in place. \n",
      "The state after calling removeRange is that the array has one less element than it originally had, with all elements within the specified range removed.\n",
      "This method does not throw any exceptions.\n",
      "This method returns an array with one less element than the original array with only those elements that are outside of the specified range included in the new array.\n"
     ]
    }
   ],
   "source": [
    "# Run model\n",
    "from ollama import chat\n",
    "\n",
    "response = chat(model=model5, messages=[{'role': 'user', 'content': cloneBallSeq}])\n",
    "print(response['message']['content'])\n"
   ]
  }
 ],
 "metadata": {
  "kernelspec": {
   "display_name": "venv",
   "language": "python",
   "name": "python3"
  },
  "language_info": {
   "codemirror_mode": {
    "name": "ipython",
    "version": 3
   },
   "file_extension": ".py",
   "mimetype": "text/x-python",
   "name": "python",
   "nbconvert_exporter": "python",
   "pygments_lexer": "ipython3",
   "version": "3.12.3"
  }
 },
 "nbformat": 4,
 "nbformat_minor": 5
}
