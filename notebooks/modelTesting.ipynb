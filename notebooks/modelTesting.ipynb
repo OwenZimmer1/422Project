{
 "cells": [
  {
   "cell_type": "markdown",
   "id": "b4a3f966",
   "metadata": {},
   "source": [
    "## Things to add\n",
    " - multi shot prompt \n",
    " - chain of thought prompt \n",
    " - saving responses \n",
    " - chat memory (maybe)"
   ]
  },
  {
   "cell_type": "markdown",
   "id": "69cd6ca5",
   "metadata": {},
   "source": [
    "# Model Testing \n",
    "\n",
    "**Here are my PC specs :)** \n",
    " - CPU: AMD 5900x (12 core, 24 thread)\n",
    " - GPU: RTX 3080ti (12gb VRAM)\n",
    " - MEMORY: 32gb 3600mhz\n",
    " - STORAGE: 2 x 2TB NVME\n",
    "---"
   ]
  },
  {
   "cell_type": "code",
   "execution_count": null,
   "id": "29da2b2a",
   "metadata": {},
   "outputs": [],
   "source": [
    "# import the stuff we need\n",
    "import langchain\n",
    "import ollama"
   ]
  },
  {
   "cell_type": "markdown",
   "id": "17aea266",
   "metadata": {},
   "source": [
    "## model selections \n",
    " - Qwen 2.5 coder (0.5b) \n",
    " - Qwen 2.5 coder (32b) \n",
    " - Wizardcoder (33b)\n",
    " - Starcoder (1b)\n",
    " - Codellama (7b)\n",
    "---\n"
   ]
  },
  {
   "cell_type": "code",
   "execution_count": null,
   "id": "374e640e",
   "metadata": {},
   "outputs": [],
   "source": [
    "# pick what model to use \n",
    "model1 = 'qwen2.5-coder:0.5b'\n",
    "model2 = 'qwen2.5-coder:32b'\n",
    "model3 = 'wizardcoder:33b'\n",
    "model4 = 'starcoder2:15b'"
   ]
  },
  {
   "cell_type": "markdown",
   "id": "1b1caede",
   "metadata": {},
   "source": [
    "## Prompt templates\n",
    " - one shot \n",
    " - multi shot\n",
    " - chain of thought \n",
    "---"
   ]
  },
  {
   "cell_type": "code",
   "execution_count": null,
   "id": "967fb2c1",
   "metadata": {},
   "outputs": [],
   "source": [
    "# import the prompt block\n",
    "from langchain.prompts import PromptTemplate"
   ]
  },
  {
   "cell_type": "code",
   "execution_count": null,
   "id": "99dfda1a",
   "metadata": {},
   "outputs": [],
   "source": [
    "oneShot = PromptTemplate(\n",
    "    input_variables=[\"method_code\"],\n",
    "    template='''\n",
    "Write a clear and professional method header in Javadoc style. I will provide some examples.\n",
    "\n",
    "method_code: \n",
    "public int factorial(int n) {{\n",
    "    if (n < 0) {{\n",
    "        throw new IllegalArgumentException(\"Input must be non-negative.\");\n",
    "    }}\n",
    "    int result = 1;\n",
    "    for (int i = 2; i <= n; i++) {{\n",
    "        result *= i;\n",
    "    }}\n",
    "    return result;\n",
    "}}\n",
    "\n",
    "good output:\n",
    "/**\n",
    " * Calculates the factorial of a given non-negative integer.\n",
    " *\n",
    " * @param n the number to compute the factorial of\n",
    " * @return the factorial of n\n",
    " * @throws IllegalArgumentException if n is negative\n",
    " */\n",
    "\n",
    "now given {method_code}:\n",
    "\n",
    "write a Javadoc header for the method above.\n",
    "\n",
    "'''\n",
    ")\n"
   ]
  },
  {
   "cell_type": "code",
   "execution_count": null,
   "id": "7ca62019",
   "metadata": {},
   "outputs": [],
   "source": [
    "from langchain.prompts import PromptTemplate\n",
    "from ollama import chat\n",
    "\n",
    "# Multishot examples from your dataset\n",
    "examples = \"\"\"\n",
    "public Point getLoc(){return location;}\n",
    "\n",
    "/***\n",
    "* Gets the location.\n",
    "*\n",
    "* @return the current location\n",
    "*/\n",
    "\n",
    "---\n",
    "\n",
    "public void draw(Graphics g){\n",
    "    g.setColor(color);\n",
    "    g.fillOval(location.intX() - radius, location.intY() - radius, radius * 2, radius * 2);\n",
    "    if (!active){\n",
    "        Vector standard_vec = move.normalize().scale(radius * 2);\n",
    "        g.setColor(Color.RED);\n",
    "        g.drawLine(location.intX(), location.intY(), standard_vec.move(location).intX(), standard_vec.move(location).intY());\n",
    "    }\n",
    "}\n",
    "\n",
    "/***\n",
    "* Draws the ball, and if non-active also draws its vector.\n",
    "*\n",
    "* @param g the Graphics context on which to draw\n",
    "*/\n",
    "\n",
    "---\n",
    "\n",
    "public boolean isDone(){\n",
    "    return finishedInstructions == totalInstructions;\n",
    "}\n",
    "\n",
    "/***\n",
    "* Checks if the process is completed.\n",
    "* \n",
    "* @return true, if the process has completed all instructions\n",
    "*/\n",
    "\"\"\"\n",
    "\n",
    "# Method to document\n",
    "new_method = \"\"\"\n",
    "private int add(int a, int b) {\n",
    "    return a + b;\n",
    "}\n",
    "\"\"\"\n",
    "\n",
    "# Build the prompt using LangChain\n",
    "multiShot = PromptTemplate(\n",
    "    input_variables=[\"examples\", \"new_code\"],\n",
    "    template=\"\"\"\n",
    "Here are some examples of Java methods and their Javadoc comments:\n",
    "\n",
    "{examples}\n",
    "\n",
    "Now write a professional Javadoc comment for this Java method:\n",
    "\n",
    "{new_code}\n",
    "\"\"\"\n",
    ")"
   ]
  },
  {
   "cell_type": "code",
   "execution_count": null,
   "id": "cfc2e715",
   "metadata": {},
   "outputs": [],
   "source": [
    "prompt_text = multiShot.format(examples=examples, new_code=new_method)\n",
    "\n",
    "# Run the model\n",
    "response = chat(model=\"qwen2.5-coder:0.5b\", messages=[{'role': 'user', 'content': prompt_text}])\n",
    "print(response['message']['content'])"
   ]
  },
  {
   "cell_type": "code",
   "execution_count": null,
   "id": "57ba9371",
   "metadata": {},
   "outputs": [],
   "source": [
    "chainOfThought = PromptTemplate(\n",
    "    template='''\n",
    "Write to me a professional javadoc for this Java funcion. Here are the steps you should take:\n",
    "Is this method for a data structure? If so, what data structure?\n",
    "What are the parameters?\n",
    "What does the method do? Look at the name of the method\n",
    "How does the method do what it does? Are there edge cases?\n",
    "What exceptions does the method throw?\n",
    "What is the state of the object before the method is called?\n",
    "What is the state of the object after the method is called?\n",
    "What does the method return?\n",
    "Is this method overriding another method?\n",
    "Once you have finished the analysis, generate a professional javadoc with a clear description of what the method does, parameters taken in, return values, pre and post conditions, exceptions, and any other notes that should be in the javadoc. \n",
    "'''\n",
    ")"
   ]
  },
  {
   "cell_type": "code",
   "execution_count": null,
   "id": "dec09162",
   "metadata": {},
   "outputs": [],
   "source": [
    "AdvancedChainOfThought = PromptTemplate(\n",
    "    template='''\n",
    "Write to me a professional javadoc for this Java funcion. Here are the steps you should take:\n",
    "Is this method for a data structure? If so, what data structure?\n",
    "What are the parameters?\n",
    "What does the method do? Look at the name of the method\n",
    "How does the method do what it does?\n",
    "What are the variable names used?\n",
    "How are the variables used?\n",
    "What exceptions does the method throw?\n",
    "What inputs will cause an exception to be thrown?\n",
    "Trace the execution with some test runs\n",
    "If the method is complex, break it into smaller chunks and analyze each chuck to see what the method does\n",
    "Once you have finished the analysis, generate a professional javadoc with a clear description of what the method does, parameters taken in, return values, pre and post conditions, exceptions, and any other notes that should be in the javadoc. \n",
    "'''\n",
    ")"
   ]
  },
  {
   "cell_type": "markdown",
   "id": "332f42a9",
   "metadata": {},
   "source": [
    "## Sample code \n",
    "---"
   ]
  },
  {
   "cell_type": "code",
   "execution_count": null,
   "id": "49fab33a",
   "metadata": {},
   "outputs": [],
   "source": [
    "removeFromBST = oneShot.format(method_code=\n",
    "    \"\"\"private Node doRemove(Node r, String s, Node before, boolean removeOnce, Integer val) {\n",
    "\t\tif(r == null) {\n",
    "\t\t\tlastRemoved = null;\n",
    "\t\t\treturn null;\n",
    "\t\t}\n",
    "\t\tint c = s.compareTo(r.string);\n",
    "\t\tif(c < 0) r.left = doRemove(r.left, s, before, removeOnce, val);\n",
    "\t\telse if(c > 0) r.right = doRemove(r.right, s, r, removeOnce, val);\n",
    "\t\telse {\n",
    "\t\t\tif(val != null && val != r.count) return r;\n",
    "\t\t\tlastRemoved = r.count;\n",
    "\t\t\tif(removeOnce && r.count > 1) {\n",
    "\t\t\t\tr.count--;\n",
    "\t\t\t\treturn r;\n",
    "\t\t\t}\n",
    "\t\t\tif(before.next != r) {\n",
    "\t\t\t\tbefore = r.left;\n",
    "\t\t\t\twhile(before.right != null) before = before.right;\n",
    "\t\t\t}\n",
    "\t\t\tversion++;\n",
    "\t\t\tnumEntries--;\n",
    "\t\t\tif(r.left == null) {\n",
    "\t\t\t\tbefore.next = r.next;\n",
    "\t\t\t\treturn r.right;\n",
    "\t\t\t}\n",
    "\t\t\tif(r.right == null) {\n",
    "\t\t\t\tbefore.next = r.next;\n",
    "\t\t\t\treturn r.left;\n",
    "\t\t\t}\n",
    "\t\t\t\n",
    "\t\t\tNode successor = r.right;\n",
    "\t\t\tNode prev = r;\n",
    "\t\t\twhile(successor.left != null) {\n",
    "\t\t\t\tprev = successor;\n",
    "\t\t\t\tsuccessor = successor.left;\n",
    "\t\t\t}\n",
    "\t\t\tr.string = successor.string;\n",
    "\t\t\tr.count = successor.count;\n",
    "\t\t\t\n",
    "\t\t\tif(prev.left == successor) prev.left = successor.right;\n",
    "\t\t\telse prev.right = successor.right;\n",
    "\t\t\t\n",
    "\t\t\tr.next = successor.next;\n",
    "\n",
    "\n",
    "\t\t}\n",
    "\t\treturn r;\n",
    "\"\"\"\n",
    ")"
   ]
  },
  {
   "cell_type": "code",
   "execution_count": null,
   "id": "1344b2d7",
   "metadata": {},
   "outputs": [],
   "source": [
    "# add some content \n",
    "shortMethod = oneShot.format(\n",
    "    method_code = \"\"\"\n",
    "    private void connect(HexPiece p) {\n",
    "HexCoordinate h = p.getLocation();\n",
    "for (HexDirection d : HexDirection.values()) {\n",
    "HexCoordinate h2 = d.move(h);\n",
    "HexPiece p2 = findPiece(h2);\n",
    "if (p2 != null) {\n",
    "p.neighbors[d.ordinal()] = p2;\n",
    "p2.neighbors[d.reverse().ordinal()] = p;\n",
    "}\n",
    "}\n",
    "}\n",
    "                         \"\"\")"
   ]
  },
  {
   "cell_type": "code",
   "execution_count": null,
   "id": "f5dcd239",
   "metadata": {},
   "outputs": [],
   "source": [
    "longMethodWithHelper = oneShot.format(method_code=\"\"\"\\\n",
    "private void rehash() {{\n",
    "\n",
    "    int newCapacity = Primes.nextPrime(table.length * 2);\n",
    "    HexPiece[] oldTable = table;\n",
    "    table = new HexPiece[newCapacity];\n",
    "    size = 0;\n",
    "\n",
    "    for (HexPiece head : oldTable) {{\n",
    "        if (head == null) continue;\n",
    "        HexPiece current = head;\n",
    "        do {{\n",
    "            HexPiece next = current.nextInChain;\n",
    "            int newIndex = locate(current.location);\n",
    "\n",
    "            if (table[newIndex] == null) {{\n",
    "                current.nextInChain = current;\n",
    "                table[newIndex] = current;\n",
    "            }} else {{\n",
    "                current.nextInChain = table[newIndex].nextInChain;\n",
    "                table[newIndex].nextInChain = current;\n",
    "            }}\n",
    "            size++;\n",
    "            current = next;\n",
    "        }} while (current != head);\n",
    "    }}\n",
    "}}\n",
    "\n",
    "public boolean add(HexPiece p) {{\n",
    "    assert wellFormed() : \"Invariant broken before add\";\n",
    "\n",
    "    if (p == null || p.location == null || p.terrain == null)\n",
    "        throw new NullPointerException(\"Piece, location, and terrain must not be null\");\n",
    "\n",
    "    int index = locate(p.location);\n",
    "    HexPiece head = table[index];\n",
    "\n",
    "    if (head != null) {{\n",
    "        HexPiece current = head;\n",
    "        do {{\n",
    "            if (current.location.equals(p.location)) {{\n",
    "                current.terrain = p.terrain;\n",
    "                version++;\n",
    "                assert wellFormed() : \"Invariant broken after add (update)\";\n",
    "                return false;\n",
    "            }}\n",
    "            current = current.nextInChain;\n",
    "        }} while (current != head);\n",
    "\n",
    "        p.nextInChain = head.nextInChain;\n",
    "        head.nextInChain = p;\n",
    "    }} else {{\n",
    "        p.nextInChain = p;\n",
    "        table[index] = p;\n",
    "    }}\n",
    "\n",
    "    connect(p);\n",
    "    size++;\n",
    "    version++;\n",
    "\n",
    "    if (size >= table.length) {{\n",
    "        rehash();\n",
    "    }}\n",
    "\n",
    "    assert wellFormed() : \"Invariant broken after add (insert)\";\n",
    "    return true;\n",
    "}}\n",
    "\"\"\")\n"
   ]
  },
  {
   "cell_type": "markdown",
   "id": "e7a99540",
   "metadata": {},
   "source": [
    "# Evaluating outputs"
   ]
  },
  {
   "cell_type": "markdown",
   "id": "b7c6cfee",
   "metadata": {},
   "source": [
    "### Qwen2.5 coder (0.5b)"
   ]
  },
  {
   "cell_type": "code",
   "execution_count": null,
   "id": "25d3440c",
   "metadata": {},
   "outputs": [],
   "source": [
    "# Run model\n",
    "from ollama import chat\n",
    "model1 = 'qwen2.5-coder:0.5b'\n",
    "response = chat(model=model1, messages=[{'role': 'user', 'content': removeFromBST}])\n",
    "print(response['message']['content'])\n"
   ]
  },
  {
   "cell_type": "markdown",
   "id": "10f7b39b",
   "metadata": {},
   "source": [
    "### Qwen 2.5 coder (32b)"
   ]
  },
  {
   "cell_type": "code",
   "execution_count": null,
   "id": "d4194c24",
   "metadata": {},
   "outputs": [],
   "source": [
    "# Run model\n",
    "response = chat(model=model2, messages=[{'role': 'user', 'content': longMethodWithHelper}])\n",
    "print(response['message']['content'])\n"
   ]
  },
  {
   "cell_type": "markdown",
   "id": "9e91d559",
   "metadata": {},
   "source": [
    "### Wizard Coder (15B)"
   ]
  },
  {
   "cell_type": "code",
   "execution_count": null,
   "id": "fa8f3712",
   "metadata": {},
   "outputs": [],
   "source": [
    "# Run model\n",
    "response = chat(model=model3, messages=[{'role': 'user', 'content': longMethodWithHelper}])\n",
    "print(response['message']['content'])"
   ]
  },
  {
   "cell_type": "markdown",
   "id": "bace9802",
   "metadata": {},
   "source": [
    "### Starcoder2 (15b)"
   ]
  },
  {
   "cell_type": "code",
   "execution_count": null,
   "id": "01e19df1",
   "metadata": {},
   "outputs": [],
   "source": [
    "# Run model\n",
    "response = chat(model=model4, messages=[{'role': 'user', 'content': shortMethod}])\n",
    "print(response['message']['content'])"
   ]
  }
 ],
 "metadata": {
  "kernelspec": {
   "display_name": "Python 3",
   "language": "python",
   "name": "python3"
  },
  "language_info": {
   "codemirror_mode": {
    "name": "ipython",
    "version": 3
   },
   "file_extension": ".py",
   "mimetype": "text/x-python",
   "name": "python",
   "nbconvert_exporter": "python",
   "pygments_lexer": "ipython3",
   "version": "3.11.9"
  }
 },
 "nbformat": 4,
 "nbformat_minor": 5
}
