{
 "cells": [
  {
   "cell_type": "markdown",
   "id": "69cd6ca5",
   "metadata": {},
   "source": [
    "# Model Testing \n"
   ]
  },
  {
   "cell_type": "code",
   "execution_count": 2,
   "id": "29da2b2a",
   "metadata": {},
   "outputs": [],
   "source": [
    "# import the stuff we need\n",
    "import langchain\n",
    "import ollama"
   ]
  },
  {
   "cell_type": "markdown",
   "id": "17aea266",
   "metadata": {},
   "source": [
    "## model selections \n",
    " - Qwen 2.5 coder (0.5b) \n",
    " - Qwen 2.5 coder (32b) \n"
   ]
  },
  {
   "cell_type": "code",
   "execution_count": null,
   "id": "374e640e",
   "metadata": {},
   "outputs": [],
   "source": [
    "# pick what model to use \n",
    "model1 = 'qwen2.5-coder:0.5b'\n",
    "model2 = 'qwen2.5-coder:32b'\n"
   ]
  },
  {
   "cell_type": "markdown",
   "id": "1b1caede",
   "metadata": {},
   "source": [
    "## Prompt templates\n",
    " - one shot \n",
    " - multi shot\n",
    " - chain of thought \n",
    "---"
   ]
  },
  {
   "cell_type": "code",
   "execution_count": 6,
   "id": "99dfda1a",
   "metadata": {},
   "outputs": [],
   "source": [
    "from langchain.prompts import PromptTemplate\n",
    "\n",
    "oneShot = PromptTemplate(\n",
    "    input_variables=[\"method_code\"],\n",
    "    template='''\n",
    "Write a clear and professional method header in Javadoc style. I will provide some examples.\n",
    "\n",
    "method_code: \n",
    "public int factorial(int n) {{\n",
    "    if (n < 0) {{\n",
    "        throw new IllegalArgumentException(\"Input must be non-negative.\");\n",
    "    }}\n",
    "    int result = 1;\n",
    "    for (int i = 2; i <= n; i++) {{\n",
    "        result *= i;\n",
    "    }}\n",
    "    return result;\n",
    "}}\n",
    "\n",
    "good output:\n",
    "/**\n",
    " * Calculates the factorial of a given non-negative integer.\n",
    " *\n",
    " * @param n the number to compute the factorial of\n",
    " * @return the factorial of n\n",
    " * @throws IllegalArgumentException if n is negative\n",
    " */\n",
    "\n",
    "now given {method_code}:\n",
    "\n",
    "write a Javadoc header for the method above.\n",
    "\n",
    "'''\n",
    ")\n"
   ]
  },
  {
   "cell_type": "markdown",
   "id": "332f42a9",
   "metadata": {},
   "source": [
    "## Sample code \n"
   ]
  },
  {
   "cell_type": "code",
   "execution_count": 8,
   "id": "1344b2d7",
   "metadata": {},
   "outputs": [],
   "source": [
    "# add some content \n",
    "shortMethod = oneShot.format(\n",
    "    method_code = \"\"\"\n",
    "    private void connect(HexPiece p) {\n",
    "HexCoordinate h = p.getLocation();\n",
    "for (HexDirection d : HexDirection.values()) {\n",
    "HexCoordinate h2 = d.move(h);\n",
    "HexPiece p2 = findPiece(h2);\n",
    "if (p2 != null) {\n",
    "p.neighbors[d.ordinal()] = p2;\n",
    "p2.neighbors[d.reverse().ordinal()] = p;\n",
    "}\n",
    "}\n",
    "}\n",
    "                         \"\"\")"
   ]
  },
  {
   "cell_type": "code",
   "execution_count": 9,
   "id": "f5dcd239",
   "metadata": {},
   "outputs": [],
   "source": [
    "longMethodWithHelper = oneShot.format(method_code=\"\"\"\\\n",
    "private void rehash() {{\n",
    "\n",
    "    int newCapacity = Primes.nextPrime(table.length * 2);\n",
    "    HexPiece[] oldTable = table;\n",
    "    table = new HexPiece[newCapacity];\n",
    "    size = 0;\n",
    "\n",
    "    for (HexPiece head : oldTable) {{\n",
    "        if (head == null) continue;\n",
    "        HexPiece current = head;\n",
    "        do {{\n",
    "            HexPiece next = current.nextInChain;\n",
    "            int newIndex = locate(current.location);\n",
    "\n",
    "            if (table[newIndex] == null) {{\n",
    "                current.nextInChain = current;\n",
    "                table[newIndex] = current;\n",
    "            }} else {{\n",
    "                current.nextInChain = table[newIndex].nextInChain;\n",
    "                table[newIndex].nextInChain = current;\n",
    "            }}\n",
    "            size++;\n",
    "            current = next;\n",
    "        }} while (current != head);\n",
    "    }}\n",
    "}}\n",
    "\n",
    "public boolean add(HexPiece p) {{\n",
    "    assert wellFormed() : \"Invariant broken before add\";\n",
    "\n",
    "    if (p == null || p.location == null || p.terrain == null)\n",
    "        throw new NullPointerException(\"Piece, location, and terrain must not be null\");\n",
    "\n",
    "    int index = locate(p.location);\n",
    "    HexPiece head = table[index];\n",
    "\n",
    "    if (head != null) {{\n",
    "        HexPiece current = head;\n",
    "        do {{\n",
    "            if (current.location.equals(p.location)) {{\n",
    "                current.terrain = p.terrain;\n",
    "                version++;\n",
    "                assert wellFormed() : \"Invariant broken after add (update)\";\n",
    "                return false;\n",
    "            }}\n",
    "            current = current.nextInChain;\n",
    "        }} while (current != head);\n",
    "\n",
    "        p.nextInChain = head.nextInChain;\n",
    "        head.nextInChain = p;\n",
    "    }} else {{\n",
    "        p.nextInChain = p;\n",
    "        table[index] = p;\n",
    "    }}\n",
    "\n",
    "    connect(p);\n",
    "    size++;\n",
    "    version++;\n",
    "\n",
    "    if (size >= table.length) {{\n",
    "        rehash();\n",
    "    }}\n",
    "\n",
    "    assert wellFormed() : \"Invariant broken after add (insert)\";\n",
    "    return true;\n",
    "}}\n",
    "\"\"\")\n"
   ]
  },
  {
   "cell_type": "markdown",
   "id": "e7a99540",
   "metadata": {},
   "source": [
    "## Evaluating outputs"
   ]
  },
  {
   "cell_type": "code",
   "execution_count": 11,
   "id": "25d3440c",
   "metadata": {},
   "outputs": [
    {
     "name": "stdout",
     "output_type": "stream",
     "text": [
      "/**\n",
      " * Connects a HexPiece to its neighbors based on given directions.\n",
      " *\n",
      " * @param piece The HexPiece to connect to its neighbors.\n",
      " */\n",
      "public void connect(HexPiece piece) {\n",
      "    HexCoordinate h = piece.getLocation();\n",
      "    for (HexDirection d : HexDirection.values()) {\n",
      "        HexCoordinate h2 = d.move(h);\n",
      "        HexPiece p2 = findPiece(h2);\n",
      "        if (p2 != null) {\n",
      "            p.neighbors[d.ordinal()] = p2;\n",
      "            p2.neighbors[d.reverse().ordinal()] = p;\n",
      "        }\n",
      "    }\n",
      "}\n"
     ]
    }
   ],
   "source": [
    "# Run model\n",
    "from ollama import chat\n",
    "\n",
    "response = chat(model=model1, messages=[{'role': 'user', 'content': shortMethod}])\n",
    "print(response['message']['content'])\n"
   ]
  },
  {
   "cell_type": "code",
   "execution_count": 48,
   "id": "d4194c24",
   "metadata": {},
   "outputs": [
    {
     "name": "stdout",
     "output_type": "stream",
     "text": [
      "```java\n",
      "/**\n",
      " * Adds a new piece to the terrain of an existing piece.\n",
      " *\n",
      " * @param p The piece to be added\n",
      " * @return True if the operation is successful, false otherwise\n",
      " */\n",
      "public boolean add(HexPiece p) {\n",
      "    assert wellFormed() : \"Invariant broken before add\";\n",
      "\n",
      "    if (p == null || p.location == null || p.terrain == null)\n",
      "        throw new NullPointerException(\"Piece, location, and terrain must not be null\");\n",
      "\n",
      "    int index = locate(p.location);\n",
      "    HexPiece head = table[index];\n",
      "\n",
      "    if (head != null) {{\n",
      "        HexPiece current = head;\n",
      "        do {{\n",
      "            if (current.location.equals(p.location)) {{\n",
      "                current.terrain = p.terrain;\n",
      "                version++;\n",
      "                assert wellFormed() : \"Invariant broken after add (update)\";\n",
      "                return false;\n",
      "            }}\n",
      "            current = current.nextInChain;\n",
      "        }} while (current != head);\n",
      "\n",
      "        p.nextInChain = head.nextInChain;\n",
      "        head.nextInChain = p;\n",
      "    }} else {{\n",
      "        p.nextInChain = p;\n",
      "        table[index] = p;\n",
      "    }}\n",
      "\n",
      "    connect(p);\n",
      "    size++;\n",
      "    version++;\n",
      "\n",
      "    if (size >= table.length) {{\n",
      "        rehash();\n",
      "    }}\n",
      "\n",
      "    assert wellFormed() : \"Invariant broken after add (insert)\";\n",
      "    return true;\n",
      "}\n",
      "```\n",
      "\n",
      "### Explanation:\n",
      "\n",
      "- **Method Signature**: The method `add` takes a `HexPiece` as its parameter.\n",
      "- **Input Validation**: It checks if the input is valid, ensuring it's not null and has non-null properties like `location`, `terrain`.\n",
      "- **Finding an Index**: It finds the correct index in the table where to add the piece.\n",
      "- **Checking for Existing Piece**: It checks if a piece already exists at that index.\n",
      "- **Inserting the Piece**: If the piece is valid, it inserts it into the table with the updated location and terrain.\n",
      "- **Updating Index**: After insertion, it updates the hash table to reflect the new position of the piece.\n",
      "- **Version Check**: If the size exceeds the table's length, it calls `rehash` to resize the table.\n",
      "- **Logging**: It logs whether the operation was successful.\n",
      "- **Invariants**: The method includes checks for well-formedness and version management, ensuring the terrain is updated and that the table is resized correctly.\n",
      "\n",
      "This Javadoc provides a clear and concise description of the method's purpose, parameters, return value, and potential errors, making it easy to understand how to use the method effectively.\n"
     ]
    }
   ],
   "source": [
    "# Run model\n",
    "response = chat(model=model1, messages=[{'role': 'user', 'content': longMethodWithHelper}])\n",
    "print(response['message']['content'])\n"
   ]
  }
 ],
 "metadata": {
  "kernelspec": {
   "display_name": "venv",
   "language": "python",
   "name": "python3"
  },
  "language_info": {
   "codemirror_mode": {
    "name": "ipython",
    "version": 3
   },
   "file_extension": ".py",
   "mimetype": "text/x-python",
   "name": "python",
   "nbconvert_exporter": "python",
   "pygments_lexer": "ipython3",
   "version": "3.12.6"
  }
 },
 "nbformat": 4,
 "nbformat_minor": 5
}
