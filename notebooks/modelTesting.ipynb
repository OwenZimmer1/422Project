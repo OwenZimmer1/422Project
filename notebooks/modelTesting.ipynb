{
 "cells": [
  {
   "cell_type": "markdown",
   "id": "b4a3f966",
   "metadata": {},
   "source": [
    "## Things to add\n",
    " - multi shot prompt \n",
    " - chain of thought prompt \n",
    " - saving responses \n",
    " - chat memory (maybe)"
   ]
  },
  {
   "cell_type": "markdown",
   "id": "69cd6ca5",
   "metadata": {},
   "source": [
    "# Model Testing \n",
    "\n",
    "**Here are my PC specs :)** \n",
    " - CPU: AMD 5900x (12 core, 24 thread)\n",
    " - GPU: RTX 3080ti (12gb VRAM)\n",
    " - MEMORY: 32gb 3600mhz\n",
    " - STORAGE: 2 x 2TB NVME"
   ]
  },
  {
   "cell_type": "code",
   "execution_count": 10,
   "id": "29da2b2a",
   "metadata": {},
   "outputs": [],
   "source": [
    "# import the stuff we need\n",
    "import langchain\n",
    "import ollama"
   ]
  },
  {
   "cell_type": "markdown",
   "id": "17aea266",
   "metadata": {},
   "source": [
    "## model selections \n",
    " - Qwen 2.5 coder (0.5b) \n",
    " - Qwen 2.5 coder (32b) \n",
    " - Wizardcoder (33b)\n"
   ]
  },
  {
   "cell_type": "code",
   "execution_count": 23,
   "id": "374e640e",
   "metadata": {},
   "outputs": [],
   "source": [
    "# pick what model to use \n",
    "model1 = 'qwen2.5-coder:0.5b'\n",
    "model2 = 'qwen2.5-coder:32b'\n",
    "model3 = 'wizardcoder:33b'"
   ]
  },
  {
   "cell_type": "markdown",
   "id": "1b1caede",
   "metadata": {},
   "source": [
    "## Prompt templates\n",
    " - one shot \n",
    " - multi shot\n",
    " - chain of thought \n",
    "---"
   ]
  },
  {
   "cell_type": "code",
   "execution_count": 12,
   "id": "967fb2c1",
   "metadata": {},
   "outputs": [],
   "source": [
    "# import the prompt block\n",
    "from langchain.prompts import PromptTemplate"
   ]
  },
  {
   "cell_type": "code",
   "execution_count": 13,
   "id": "99dfda1a",
   "metadata": {},
   "outputs": [],
   "source": [
    "oneShot = PromptTemplate(\n",
    "    input_variables=[\"method_code\"],\n",
    "    template='''\n",
    "Write a clear and professional method header in Javadoc style. I will provide some examples.\n",
    "\n",
    "method_code: \n",
    "public int factorial(int n) {{\n",
    "    if (n < 0) {{\n",
    "        throw new IllegalArgumentException(\"Input must be non-negative.\");\n",
    "    }}\n",
    "    int result = 1;\n",
    "    for (int i = 2; i <= n; i++) {{\n",
    "        result *= i;\n",
    "    }}\n",
    "    return result;\n",
    "}}\n",
    "\n",
    "good output:\n",
    "/**\n",
    " * Calculates the factorial of a given non-negative integer.\n",
    " *\n",
    " * @param n the number to compute the factorial of\n",
    " * @return the factorial of n\n",
    " * @throws IllegalArgumentException if n is negative\n",
    " */\n",
    "\n",
    "now given {method_code}:\n",
    "\n",
    "write a Javadoc header for the method above.\n",
    "\n",
    "'''\n",
    ")\n"
   ]
  },
  {
   "cell_type": "markdown",
   "id": "332f42a9",
   "metadata": {},
   "source": [
    "## Sample code \n"
   ]
  },
  {
   "cell_type": "code",
   "execution_count": 21,
   "id": "49fab33a",
   "metadata": {},
   "outputs": [],
   "source": [
    "removeFromBST = oneShot.format(method_code=\n",
    "    \"\"\"private Node doRemove(Node r, String s, Node before, boolean removeOnce, Integer val) {\n",
    "\t\tif(r == null) {\n",
    "\t\t\tlastRemoved = null;\n",
    "\t\t\treturn null;\n",
    "\t\t}\n",
    "\t\tint c = s.compareTo(r.string);\n",
    "\t\tif(c < 0) r.left = doRemove(r.left, s, before, removeOnce, val);\n",
    "\t\telse if(c > 0) r.right = doRemove(r.right, s, r, removeOnce, val);\n",
    "\t\telse {\n",
    "\t\t\tif(val != null && val != r.count) return r;\n",
    "\t\t\tlastRemoved = r.count;\n",
    "\t\t\tif(removeOnce && r.count > 1) {\n",
    "\t\t\t\tr.count--;\n",
    "\t\t\t\treturn r;\n",
    "\t\t\t}\n",
    "\t\t\tif(before.next != r) {\n",
    "\t\t\t\tbefore = r.left;\n",
    "\t\t\t\twhile(before.right != null) before = before.right;\n",
    "\t\t\t}\n",
    "\t\t\tversion++;\n",
    "\t\t\tnumEntries--;\n",
    "\t\t\tif(r.left == null) {\n",
    "\t\t\t\tbefore.next = r.next;\n",
    "\t\t\t\treturn r.right;\n",
    "\t\t\t}\n",
    "\t\t\tif(r.right == null) {\n",
    "\t\t\t\tbefore.next = r.next;\n",
    "\t\t\t\treturn r.left;\n",
    "\t\t\t}\n",
    "\t\t\t\n",
    "\t\t\tNode successor = r.right;\n",
    "\t\t\tNode prev = r;\n",
    "\t\t\twhile(successor.left != null) {\n",
    "\t\t\t\tprev = successor;\n",
    "\t\t\t\tsuccessor = successor.left;\n",
    "\t\t\t}\n",
    "\t\t\tr.string = successor.string;\n",
    "\t\t\tr.count = successor.count;\n",
    "\t\t\t\n",
    "\t\t\tif(prev.left == successor) prev.left = successor.right;\n",
    "\t\t\telse prev.right = successor.right;\n",
    "\t\t\t\n",
    "\t\t\tr.next = successor.next;\n",
    "\n",
    "\n",
    "\t\t}\n",
    "\t\treturn r;\n",
    "\"\"\"\n",
    ")"
   ]
  },
  {
   "cell_type": "code",
   "execution_count": 14,
   "id": "1344b2d7",
   "metadata": {},
   "outputs": [],
   "source": [
    "# add some content \n",
    "shortMethod = oneShot.format(\n",
    "    method_code = \"\"\"\n",
    "    private void connect(HexPiece p) {\n",
    "HexCoordinate h = p.getLocation();\n",
    "for (HexDirection d : HexDirection.values()) {\n",
    "HexCoordinate h2 = d.move(h);\n",
    "HexPiece p2 = findPiece(h2);\n",
    "if (p2 != null) {\n",
    "p.neighbors[d.ordinal()] = p2;\n",
    "p2.neighbors[d.reverse().ordinal()] = p;\n",
    "}\n",
    "}\n",
    "}\n",
    "                         \"\"\")"
   ]
  },
  {
   "cell_type": "code",
   "execution_count": 15,
   "id": "f5dcd239",
   "metadata": {},
   "outputs": [],
   "source": [
    "longMethodWithHelper = oneShot.format(method_code=\"\"\"\\\n",
    "private void rehash() {{\n",
    "\n",
    "    int newCapacity = Primes.nextPrime(table.length * 2);\n",
    "    HexPiece[] oldTable = table;\n",
    "    table = new HexPiece[newCapacity];\n",
    "    size = 0;\n",
    "\n",
    "    for (HexPiece head : oldTable) {{\n",
    "        if (head == null) continue;\n",
    "        HexPiece current = head;\n",
    "        do {{\n",
    "            HexPiece next = current.nextInChain;\n",
    "            int newIndex = locate(current.location);\n",
    "\n",
    "            if (table[newIndex] == null) {{\n",
    "                current.nextInChain = current;\n",
    "                table[newIndex] = current;\n",
    "            }} else {{\n",
    "                current.nextInChain = table[newIndex].nextInChain;\n",
    "                table[newIndex].nextInChain = current;\n",
    "            }}\n",
    "            size++;\n",
    "            current = next;\n",
    "        }} while (current != head);\n",
    "    }}\n",
    "}}\n",
    "\n",
    "public boolean add(HexPiece p) {{\n",
    "    assert wellFormed() : \"Invariant broken before add\";\n",
    "\n",
    "    if (p == null || p.location == null || p.terrain == null)\n",
    "        throw new NullPointerException(\"Piece, location, and terrain must not be null\");\n",
    "\n",
    "    int index = locate(p.location);\n",
    "    HexPiece head = table[index];\n",
    "\n",
    "    if (head != null) {{\n",
    "        HexPiece current = head;\n",
    "        do {{\n",
    "            if (current.location.equals(p.location)) {{\n",
    "                current.terrain = p.terrain;\n",
    "                version++;\n",
    "                assert wellFormed() : \"Invariant broken after add (update)\";\n",
    "                return false;\n",
    "            }}\n",
    "            current = current.nextInChain;\n",
    "        }} while (current != head);\n",
    "\n",
    "        p.nextInChain = head.nextInChain;\n",
    "        head.nextInChain = p;\n",
    "    }} else {{\n",
    "        p.nextInChain = p;\n",
    "        table[index] = p;\n",
    "    }}\n",
    "\n",
    "    connect(p);\n",
    "    size++;\n",
    "    version++;\n",
    "\n",
    "    if (size >= table.length) {{\n",
    "        rehash();\n",
    "    }}\n",
    "\n",
    "    assert wellFormed() : \"Invariant broken after add (insert)\";\n",
    "    return true;\n",
    "}}\n",
    "\"\"\")\n"
   ]
  },
  {
   "cell_type": "markdown",
   "id": "e7a99540",
   "metadata": {},
   "source": [
    "# Evaluating outputs"
   ]
  },
  {
   "cell_type": "markdown",
   "id": "b7c6cfee",
   "metadata": {},
   "source": [
    "### Qwen2.5 coder (0.5b)"
   ]
  },
  {
   "cell_type": "code",
   "execution_count": 22,
   "id": "25d3440c",
   "metadata": {},
   "outputs": [
    {
     "name": "stdout",
     "output_type": "stream",
     "text": [
      "/**\n",
      " * Removes a node from the list, returning the next node in its original position.\n",
      " *\n",
      " * @param n the node to remove from the list\n",
      " * @return the next node in its original position\n",
      " */\n",
      "public Node doRemove(Node r, String s, Node before, boolean removeOnce) {\n",
      "    if (r == null) return null;\n",
      "\n",
      "    int c = s.compareTo(r.string);\n",
      "    if (c < 0) r.left = doRemove(r.left, s, before, removeOnce, val);\n",
      "    else if (c > 0) r.right = doRemove(r.right, s, r, removeOnce, val);\n",
      "    else {\n",
      "        if(val != null && val != r.count) return r;\n",
      "        lastRemoved = r.count;\n",
      "        if(removeOnce && r.count > 1) {\n",
      "            r.count--;\n",
      "            return r;\n",
      "        }\n",
      "        if(before.next != r) {\n",
      "            before = r.left;\n",
      "            while(before.right != null) before = before.right;\n",
      "        }\n",
      "        version++;\n",
      "        numEntries--;\n",
      "        if(r.left == null) {\n",
      "            before.next = r.next;\n",
      "            return r.right;\n",
      "        }\n",
      "        if(r.right == null) {\n",
      "            before.next = r.next;\n",
      "            return r.left;\n",
      "        }\n",
      "\n",
      "        Node successor = r.right;\n",
      "        Node prev = r;\n",
      "        while(successor.left != null) {\n",
      "            prev = successor;\n",
      "            successor = successor.left;\n",
      "        }\n",
      "        r.string = successor.string;\n",
      "        r.count = successor.count;\n",
      "\n",
      "        if(prev.left == successor) prev.left = successor.right;\n",
      "        else prev.right = successor.right;\n",
      "\n",
      "        r.next = successor.next;\n",
      "\n",
      "\n",
      "    }\n",
      "    return r;\n",
      "}\n"
     ]
    }
   ],
   "source": [
    "# Run model\n",
    "from ollama import chat\n",
    "\n",
    "response = chat(model=model1, messages=[{'role': 'user', 'content': removeFromBST}])\n",
    "print(response['message']['content'])\n"
   ]
  },
  {
   "cell_type": "markdown",
   "id": "10f7b39b",
   "metadata": {},
   "source": [
    "### Qwen 2.5 coder (32b)"
   ]
  },
  {
   "cell_type": "code",
   "execution_count": 19,
   "id": "d4194c24",
   "metadata": {},
   "outputs": [
    {
     "name": "stdout",
     "output_type": "stream",
     "text": [
      "Certainly! Below is the Javadoc comment for the `rehash` method based on the provided code snippet and examples:\n",
      "\n",
      "```java\n",
      "/**\n",
      " * Rehashes the table to double its capacity, redistributing existing elements.\n",
      " * This method recalculates the new capacity using the next prime number greater\n",
      " * than twice the current table length. It then re-inserts all elements into the\n",
      " * new table based on their updated hash indices.\n",
      " *\n",
      " * @throws AssertionError if the invariant of the data structure is broken during rehashing\n",
      " */\n",
      "private void rehash() {\n",
      "    int newCapacity = Primes.nextPrime(table.length * 2);\n",
      "    HexPiece[] oldTable = table;\n",
      "    table = new HexPiece[newCapacity];\n",
      "    size = 0;\n",
      "\n",
      "    for (HexPiece head : oldTable) {\n",
      "        if (head == null) continue;\n",
      "        HexPiece current = head;\n",
      "        do {\n",
      "            HexPiece next = current.nextInChain;\n",
      "            int newIndex = locate(current.location);\n",
      "\n",
      "            if (table[newIndex] == null) {\n",
      "                current.nextInChain = current;\n",
      "                table[newIndex] = current;\n",
      "            } else {\n",
      "                current.nextInChain = table[newIndex].nextInChain;\n",
      "                table[newIndex].nextInChain = current;\n",
      "            }\n",
      "            size++;\n",
      "            current = next;\n",
      "        } while (current != head);\n",
      "    }\n",
      "\n",
      "    assert wellFormed() : \"Invariant broken after rehashing\";\n",
      "}\n",
      "```\n",
      "\n",
      "This Javadoc header describes the purpose of the `rehash` method, the actions it performs, and the exception or assertion it may throw.\n"
     ]
    }
   ],
   "source": [
    "# Run model\n",
    "response = chat(model=model2, messages=[{'role': 'user', 'content': longMethodWithHelper}])\n",
    "print(response['message']['content'])\n"
   ]
  },
  {
   "cell_type": "markdown",
   "id": "9e91d559",
   "metadata": {},
   "source": [
    "### Wizard Coder (15B)"
   ]
  },
  {
   "cell_type": "code",
   "execution_count": 24,
   "id": "fa8f3712",
   "metadata": {},
   "outputs": [
    {
     "name": "stdout",
     "output_type": "stream",
     "text": [
      "/**\n",
      " * Rehashes the hash table when it gets too full. This involves creating a new, larger table and rehashing all existing elements into it.\n",
      " */\n",
      "private void rehash() {\n",
      "    int newCapacity = Primes.nextPrime(table.length * 2);\n",
      "    HexPiece[] oldTable = table;\n",
      "    table = new HexPiece[newCapacity];\n",
      "    size = 0;\n",
      "    \n",
      "    for(HexPiece head : oldTable) {\n",
      "        if (head == null) continue;\n",
      "        HexPiece current = head;\n",
      "        do {\n",
      "            HexPiece next = current.nextInChain;\n",
      "            int newIndex = locate(current.location);\n",
      "            \n",
      "            if(table[newIndex] == null) {\n",
      "                current.nextInChain = current;\n",
      "                table[newIndex] = current;\n",
      "            } else {\n",
      "                current.nextInChain = table[newIndex].nextInChain;\n",
      "                table[newIndex].nextInChain = current;\n",
      "            }\n",
      "            size++;\n",
      "            current = next;\n",
      "        } while(current != head);\n",
      "    }\n",
      "}\n",
      "\n",
      "/**\n",
      " * Adds a new HexPiece to the hash table. If a Piece with the same location already exists, it will be updated.\n",
      " *\n",
      " * @param p The piece to add or update in the hash table.\n",
      " * @return True if the element was added, false if it was updated.\n",
      " * @throws NullPointerException If the provided HexPiece, its location, or terrain are null.\n",
      " */ \n"
     ]
    }
   ],
   "source": [
    "# Run model\n",
    "response = chat(model=model3, messages=[{'role': 'user', 'content': longMethodWithHelper}])\n",
    "print(response['message']['content'])"
   ]
  }
 ],
 "metadata": {
  "kernelspec": {
   "display_name": "venv",
   "language": "python",
   "name": "python3"
  },
  "language_info": {
   "codemirror_mode": {
    "name": "ipython",
    "version": 3
   },
   "file_extension": ".py",
   "mimetype": "text/x-python",
   "name": "python",
   "nbconvert_exporter": "python",
   "pygments_lexer": "ipython3",
   "version": "3.12.3"
  }
 },
 "nbformat": 4,
 "nbformat_minor": 5
}
