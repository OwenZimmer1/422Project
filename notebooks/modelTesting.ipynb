{
 "cells": [
  {
   "cell_type": "markdown",
   "id": "b4a3f966",
   "metadata": {},
   "source": [
    "## Things to add\n",
    " - multi shot prompt \n",
    " - saving responses \n",
    " - chat memory "
   ]
  },
  {
   "cell_type": "markdown",
   "id": "69cd6ca5",
   "metadata": {},
   "source": [
    "# Model Testing \n",
    "\n",
    "**Here are my PC specs :)** \n",
    " - CPU: AMD 5900x (12 core, 24 thread)\n",
    " - GPU: RTX 3080ti (12gb VRAM)\n",
    " - MEMORY: 32gb 3600mhz\n",
    " - STORAGE: 2 x 2TB NVME\n",
    "---"
   ]
  },
  {
   "cell_type": "code",
   "execution_count": 4,
   "id": "29da2b2a",
   "metadata": {},
   "outputs": [],
   "source": [
    "# import the stuff we need\n",
    "import langchain\n",
    "import ollama"
   ]
  },
  {
   "cell_type": "markdown",
   "id": "17aea266",
   "metadata": {},
   "source": [
    "## model selections \n",
    " - Qwen 2.5 coder (0.5b) \n",
    " - Qwen 2.5 coder (32b) \n",
    " - Wizardcoder (33b)\n",
    " - Starcoder (15b)\n",
    "---\n"
   ]
  },
  {
   "cell_type": "code",
   "execution_count": 5,
   "id": "374e640e",
   "metadata": {},
   "outputs": [],
   "source": [
    "# pick what model to use \n",
    "model1 = 'qwen2.5-coder:0.5b'\n",
    "model2 = 'qwen2.5-coder:32b'\n",
    "model3 = 'wizardcoder:33b'\n",
    "model4 = 'starcoder2:15b'"
   ]
  },
  {
   "cell_type": "markdown",
   "id": "1b1caede",
   "metadata": {},
   "source": [
    "## Prompt templates\n",
    " - one shot \n",
    " - multi shot\n",
    " - chain of thought \n",
    "---"
   ]
  },
  {
   "cell_type": "code",
   "execution_count": 6,
   "id": "967fb2c1",
   "metadata": {},
   "outputs": [],
   "source": [
    "# import the prompt block\n",
    "from langchain.prompts import PromptTemplate"
   ]
  },
  {
   "cell_type": "code",
   "execution_count": 43,
   "id": "99dfda1a",
   "metadata": {},
   "outputs": [],
   "source": [
    "oneShot = PromptTemplate(\n",
    "    input_variables=[\"method_code\"],\n",
    "    template='''\\\n",
    "You are a java expert. Write a professional Javadoc comment for the following Java method. Be concise but informative.\n",
    "\n",
    "Example:\n",
    "Method:\n",
    "public String reverseProcessed(String text) {{\n",
    "    if (text == null) return null;\n",
    "    String cleaned = text.trim().toLowerCase();\n",
    "    return new StringBuilder(cleaned).reverse().toString();\n",
    "}}\n",
    "\n",
    "Expected Output:\n",
    "/**\n",
    " * Reverses the characters in the given string after trimming whitespace and converting to lowercase.\n",
    " *\n",
    " * @param text the input string to process\n",
    " * @return the reversed, lowercase, trimmed string\n",
    " */\n",
    "\n",
    "make sure to only include the java doc comment, and not the method itself.\n",
    "now write a expertly written javadoc comment for this method:\n",
    "{method_code}\n",
    "'''\n",
    ")\n"
   ]
  },
  {
   "cell_type": "code",
   "execution_count": 33,
   "id": "57ba9371",
   "metadata": {},
   "outputs": [],
   "source": [
    "chainOfThought = PromptTemplate(\n",
    "    template='''\n",
    "Write to me a professional javadoc for this Java funcion. Here are the steps you should take:\n",
    "Is this method for a data structure? If so, what data structure?\n",
    "What are the parameters?\n",
    "What does the method do? Look at the name of the method\n",
    "How does the method do what it does? Are there edge cases?\n",
    "What exceptions does the method throw?\n",
    "What is the state of the object before the method is called?\n",
    "What is the state of the object after the method is called?\n",
    "What does the method return?\n",
    "Is this method overriding another method?\n",
    "Once you have finished the analysis, generate a professional javadoc with a clear description of what the method does, parameters taken in, return values, pre and post conditions, exceptions, and any other notes that should be in the javadoc. \n",
    "'''\n",
    ")"
   ]
  },
  {
   "cell_type": "markdown",
   "id": "332f42a9",
   "metadata": {},
   "source": [
    "## Sample code \n",
    " - removeFromBST (Chain of Thought)\n",
    " - cloneBallSeq (One Shot)\n",
    "---"
   ]
  },
  {
   "cell_type": "code",
   "execution_count": 34,
   "id": "49fab33a",
   "metadata": {},
   "outputs": [],
   "source": [
    "removeFromBST = oneShot.format(method_code=\n",
    "    \"\"\"private Node doRemove(Node r, String s, Node before, boolean removeOnce, Integer val) {\n",
    "\t\tif(r == null) {\n",
    "\t\t\tlastRemoved = null;\n",
    "\t\t\treturn null;\n",
    "\t\t}\n",
    "\t\tint c = s.compareTo(r.string);\n",
    "\t\tif(c < 0) r.left = doRemove(r.left, s, before, removeOnce, val);\n",
    "\t\telse if(c > 0) r.right = doRemove(r.right, s, r, removeOnce, val);\n",
    "\t\telse {\n",
    "\t\t\tif(val != null && val != r.count) return r;\n",
    "\t\t\tlastRemoved = r.count;\n",
    "\t\t\tif(removeOnce && r.count > 1) {\n",
    "\t\t\t\tr.count--;\n",
    "\t\t\t\treturn r;\n",
    "\t\t\t}\n",
    "\t\t\tif(before.next != r) {\n",
    "\t\t\t\tbefore = r.left;\n",
    "\t\t\t\twhile(before.right != null) before = before.right;\n",
    "\t\t\t}\n",
    "\t\t\tversion++;\n",
    "\t\t\tnumEntries--;\n",
    "\t\t\tif(r.left == null) {\n",
    "\t\t\t\tbefore.next = r.next;\n",
    "\t\t\t\treturn r.right;\n",
    "\t\t\t}\n",
    "\t\t\tif(r.right == null) {\n",
    "\t\t\t\tbefore.next = r.next;\n",
    "\t\t\t\treturn r.left;\n",
    "\t\t\t}\n",
    "\t\t\t\n",
    "\t\t\tNode successor = r.right;\n",
    "\t\t\tNode prev = r;\n",
    "\t\t\twhile(successor.left != null) {\n",
    "\t\t\t\tprev = successor;\n",
    "\t\t\t\tsuccessor = successor.left;\n",
    "\t\t\t}\n",
    "\t\t\tr.string = successor.string;\n",
    "\t\t\tr.count = successor.count;\n",
    "\t\t\t\n",
    "\t\t\tif(prev.left == successor) prev.left = successor.right;\n",
    "\t\t\telse prev.right = successor.right;\n",
    "\t\t\t\n",
    "\t\t\tr.next = successor.next;\n",
    "\n",
    "\n",
    "\t\t}\n",
    "\t\treturn r;\n",
    "\"\"\"\n",
    ")"
   ]
  },
  {
   "cell_type": "code",
   "execution_count": 35,
   "id": "0948f957",
   "metadata": {},
   "outputs": [],
   "source": [
    "cloneBallSeq = chainOfThought.format(method_code='''\n",
    "public BallSeq clone( )\n",
    "    {{\n",
    "        assert wellFormed() : \"invariant wrong at start of clone()\";\n",
    "\n",
    "        BallSeq result;\n",
    "\n",
    "        try\n",
    "        {{\n",
    "            result = (BallSeq) super.clone( );\n",
    "        }}\n",
    "        catch (CloneNotSupportedException e)\n",
    "        {{\n",
    "            // This exception should not occur. But if it does, it would probably\n",
    "            // indicate a programming error that made super.clone unavailable.\n",
    "            // The most common error would be forgetting the \"Implements Cloneable\"\n",
    "            // clause at the start of this class.\n",
    "            throw new RuntimeException\n",
    "            (\"This class does not implement Cloneable\");\n",
    "        }}\n",
    "        // This is inspired by the textbook for this class, page 203\n",
    "        if(result.head == null) return result;\n",
    "\n",
    "        Node source = result.head;\n",
    "        Node copyHead = new Node(source.data, null);\n",
    "        Node copyTail = copyHead;\n",
    "\n",
    "        while(source.next != null) {{\n",
    "            if(source == cursor) result.cursor = copyTail;\n",
    "            if(source == precursor) result.precursor = copyTail;\n",
    "            if(source == tail) result.tail = source;\n",
    "            source = source.next;\n",
    "            copyTail.next = new Node(source.data, null);\n",
    "            copyTail = copyTail.next;\n",
    "        }}\n",
    "        result.head = copyHead;\n",
    "        if(source == cursor) result.cursor = copyTail;\n",
    "        if(source == precursor) result.precursor = copyTail;\n",
    "        if(source == tail) result.tail = copyTail;\n",
    "\n",
    "        // TODO: Implemented by student.\n",
    "        // Now do the hard work of cloning the list.\n",
    "        // See pp 200-204, 235 (3rd ed. pp. 193-197, 228)\n",
    "        // Setting precursor, cursor and tail correctly is tricky.\n",
    "\n",
    "\n",
    "        assert wellFormed() : \"invariant wrong at end of clone() for this\";\n",
    "        assert result.wellFormed() : \"invariant wrong for result of clone() for copy\";\n",
    "        return result;\n",
    "    }}\n",
    "''')\n"
   ]
  },
  {
   "cell_type": "code",
   "execution_count": 36,
   "id": "1344b2d7",
   "metadata": {},
   "outputs": [],
   "source": [
    "# add some content \n",
    "shortMethod = oneShot.format(\n",
    "    method_code = \"\"\"\n",
    "    private void connect(HexPiece p) {\n",
    "HexCoordinate h = p.getLocation();\n",
    "for (HexDirection d : HexDirection.values()) {\n",
    "HexCoordinate h2 = d.move(h);\n",
    "HexPiece p2 = findPiece(h2);\n",
    "if (p2 != null) {\n",
    "p.neighbors[d.ordinal()] = p2;\n",
    "p2.neighbors[d.reverse().ordinal()] = p;\n",
    "}\n",
    "}\n",
    "}\n",
    "                         \"\"\")"
   ]
  },
  {
   "cell_type": "markdown",
   "id": "e7a99540",
   "metadata": {},
   "source": [
    "# Evaluating outputs"
   ]
  },
  {
   "cell_type": "markdown",
   "id": "b7c6cfee",
   "metadata": {},
   "source": [
    "### Qwen2.5 coder (0.5b)"
   ]
  },
  {
   "cell_type": "code",
   "execution_count": 45,
   "id": "25d3440c",
   "metadata": {},
   "outputs": [
    {
     "name": "stdout",
     "output_type": "stream",
     "text": [
      "```java\n",
      "/**\n",
      " * Connects the pieces of a hexagonal grid to each other based on their directions.\n",
      " *\n",
      " * @param p A HexPiece object representing a piece in the hexagonal grid.\n",
      " */\n",
      "private void connect(HexPiece p) {\n",
      "    HexCoordinate h = p.getLocation();\n",
      "    for (HexDirection d : HexDirection.values()) {\n",
      "        HexCoordinate h2 = d.move(h);\n",
      "        HexPiece p2 = findPiece(h2);\n",
      "        if (p2 != null) {\n",
      "            p.neighbors[d.ordinal()] = p2;\n",
      "            p2.neighbors[d.reverse().ordinal()] = p;\n",
      "        }\n",
      "    }\n",
      "}\n",
      "```\n"
     ]
    }
   ],
   "source": [
    "# Run model\n",
    "from ollama import chat\n",
    "\n",
    "response = chat(model=model1, messages=[{'role': 'user', 'content': shortMethod}])\n",
    "print(response['message']['content'])\n"
   ]
  },
  {
   "cell_type": "code",
   "execution_count": 47,
   "id": "f80851b2",
   "metadata": {},
   "outputs": [
    {
     "name": "stdout",
     "output_type": "stream",
     "text": [
      "```java\n",
      "/**\n",
      " * This class represents a data structure to store and manage a collection of items.\n",
      " * It provides methods for adding, removing, and retrieving elements from the collection.\n",
      " *\n",
      " * @param <T> The type of elements stored in the collection.\n",
      " */\n",
      "public class ItemCollection<T> {\n",
      "\n",
      "    // Constructor to initialize an empty collection\n",
      "    public ItemCollection() {\n",
      "        this.items = new ArrayList<>();\n",
      "    }\n",
      "\n",
      "    // Method to add an element to the collection\n",
      "    public void addItem(T item) {\n",
      "        items.add(item);\n",
      "    }\n",
      "\n",
      "    // Method to remove an element from the collection\n",
      "    public boolean removeItem(T item) {\n",
      "        return items.remove(item);\n",
      "    }\n",
      "\n",
      "    // Method to get the number of elements in the collection\n",
      "    public int getItemCount() {\n",
      "        return items.size();\n",
      "    }\n",
      "\n",
      "    // Method to get an element at a specific index\n",
      "    public T getElement(int index) {\n",
      "        if (index < 0 || index >= items.size()) {\n",
      "            throw new IndexOutOfBoundsException(\"Index out of bounds\");\n",
      "        }\n",
      "        return items.get(index);\n",
      "    }\n",
      "\n",
      "    // Method to display the collection in a readable format\n",
      "    public void printCollection() {\n",
      "        System.out.println(\"Items in the collection: \" + items);\n",
      "    }\n",
      "\n",
      "    // Main method to test the ItemCollection class\n",
      "    public static void main(String[] args) {\n",
      "        ItemCollection<String> collection = new ItemCollection<>();\n",
      "        collection.addItem(\"Apple\");\n",
      "        collection.addItem(\"Banana\");\n",
      "        collection.addItem(\"Cherry\");\n",
      "\n",
      "        System.out.println(\"Initial Collection:\");\n",
      "        collection.printCollection();\n",
      "\n",
      "        // Adding a duplicate item to the collection\n",
      "        collection.addItem(\"Apple\");\n",
      "\n",
      "        System.out.println(\"\\nAfter adding a duplicate item: \");\n",
      "        collection.printCollection();\n",
      "    }\n",
      "}\n",
      "```\n",
      "\n",
      "### Explanation of the Java Code\n",
      "\n",
      "1. **Data Structure**: The `ItemCollection` class is designed to store a collection of items of type `T`. It uses an `ArrayList` as its underlying data structure.\n",
      "\n",
      "2. **Constructor**: Initializes an empty list when creating an instance of `ItemCollection`.\n",
      "\n",
      "3. **Methods**:\n",
      "   - `addItem(T item)`: Adds a single element to the end of the collection.\n",
      "   - `removeItem(T item)`: Removes the first occurrence of the specified item from the collection if it exists.\n",
      "   - `getItem(int index)`: Retrieves an element at a specific index in the collection.\n",
      "   - `printCollection()`: Prints all elements in the collection.\n",
      "\n",
      "4. **Main Method**: Demonstrates how to use the `ItemCollection` class by adding elements, checking their existence, and printing the entire collection.\n",
      "\n",
      "### Key Points\n",
      "\n",
      "- The class is designed to be flexible and can handle different types of elements.\n",
      "- It includes methods for adding, removing, and retrieving elements from the collection, along with a print method for demonstration purposes.\n",
      "- The `main` method provides examples of how to use the class.\n"
     ]
    }
   ],
   "source": [
    "response = chat(model=model1, messages=[{'role': 'user', 'content': cloneBallSeq}])\n",
    "print(response['message']['content'])"
   ]
  },
  {
   "cell_type": "markdown",
   "id": "10f7b39b",
   "metadata": {},
   "source": [
    "### Qwen 2.5 coder (32b)"
   ]
  },
  {
   "cell_type": "code",
   "execution_count": 40,
   "id": "d4194c24",
   "metadata": {},
   "outputs": [
    {
     "name": "stdout",
     "output_type": "stream",
     "text": [
      "```java\n",
      "/**\n",
      " * Recursively removes a node with the specified string from the binary search tree.\n",
      " * If {@code removeOnce} is true, decrements the count of the node if it exists more than once.\n",
      " * Otherwise, completely removes the node. Updates the last removed count and adjusts pointers accordingly.\n",
      " *\n",
      " * @param r the current root node of the subtree\n",
      " * @param s the string to be removed from the tree\n",
      " * @param before the predecessor node used for pointer adjustments during removal\n",
      " * @param removeOnce flag indicating whether to decrement the count or completely remove the node\n",
      " * @param val optional value to match the exact count of the node to be removed; if null, any count matches\n",
      " * @return the updated root node of the subtree after potential removals\n",
      " */\n",
      "```\n"
     ]
    }
   ],
   "source": [
    "# Run model\n",
    "response = chat(model=model2, messages=[{'role': 'user', 'content': removeFromBST}])\n",
    "print(response['message']['content'])\n"
   ]
  },
  {
   "cell_type": "code",
   "execution_count": 48,
   "id": "a887a64a",
   "metadata": {},
   "outputs": [
    {
     "name": "stdout",
     "output_type": "stream",
     "text": [
      "Certainly! To provide a comprehensive Javadoc for your Java function, I need to make some assumptions based on typical scenarios. Let's assume the following:\n",
      "\n",
      "### Method Signature\n",
      "Let's consider a method named `add` for a class `MyList`, which is an implementation of a simple singly linked list data structure.\n",
      "\n",
      "```java\n",
      "public boolean add(E element)\n",
      "```\n",
      "\n",
      "### Analysis\n",
      "\n",
      "1. **Data Structure**: This method belongs to a `MyList` class, which implements a simple singly linked list.\n",
      "2. **Parameters**:\n",
      "   - `element`: The element to be added to the list.\n",
      "3. **Method Purpose**: The method is named `add`, suggesting that its purpose is to append an element to the end of the list.\n",
      "4. **Method Implementation Details**:\n",
      "   - It will create a new node with the given element and add it to the end of the list.\n",
      "   - If the list is empty, this new node becomes both the head and tail of the list.\n",
      "5. **Edge Cases**:\n",
      "   - Adding an element to an initially empty list.\n",
      "6. **Exceptions**: The method does not throw any checked exceptions but may throw a `NullPointerException` if the input element is null (assuming null values are not allowed).\n",
      "7. **State Before Method Call**:\n",
      "   - The object could be in any state, including being empty or containing several elements.\n",
      "8. **State After Method Call**:\n",
      "   - The list will contain one more element than before.\n",
      "9. **Return Value**: \n",
      "   - Returns `true` to indicate successful addition of the element.\n",
      "10. **Overriding**: This method is not explicitly shown as overriding another method, but it might override a method from a superclass or implement an interface method.\n",
      "\n",
      "### Generated Javadoc\n",
      "\n",
      "```java\n",
      "/**\n",
      " * Appends the specified element to the end of this list.\n",
      " *\n",
      " * <p>This method creates a new node with the given element and adds it to the end of the list.\n",
      " * If the list is initially empty, the new node becomes both the head and tail of the list.</p>\n",
      " *\n",
      " * @param element The element to be appended to this list\n",
      " * @return {@code true} (as specified by {@link Collection#add})\n",
      " * @throws NullPointerException if the specified element is null and this list does not permit null elements\n",
      " */\n",
      "public boolean add(E element) {\n",
      "    // Implementation details would go here.\n",
      "}\n",
      "```\n",
      "\n",
      "### Notes:\n",
      "- The Javadoc includes a description of what the method does, its parameters, return value, potential exceptions, and preconditions (that the input element must not be null).\n",
      "- The `@link` tag is used to reference a related method in the Java Collections Framework for context.\n",
      "\n",
      "Feel free to adjust the details based on the actual implementation of your `add` method.\n"
     ]
    }
   ],
   "source": [
    "response = chat(model=model2, messages=[{'role': 'user', 'content': cloneBallSeq}])\n",
    "print(response['message']['content'])"
   ]
  },
  {
   "cell_type": "markdown",
   "id": "9e91d559",
   "metadata": {},
   "source": [
    "### Wizard Coder (15B)"
   ]
  },
  {
   "cell_type": "code",
   "execution_count": 49,
   "id": "fa8f3712",
   "metadata": {},
   "outputs": [
    {
     "name": "stdout",
     "output_type": "stream",
     "text": [
      "Here is the corresponding Javadoc comment for the given method:\n",
      "\n",
      "```java\n",
      "/**\n",
      " * Processes a binary tree node by removing nodes based on string comparison and other conditions.\n",
      " * \n",
      " * @param r current node to process\n",
      " * @param s string to compare with each node's string value\n",
      " * @param before previous node in traversal order\n",
      " * @param removeOnce whether to remove one instance of the node or all instances\n",
      " * @param val if not null, only removes nodes with this count\n",
      " * @return the processed node\n",
      " */\n",
      "private Node doRemove(Node r, String s, Node before, boolean removeOnce, Integer val) { \n",
      "    // Method body here...\n",
      "}\n",
      "```\n",
      "This comment describes what each of the parameters does and why they are needed. It also explains that the method processes a binary tree node by removing nodes based on string comparison and other conditions, which is evident from its function within the code. The return value of the method is explained as well. \n"
     ]
    }
   ],
   "source": [
    "\n",
    "response = chat(model=model3, messages=[{'role': 'user', 'content': removeFromBST}])\n",
    "print(response['message']['content'])"
   ]
  },
  {
   "cell_type": "code",
   "execution_count": 50,
   "id": "65506e77",
   "metadata": {},
   "outputs": [
    {
     "name": "stdout",
     "output_type": "stream",
     "text": [
      "This problem is too general to provide an exact solution. However, based on your request, I'll make up a scenario and generate a JavaDoc. Let's assume you have a class named `DataStructure` with a method called `addElement` that adds an element into the data structure. This is just for example purposes:\n",
      "\n",
      "```java\n",
      "public class DataStructure {\n",
      "    /**\n",
      "     * Adds an element to the data structure.\n",
      "     * \n",
      "     * @param value The value of the element to add.\n",
      "     * @return true if the addition was successful, false otherwise.\n",
      "     * \n",
      "     * @throws IllegalArgumentException if the provided value is not valid for this data structure.\n",
      "     * \n",
      "     * @precondition The DataStructure object must be initialized and the given parameter must not be null.\n",
      "     * @postcondition If the addition was successful, the size of the data structure will increase by one.\n",
      "     */\n",
      "    public boolean addElement(Object value) {\n",
      "        // Code for adding an element to the data structure...\n",
      "        return false;\n",
      "    }\n",
      "}\n",
      "```\n",
      "\n",
      "Here is what each part of this JavaDoc means:\n",
      "\n",
      "- `Adds an element to the data structure.`: This is a brief description of the method's purpose.\n",
      "\n",
      "- `@param value The value of the element to add.`: This is the first parameter for the method named \"value\", and it describes what kind of argument can be passed in.\n",
      "\n",
      "- `@return true if the addition was successful, false otherwise.`: This part states what values are returned by this method.\n",
      "\n",
      "- `@throws IllegalArgumentException if the provided value is not valid for this data structure.`: This explains which exceptions might be thrown by this method and under what circumstances they will occur.\n",
      "\n",
      "- The precondition (`The DataStructure object must be initialized and the given parameter must not be null.`) indicates what needs to be true before this method can safely run.\n",
      "\n",
      "- The postcondition (`If the addition was successful, the size of the data structure will increase by one.`) shows what will change or happen after this method has completed its task. \n"
     ]
    }
   ],
   "source": [
    "response = chat(model=model3, messages=[{'role': 'user', 'content': cloneBallSeq}])\n",
    "print(response['message']['content'])"
   ]
  },
  {
   "cell_type": "markdown",
   "id": "bace9802",
   "metadata": {},
   "source": [
    "### Starcoder2 (15b)"
   ]
  },
  {
   "cell_type": "code",
   "execution_count": 51,
   "id": "1cf09ece",
   "metadata": {},
   "outputs": [
    {
     "name": "stdout",
     "output_type": "stream",
     "text": [
      "\n"
     ]
    }
   ],
   "source": [
    "response = chat(model=model4, messages=[{'role': 'user', 'content': removeFromBST}])\n",
    "print(response['message']['content'])"
   ]
  },
  {
   "cell_type": "code",
   "execution_count": 15,
   "id": "6b8a029e",
   "metadata": {},
   "outputs": [
    {
     "name": "stdout",
     "output_type": "stream",
     "text": [
      "\n"
     ]
    }
   ],
   "source": [
    "response = chat(model=model4, messages=[{'role': 'user', 'content': cloneBallSeq}])\n",
    "print(response['message']['content'])"
   ]
  }
 ],
 "metadata": {
  "kernelspec": {
   "display_name": "venv",
   "language": "python",
   "name": "python3"
  },
  "language_info": {
   "codemirror_mode": {
    "name": "ipython",
    "version": 3
   },
   "file_extension": ".py",
   "mimetype": "text/x-python",
   "name": "python",
   "nbconvert_exporter": "python",
   "pygments_lexer": "ipython3",
   "version": "3.12.3"
  }
 },
 "nbformat": 4,
 "nbformat_minor": 5
}
